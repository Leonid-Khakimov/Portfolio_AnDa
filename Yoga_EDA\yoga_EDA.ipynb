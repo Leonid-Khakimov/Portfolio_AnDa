{
  "cells": [
    {
      "cell_type": "markdown",
      "metadata": {
        "id": "37KhpucQheun"
      },
      "source": [
        "<div class=\"alert alert-info\"><big><b>Комментарий ревьюера</b></big><br>Привет! 👋<br><br> Меня зовут Дмитрий Кирсанов. <br><br>Комментарии всё ещё обозначены пометкой <b>Комментарий ревьюера</b> и всё ещё содержат описание <br><span class=\"alert-success\">✔️ хорошего, 👍 отличного, 📝 советов</span>,&nbsp;&nbsp;<span class=\"alert-warning\">📌 важного, ⚠️ замечаний, 💡 рекомендаций</span>,&nbsp;&nbsp;<span class=\"alert-danger\">🔧 доработок, 🚫 ошибок или 👀 вопросов.</span><br><br>После того, как замечание будет устранено, я сменю красный цвет на жёлтый, чтобы тебе было удобнее выделять те места, которые требуют доработки. Код, которым я предлагаю выделять твои комментарии<!--\n",
        "НЕ НАДО КОПИРОВАТЬ КОД, ПРИ ПОМОЩИ КОТОРОГО Я ВЫВОЖУ КОД-->:<br><code>&lt;div class=&quot;alert btn-primary&quot;&gt;&lt;b&gt;Комментарий студента:&lt;/b&gt;&lt;br&gt;   Ок   &lt;/div&gt;</code><br><!--\n",
        "КОПИРОВАТЬ НАДО, КОГДА ВИДЕН ОФОРМЛЕННЫЙ ТЕКСТ-->Всё ещё просьба задавать вопросы и описывать изменения в проект.</div>"
      ]
    },
    {
      "cell_type": "markdown",
      "metadata": {
        "id": "mCzmZ4gYheuu"
      },
      "source": [
        "<div class=\"alert alert-info\"> <b>Комментарии студента:</b><br>\n",
        "    Привет, Дмитрий!<br><br>\n",
        "    Рад тебя видеть!<br>\n",
        "</div>"
      ]
    },
    {
      "cell_type": "markdown",
      "metadata": {
        "id": "ma1v0L2Nheuw"
      },
      "source": [
        "### Опишем цели исследования:"
      ]
    },
    {
      "cell_type": "markdown",
      "metadata": {
        "id": "Zq_6CYinheuz"
      },
      "source": [
        "Коронавирус застал мир врасплох, изменив привычный порядок вещей. В свободное время жители городов больше не выходят на улицу, не посещают кафе и торговые центры. Зато стало больше времени для книг. Это заметили стартаперы — и бросились создавать приложения для тех, кто любит читать.\n",
        "\n",
        "Наша компания решила быть на волне и купила крупный сервис для чтения книг по подписке. Моя первая задача как аналитика — проанализировать базу данных.\n",
        "\n",
        "В ней — информация о книгах, издательствах, авторах, а также пользовательские обзоры книг. Эти данные помогут сформулировать ценностное предложение для нового продукта."
      ]
    },
    {
      "cell_type": "markdown",
      "metadata": {
        "id": "X4nGEclsheu3"
      },
      "source": [
        "### Описание данных\n",
        "#### Таблица books:\n",
        "Содержит данные о книгах:\n",
        "- book_id — идентификатор книги;\n",
        "- author_id — идентификатор автора;\n",
        "- title — название книги;\n",
        "- num_pages — количество страниц;\n",
        "- publication_date — дата публикации книги;\n",
        "- publisher_id — идентификатор издателя.\n",
        "\n",
        "#### Таблица authors:\n",
        "Содержит данные об авторах:\n",
        "- author_id — идентификатор автора;\n",
        "- author — имя автора.\n",
        "\n",
        "#### Таблица publishers:\n",
        "Содержит данные об издательствах:\n",
        "- publisher_id — идентификатор издательства;\n",
        "- publisher — название издательства.\n",
        "\n",
        "#### Таблица ratings:\n",
        "Содержит данные о пользовательских оценках книг:\n",
        "- rating_id — идентификатор оценки;\n",
        "- book_id — идентификатор книги;\n",
        "- username — имя пользователя, оставившего оценку;\n",
        "- rating — оценка книги.\n",
        "\n",
        "#### Таблица reviews:\n",
        "Содержит данные о пользовательских обзорах:\n",
        "- review_id — идентификатор обзора;\n",
        "- book_id — идентификатор книги;\n",
        "- username — имя автора обзора;\n",
        "- text — текст обзора."
      ]
    },
    {
      "cell_type": "markdown",
      "metadata": {
        "id": "6qic-RLHheu5"
      },
      "source": [
        "### Подключение к базе данных"
      ]
    },
    {
      "cell_type": "code",
      "execution_count": null,
      "metadata": {
        "id": "7ya5hkWBheu6"
      },
      "outputs": [],
      "source": [
        "# !pip install sqlalchemy"
      ]
    },
    {
      "cell_type": "markdown",
      "metadata": {
        "id": "NVzVuRlSheu8"
      },
      "source": [
        "<div class=\"alert alert-warning\"><b>Комментарий ревьюера</b>&nbsp;🔧<br>\n",
        "Я заметил что первая ячейка имела номер выполнения, отличный от <tt>[1]</tt>. Это может приводить к тому, что не вызовут ошибку какие-то изменения кода, которые вызвали бы ошибку после перезапуска ноутбука (или при его запуске на другой машине), например потому, что в памяти сохраняются переменные, которые были сформированы до того, как код был изменён. Поэтому важно выполнять ячейки с первой по последнюю строго последовательным образом перед тем, как отправлять их кому-то.\n",
        "</div>"
      ]
    },
    {
      "cell_type": "markdown",
      "metadata": {
        "id": "0Fl0D3w2heu-"
      },
      "source": [
        "<div class=\"alert alert-info\"> <b>Комментарии студента:</b><br>\n",
        "    Прощу прощения, перед отправкой буду перезапускать в обязательном порядке<br>\n",
        "</div>"
      ]
    },
    {
      "cell_type": "code",
      "execution_count": null,
      "metadata": {
        "id": "q5ZpozC4hevC"
      },
      "outputs": [],
      "source": [
        "# импортируем библиотеки\n",
        "import pandas as pd\n",
        "from sqlalchemy import create_engine"
      ]
    },
    {
      "cell_type": "code",
      "execution_count": null,
      "metadata": {
        "id": "eKeJaYiChevE"
      },
      "outputs": [],
      "source": [
        "# устанавливаем параметры\n",
        "db_config = {'user': 'praktikum_student', # имя пользователя\n",
        "             'pwd': 'Sdf4$2;d-d30pp', # пароль\n",
        "             'host': 'rc1b-wcoijxj3yxfsf3fs.mdb.yandexcloud.net',\n",
        "             'port': 6432, # порт подключения\n",
        "             'db': 'data-analyst-final-project-db'} # название базы данных\n",
        "\n",
        "connection_string = 'postgresql://{user}:{pwd}@{host}:{port}/{db}'.format(**db_config)\n",
        "\n",
        "# 'postgresql://{}:{}@{}:{}/{}'.format(db_config['user'],db_config['pwd'],db_config['host'],db_config['port'],db_config['db'])\n",
        "\n",
        "# сохраняем коннектор\n",
        "engine = create_engine(connection_string, connect_args={'sslmode':'require'})"
      ]
    },
    {
      "cell_type": "markdown",
      "metadata": {
        "id": "w59IGt_1hevG"
      },
      "source": [
        "<div class=\"alert alert-success\"><b>Комментарий ревьюера</b>&nbsp;📝<br>\n",
        "Это код из справки, но его можно улучшить. Если задать имена ключам в текстовом шаблоне, то можно гораздо короче и удобнее формировать строки:\n",
        "\n",
        "    'postgresql://{user}:{pwd}@{host}:{port}/{db}'.format(**db_config)\n",
        "</div>"
      ]
    },
    {
      "cell_type": "markdown",
      "metadata": {
        "id": "-byfMYmohevH"
      },
      "source": [
        "<div class=\"alert alert-info\"> <b>Комментарии студента:</b><br>\n",
        "    Спасибо! Пометил себе.\n",
        "</div>"
      ]
    },
    {
      "cell_type": "markdown",
      "metadata": {
        "id": "5HADuubBhevI"
      },
      "source": [
        "### Исследуем таблицы — выведем первые строки:"
      ]
    },
    {
      "cell_type": "code",
      "execution_count": null,
      "metadata": {
        "id": "dnjEAYvkhevI"
      },
      "outputs": [],
      "source": [
        "# выведем первые пять строк таблицы books - она содержит данные о книгах:\n",
        "query = '''\n",
        "SELECT *\n",
        "FROM books\n",
        "LIMIT 5 '''"
      ]
    },
    {
      "cell_type": "code",
      "execution_count": null,
      "metadata": {
        "id": "GKQg6OYohevJ"
      },
      "outputs": [],
      "source": [
        "engine.execute(query);"
      ]
    },
    {
      "cell_type": "code",
      "execution_count": null,
      "metadata": {
        "id": "eClJGYm7hevK",
        "outputId": "bdbec0b4-1575-4b9b-c48a-0f96324be4e8"
      },
      "outputs": [
        {
          "data": {
            "text/html": [
              "<div>\n",
              "<style scoped>\n",
              "    .dataframe tbody tr th:only-of-type {\n",
              "        vertical-align: middle;\n",
              "    }\n",
              "\n",
              "    .dataframe tbody tr th {\n",
              "        vertical-align: top;\n",
              "    }\n",
              "\n",
              "    .dataframe thead th {\n",
              "        text-align: right;\n",
              "    }\n",
              "</style>\n",
              "<table border=\"1\" class=\"dataframe\">\n",
              "  <thead>\n",
              "    <tr style=\"text-align: right;\">\n",
              "      <th></th>\n",
              "      <th>book_id</th>\n",
              "      <th>author_id</th>\n",
              "      <th>title</th>\n",
              "      <th>num_pages</th>\n",
              "      <th>publication_date</th>\n",
              "      <th>publisher_id</th>\n",
              "    </tr>\n",
              "  </thead>\n",
              "  <tbody>\n",
              "    <tr>\n",
              "      <th>0</th>\n",
              "      <td>1</td>\n",
              "      <td>546</td>\n",
              "      <td>'Salem's Lot</td>\n",
              "      <td>594</td>\n",
              "      <td>2005-11-01</td>\n",
              "      <td>93</td>\n",
              "    </tr>\n",
              "    <tr>\n",
              "      <th>1</th>\n",
              "      <td>2</td>\n",
              "      <td>465</td>\n",
              "      <td>1 000 Places to See Before You Die</td>\n",
              "      <td>992</td>\n",
              "      <td>2003-05-22</td>\n",
              "      <td>336</td>\n",
              "    </tr>\n",
              "    <tr>\n",
              "      <th>2</th>\n",
              "      <td>3</td>\n",
              "      <td>407</td>\n",
              "      <td>13 Little Blue Envelopes (Little Blue Envelope...</td>\n",
              "      <td>322</td>\n",
              "      <td>2010-12-21</td>\n",
              "      <td>135</td>\n",
              "    </tr>\n",
              "    <tr>\n",
              "      <th>3</th>\n",
              "      <td>4</td>\n",
              "      <td>82</td>\n",
              "      <td>1491: New Revelations of the Americas Before C...</td>\n",
              "      <td>541</td>\n",
              "      <td>2006-10-10</td>\n",
              "      <td>309</td>\n",
              "    </tr>\n",
              "    <tr>\n",
              "      <th>4</th>\n",
              "      <td>5</td>\n",
              "      <td>125</td>\n",
              "      <td>1776</td>\n",
              "      <td>386</td>\n",
              "      <td>2006-07-04</td>\n",
              "      <td>268</td>\n",
              "    </tr>\n",
              "  </tbody>\n",
              "</table>\n",
              "</div>"
            ],
            "text/plain": [
              "   book_id  author_id                                              title  \\\n",
              "0        1        546                                       'Salem's Lot   \n",
              "1        2        465                 1 000 Places to See Before You Die   \n",
              "2        3        407  13 Little Blue Envelopes (Little Blue Envelope...   \n",
              "3        4         82  1491: New Revelations of the Americas Before C...   \n",
              "4        5        125                                               1776   \n",
              "\n",
              "   num_pages publication_date  publisher_id  \n",
              "0        594       2005-11-01            93  \n",
              "1        992       2003-05-22           336  \n",
              "2        322       2010-12-21           135  \n",
              "3        541       2006-10-10           309  \n",
              "4        386       2006-07-04           268  "
            ]
          },
          "execution_count": 6,
          "metadata": {},
          "output_type": "execute_result"
        }
      ],
      "source": [
        "pd.io.sql.read_sql(query, con = engine)"
      ]
    },
    {
      "cell_type": "markdown",
      "metadata": {
        "id": "c0u0h2cShevL"
      },
      "source": [
        "<div class=\"alert alert-success\"><b>Комментарий ревьюера</b>&nbsp;<br>\n",
        "✔️ Хорошо, что ограничиваешь число загружаемых в память локальной машины строк средствами SQL, для крупных таблиц это будет критически важно\n",
        "\n",
        "Круто что ты ниже отдельным запросом смотришь на другие статистики\n",
        "</div>"
      ]
    },
    {
      "cell_type": "code",
      "execution_count": null,
      "metadata": {
        "id": "9DE3IEwqhevM"
      },
      "outputs": [],
      "source": [
        "# выведем наибольшее и наименьшее кол-во страниц и самую раннюю и самую позднюю даты публикации, кол-во строк:\n",
        "query = '''\n",
        "SELECT  MAX(num_pages) AS max_num_pages,\n",
        "        MIN(num_pages) AS min_num_pages,\n",
        "        MAX(publication_date) AS max_date,\n",
        "        MIN(publication_date) AS min_date,\n",
        "        COUNT(*)\n",
        "FROM books\n",
        "'''"
      ]
    },
    {
      "cell_type": "code",
      "execution_count": null,
      "metadata": {
        "id": "u8LzahoEhevM"
      },
      "outputs": [],
      "source": [
        "engine.execute(query);"
      ]
    },
    {
      "cell_type": "code",
      "execution_count": null,
      "metadata": {
        "id": "_6T9DyLjhevN",
        "outputId": "48bef023-aeb9-48c7-eb6a-91dec5ea4809"
      },
      "outputs": [
        {
          "data": {
            "text/html": [
              "<div>\n",
              "<style scoped>\n",
              "    .dataframe tbody tr th:only-of-type {\n",
              "        vertical-align: middle;\n",
              "    }\n",
              "\n",
              "    .dataframe tbody tr th {\n",
              "        vertical-align: top;\n",
              "    }\n",
              "\n",
              "    .dataframe thead th {\n",
              "        text-align: right;\n",
              "    }\n",
              "</style>\n",
              "<table border=\"1\" class=\"dataframe\">\n",
              "  <thead>\n",
              "    <tr style=\"text-align: right;\">\n",
              "      <th></th>\n",
              "      <th>max_num_pages</th>\n",
              "      <th>min_num_pages</th>\n",
              "      <th>max_date</th>\n",
              "      <th>min_date</th>\n",
              "      <th>count</th>\n",
              "    </tr>\n",
              "  </thead>\n",
              "  <tbody>\n",
              "    <tr>\n",
              "      <th>0</th>\n",
              "      <td>2690</td>\n",
              "      <td>14</td>\n",
              "      <td>2020-03-31</td>\n",
              "      <td>1952-12-01</td>\n",
              "      <td>1000</td>\n",
              "    </tr>\n",
              "  </tbody>\n",
              "</table>\n",
              "</div>"
            ],
            "text/plain": [
              "   max_num_pages  min_num_pages    max_date    min_date  count\n",
              "0           2690             14  2020-03-31  1952-12-01   1000"
            ]
          },
          "execution_count": 9,
          "metadata": {},
          "output_type": "execute_result"
        }
      ],
      "source": [
        "pd.io.sql.read_sql(query, con = engine)"
      ]
    },
    {
      "cell_type": "code",
      "execution_count": null,
      "metadata": {
        "id": "YpPMVbfBhevO"
      },
      "outputs": [],
      "source": [
        "# далее выведем пять первых строк таблицы authors - она содержит данные об авторах:\n",
        "query = '''\n",
        "SELECT *\n",
        "FROM authors\n",
        "LIMIT 5 '''"
      ]
    },
    {
      "cell_type": "code",
      "execution_count": null,
      "metadata": {
        "id": "xddUlgKThevO"
      },
      "outputs": [],
      "source": [
        "engine.execute(query);"
      ]
    },
    {
      "cell_type": "code",
      "execution_count": null,
      "metadata": {
        "id": "2v2-UKhWhevQ",
        "outputId": "cfa2a1ba-7d62-4e07-dccb-169d8fe33518"
      },
      "outputs": [
        {
          "data": {
            "text/html": [
              "<div>\n",
              "<style scoped>\n",
              "    .dataframe tbody tr th:only-of-type {\n",
              "        vertical-align: middle;\n",
              "    }\n",
              "\n",
              "    .dataframe tbody tr th {\n",
              "        vertical-align: top;\n",
              "    }\n",
              "\n",
              "    .dataframe thead th {\n",
              "        text-align: right;\n",
              "    }\n",
              "</style>\n",
              "<table border=\"1\" class=\"dataframe\">\n",
              "  <thead>\n",
              "    <tr style=\"text-align: right;\">\n",
              "      <th></th>\n",
              "      <th>author_id</th>\n",
              "      <th>author</th>\n",
              "    </tr>\n",
              "  </thead>\n",
              "  <tbody>\n",
              "    <tr>\n",
              "      <th>0</th>\n",
              "      <td>1</td>\n",
              "      <td>A.S. Byatt</td>\n",
              "    </tr>\n",
              "    <tr>\n",
              "      <th>1</th>\n",
              "      <td>2</td>\n",
              "      <td>Aesop/Laura Harris/Laura Gibbs</td>\n",
              "    </tr>\n",
              "    <tr>\n",
              "      <th>2</th>\n",
              "      <td>3</td>\n",
              "      <td>Agatha Christie</td>\n",
              "    </tr>\n",
              "    <tr>\n",
              "      <th>3</th>\n",
              "      <td>4</td>\n",
              "      <td>Alan Brennert</td>\n",
              "    </tr>\n",
              "    <tr>\n",
              "      <th>4</th>\n",
              "      <td>5</td>\n",
              "      <td>Alan Moore/David   Lloyd</td>\n",
              "    </tr>\n",
              "  </tbody>\n",
              "</table>\n",
              "</div>"
            ],
            "text/plain": [
              "   author_id                          author\n",
              "0          1                      A.S. Byatt\n",
              "1          2  Aesop/Laura Harris/Laura Gibbs\n",
              "2          3                 Agatha Christie\n",
              "3          4                   Alan Brennert\n",
              "4          5        Alan Moore/David   Lloyd"
            ]
          },
          "execution_count": 12,
          "metadata": {},
          "output_type": "execute_result"
        }
      ],
      "source": [
        "pd.io.sql.read_sql(query, con = engine)"
      ]
    },
    {
      "cell_type": "code",
      "execution_count": null,
      "metadata": {
        "id": "siu-XzQWhevR"
      },
      "outputs": [],
      "source": [
        "# далее выведем пять первых строк таблицы publishers - она содержит данные об издательствах:\n",
        "query = '''\n",
        "SELECT *\n",
        "FROM publishers\n",
        "LIMIT 5 '''"
      ]
    },
    {
      "cell_type": "code",
      "execution_count": null,
      "metadata": {
        "id": "4xpn-JV9hevS"
      },
      "outputs": [],
      "source": [
        "engine.execute(query);"
      ]
    },
    {
      "cell_type": "code",
      "execution_count": null,
      "metadata": {
        "id": "iRUhOhtzhevS",
        "outputId": "e8014b0d-c06d-42dd-995a-59375fa5d3f6"
      },
      "outputs": [
        {
          "data": {
            "text/html": [
              "<div>\n",
              "<style scoped>\n",
              "    .dataframe tbody tr th:only-of-type {\n",
              "        vertical-align: middle;\n",
              "    }\n",
              "\n",
              "    .dataframe tbody tr th {\n",
              "        vertical-align: top;\n",
              "    }\n",
              "\n",
              "    .dataframe thead th {\n",
              "        text-align: right;\n",
              "    }\n",
              "</style>\n",
              "<table border=\"1\" class=\"dataframe\">\n",
              "  <thead>\n",
              "    <tr style=\"text-align: right;\">\n",
              "      <th></th>\n",
              "      <th>publisher_id</th>\n",
              "      <th>publisher</th>\n",
              "    </tr>\n",
              "  </thead>\n",
              "  <tbody>\n",
              "    <tr>\n",
              "      <th>0</th>\n",
              "      <td>1</td>\n",
              "      <td>Ace</td>\n",
              "    </tr>\n",
              "    <tr>\n",
              "      <th>1</th>\n",
              "      <td>2</td>\n",
              "      <td>Ace Book</td>\n",
              "    </tr>\n",
              "    <tr>\n",
              "      <th>2</th>\n",
              "      <td>3</td>\n",
              "      <td>Ace Books</td>\n",
              "    </tr>\n",
              "    <tr>\n",
              "      <th>3</th>\n",
              "      <td>4</td>\n",
              "      <td>Ace Hardcover</td>\n",
              "    </tr>\n",
              "    <tr>\n",
              "      <th>4</th>\n",
              "      <td>5</td>\n",
              "      <td>Addison Wesley Publishing Company</td>\n",
              "    </tr>\n",
              "  </tbody>\n",
              "</table>\n",
              "</div>"
            ],
            "text/plain": [
              "   publisher_id                          publisher\n",
              "0             1                                Ace\n",
              "1             2                           Ace Book\n",
              "2             3                          Ace Books\n",
              "3             4                      Ace Hardcover\n",
              "4             5  Addison Wesley Publishing Company"
            ]
          },
          "execution_count": 15,
          "metadata": {},
          "output_type": "execute_result"
        }
      ],
      "source": [
        "pd.io.sql.read_sql(query, con = engine)"
      ]
    },
    {
      "cell_type": "code",
      "execution_count": null,
      "metadata": {
        "id": "2GUz1aLOhevT"
      },
      "outputs": [],
      "source": [
        "# далее выведем пять первых строк таблицы ratings - она содержит данные о пользовательских оценках книг:\n",
        "query = '''\n",
        "SELECT *\n",
        "FROM ratings\n",
        "LIMIT 5 '''"
      ]
    },
    {
      "cell_type": "code",
      "execution_count": null,
      "metadata": {
        "id": "XxVzy3s-hevU"
      },
      "outputs": [],
      "source": [
        "engine.execute(query);"
      ]
    },
    {
      "cell_type": "code",
      "execution_count": null,
      "metadata": {
        "id": "6inS6iXThevU",
        "outputId": "8c0fe128-343d-429c-b014-b3d6302bba9e"
      },
      "outputs": [
        {
          "data": {
            "text/html": [
              "<div>\n",
              "<style scoped>\n",
              "    .dataframe tbody tr th:only-of-type {\n",
              "        vertical-align: middle;\n",
              "    }\n",
              "\n",
              "    .dataframe tbody tr th {\n",
              "        vertical-align: top;\n",
              "    }\n",
              "\n",
              "    .dataframe thead th {\n",
              "        text-align: right;\n",
              "    }\n",
              "</style>\n",
              "<table border=\"1\" class=\"dataframe\">\n",
              "  <thead>\n",
              "    <tr style=\"text-align: right;\">\n",
              "      <th></th>\n",
              "      <th>rating_id</th>\n",
              "      <th>book_id</th>\n",
              "      <th>username</th>\n",
              "      <th>rating</th>\n",
              "    </tr>\n",
              "  </thead>\n",
              "  <tbody>\n",
              "    <tr>\n",
              "      <th>0</th>\n",
              "      <td>1</td>\n",
              "      <td>1</td>\n",
              "      <td>ryanfranco</td>\n",
              "      <td>4</td>\n",
              "    </tr>\n",
              "    <tr>\n",
              "      <th>1</th>\n",
              "      <td>2</td>\n",
              "      <td>1</td>\n",
              "      <td>grantpatricia</td>\n",
              "      <td>2</td>\n",
              "    </tr>\n",
              "    <tr>\n",
              "      <th>2</th>\n",
              "      <td>3</td>\n",
              "      <td>1</td>\n",
              "      <td>brandtandrea</td>\n",
              "      <td>5</td>\n",
              "    </tr>\n",
              "    <tr>\n",
              "      <th>3</th>\n",
              "      <td>4</td>\n",
              "      <td>2</td>\n",
              "      <td>lorichen</td>\n",
              "      <td>3</td>\n",
              "    </tr>\n",
              "    <tr>\n",
              "      <th>4</th>\n",
              "      <td>5</td>\n",
              "      <td>2</td>\n",
              "      <td>mariokeller</td>\n",
              "      <td>2</td>\n",
              "    </tr>\n",
              "  </tbody>\n",
              "</table>\n",
              "</div>"
            ],
            "text/plain": [
              "   rating_id  book_id       username  rating\n",
              "0          1        1     ryanfranco       4\n",
              "1          2        1  grantpatricia       2\n",
              "2          3        1   brandtandrea       5\n",
              "3          4        2       lorichen       3\n",
              "4          5        2    mariokeller       2"
            ]
          },
          "execution_count": 18,
          "metadata": {},
          "output_type": "execute_result"
        }
      ],
      "source": [
        "pd.io.sql.read_sql(query, con = engine)"
      ]
    },
    {
      "cell_type": "code",
      "execution_count": null,
      "metadata": {
        "id": "vQ629YgbhevV"
      },
      "outputs": [],
      "source": [
        "# посмотрим максимальную и минимальную оценку книг:\n",
        "query = '''\n",
        "SELECT MAX(rating) AS max_rating,\n",
        "       MIN(rating) AS min_rating\n",
        "FROM ratings\n",
        "'''"
      ]
    },
    {
      "cell_type": "code",
      "execution_count": null,
      "metadata": {
        "id": "6WwMVlY0hevV"
      },
      "outputs": [],
      "source": [
        "engine.execute(query);"
      ]
    },
    {
      "cell_type": "code",
      "execution_count": null,
      "metadata": {
        "id": "sg6Imn-5hevW",
        "outputId": "a85d4e30-620b-47c3-bb44-c0fd58c156a7"
      },
      "outputs": [
        {
          "data": {
            "text/html": [
              "<div>\n",
              "<style scoped>\n",
              "    .dataframe tbody tr th:only-of-type {\n",
              "        vertical-align: middle;\n",
              "    }\n",
              "\n",
              "    .dataframe tbody tr th {\n",
              "        vertical-align: top;\n",
              "    }\n",
              "\n",
              "    .dataframe thead th {\n",
              "        text-align: right;\n",
              "    }\n",
              "</style>\n",
              "<table border=\"1\" class=\"dataframe\">\n",
              "  <thead>\n",
              "    <tr style=\"text-align: right;\">\n",
              "      <th></th>\n",
              "      <th>max_rating</th>\n",
              "      <th>min_rating</th>\n",
              "    </tr>\n",
              "  </thead>\n",
              "  <tbody>\n",
              "    <tr>\n",
              "      <th>0</th>\n",
              "      <td>5</td>\n",
              "      <td>1</td>\n",
              "    </tr>\n",
              "  </tbody>\n",
              "</table>\n",
              "</div>"
            ],
            "text/plain": [
              "   max_rating  min_rating\n",
              "0           5           1"
            ]
          },
          "execution_count": 21,
          "metadata": {},
          "output_type": "execute_result"
        }
      ],
      "source": [
        "pd.io.sql.read_sql(query, con = engine)"
      ]
    },
    {
      "cell_type": "code",
      "execution_count": null,
      "metadata": {
        "id": "3XQ68sJEhevW"
      },
      "outputs": [],
      "source": [
        "# на последок выведем пять первых строк таблицы reviews - она содержит данные о пользовательских обзорах:\n",
        "query = '''\n",
        "SELECT *\n",
        "FROM reviews\n",
        "LIMIT 5 '''"
      ]
    },
    {
      "cell_type": "code",
      "execution_count": null,
      "metadata": {
        "id": "VEhi_lMohevW"
      },
      "outputs": [],
      "source": [
        "engine.execute(query);"
      ]
    },
    {
      "cell_type": "code",
      "execution_count": null,
      "metadata": {
        "id": "xgbOpUiUhevX",
        "outputId": "43398426-a36e-447e-bef4-cb8bfd79140f"
      },
      "outputs": [
        {
          "data": {
            "text/html": [
              "<div>\n",
              "<style scoped>\n",
              "    .dataframe tbody tr th:only-of-type {\n",
              "        vertical-align: middle;\n",
              "    }\n",
              "\n",
              "    .dataframe tbody tr th {\n",
              "        vertical-align: top;\n",
              "    }\n",
              "\n",
              "    .dataframe thead th {\n",
              "        text-align: right;\n",
              "    }\n",
              "</style>\n",
              "<table border=\"1\" class=\"dataframe\">\n",
              "  <thead>\n",
              "    <tr style=\"text-align: right;\">\n",
              "      <th></th>\n",
              "      <th>review_id</th>\n",
              "      <th>book_id</th>\n",
              "      <th>username</th>\n",
              "      <th>text</th>\n",
              "    </tr>\n",
              "  </thead>\n",
              "  <tbody>\n",
              "    <tr>\n",
              "      <th>0</th>\n",
              "      <td>1</td>\n",
              "      <td>1</td>\n",
              "      <td>brandtandrea</td>\n",
              "      <td>Mention society tell send professor analysis. ...</td>\n",
              "    </tr>\n",
              "    <tr>\n",
              "      <th>1</th>\n",
              "      <td>2</td>\n",
              "      <td>1</td>\n",
              "      <td>ryanfranco</td>\n",
              "      <td>Foot glass pretty audience hit themselves. Amo...</td>\n",
              "    </tr>\n",
              "    <tr>\n",
              "      <th>2</th>\n",
              "      <td>3</td>\n",
              "      <td>2</td>\n",
              "      <td>lorichen</td>\n",
              "      <td>Listen treat keep worry. Miss husband tax but ...</td>\n",
              "    </tr>\n",
              "    <tr>\n",
              "      <th>3</th>\n",
              "      <td>4</td>\n",
              "      <td>3</td>\n",
              "      <td>johnsonamanda</td>\n",
              "      <td>Finally month interesting blue could nature cu...</td>\n",
              "    </tr>\n",
              "    <tr>\n",
              "      <th>4</th>\n",
              "      <td>5</td>\n",
              "      <td>3</td>\n",
              "      <td>scotttamara</td>\n",
              "      <td>Nation purpose heavy give wait song will. List...</td>\n",
              "    </tr>\n",
              "  </tbody>\n",
              "</table>\n",
              "</div>"
            ],
            "text/plain": [
              "   review_id  book_id       username  \\\n",
              "0          1        1   brandtandrea   \n",
              "1          2        1     ryanfranco   \n",
              "2          3        2       lorichen   \n",
              "3          4        3  johnsonamanda   \n",
              "4          5        3    scotttamara   \n",
              "\n",
              "                                                text  \n",
              "0  Mention society tell send professor analysis. ...  \n",
              "1  Foot glass pretty audience hit themselves. Amo...  \n",
              "2  Listen treat keep worry. Miss husband tax but ...  \n",
              "3  Finally month interesting blue could nature cu...  \n",
              "4  Nation purpose heavy give wait song will. List...  "
            ]
          },
          "execution_count": 24,
          "metadata": {},
          "output_type": "execute_result"
        }
      ],
      "source": [
        "pd.io.sql.read_sql(query, con = engine)"
      ]
    },
    {
      "cell_type": "markdown",
      "metadata": {
        "id": "ANmA8WPhhevX"
      },
      "source": [
        "<div class=\"alert alert-success\"><b>Комментарий ревьюера</b>&nbsp;📝<br>\n",
        "Хорошо! Мы познакомились с данными: посмотрели содержимое таблиц и заодно проверили соединение с сервером. Ниже некоторые полезные запросы, которые могут помочь в будущем\n",
        "</div>"
      ]
    },
    {
      "cell_type": "code",
      "execution_count": null,
      "metadata": {
        "id": "T3vAftl6hevX",
        "outputId": "bb998fc3-d961-4f0f-c2e6-d2193ca046cc"
      },
      "outputs": [
        {
          "data": {
            "text/html": [
              "<div>\n",
              "<style scoped>\n",
              "    .dataframe tbody tr th:only-of-type {\n",
              "        vertical-align: middle;\n",
              "    }\n",
              "\n",
              "    .dataframe tbody tr th {\n",
              "        vertical-align: top;\n",
              "    }\n",
              "\n",
              "    .dataframe thead th {\n",
              "        text-align: right;\n",
              "    }\n",
              "</style>\n",
              "<table border=\"1\" class=\"dataframe\">\n",
              "  <thead>\n",
              "    <tr style=\"text-align: right;\">\n",
              "      <th></th>\n",
              "      <th>schemaname</th>\n",
              "      <th>tablename</th>\n",
              "      <th>tableowner</th>\n",
              "      <th>tablespace</th>\n",
              "      <th>hasindexes</th>\n",
              "      <th>hasrules</th>\n",
              "      <th>hastriggers</th>\n",
              "      <th>rowsecurity</th>\n",
              "    </tr>\n",
              "  </thead>\n",
              "  <tbody>\n",
              "    <tr>\n",
              "      <th>0</th>\n",
              "      <td>public</td>\n",
              "      <td>orders</td>\n",
              "      <td>praktikum_admin</td>\n",
              "      <td>None</td>\n",
              "      <td>True</td>\n",
              "      <td>False</td>\n",
              "      <td>False</td>\n",
              "      <td>False</td>\n",
              "    </tr>\n",
              "    <tr>\n",
              "      <th>1</th>\n",
              "      <td>public</td>\n",
              "      <td>visits</td>\n",
              "      <td>praktikum_admin</td>\n",
              "      <td>None</td>\n",
              "      <td>True</td>\n",
              "      <td>False</td>\n",
              "      <td>False</td>\n",
              "      <td>False</td>\n",
              "    </tr>\n",
              "    <tr>\n",
              "      <th>2</th>\n",
              "      <td>public</td>\n",
              "      <td>advertisment_costs</td>\n",
              "      <td>praktikum_admin</td>\n",
              "      <td>None</td>\n",
              "      <td>True</td>\n",
              "      <td>False</td>\n",
              "      <td>False</td>\n",
              "      <td>False</td>\n",
              "    </tr>\n",
              "    <tr>\n",
              "      <th>3</th>\n",
              "      <td>public</td>\n",
              "      <td>authors</td>\n",
              "      <td>praktikum_admin</td>\n",
              "      <td>None</td>\n",
              "      <td>True</td>\n",
              "      <td>False</td>\n",
              "      <td>True</td>\n",
              "      <td>False</td>\n",
              "    </tr>\n",
              "    <tr>\n",
              "      <th>4</th>\n",
              "      <td>public</td>\n",
              "      <td>second</td>\n",
              "      <td>praktikum_student</td>\n",
              "      <td>None</td>\n",
              "      <td>False</td>\n",
              "      <td>False</td>\n",
              "      <td>False</td>\n",
              "      <td>False</td>\n",
              "    </tr>\n",
              "    <tr>\n",
              "      <th>5</th>\n",
              "      <td>public</td>\n",
              "      <td>second_b</td>\n",
              "      <td>praktikum_student</td>\n",
              "      <td>None</td>\n",
              "      <td>False</td>\n",
              "      <td>False</td>\n",
              "      <td>False</td>\n",
              "      <td>False</td>\n",
              "    </tr>\n",
              "    <tr>\n",
              "      <th>6</th>\n",
              "      <td>public</td>\n",
              "      <td>publishers</td>\n",
              "      <td>praktikum_admin</td>\n",
              "      <td>None</td>\n",
              "      <td>True</td>\n",
              "      <td>False</td>\n",
              "      <td>True</td>\n",
              "      <td>False</td>\n",
              "    </tr>\n",
              "    <tr>\n",
              "      <th>7</th>\n",
              "      <td>public</td>\n",
              "      <td>author</td>\n",
              "      <td>praktikum_student</td>\n",
              "      <td>None</td>\n",
              "      <td>True</td>\n",
              "      <td>False</td>\n",
              "      <td>False</td>\n",
              "      <td>False</td>\n",
              "    </tr>\n",
              "    <tr>\n",
              "      <th>8</th>\n",
              "      <td>public</td>\n",
              "      <td>reviews</td>\n",
              "      <td>praktikum_admin</td>\n",
              "      <td>None</td>\n",
              "      <td>True</td>\n",
              "      <td>False</td>\n",
              "      <td>True</td>\n",
              "      <td>False</td>\n",
              "    </tr>\n",
              "    <tr>\n",
              "      <th>9</th>\n",
              "      <td>public</td>\n",
              "      <td>ratings</td>\n",
              "      <td>praktikum_admin</td>\n",
              "      <td>None</td>\n",
              "      <td>True</td>\n",
              "      <td>False</td>\n",
              "      <td>True</td>\n",
              "      <td>False</td>\n",
              "    </tr>\n",
              "    <tr>\n",
              "      <th>10</th>\n",
              "      <td>public</td>\n",
              "      <td>books</td>\n",
              "      <td>praktikum_admin</td>\n",
              "      <td>None</td>\n",
              "      <td>True</td>\n",
              "      <td>False</td>\n",
              "      <td>True</td>\n",
              "      <td>False</td>\n",
              "    </tr>\n",
              "  </tbody>\n",
              "</table>\n",
              "</div>"
            ],
            "text/plain": [
              "   schemaname           tablename         tableowner tablespace  hasindexes  \\\n",
              "0      public              orders    praktikum_admin       None        True   \n",
              "1      public              visits    praktikum_admin       None        True   \n",
              "2      public  advertisment_costs    praktikum_admin       None        True   \n",
              "3      public             authors    praktikum_admin       None        True   \n",
              "4      public              second  praktikum_student       None       False   \n",
              "5      public            second_b  praktikum_student       None       False   \n",
              "6      public          publishers    praktikum_admin       None        True   \n",
              "7      public              author  praktikum_student       None        True   \n",
              "8      public             reviews    praktikum_admin       None        True   \n",
              "9      public             ratings    praktikum_admin       None        True   \n",
              "10     public               books    praktikum_admin       None        True   \n",
              "\n",
              "    hasrules  hastriggers  rowsecurity  \n",
              "0      False        False        False  \n",
              "1      False        False        False  \n",
              "2      False        False        False  \n",
              "3      False         True        False  \n",
              "4      False        False        False  \n",
              "5      False        False        False  \n",
              "6      False         True        False  \n",
              "7      False        False        False  \n",
              "8      False         True        False  \n",
              "9      False         True        False  \n",
              "10     False         True        False  "
            ]
          },
          "metadata": {},
          "output_type": "display_data"
        },
        {
          "data": {
            "text/html": [
              "<div>\n",
              "<style scoped>\n",
              "    .dataframe tbody tr th:only-of-type {\n",
              "        vertical-align: middle;\n",
              "    }\n",
              "\n",
              "    .dataframe tbody tr th {\n",
              "        vertical-align: top;\n",
              "    }\n",
              "\n",
              "    .dataframe thead th {\n",
              "        text-align: right;\n",
              "    }\n",
              "</style>\n",
              "<table border=\"1\" class=\"dataframe\">\n",
              "  <thead>\n",
              "    <tr style=\"text-align: right;\">\n",
              "      <th></th>\n",
              "      <th>table_name</th>\n",
              "      <th>column_name</th>\n",
              "      <th>data_type</th>\n",
              "      <th>is_nullable</th>\n",
              "    </tr>\n",
              "  </thead>\n",
              "  <tbody>\n",
              "    <tr>\n",
              "      <th>0</th>\n",
              "      <td>authors</td>\n",
              "      <td>author_id</td>\n",
              "      <td>integer</td>\n",
              "      <td>NO</td>\n",
              "    </tr>\n",
              "    <tr>\n",
              "      <th>1</th>\n",
              "      <td>authors</td>\n",
              "      <td>author</td>\n",
              "      <td>text</td>\n",
              "      <td>YES</td>\n",
              "    </tr>\n",
              "    <tr>\n",
              "      <th>2</th>\n",
              "      <td>publishers</td>\n",
              "      <td>publisher_id</td>\n",
              "      <td>integer</td>\n",
              "      <td>NO</td>\n",
              "    </tr>\n",
              "    <tr>\n",
              "      <th>3</th>\n",
              "      <td>publishers</td>\n",
              "      <td>publisher</td>\n",
              "      <td>text</td>\n",
              "      <td>YES</td>\n",
              "    </tr>\n",
              "    <tr>\n",
              "      <th>4</th>\n",
              "      <td>reviews</td>\n",
              "      <td>review_id</td>\n",
              "      <td>integer</td>\n",
              "      <td>NO</td>\n",
              "    </tr>\n",
              "    <tr>\n",
              "      <th>5</th>\n",
              "      <td>reviews</td>\n",
              "      <td>book_id</td>\n",
              "      <td>integer</td>\n",
              "      <td>YES</td>\n",
              "    </tr>\n",
              "    <tr>\n",
              "      <th>6</th>\n",
              "      <td>reviews</td>\n",
              "      <td>username</td>\n",
              "      <td>text</td>\n",
              "      <td>YES</td>\n",
              "    </tr>\n",
              "    <tr>\n",
              "      <th>7</th>\n",
              "      <td>reviews</td>\n",
              "      <td>text</td>\n",
              "      <td>text</td>\n",
              "      <td>YES</td>\n",
              "    </tr>\n",
              "    <tr>\n",
              "      <th>8</th>\n",
              "      <td>ratings</td>\n",
              "      <td>rating_id</td>\n",
              "      <td>integer</td>\n",
              "      <td>NO</td>\n",
              "    </tr>\n",
              "    <tr>\n",
              "      <th>9</th>\n",
              "      <td>ratings</td>\n",
              "      <td>book_id</td>\n",
              "      <td>integer</td>\n",
              "      <td>YES</td>\n",
              "    </tr>\n",
              "    <tr>\n",
              "      <th>10</th>\n",
              "      <td>ratings</td>\n",
              "      <td>username</td>\n",
              "      <td>text</td>\n",
              "      <td>YES</td>\n",
              "    </tr>\n",
              "    <tr>\n",
              "      <th>11</th>\n",
              "      <td>ratings</td>\n",
              "      <td>rating</td>\n",
              "      <td>integer</td>\n",
              "      <td>YES</td>\n",
              "    </tr>\n",
              "    <tr>\n",
              "      <th>12</th>\n",
              "      <td>books</td>\n",
              "      <td>book_id</td>\n",
              "      <td>integer</td>\n",
              "      <td>NO</td>\n",
              "    </tr>\n",
              "    <tr>\n",
              "      <th>13</th>\n",
              "      <td>books</td>\n",
              "      <td>author_id</td>\n",
              "      <td>integer</td>\n",
              "      <td>YES</td>\n",
              "    </tr>\n",
              "    <tr>\n",
              "      <th>14</th>\n",
              "      <td>books</td>\n",
              "      <td>title</td>\n",
              "      <td>text</td>\n",
              "      <td>YES</td>\n",
              "    </tr>\n",
              "    <tr>\n",
              "      <th>15</th>\n",
              "      <td>books</td>\n",
              "      <td>num_pages</td>\n",
              "      <td>integer</td>\n",
              "      <td>YES</td>\n",
              "    </tr>\n",
              "    <tr>\n",
              "      <th>16</th>\n",
              "      <td>books</td>\n",
              "      <td>publication_date</td>\n",
              "      <td>date</td>\n",
              "      <td>YES</td>\n",
              "    </tr>\n",
              "    <tr>\n",
              "      <th>17</th>\n",
              "      <td>books</td>\n",
              "      <td>publisher_id</td>\n",
              "      <td>integer</td>\n",
              "      <td>YES</td>\n",
              "    </tr>\n",
              "  </tbody>\n",
              "</table>\n",
              "</div>"
            ],
            "text/plain": [
              "    table_name       column_name data_type is_nullable\n",
              "0      authors         author_id   integer          NO\n",
              "1      authors            author      text         YES\n",
              "2   publishers      publisher_id   integer          NO\n",
              "3   publishers         publisher      text         YES\n",
              "4      reviews         review_id   integer          NO\n",
              "5      reviews           book_id   integer         YES\n",
              "6      reviews          username      text         YES\n",
              "7      reviews              text      text         YES\n",
              "8      ratings         rating_id   integer          NO\n",
              "9      ratings           book_id   integer         YES\n",
              "10     ratings          username      text         YES\n",
              "11     ratings            rating   integer         YES\n",
              "12       books           book_id   integer          NO\n",
              "13       books         author_id   integer         YES\n",
              "14       books             title      text         YES\n",
              "15       books         num_pages   integer         YES\n",
              "16       books  publication_date      date         YES\n",
              "17       books      publisher_id   integer         YES"
            ]
          },
          "metadata": {},
          "output_type": "display_data"
        }
      ],
      "source": [
        "# КОД РЕВЬЮЕРА\n",
        "# какие ещё таблицы доступны в базе\n",
        "display(pd.io.sql.read_sql('''\n",
        "\n",
        "SELECT *\n",
        "FROM pg_catalog.pg_tables\n",
        "WHERE schemaname != 'pg_catalog' AND\n",
        "      schemaname != 'information_schema';\n",
        "\n",
        "''', con = engine))\n",
        "\n",
        "\n",
        "# смотрим на типы столбцов в интересующих таблицах\n",
        "display(pd.io.sql.read_sql('''\n",
        "SELECT\n",
        "    table_name,\n",
        "    column_name,\n",
        "    data_type,\n",
        "    is_nullable\n",
        "FROM INFORMATION_SCHEMA.COLUMNS\n",
        "WHERE table_name IN ('books', 'authors', 'publishers', 'ratings', 'reviews');\n",
        "''', con = engine))"
      ]
    },
    {
      "cell_type": "markdown",
      "metadata": {
        "id": "6Kzng9fChevY"
      },
      "source": [
        "<div class=\"alert alert-info\"> <b>Комментарии студента:</b><br>\n",
        "    Опять спасибо! Каждый твой совет делает жизнь аналитика понятнее)\n",
        "</div>"
      ]
    },
    {
      "cell_type": "markdown",
      "metadata": {
        "id": "WCBHCNtGhevY"
      },
      "source": [
        "### Посчитаем, сколько книг вышло после 1 января 2000 года:"
      ]
    },
    {
      "cell_type": "code",
      "execution_count": null,
      "metadata": {
        "id": "Dt1vHyXOhevZ"
      },
      "outputs": [],
      "source": [
        "# Сделаем одним SQL-запрос для решения задания, выведем результат запроса в тетрадке:"
      ]
    },
    {
      "cell_type": "code",
      "execution_count": null,
      "metadata": {
        "id": "og3lfEYQhevZ",
        "outputId": "02bb573f-b6ed-42b8-e8cd-233ea4a16d88"
      },
      "outputs": [
        {
          "data": {
            "text/html": [
              "<div>\n",
              "<style scoped>\n",
              "    .dataframe tbody tr th:only-of-type {\n",
              "        vertical-align: middle;\n",
              "    }\n",
              "\n",
              "    .dataframe tbody tr th {\n",
              "        vertical-align: top;\n",
              "    }\n",
              "\n",
              "    .dataframe thead th {\n",
              "        text-align: right;\n",
              "    }\n",
              "</style>\n",
              "<table border=\"1\" class=\"dataframe\">\n",
              "  <thead>\n",
              "    <tr style=\"text-align: right;\">\n",
              "      <th></th>\n",
              "      <th>count</th>\n",
              "    </tr>\n",
              "  </thead>\n",
              "  <tbody>\n",
              "    <tr>\n",
              "      <th>0</th>\n",
              "      <td>819</td>\n",
              "    </tr>\n",
              "  </tbody>\n",
              "</table>\n",
              "</div>"
            ],
            "text/plain": [
              "   count\n",
              "0    819"
            ]
          },
          "metadata": {},
          "output_type": "display_data"
        }
      ],
      "source": [
        "display(pd.io.sql.read_sql('''\n",
        "SELECT COUNT(*)\n",
        "FROM books\n",
        "WHERE publication_date > '2000-01-01'\n",
        "''', con = engine))"
      ]
    },
    {
      "cell_type": "code",
      "execution_count": null,
      "metadata": {
        "id": "BBpm2kaoheva",
        "outputId": "c69ac44b-9751-4044-9952-b7d61d3a5291"
      },
      "outputs": [
        {
          "data": {
            "text/html": [
              "<div>\n",
              "<style scoped>\n",
              "    .dataframe tbody tr th:only-of-type {\n",
              "        vertical-align: middle;\n",
              "    }\n",
              "\n",
              "    .dataframe tbody tr th {\n",
              "        vertical-align: top;\n",
              "    }\n",
              "\n",
              "    .dataframe thead th {\n",
              "        text-align: right;\n",
              "    }\n",
              "</style>\n",
              "<table border=\"1\" class=\"dataframe\">\n",
              "  <thead>\n",
              "    <tr style=\"text-align: right;\">\n",
              "      <th></th>\n",
              "      <th>count</th>\n",
              "    </tr>\n",
              "  </thead>\n",
              "  <tbody>\n",
              "    <tr>\n",
              "      <th>0</th>\n",
              "      <td>821</td>\n",
              "    </tr>\n",
              "  </tbody>\n",
              "</table>\n",
              "</div>"
            ],
            "text/plain": [
              "   count\n",
              "0    821"
            ]
          },
          "metadata": {},
          "output_type": "display_data"
        }
      ],
      "source": [
        "display(pd.io.sql.read_sql('''\n",
        "SELECT COUNT(*)\n",
        "FROM books\n",
        "WHERE publication_date >= '2000-01-01'\n",
        "''', con = engine))"
      ]
    },
    {
      "cell_type": "markdown",
      "metadata": {
        "id": "c8Nn-MW9heva"
      },
      "source": [
        "#### Опишем выводы:\n",
        "С начала 2000 года вышло 821 книга из присутствующих БД\n",
        "После 01 января 2000 года вышло 819 книг из присутствующих БД"
      ]
    },
    {
      "cell_type": "markdown",
      "metadata": {
        "id": "h5MS72AWhevb"
      },
      "source": [
        "<div class=\"alert alert-success\"><b>Комментарий ревьюера</b>&nbsp;<br>\n",
        "✔️ Тут всё верно. Сработал бы и запрос с таким условием:\n",
        "\n",
        "    publication_date >= '2000-01-01'\n",
        "\n",
        "Если следовать вопросу буквально, то корректно делать строгое сравнение, не включая книги, опубликованные 1 января 2000 года, но по опыту обычно нужны данные с самого начала года. В подобных ситуациях стоит уточнять что именно нужно или сделать оба варианта, если это невозможно.\n",
        "    \n",
        "💡 Желательно сопровождать запрос комментариями (их можно начинать с <tt>--</tt>) о том, что в нём происходит, это хорошая привычка, она очень облегчает чтение запросов, особенно длинных.\n",
        "</div>"
      ]
    },
    {
      "cell_type": "markdown",
      "metadata": {
        "id": "IEO921Tghevb"
      },
      "source": [
        "<div class=\"alert alert-info\"> <b>Комментарии студента:</b><br>\n",
        "    Сделал оба варианта.\n",
        "</div>"
      ]
    },
    {
      "cell_type": "markdown",
      "metadata": {
        "id": "JWrsMqM7hevb"
      },
      "source": [
        "### Для каждой книги посчитайте количество обзоров и среднюю оценку:"
      ]
    },
    {
      "cell_type": "code",
      "execution_count": null,
      "metadata": {
        "id": "Odf6q9Yshevc"
      },
      "outputs": [],
      "source": [
        "# Тут у тимлида надо спросить: \"Какие характеристики книг выводить и сколько книг?\"\n",
        "# Сделаем одним SQL-запрос для решения задания, выведем результат запроса в тетрадке:"
      ]
    },
    {
      "cell_type": "code",
      "execution_count": null,
      "metadata": {
        "id": "_aE4Ip1zhevc",
        "outputId": "e2be7881-5b8e-4b9a-df06-b08a7c71c50c"
      },
      "outputs": [
        {
          "data": {
            "text/html": [
              "<div>\n",
              "<style scoped>\n",
              "    .dataframe tbody tr th:only-of-type {\n",
              "        vertical-align: middle;\n",
              "    }\n",
              "\n",
              "    .dataframe tbody tr th {\n",
              "        vertical-align: top;\n",
              "    }\n",
              "\n",
              "    .dataframe thead th {\n",
              "        text-align: right;\n",
              "    }\n",
              "</style>\n",
              "<table border=\"1\" class=\"dataframe\">\n",
              "  <thead>\n",
              "    <tr style=\"text-align: right;\">\n",
              "      <th></th>\n",
              "      <th>book_id</th>\n",
              "      <th>author_id</th>\n",
              "      <th>title</th>\n",
              "      <th>num_pages</th>\n",
              "      <th>publication_date</th>\n",
              "      <th>publisher_id</th>\n",
              "      <th>count_text</th>\n",
              "      <th>avg_rating</th>\n",
              "    </tr>\n",
              "  </thead>\n",
              "  <tbody>\n",
              "    <tr>\n",
              "      <th>0</th>\n",
              "      <td>17</td>\n",
              "      <td>94</td>\n",
              "      <td>A Dirty Job (Grim Reaper  #1)</td>\n",
              "      <td>387</td>\n",
              "      <td>2006-03-21</td>\n",
              "      <td>331</td>\n",
              "      <td>4.0</td>\n",
              "      <td>5.00</td>\n",
              "    </tr>\n",
              "    <tr>\n",
              "      <th>1</th>\n",
              "      <td>610</td>\n",
              "      <td>250</td>\n",
              "      <td>Tai-Pan (Asian Saga  #2)</td>\n",
              "      <td>734</td>\n",
              "      <td>2009-09-01</td>\n",
              "      <td>80</td>\n",
              "      <td>2.0</td>\n",
              "      <td>5.00</td>\n",
              "    </tr>\n",
              "    <tr>\n",
              "      <th>2</th>\n",
              "      <td>553</td>\n",
              "      <td>257</td>\n",
              "      <td>School's Out—Forever (Maximum Ride  #2)</td>\n",
              "      <td>409</td>\n",
              "      <td>2006-05-23</td>\n",
              "      <td>176</td>\n",
              "      <td>3.0</td>\n",
              "      <td>5.00</td>\n",
              "    </tr>\n",
              "    <tr>\n",
              "      <th>3</th>\n",
              "      <td>513</td>\n",
              "      <td>178</td>\n",
              "      <td>Piercing the Darkness (Darkness  #2)</td>\n",
              "      <td>448</td>\n",
              "      <td>2003-06-26</td>\n",
              "      <td>67</td>\n",
              "      <td>2.0</td>\n",
              "      <td>5.00</td>\n",
              "    </tr>\n",
              "    <tr>\n",
              "      <th>4</th>\n",
              "      <td>902</td>\n",
              "      <td>558</td>\n",
              "      <td>The War of Art: Break Through the Blocks &amp; Win...</td>\n",
              "      <td>168</td>\n",
              "      <td>2003-04-01</td>\n",
              "      <td>326</td>\n",
              "      <td>2.0</td>\n",
              "      <td>5.00</td>\n",
              "    </tr>\n",
              "    <tr>\n",
              "      <th>...</th>\n",
              "      <td>...</td>\n",
              "      <td>...</td>\n",
              "      <td>...</td>\n",
              "      <td>...</td>\n",
              "      <td>...</td>\n",
              "      <td>...</td>\n",
              "      <td>...</td>\n",
              "      <td>...</td>\n",
              "    </tr>\n",
              "    <tr>\n",
              "      <th>995</th>\n",
              "      <td>915</td>\n",
              "      <td>580</td>\n",
              "      <td>The World Is Flat: A Brief History of the Twen...</td>\n",
              "      <td>616</td>\n",
              "      <td>2006-04-18</td>\n",
              "      <td>106</td>\n",
              "      <td>3.0</td>\n",
              "      <td>2.25</td>\n",
              "    </tr>\n",
              "    <tr>\n",
              "      <th>996</th>\n",
              "      <td>316</td>\n",
              "      <td>321</td>\n",
              "      <td>His Excellency: George Washington</td>\n",
              "      <td>320</td>\n",
              "      <td>2005-11-08</td>\n",
              "      <td>309</td>\n",
              "      <td>2.0</td>\n",
              "      <td>2.00</td>\n",
              "    </tr>\n",
              "    <tr>\n",
              "      <th>997</th>\n",
              "      <td>371</td>\n",
              "      <td>625</td>\n",
              "      <td>Junky</td>\n",
              "      <td>208</td>\n",
              "      <td>2003-04-01</td>\n",
              "      <td>210</td>\n",
              "      <td>2.0</td>\n",
              "      <td>2.00</td>\n",
              "    </tr>\n",
              "    <tr>\n",
              "      <th>998</th>\n",
              "      <td>202</td>\n",
              "      <td>91</td>\n",
              "      <td>Drowning Ruth</td>\n",
              "      <td>368</td>\n",
              "      <td>2001-07-31</td>\n",
              "      <td>33</td>\n",
              "      <td>3.0</td>\n",
              "      <td>2.00</td>\n",
              "    </tr>\n",
              "    <tr>\n",
              "      <th>999</th>\n",
              "      <td>303</td>\n",
              "      <td>291</td>\n",
              "      <td>Harvesting the Heart</td>\n",
              "      <td>453</td>\n",
              "      <td>1995-04-01</td>\n",
              "      <td>212</td>\n",
              "      <td>2.0</td>\n",
              "      <td>1.50</td>\n",
              "    </tr>\n",
              "  </tbody>\n",
              "</table>\n",
              "<p>1000 rows × 8 columns</p>\n",
              "</div>"
            ],
            "text/plain": [
              "     book_id  author_id                                              title  \\\n",
              "0         17         94                      A Dirty Job (Grim Reaper  #1)   \n",
              "1        610        250                           Tai-Pan (Asian Saga  #2)   \n",
              "2        553        257            School's Out—Forever (Maximum Ride  #2)   \n",
              "3        513        178               Piercing the Darkness (Darkness  #2)   \n",
              "4        902        558  The War of Art: Break Through the Blocks & Win...   \n",
              "..       ...        ...                                                ...   \n",
              "995      915        580  The World Is Flat: A Brief History of the Twen...   \n",
              "996      316        321                  His Excellency: George Washington   \n",
              "997      371        625                                              Junky   \n",
              "998      202         91                                      Drowning Ruth   \n",
              "999      303        291                               Harvesting the Heart   \n",
              "\n",
              "     num_pages publication_date  publisher_id  count_text  avg_rating  \n",
              "0          387       2006-03-21           331         4.0        5.00  \n",
              "1          734       2009-09-01            80         2.0        5.00  \n",
              "2          409       2006-05-23           176         3.0        5.00  \n",
              "3          448       2003-06-26            67         2.0        5.00  \n",
              "4          168       2003-04-01           326         2.0        5.00  \n",
              "..         ...              ...           ...         ...         ...  \n",
              "995        616       2006-04-18           106         3.0        2.25  \n",
              "996        320       2005-11-08           309         2.0        2.00  \n",
              "997        208       2003-04-01           210         2.0        2.00  \n",
              "998        368       2001-07-31            33         3.0        2.00  \n",
              "999        453       1995-04-01           212         2.0        1.50  \n",
              "\n",
              "[1000 rows x 8 columns]"
            ]
          },
          "metadata": {},
          "output_type": "display_data"
        }
      ],
      "source": [
        "display(pd.io.sql.read_sql('''\n",
        "WITH\n",
        "\n",
        "-- посчитаем количество обзоров для каждой книги\n",
        "count_texts AS (SELECT book_id, COUNT(text) AS count_text\n",
        "                FROM reviews\n",
        "                GROUP BY book_id\n",
        "                ),\n",
        "\n",
        "-- посчитаем среднюю оценку для каждой книги\n",
        "avg_ratings AS (SELECT book_id, ROUND(AVG(rating), 2) AS avg_rating\n",
        "                FROM ratings\n",
        "                GROUP BY book_id\n",
        "                )\n",
        "\n",
        "SELECT b.book_id, author_id, title, num_pages, publication_date, publisher_id, count_text, avg_rating\n",
        "FROM books AS b\n",
        "LEFT OUTER JOIN count_texts AS ct ON ct.book_id = b.book_id\n",
        "LEFT OUTER JOIN avg_ratings AS ar ON ar.book_id = b.book_id\n",
        "ORDER BY avg_rating DESC -- отсортируем по средней оценке\n",
        "\n",
        "''', con = engine))"
      ]
    },
    {
      "cell_type": "markdown",
      "metadata": {
        "id": "GMdpqvrQhevd"
      },
      "source": [
        "#### Опишем выводы:\n",
        "Вывели каждой книги количество обзоров и среднюю оценку, упорядочив по средней оценке"
      ]
    },
    {
      "cell_type": "markdown",
      "metadata": {
        "id": "L74UCwAzheve"
      },
      "source": [
        "<div class=\"alert alert-warning\"><b>Комментарий ревьюера</b>&nbsp;🔧<br>\n",
        "Ты обратил внимание на количество выведенных записей и на общее количество книг. Выведено меньше книг, чем есть в базе, а нам нужно вывести все книги. Внимательнее посмотри на то, как ты объединяешь таблицы.\n",
        "</div><div class=\"alert alert-warning\">💡 Лучше сортировать подобные таблицы по каким-то показателям.</div>"
      ]
    },
    {
      "cell_type": "markdown",
      "metadata": {
        "id": "aNCWX3nQheve"
      },
      "source": [
        "<div class=\"alert alert-info\"> <b>Комментарии студента:</b><br>\n",
        "    Изменил объединение, спасибо.\n",
        "</div>"
      ]
    },
    {
      "cell_type": "markdown",
      "metadata": {
        "id": "cBv8i3Z_hevf"
      },
      "source": [
        "<div class=\"alert alert-success\"><b>Комментарий ревьюера 2&nbsp;<big>👍</big></b></div>"
      ]
    },
    {
      "cell_type": "markdown",
      "metadata": {
        "id": "aHBVBg_xhevg"
      },
      "source": [
        "### Определите издательство, которое выпустило наибольшее число книг толще 50 страниц — так вы исключите из анализа брошюры:"
      ]
    },
    {
      "cell_type": "code",
      "execution_count": null,
      "metadata": {
        "id": "3Sb12VW_hevg"
      },
      "outputs": [],
      "source": [
        "# Сделаем однин SQL-запрос для решения задания, выведем результат запроса в тетрадке:"
      ]
    },
    {
      "cell_type": "code",
      "execution_count": null,
      "metadata": {
        "id": "C3iZWceghevg",
        "outputId": "66a7f63e-c8d5-48c2-980d-6e94a1f89c6d"
      },
      "outputs": [
        {
          "data": {
            "text/html": [
              "<div>\n",
              "<style scoped>\n",
              "    .dataframe tbody tr th:only-of-type {\n",
              "        vertical-align: middle;\n",
              "    }\n",
              "\n",
              "    .dataframe tbody tr th {\n",
              "        vertical-align: top;\n",
              "    }\n",
              "\n",
              "    .dataframe thead th {\n",
              "        text-align: right;\n",
              "    }\n",
              "</style>\n",
              "<table border=\"1\" class=\"dataframe\">\n",
              "  <thead>\n",
              "    <tr style=\"text-align: right;\">\n",
              "      <th></th>\n",
              "      <th>publisher</th>\n",
              "      <th>count_books</th>\n",
              "    </tr>\n",
              "  </thead>\n",
              "  <tbody>\n",
              "    <tr>\n",
              "      <th>0</th>\n",
              "      <td>Penguin Books</td>\n",
              "      <td>42</td>\n",
              "    </tr>\n",
              "  </tbody>\n",
              "</table>\n",
              "</div>"
            ],
            "text/plain": [
              "       publisher  count_books\n",
              "0  Penguin Books           42"
            ]
          },
          "metadata": {},
          "output_type": "display_data"
        }
      ],
      "source": [
        "display(pd.io.sql.read_sql('''\n",
        "SELECT p.publisher, COUNT (book_id) AS count_books\n",
        "FROM books AS b\n",
        "LEFT OUTER JOIN publishers AS p ON b.publisher_id = p.publisher_id\n",
        "WHERE num_pages > 50 -- книги в которых больше 50 страниц\n",
        "GROUP BY p.publisher -- сгруппируем по издателю\n",
        "ORDER BY count_books DESC -- упорядочим по убыванию по кол-ву книг\n",
        "LIMIT 1 -- возьмем издателя у которого больше всего выпущено книг\n",
        "''', con = engine))"
      ]
    },
    {
      "cell_type": "markdown",
      "metadata": {
        "id": "24jsfaAmhevh"
      },
      "source": [
        "#### Опишем выводы:\n",
        "Наибольшее число книг толще 50 страниц выпустило издательство Penguin Books, кол-во выпущенных этим издательством книг попадающих под заданный критерий составляет 42."
      ]
    },
    {
      "cell_type": "markdown",
      "metadata": {
        "id": "aBJMBa2ehevh"
      },
      "source": [
        "<div class=\"alert alert-success\"><b>Комментарий ревьюера</b>&nbsp;👍<br>\n",
        "Совершенно верно, это правильное издательство и оно одно, как нас просили.\n",
        "</div>"
      ]
    },
    {
      "cell_type": "markdown",
      "metadata": {
        "id": "Nlu1razohevi"
      },
      "source": [
        "### Определите автора с самой высокой средней оценкой книг — учитывайте только книги с 50 и более оценками:"
      ]
    },
    {
      "cell_type": "code",
      "execution_count": null,
      "metadata": {
        "id": "9KPMr7Ojhevi"
      },
      "outputs": [],
      "source": [
        "# Сделаем однин SQL-запрос для решения задания, выведем результат запроса в тетрадке:"
      ]
    },
    {
      "cell_type": "code",
      "execution_count": null,
      "metadata": {
        "id": "4fQY3fAehevi",
        "outputId": "ff71dfbe-73b8-46fc-d2c3-958128a1392d"
      },
      "outputs": [
        {
          "data": {
            "text/html": [
              "<div>\n",
              "<style scoped>\n",
              "    .dataframe tbody tr th:only-of-type {\n",
              "        vertical-align: middle;\n",
              "    }\n",
              "\n",
              "    .dataframe tbody tr th {\n",
              "        vertical-align: top;\n",
              "    }\n",
              "\n",
              "    .dataframe thead th {\n",
              "        text-align: right;\n",
              "    }\n",
              "</style>\n",
              "<table border=\"1\" class=\"dataframe\">\n",
              "  <thead>\n",
              "    <tr style=\"text-align: right;\">\n",
              "      <th></th>\n",
              "      <th>author</th>\n",
              "      <th>avg_avg_rating</th>\n",
              "    </tr>\n",
              "  </thead>\n",
              "  <tbody>\n",
              "    <tr>\n",
              "      <th>0</th>\n",
              "      <td>J.K. Rowling/Mary GrandPré</td>\n",
              "      <td>4.28</td>\n",
              "    </tr>\n",
              "  </tbody>\n",
              "</table>\n",
              "</div>"
            ],
            "text/plain": [
              "                       author  avg_avg_rating\n",
              "0  J.K. Rowling/Mary GrandPré            4.28"
            ]
          },
          "metadata": {},
          "output_type": "display_data"
        }
      ],
      "source": [
        "display(pd.io.sql.read_sql('''\n",
        "WITH\n",
        "\n",
        "-- отобрали книги у которых 50 и более оценок и посчитали среднюю оценку таких книг\n",
        "avg_ratings AS (SELECT MIN(b.author_id) AS author_id,  AVG(rating) AS avg_rating\n",
        "                FROM ratings AS r\n",
        "                LEFT OUTER JOIN books AS b ON r.book_id = b.book_id\n",
        "                GROUP BY b.book_id\n",
        "                HAVING COUNT(rating_id) >= 50 -- взяли книги у которых более 50 оценок\n",
        "                )\n",
        "\n",
        "SELECT author, ROUND(AVG(avg_rating),2) AS avg_avg_rating\n",
        "FROM avg_ratings AS ar\n",
        "LEFT OUTER JOIN authors AS a ON a.author_id = ar.author_id  -- ко всем author_id определенным во врем.таблице добавим имя автора\n",
        "GROUP BY a.author_id  -- сгруппируем по автору\n",
        "ORDER BY avg_avg_rating DESC --упорядочим по среднему средней оценки по убыванию\n",
        "LIMIT 1 -- возьмем автора с наивысшей оценкой\n",
        "\n",
        "\n",
        "''', con = engine))"
      ]
    },
    {
      "cell_type": "markdown",
      "metadata": {
        "id": "s4chJUBuhevj"
      },
      "source": [
        "<div class=\"alert alert-danger\"><b>Комментарий ревьюера</b>&nbsp;🔧<br>\n",
        "Не выведен сам рейтинг и нету группировки по авторам - по сути выведен автор самой рейтинговой книги из тех, что с 50 страницами и более</div>"
      ]
    },
    {
      "cell_type": "markdown",
      "metadata": {
        "id": "rCxjdCwPhevj"
      },
      "source": [
        "<div class=\"alert alert-info\"> <b>Комментарии студента:</b><br>\n",
        "    Исправил, не так прочитал и понял задание. Спасибо.\n",
        "</div>"
      ]
    },
    {
      "cell_type": "markdown",
      "metadata": {
        "id": "-IOXASxThevk"
      },
      "source": [
        "<div class=\"alert alert-success\"><b>Комментарий ревьюера 2&nbsp;<big>👍</big></b></div>"
      ]
    },
    {
      "cell_type": "markdown",
      "metadata": {
        "id": "ze070hy8hevk"
      },
      "source": [
        "#### Опишем выводы:\n",
        "Автор с самой высокой средней оценкой книг (учитывая только книги с 50 и более оценками) - J.K. Rowling/Mary GrandPré, среднее средних оценок его книг (с 50 и более оценками) - 4.28."
      ]
    },
    {
      "cell_type": "markdown",
      "metadata": {
        "id": "Uv-JNJvGhevk"
      },
      "source": [
        "### Посчитайте среднее количество обзоров от пользователей, которые поставили больше 50 оценок."
      ]
    },
    {
      "cell_type": "code",
      "execution_count": null,
      "metadata": {
        "id": "Wcq2e_ZShevk"
      },
      "outputs": [],
      "source": [
        "# Сделаем однин SQL-запрос для решения задания, выведем результат запроса в тетрадке:"
      ]
    },
    {
      "cell_type": "code",
      "execution_count": null,
      "metadata": {
        "id": "4t176XL2hevl",
        "outputId": "76500514-f67b-49a6-f03b-f8ff9b08f91a"
      },
      "outputs": [
        {
          "data": {
            "text/html": [
              "<div>\n",
              "<style scoped>\n",
              "    .dataframe tbody tr th:only-of-type {\n",
              "        vertical-align: middle;\n",
              "    }\n",
              "\n",
              "    .dataframe tbody tr th {\n",
              "        vertical-align: top;\n",
              "    }\n",
              "\n",
              "    .dataframe thead th {\n",
              "        text-align: right;\n",
              "    }\n",
              "</style>\n",
              "<table border=\"1\" class=\"dataframe\">\n",
              "  <thead>\n",
              "    <tr style=\"text-align: right;\">\n",
              "      <th></th>\n",
              "      <th>round</th>\n",
              "    </tr>\n",
              "  </thead>\n",
              "  <tbody>\n",
              "    <tr>\n",
              "      <th>0</th>\n",
              "      <td>24.33</td>\n",
              "    </tr>\n",
              "  </tbody>\n",
              "</table>\n",
              "</div>"
            ],
            "text/plain": [
              "   round\n",
              "0  24.33"
            ]
          },
          "metadata": {},
          "output_type": "display_data"
        }
      ],
      "source": [
        "display(pd.io.sql.read_sql('''\n",
        "SELECT ROUND(AVG(count_text), 2)\n",
        "FROM (SELECT COUNT(text) AS count_text\n",
        "      FROM reviews\n",
        "      WHERE username IN (SELECT username\n",
        "                         FROM ratings\n",
        "                         GROUP BY username\n",
        "                         HAVING COUNT(rating) > 50\n",
        "                        )\n",
        "      GROUP BY username\n",
        "     ) AS count_texts\n",
        "''', con = engine))"
      ]
    },
    {
      "cell_type": "markdown",
      "metadata": {
        "id": "Aoln60WEhevl"
      },
      "source": [
        "#### Опишем выводы:\n",
        "Среднее количество обзоров от пользователей, которые поставили больше 50 оценок - 24,33"
      ]
    },
    {
      "cell_type": "markdown",
      "metadata": {
        "id": "mQer4-JGhevl"
      },
      "source": [
        "<div class=\"alert alert-success\"><b>Комментарий ревьюера</b>&nbsp;✔️<br>\n",
        "И это... правильный ответ!\n",
        "</div>\n",
        "\n",
        "<div class=\"alert alert-warning\"><b>Комментарий ревьюера</b>&nbsp;💡<br>\n",
        "Сам себя не похвалишь, не подчеркнёшь важность и сложность своей работы — никто этого делать за тебя не будет. Выводы — как раз такое место, где можно напомнить тому, кто будет смотреть отчёт, что тут не тяп-ляп и в продакшн, а была проведена серьёзная работа, глубокий анализ, <s>зарплату аналитику хорошо бы поднять</s>, кратко напомнить о том, что было достигнуто, читатель может быть к концу уже об этом забыл.\n",
        "</div>\n"
      ]
    },
    {
      "cell_type": "markdown",
      "metadata": {
        "id": "IA2h4iozhevm"
      },
      "source": [
        "### Выводы:"
      ]
    },
    {
      "cell_type": "markdown",
      "metadata": {
        "id": "n6rMMxmUhevm"
      },
      "source": [
        "В ходе выполнения проекта мы познакомились с данными: посмотрели содержимое таблиц и заодно проверили соединение с сервером.\n",
        "\n",
        "Анализируя содержимое предоставленной БД получили следующую информацию:\n",
        "- С начала 2000 года вышло 821 книга из присутствующих БД, после 01 января 2000 года вышло 819 книг из присутствующих БД;\n",
        "- Вывели каждой книги количество обзоров и среднюю оценку, упорядочив по средней оценке;\n",
        "- Наибольшее число книг толще 50 страниц выпустило издательство Penguin Books, кол-во выпущенных этим издательством книг попадающих под заданный критерий составляет 42;\n",
        "- Автор с самой высокой средней оценкой книг (учитывая только книги с 50 и более оценками) - J.K. Rowling/Mary GrandPré, среднее средних оценок его книг (с 50 и более оценками) - 4.28;\n",
        "- Среднее количество обзоров от пользователей, которые поставили больше 50 оценок - 24.33."
      ]
    },
    {
      "cell_type": "markdown",
      "metadata": {
        "id": "z_DlOM9Mhevn"
      },
      "source": [
        "![Апплодисменты](https://i.gifer.com/DhG5.gif \"Хлоп-хлоп!\")\n",
        "\n",
        "<div class=\"alert alert-success\"><b>Комментарий ревьюера 2</b>&nbsp;👍<br>\n",
        "🎉 Поздравляю с успешным завершением последнего проекта финального спринта! 🎂\n",
        "</div>"
      ]
    }
  ],
  "metadata": {
    "ExecuteTimeLog": [
      {
        "duration": 9,
        "start_time": "2023-04-13T17:18:57.364Z"
      },
      {
        "duration": 27,
        "start_time": "2023-04-13T17:18:57.378Z"
      },
      {
        "duration": 7,
        "start_time": "2023-04-13T17:18:57.408Z"
      },
      {
        "duration": 10,
        "start_time": "2023-04-13T17:18:57.417Z"
      },
      {
        "duration": 57,
        "start_time": "2023-04-13T17:18:57.429Z"
      },
      {
        "duration": 680,
        "start_time": "2023-04-13T17:28:09.077Z"
      },
      {
        "duration": 17118,
        "start_time": "2023-04-13T17:28:11.694Z"
      },
      {
        "duration": 425,
        "start_time": "2023-04-13T17:28:41.170Z"
      },
      {
        "duration": 282,
        "start_time": "2023-04-13T17:29:24.125Z"
      },
      {
        "duration": 29,
        "start_time": "2023-04-13T17:29:37.326Z"
      },
      {
        "duration": 115,
        "start_time": "2023-04-13T17:29:47.716Z"
      },
      {
        "duration": 3,
        "start_time": "2023-04-13T17:29:59.012Z"
      },
      {
        "duration": 3,
        "start_time": "2023-04-13T17:30:53.732Z"
      },
      {
        "duration": 32,
        "start_time": "2023-04-13T17:30:55.078Z"
      },
      {
        "duration": 263,
        "start_time": "2023-04-13T17:30:55.282Z"
      },
      {
        "duration": 4,
        "start_time": "2023-04-13T17:31:08.754Z"
      },
      {
        "duration": 38,
        "start_time": "2023-04-13T17:31:09.070Z"
      },
      {
        "duration": 361,
        "start_time": "2023-04-13T17:31:09.236Z"
      },
      {
        "duration": 3,
        "start_time": "2023-04-13T17:31:22.699Z"
      },
      {
        "duration": 34,
        "start_time": "2023-04-13T17:31:23.123Z"
      },
      {
        "duration": 288,
        "start_time": "2023-04-13T17:31:23.411Z"
      },
      {
        "duration": 57,
        "start_time": "2023-04-13T17:31:32.211Z"
      },
      {
        "duration": 8,
        "start_time": "2023-04-13T17:31:59.472Z"
      },
      {
        "duration": 44,
        "start_time": "2023-04-13T17:32:00.168Z"
      },
      {
        "duration": 105,
        "start_time": "2023-04-13T17:32:00.387Z"
      },
      {
        "duration": 3,
        "start_time": "2023-04-13T17:34:13.218Z"
      },
      {
        "duration": 38,
        "start_time": "2023-04-13T17:34:13.571Z"
      },
      {
        "duration": 3,
        "start_time": "2023-04-13T17:34:56.882Z"
      },
      {
        "duration": 39,
        "start_time": "2023-04-13T17:34:57.067Z"
      },
      {
        "duration": 95,
        "start_time": "2023-04-13T17:34:57.618Z"
      },
      {
        "duration": 4,
        "start_time": "2023-04-13T17:40:32.907Z"
      },
      {
        "duration": 39,
        "start_time": "2023-04-13T17:40:33.092Z"
      },
      {
        "duration": 96,
        "start_time": "2023-04-13T17:40:33.292Z"
      },
      {
        "duration": 3,
        "start_time": "2023-04-13T17:40:40.508Z"
      },
      {
        "duration": 40,
        "start_time": "2023-04-13T17:40:40.675Z"
      },
      {
        "duration": 114,
        "start_time": "2023-04-13T17:40:40.828Z"
      },
      {
        "duration": 3,
        "start_time": "2023-04-13T17:40:45.797Z"
      },
      {
        "duration": 42,
        "start_time": "2023-04-13T17:40:45.985Z"
      },
      {
        "duration": 107,
        "start_time": "2023-04-13T17:40:46.508Z"
      },
      {
        "duration": 38,
        "start_time": "2023-04-13T17:44:11.766Z"
      },
      {
        "duration": 4,
        "start_time": "2023-04-13T17:47:00.919Z"
      },
      {
        "duration": 39,
        "start_time": "2023-04-13T17:47:02.372Z"
      },
      {
        "duration": 93,
        "start_time": "2023-04-13T17:47:02.526Z"
      },
      {
        "duration": 4,
        "start_time": "2023-04-13T17:47:06.264Z"
      },
      {
        "duration": 54,
        "start_time": "2023-04-13T17:47:06.826Z"
      },
      {
        "duration": 112,
        "start_time": "2023-04-13T17:47:07.030Z"
      },
      {
        "duration": 4,
        "start_time": "2023-04-13T17:48:10.089Z"
      },
      {
        "duration": 280,
        "start_time": "2023-04-13T17:48:12.260Z"
      },
      {
        "duration": 0,
        "start_time": "2023-04-13T17:48:12.545Z"
      },
      {
        "duration": 4,
        "start_time": "2023-04-13T17:48:18.484Z"
      },
      {
        "duration": 60,
        "start_time": "2023-04-13T17:48:21.124Z"
      },
      {
        "duration": 99,
        "start_time": "2023-04-13T17:48:22.212Z"
      },
      {
        "duration": 3,
        "start_time": "2023-04-13T17:48:32.333Z"
      },
      {
        "duration": 38,
        "start_time": "2023-04-13T17:48:34.381Z"
      },
      {
        "duration": 101,
        "start_time": "2023-04-13T17:48:34.533Z"
      },
      {
        "duration": 3,
        "start_time": "2023-04-13T17:48:48.772Z"
      },
      {
        "duration": 39,
        "start_time": "2023-04-13T17:48:48.967Z"
      },
      {
        "duration": 100,
        "start_time": "2023-04-13T17:48:50.334Z"
      },
      {
        "duration": 2,
        "start_time": "2023-04-13T17:49:32.396Z"
      },
      {
        "duration": 39,
        "start_time": "2023-04-13T17:49:32.575Z"
      },
      {
        "duration": 84,
        "start_time": "2023-04-13T17:49:33.171Z"
      },
      {
        "duration": 3,
        "start_time": "2023-04-13T17:49:44.732Z"
      },
      {
        "duration": 43,
        "start_time": "2023-04-13T17:49:44.903Z"
      },
      {
        "duration": 94,
        "start_time": "2023-04-13T17:49:45.171Z"
      },
      {
        "duration": 8,
        "start_time": "2023-04-13T17:51:13.671Z"
      },
      {
        "duration": 264,
        "start_time": "2023-04-13T17:51:14.124Z"
      },
      {
        "duration": 303,
        "start_time": "2023-04-13T17:51:14.434Z"
      },
      {
        "duration": 4,
        "start_time": "2023-04-13T17:51:48.968Z"
      },
      {
        "duration": 175,
        "start_time": "2023-04-13T17:51:49.264Z"
      },
      {
        "duration": 3,
        "start_time": "2023-04-13T17:52:07.464Z"
      },
      {
        "duration": 386,
        "start_time": "2023-04-13T17:52:07.803Z"
      },
      {
        "duration": 4,
        "start_time": "2023-04-13T17:53:40.537Z"
      },
      {
        "duration": 58,
        "start_time": "2023-04-13T17:53:40.706Z"
      },
      {
        "duration": 102,
        "start_time": "2023-04-13T17:53:41.968Z"
      },
      {
        "duration": 39,
        "start_time": "2023-04-13T17:55:58.896Z"
      },
      {
        "duration": 3,
        "start_time": "2023-04-13T17:57:03.999Z"
      },
      {
        "duration": 38,
        "start_time": "2023-04-13T17:57:04.173Z"
      },
      {
        "duration": 101,
        "start_time": "2023-04-13T17:57:04.709Z"
      },
      {
        "duration": 3,
        "start_time": "2023-04-13T17:57:35.109Z"
      },
      {
        "duration": 48,
        "start_time": "2023-04-13T17:57:35.317Z"
      },
      {
        "duration": 94,
        "start_time": "2023-04-13T17:57:35.601Z"
      },
      {
        "duration": 3,
        "start_time": "2023-04-13T17:59:30.117Z"
      },
      {
        "duration": 38,
        "start_time": "2023-04-13T17:59:30.284Z"
      },
      {
        "duration": 93,
        "start_time": "2023-04-13T17:59:30.471Z"
      },
      {
        "duration": 3,
        "start_time": "2023-04-13T18:00:26.284Z"
      },
      {
        "duration": 220,
        "start_time": "2023-04-13T18:00:26.464Z"
      },
      {
        "duration": 0,
        "start_time": "2023-04-13T18:00:26.687Z"
      },
      {
        "duration": 3,
        "start_time": "2023-04-13T18:00:35.307Z"
      },
      {
        "duration": 38,
        "start_time": "2023-04-13T18:00:35.474Z"
      },
      {
        "duration": 88,
        "start_time": "2023-04-13T18:00:36.036Z"
      },
      {
        "duration": 4,
        "start_time": "2023-04-13T18:01:13.098Z"
      },
      {
        "duration": 45,
        "start_time": "2023-04-13T18:01:13.276Z"
      },
      {
        "duration": 105,
        "start_time": "2023-04-13T18:01:13.411Z"
      },
      {
        "duration": 3,
        "start_time": "2023-04-13T18:02:51.025Z"
      },
      {
        "duration": 244,
        "start_time": "2023-04-13T18:02:51.520Z"
      },
      {
        "duration": 0,
        "start_time": "2023-04-13T18:02:51.773Z"
      },
      {
        "duration": 3,
        "start_time": "2023-04-13T18:03:05.137Z"
      },
      {
        "duration": 43,
        "start_time": "2023-04-13T18:03:05.810Z"
      },
      {
        "duration": 114,
        "start_time": "2023-04-13T18:03:06.678Z"
      },
      {
        "duration": 3,
        "start_time": "2023-04-13T18:03:48.597Z"
      },
      {
        "duration": 204,
        "start_time": "2023-04-13T18:03:48.898Z"
      },
      {
        "duration": 3,
        "start_time": "2023-04-13T18:03:56.000Z"
      },
      {
        "duration": 349,
        "start_time": "2023-04-13T18:03:56.470Z"
      },
      {
        "duration": 101,
        "start_time": "2023-04-13T18:03:57.320Z"
      },
      {
        "duration": 10,
        "start_time": "2023-04-13T18:05:52.368Z"
      },
      {
        "duration": 46,
        "start_time": "2023-04-13T18:05:52.511Z"
      },
      {
        "duration": 111,
        "start_time": "2023-04-13T18:05:52.675Z"
      },
      {
        "duration": 3,
        "start_time": "2023-04-13T18:09:24.877Z"
      },
      {
        "duration": 246,
        "start_time": "2023-04-13T18:09:25.266Z"
      },
      {
        "duration": 5,
        "start_time": "2023-04-13T18:09:32.476Z"
      },
      {
        "duration": 162,
        "start_time": "2023-04-13T18:09:32.799Z"
      },
      {
        "duration": 3,
        "start_time": "2023-04-13T18:10:14.760Z"
      },
      {
        "duration": 51,
        "start_time": "2023-04-13T18:10:14.908Z"
      },
      {
        "duration": 87,
        "start_time": "2023-04-13T18:10:17.750Z"
      },
      {
        "duration": 3,
        "start_time": "2023-04-13T18:12:38.914Z"
      },
      {
        "duration": 48,
        "start_time": "2023-04-13T18:12:39.810Z"
      },
      {
        "duration": 89,
        "start_time": "2023-04-13T18:12:40.514Z"
      },
      {
        "duration": 3,
        "start_time": "2023-04-13T18:16:19.934Z"
      },
      {
        "duration": 51,
        "start_time": "2023-04-13T18:16:20.351Z"
      },
      {
        "duration": 107,
        "start_time": "2023-04-13T18:16:21.535Z"
      },
      {
        "duration": 4,
        "start_time": "2023-04-13T18:19:59.580Z"
      },
      {
        "duration": 191,
        "start_time": "2023-04-13T18:19:59.940Z"
      },
      {
        "duration": 6,
        "start_time": "2023-04-13T18:20:57.352Z"
      },
      {
        "duration": 245,
        "start_time": "2023-04-13T18:20:57.516Z"
      },
      {
        "duration": 4,
        "start_time": "2023-04-13T18:21:55.900Z"
      },
      {
        "duration": 327,
        "start_time": "2023-04-13T18:21:56.262Z"
      },
      {
        "duration": 5,
        "start_time": "2023-04-13T18:22:33.682Z"
      },
      {
        "duration": 42,
        "start_time": "2023-04-13T18:22:33.858Z"
      },
      {
        "duration": 93,
        "start_time": "2023-04-13T18:22:34.883Z"
      },
      {
        "duration": 3,
        "start_time": "2023-04-13T18:23:50.282Z"
      },
      {
        "duration": 39,
        "start_time": "2023-04-13T18:23:50.599Z"
      },
      {
        "duration": 97,
        "start_time": "2023-04-13T18:23:50.810Z"
      },
      {
        "duration": 4,
        "start_time": "2023-04-13T18:24:54.559Z"
      },
      {
        "duration": 3,
        "start_time": "2023-04-13T18:28:43.982Z"
      },
      {
        "duration": 48,
        "start_time": "2023-04-13T18:28:47.805Z"
      },
      {
        "duration": 86,
        "start_time": "2023-04-13T18:28:47.934Z"
      },
      {
        "duration": 3,
        "start_time": "2023-04-13T18:29:22.566Z"
      },
      {
        "duration": 3,
        "start_time": "2023-04-13T18:29:22.764Z"
      },
      {
        "duration": 3,
        "start_time": "2023-04-13T18:29:25.499Z"
      },
      {
        "duration": 39,
        "start_time": "2023-04-13T18:29:28.099Z"
      },
      {
        "duration": 99,
        "start_time": "2023-04-13T18:29:28.230Z"
      },
      {
        "duration": 4,
        "start_time": "2023-04-13T18:29:42.413Z"
      },
      {
        "duration": 44,
        "start_time": "2023-04-13T18:29:43.862Z"
      },
      {
        "duration": 87,
        "start_time": "2023-04-13T18:29:44.066Z"
      },
      {
        "duration": 3,
        "start_time": "2023-04-13T18:36:27.313Z"
      },
      {
        "duration": 4,
        "start_time": "2023-04-13T18:36:27.680Z"
      },
      {
        "duration": 98,
        "start_time": "2023-04-13T18:36:34.800Z"
      },
      {
        "duration": 164,
        "start_time": "2023-04-13T18:36:35.798Z"
      },
      {
        "duration": 4,
        "start_time": "2023-04-13T18:38:17.093Z"
      },
      {
        "duration": 49,
        "start_time": "2023-04-13T18:38:17.407Z"
      },
      {
        "duration": 111,
        "start_time": "2023-04-13T18:38:17.598Z"
      },
      {
        "duration": 4,
        "start_time": "2023-04-13T18:38:41.375Z"
      },
      {
        "duration": 130,
        "start_time": "2023-04-13T18:38:42.371Z"
      },
      {
        "duration": 182,
        "start_time": "2023-04-13T18:38:42.535Z"
      },
      {
        "duration": 4,
        "start_time": "2023-04-13T18:38:48.998Z"
      },
      {
        "duration": 41,
        "start_time": "2023-04-13T18:38:49.161Z"
      },
      {
        "duration": 95,
        "start_time": "2023-04-13T18:38:51.398Z"
      },
      {
        "duration": 4,
        "start_time": "2023-04-13T18:39:36.829Z"
      },
      {
        "duration": 65,
        "start_time": "2023-04-13T18:39:37.373Z"
      },
      {
        "duration": 140,
        "start_time": "2023-04-13T18:39:37.917Z"
      },
      {
        "duration": 4,
        "start_time": "2023-04-13T18:44:00.972Z"
      },
      {
        "duration": 148,
        "start_time": "2023-04-13T18:44:01.352Z"
      },
      {
        "duration": 189,
        "start_time": "2023-04-13T18:44:01.685Z"
      },
      {
        "duration": 3,
        "start_time": "2023-04-13T18:44:07.875Z"
      },
      {
        "duration": 42,
        "start_time": "2023-04-13T18:44:08.011Z"
      },
      {
        "duration": 90,
        "start_time": "2023-04-13T18:44:09.075Z"
      },
      {
        "duration": 51,
        "start_time": "2023-04-14T15:39:56.269Z"
      },
      {
        "duration": 2,
        "start_time": "2023-04-14T15:39:59.198Z"
      },
      {
        "duration": 524,
        "start_time": "2023-04-14T15:39:59.219Z"
      },
      {
        "duration": 24367,
        "start_time": "2023-04-14T15:39:59.745Z"
      },
      {
        "duration": 3,
        "start_time": "2023-04-14T15:40:24.113Z"
      },
      {
        "duration": 34,
        "start_time": "2023-04-14T15:40:24.117Z"
      },
      {
        "duration": 20,
        "start_time": "2023-04-14T15:40:24.153Z"
      },
      {
        "duration": 2,
        "start_time": "2023-04-14T15:40:24.175Z"
      },
      {
        "duration": 6,
        "start_time": "2023-04-14T15:40:24.179Z"
      },
      {
        "duration": 12,
        "start_time": "2023-04-14T15:40:24.186Z"
      },
      {
        "duration": 2,
        "start_time": "2023-04-14T15:40:24.200Z"
      },
      {
        "duration": 5,
        "start_time": "2023-04-14T15:40:24.204Z"
      },
      {
        "duration": 15,
        "start_time": "2023-04-14T15:40:24.210Z"
      },
      {
        "duration": 2,
        "start_time": "2023-04-14T15:40:24.227Z"
      },
      {
        "duration": 7,
        "start_time": "2023-04-14T15:40:24.231Z"
      },
      {
        "duration": 9,
        "start_time": "2023-04-14T15:40:24.241Z"
      },
      {
        "duration": 3,
        "start_time": "2023-04-14T15:40:24.251Z"
      },
      {
        "duration": 7,
        "start_time": "2023-04-14T15:40:24.255Z"
      },
      {
        "duration": 10,
        "start_time": "2023-04-14T15:40:24.264Z"
      },
      {
        "duration": 2,
        "start_time": "2023-04-14T15:40:24.276Z"
      },
      {
        "duration": 11,
        "start_time": "2023-04-14T15:40:24.279Z"
      },
      {
        "duration": 29,
        "start_time": "2023-04-14T15:40:24.291Z"
      },
      {
        "duration": 2,
        "start_time": "2023-04-14T15:40:24.322Z"
      },
      {
        "duration": 8,
        "start_time": "2023-04-14T15:40:24.325Z"
      },
      {
        "duration": 11,
        "start_time": "2023-04-14T15:40:24.335Z"
      },
      {
        "duration": 37,
        "start_time": "2023-04-14T15:40:24.348Z"
      },
      {
        "duration": 2,
        "start_time": "2023-04-14T15:40:24.386Z"
      },
      {
        "duration": 6,
        "start_time": "2023-04-14T15:40:24.390Z"
      },
      {
        "duration": 12,
        "start_time": "2023-04-14T15:40:24.397Z"
      },
      {
        "duration": 14,
        "start_time": "2023-04-14T15:40:24.411Z"
      },
      {
        "duration": 2,
        "start_time": "2023-04-14T15:40:24.426Z"
      },
      {
        "duration": 6,
        "start_time": "2023-04-14T15:40:24.430Z"
      },
      {
        "duration": 12,
        "start_time": "2023-04-14T15:40:24.438Z"
      },
      {
        "duration": 34,
        "start_time": "2023-04-14T15:40:24.452Z"
      },
      {
        "duration": 20,
        "start_time": "2023-04-14T15:41:13.172Z"
      },
      {
        "duration": 2,
        "start_time": "2023-04-14T17:22:39.467Z"
      },
      {
        "duration": 2,
        "start_time": "2023-04-14T17:45:19.901Z"
      },
      {
        "duration": 5,
        "start_time": "2023-04-14T17:45:27.890Z"
      },
      {
        "duration": 592,
        "start_time": "2023-04-14T17:45:27.898Z"
      },
      {
        "duration": 8348,
        "start_time": "2023-04-14T17:45:28.492Z"
      },
      {
        "duration": 3,
        "start_time": "2023-04-14T17:45:36.842Z"
      },
      {
        "duration": 230,
        "start_time": "2023-04-14T17:45:36.848Z"
      },
      {
        "duration": 109,
        "start_time": "2023-04-14T17:45:37.080Z"
      },
      {
        "duration": 3,
        "start_time": "2023-04-14T17:45:37.191Z"
      },
      {
        "duration": 80,
        "start_time": "2023-04-14T17:45:37.196Z"
      },
      {
        "duration": 154,
        "start_time": "2023-04-14T17:45:37.278Z"
      },
      {
        "duration": 3,
        "start_time": "2023-04-14T17:45:37.435Z"
      },
      {
        "duration": 56,
        "start_time": "2023-04-14T17:45:37.441Z"
      },
      {
        "duration": 78,
        "start_time": "2023-04-14T17:45:37.500Z"
      },
      {
        "duration": 3,
        "start_time": "2023-04-14T17:45:37.580Z"
      },
      {
        "duration": 44,
        "start_time": "2023-04-14T17:45:37.587Z"
      },
      {
        "duration": 79,
        "start_time": "2023-04-14T17:45:37.633Z"
      },
      {
        "duration": 3,
        "start_time": "2023-04-14T17:45:37.714Z"
      },
      {
        "duration": 55,
        "start_time": "2023-04-14T17:45:37.719Z"
      },
      {
        "duration": 82,
        "start_time": "2023-04-14T17:45:37.777Z"
      },
      {
        "duration": 2,
        "start_time": "2023-04-14T17:45:37.861Z"
      },
      {
        "duration": 54,
        "start_time": "2023-04-14T17:45:37.865Z"
      },
      {
        "duration": 78,
        "start_time": "2023-04-14T17:45:37.921Z"
      },
      {
        "duration": 4,
        "start_time": "2023-04-14T17:45:38.000Z"
      },
      {
        "duration": 54,
        "start_time": "2023-04-14T17:45:38.005Z"
      },
      {
        "duration": 79,
        "start_time": "2023-04-14T17:45:38.061Z"
      },
      {
        "duration": 169,
        "start_time": "2023-04-14T17:45:38.143Z"
      },
      {
        "duration": 3,
        "start_time": "2023-04-14T17:45:38.314Z"
      },
      {
        "duration": 68,
        "start_time": "2023-04-14T17:45:38.318Z"
      },
      {
        "duration": 47,
        "start_time": "2023-04-14T17:45:38.388Z"
      },
      {
        "duration": 80,
        "start_time": "2023-04-14T17:45:38.437Z"
      },
      {
        "duration": 4,
        "start_time": "2023-04-14T17:45:38.519Z"
      },
      {
        "duration": 21,
        "start_time": "2023-04-14T17:45:38.525Z"
      },
      {
        "duration": 85,
        "start_time": "2023-04-14T17:45:38.548Z"
      },
      {
        "duration": 95,
        "start_time": "2023-04-14T17:45:38.635Z"
      },
      {
        "duration": 3,
        "start_time": "2023-04-14T17:45:38.732Z"
      },
      {
        "duration": 28,
        "start_time": "2023-04-14T17:45:38.736Z"
      },
      {
        "duration": 46,
        "start_time": "2023-04-14T17:45:38.766Z"
      },
      {
        "duration": 77,
        "start_time": "2023-04-14T17:45:38.814Z"
      },
      {
        "duration": 3,
        "start_time": "2023-04-14T17:45:38.893Z"
      },
      {
        "duration": 8,
        "start_time": "2023-04-14T17:45:38.898Z"
      },
      {
        "duration": 46,
        "start_time": "2023-04-14T17:45:38.908Z"
      },
      {
        "duration": 79,
        "start_time": "2023-04-14T17:45:38.958Z"
      },
      {
        "duration": 2,
        "start_time": "2023-04-14T17:45:39.039Z"
      },
      {
        "duration": 50,
        "start_time": "2023-04-14T17:45:39.043Z"
      },
      {
        "duration": 61,
        "start_time": "2023-04-14T17:45:39.095Z"
      },
      {
        "duration": 82,
        "start_time": "2023-04-14T17:45:39.158Z"
      },
      {
        "duration": 77,
        "start_time": "2023-04-14T17:50:26.032Z"
      },
      {
        "duration": 76,
        "start_time": "2023-04-14T17:50:27.719Z"
      },
      {
        "duration": 4,
        "start_time": "2023-04-14T17:58:30.873Z"
      },
      {
        "duration": 228,
        "start_time": "2023-04-14T17:58:31.489Z"
      },
      {
        "duration": 3,
        "start_time": "2023-04-14T17:58:58.536Z"
      },
      {
        "duration": 128,
        "start_time": "2023-04-14T17:58:58.929Z"
      },
      {
        "duration": 3,
        "start_time": "2023-04-14T17:59:13.841Z"
      },
      {
        "duration": 64,
        "start_time": "2023-04-14T17:59:14.064Z"
      },
      {
        "duration": 140,
        "start_time": "2023-04-14T17:59:16.529Z"
      },
      {
        "duration": 3,
        "start_time": "2023-04-14T18:00:05.312Z"
      },
      {
        "duration": 64,
        "start_time": "2023-04-14T18:00:05.584Z"
      },
      {
        "duration": 116,
        "start_time": "2023-04-14T18:00:05.952Z"
      },
      {
        "duration": 3,
        "start_time": "2023-04-14T18:00:31.312Z"
      },
      {
        "duration": 64,
        "start_time": "2023-04-14T18:00:31.463Z"
      },
      {
        "duration": 100,
        "start_time": "2023-04-14T18:00:31.631Z"
      },
      {
        "duration": 3,
        "start_time": "2023-04-14T18:00:39.167Z"
      },
      {
        "duration": 64,
        "start_time": "2023-04-14T18:00:40.263Z"
      },
      {
        "duration": 97,
        "start_time": "2023-04-14T18:00:40.440Z"
      },
      {
        "duration": 4,
        "start_time": "2023-04-14T18:02:29.359Z"
      },
      {
        "duration": 65,
        "start_time": "2023-04-14T18:02:29.574Z"
      },
      {
        "duration": 121,
        "start_time": "2023-04-14T18:02:30.126Z"
      },
      {
        "duration": 119,
        "start_time": "2023-04-14T18:08:53.193Z"
      },
      {
        "duration": 77,
        "start_time": "2023-04-14T18:10:00.154Z"
      },
      {
        "duration": 82,
        "start_time": "2023-04-14T18:10:55.080Z"
      },
      {
        "duration": 79,
        "start_time": "2023-04-14T18:11:24.694Z"
      },
      {
        "duration": 168,
        "start_time": "2023-04-14T18:20:35.887Z"
      },
      {
        "duration": 183,
        "start_time": "2023-04-14T18:21:01.015Z"
      },
      {
        "duration": 82,
        "start_time": "2023-04-14T18:21:08.135Z"
      },
      {
        "duration": 81,
        "start_time": "2023-04-14T18:21:15.558Z"
      },
      {
        "duration": 157,
        "start_time": "2023-04-14T18:21:49.414Z"
      },
      {
        "duration": 175,
        "start_time": "2023-04-14T18:22:18.557Z"
      },
      {
        "duration": 89,
        "start_time": "2023-04-14T18:22:23.573Z"
      },
      {
        "duration": 84,
        "start_time": "2023-04-14T18:23:06.845Z"
      },
      {
        "duration": 1146,
        "start_time": "2023-04-14T18:35:14.132Z"
      },
      {
        "duration": 200,
        "start_time": "2023-04-14T18:35:39.747Z"
      },
      {
        "duration": 81,
        "start_time": "2023-04-14T18:35:58.900Z"
      },
      {
        "duration": 183,
        "start_time": "2023-04-14T18:42:32.875Z"
      },
      {
        "duration": 168,
        "start_time": "2023-04-14T18:42:40.326Z"
      },
      {
        "duration": 82,
        "start_time": "2023-04-14T18:42:58.772Z"
      },
      {
        "duration": 4,
        "start_time": "2023-04-14T18:45:53.102Z"
      },
      {
        "duration": 617,
        "start_time": "2023-04-14T18:45:53.108Z"
      },
      {
        "duration": 8624,
        "start_time": "2023-04-14T18:45:53.728Z"
      },
      {
        "duration": 3,
        "start_time": "2023-04-14T18:46:02.355Z"
      },
      {
        "duration": 293,
        "start_time": "2023-04-14T18:46:02.360Z"
      },
      {
        "duration": 90,
        "start_time": "2023-04-14T18:46:02.656Z"
      },
      {
        "duration": 3,
        "start_time": "2023-04-14T18:46:02.747Z"
      },
      {
        "duration": 66,
        "start_time": "2023-04-14T18:46:02.752Z"
      },
      {
        "duration": 82,
        "start_time": "2023-04-14T18:46:02.820Z"
      },
      {
        "duration": 2,
        "start_time": "2023-04-14T18:46:02.905Z"
      },
      {
        "duration": 58,
        "start_time": "2023-04-14T18:46:02.909Z"
      },
      {
        "duration": 93,
        "start_time": "2023-04-14T18:46:02.969Z"
      },
      {
        "duration": 3,
        "start_time": "2023-04-14T18:46:03.064Z"
      },
      {
        "duration": 55,
        "start_time": "2023-04-14T18:46:03.069Z"
      },
      {
        "duration": 79,
        "start_time": "2023-04-14T18:46:03.127Z"
      },
      {
        "duration": 3,
        "start_time": "2023-04-14T18:46:03.209Z"
      },
      {
        "duration": 51,
        "start_time": "2023-04-14T18:46:03.215Z"
      },
      {
        "duration": 79,
        "start_time": "2023-04-14T18:46:03.268Z"
      },
      {
        "duration": 3,
        "start_time": "2023-04-14T18:46:03.348Z"
      },
      {
        "duration": 49,
        "start_time": "2023-04-14T18:46:03.352Z"
      },
      {
        "duration": 77,
        "start_time": "2023-04-14T18:46:03.403Z"
      },
      {
        "duration": 3,
        "start_time": "2023-04-14T18:46:03.482Z"
      },
      {
        "duration": 77,
        "start_time": "2023-04-14T18:46:03.487Z"
      },
      {
        "duration": 79,
        "start_time": "2023-04-14T18:46:03.566Z"
      },
      {
        "duration": 171,
        "start_time": "2023-04-14T18:46:03.647Z"
      },
      {
        "duration": 4,
        "start_time": "2023-04-14T18:46:03.820Z"
      },
      {
        "duration": 89,
        "start_time": "2023-04-14T18:46:03.825Z"
      },
      {
        "duration": 78,
        "start_time": "2023-04-14T18:46:03.918Z"
      },
      {
        "duration": 2,
        "start_time": "2023-04-14T18:46:03.998Z"
      },
      {
        "duration": 136,
        "start_time": "2023-04-14T18:46:04.002Z"
      },
      {
        "duration": 3,
        "start_time": "2023-04-14T18:46:04.139Z"
      },
      {
        "duration": 263,
        "start_time": "2023-04-14T18:46:04.144Z"
      },
      {
        "duration": 0,
        "start_time": "2023-04-14T18:46:04.409Z"
      },
      {
        "duration": 0,
        "start_time": "2023-04-14T18:46:04.410Z"
      },
      {
        "duration": 0,
        "start_time": "2023-04-14T18:46:04.411Z"
      },
      {
        "duration": 0,
        "start_time": "2023-04-14T18:46:04.413Z"
      },
      {
        "duration": 79,
        "start_time": "2023-04-14T18:46:18.378Z"
      },
      {
        "duration": 4,
        "start_time": "2023-04-14T18:46:24.074Z"
      },
      {
        "duration": 589,
        "start_time": "2023-04-14T18:46:24.080Z"
      },
      {
        "duration": 8443,
        "start_time": "2023-04-14T18:46:24.671Z"
      },
      {
        "duration": 3,
        "start_time": "2023-04-14T18:46:33.116Z"
      },
      {
        "duration": 233,
        "start_time": "2023-04-14T18:46:33.121Z"
      },
      {
        "duration": 90,
        "start_time": "2023-04-14T18:46:33.357Z"
      },
      {
        "duration": 3,
        "start_time": "2023-04-14T18:46:33.449Z"
      },
      {
        "duration": 53,
        "start_time": "2023-04-14T18:46:33.453Z"
      },
      {
        "duration": 81,
        "start_time": "2023-04-14T18:46:33.508Z"
      },
      {
        "duration": 3,
        "start_time": "2023-04-14T18:46:33.591Z"
      },
      {
        "duration": 45,
        "start_time": "2023-04-14T18:46:33.596Z"
      },
      {
        "duration": 78,
        "start_time": "2023-04-14T18:46:33.643Z"
      },
      {
        "duration": 3,
        "start_time": "2023-04-14T18:46:33.723Z"
      },
      {
        "duration": 54,
        "start_time": "2023-04-14T18:46:33.727Z"
      },
      {
        "duration": 79,
        "start_time": "2023-04-14T18:46:33.783Z"
      },
      {
        "duration": 3,
        "start_time": "2023-04-14T18:46:33.864Z"
      },
      {
        "duration": 43,
        "start_time": "2023-04-14T18:46:33.868Z"
      },
      {
        "duration": 79,
        "start_time": "2023-04-14T18:46:33.913Z"
      },
      {
        "duration": 3,
        "start_time": "2023-04-14T18:46:33.994Z"
      },
      {
        "duration": 42,
        "start_time": "2023-04-14T18:46:33.999Z"
      },
      {
        "duration": 81,
        "start_time": "2023-04-14T18:46:34.043Z"
      },
      {
        "duration": 4,
        "start_time": "2023-04-14T18:46:34.125Z"
      },
      {
        "duration": 55,
        "start_time": "2023-04-14T18:46:34.131Z"
      },
      {
        "duration": 80,
        "start_time": "2023-04-14T18:46:34.188Z"
      },
      {
        "duration": 165,
        "start_time": "2023-04-14T18:46:34.270Z"
      },
      {
        "duration": 3,
        "start_time": "2023-04-14T18:46:34.437Z"
      },
      {
        "duration": 88,
        "start_time": "2023-04-14T18:46:34.442Z"
      },
      {
        "duration": 78,
        "start_time": "2023-04-14T18:46:34.534Z"
      },
      {
        "duration": 3,
        "start_time": "2023-04-14T18:46:34.614Z"
      },
      {
        "duration": 142,
        "start_time": "2023-04-14T18:46:34.618Z"
      },
      {
        "duration": 2,
        "start_time": "2023-04-14T18:46:34.762Z"
      },
      {
        "duration": 87,
        "start_time": "2023-04-14T18:46:34.766Z"
      },
      {
        "duration": 3,
        "start_time": "2023-04-14T18:46:34.855Z"
      },
      {
        "duration": 135,
        "start_time": "2023-04-14T18:46:34.859Z"
      },
      {
        "duration": 3,
        "start_time": "2023-04-14T18:46:34.995Z"
      },
      {
        "duration": 89,
        "start_time": "2023-04-14T18:46:34.999Z"
      },
      {
        "duration": 4,
        "start_time": "2023-04-15T08:17:30.733Z"
      },
      {
        "duration": 720,
        "start_time": "2023-04-15T08:17:30.740Z"
      },
      {
        "duration": 13964,
        "start_time": "2023-04-15T08:17:31.463Z"
      },
      {
        "duration": 3,
        "start_time": "2023-04-15T08:17:45.428Z"
      },
      {
        "duration": 269,
        "start_time": "2023-04-15T08:17:45.434Z"
      },
      {
        "duration": 93,
        "start_time": "2023-04-15T08:17:45.705Z"
      },
      {
        "duration": 3,
        "start_time": "2023-04-15T08:17:45.801Z"
      },
      {
        "duration": 61,
        "start_time": "2023-04-15T08:17:45.806Z"
      },
      {
        "duration": 85,
        "start_time": "2023-04-15T08:17:45.868Z"
      },
      {
        "duration": 6,
        "start_time": "2023-04-15T08:17:45.955Z"
      },
      {
        "duration": 53,
        "start_time": "2023-04-15T08:17:45.966Z"
      },
      {
        "duration": 85,
        "start_time": "2023-04-15T08:17:46.021Z"
      },
      {
        "duration": 3,
        "start_time": "2023-04-15T08:17:46.109Z"
      },
      {
        "duration": 89,
        "start_time": "2023-04-15T08:17:46.114Z"
      },
      {
        "duration": 91,
        "start_time": "2023-04-15T08:17:46.205Z"
      },
      {
        "duration": 4,
        "start_time": "2023-04-15T08:17:46.299Z"
      },
      {
        "duration": 74,
        "start_time": "2023-04-15T08:17:46.304Z"
      },
      {
        "duration": 82,
        "start_time": "2023-04-15T08:17:46.380Z"
      },
      {
        "duration": 3,
        "start_time": "2023-04-15T08:17:46.465Z"
      },
      {
        "duration": 48,
        "start_time": "2023-04-15T08:17:46.470Z"
      },
      {
        "duration": 88,
        "start_time": "2023-04-15T08:17:46.520Z"
      },
      {
        "duration": 4,
        "start_time": "2023-04-15T08:17:46.610Z"
      },
      {
        "duration": 54,
        "start_time": "2023-04-15T08:17:46.617Z"
      },
      {
        "duration": 90,
        "start_time": "2023-04-15T08:17:46.673Z"
      },
      {
        "duration": 175,
        "start_time": "2023-04-15T08:17:46.765Z"
      },
      {
        "duration": 3,
        "start_time": "2023-04-15T08:17:46.942Z"
      },
      {
        "duration": 106,
        "start_time": "2023-04-15T08:17:46.947Z"
      },
      {
        "duration": 80,
        "start_time": "2023-04-15T08:17:47.055Z"
      },
      {
        "duration": 12,
        "start_time": "2023-04-15T08:17:47.139Z"
      },
      {
        "duration": 142,
        "start_time": "2023-04-15T08:17:47.155Z"
      },
      {
        "duration": 2,
        "start_time": "2023-04-15T08:17:47.299Z"
      },
      {
        "duration": 105,
        "start_time": "2023-04-15T08:17:47.303Z"
      },
      {
        "duration": 2,
        "start_time": "2023-04-15T08:17:47.410Z"
      },
      {
        "duration": 124,
        "start_time": "2023-04-15T08:17:47.414Z"
      },
      {
        "duration": 89,
        "start_time": "2023-04-15T08:17:47.541Z"
      }
    ],
    "kernelspec": {
      "display_name": "Python 3 (ipykernel)",
      "language": "python",
      "name": "python3"
    },
    "language_info": {
      "codemirror_mode": {
        "name": "ipython",
        "version": 3
      },
      "file_extension": ".py",
      "mimetype": "text/x-python",
      "name": "python",
      "nbconvert_exporter": "python",
      "pygments_lexer": "ipython3",
      "version": "3.9.5"
    },
    "toc": {
      "base_numbering": 1,
      "nav_menu": {},
      "number_sections": true,
      "sideBar": true,
      "skip_h1_title": true,
      "title_cell": "Table of Contents",
      "title_sidebar": "Contents",
      "toc_cell": false,
      "toc_position": {},
      "toc_section_display": true,
      "toc_window_display": true
    },
    "colab": {
      "provenance": []
    }
  },
  "nbformat": 4,
  "nbformat_minor": 0
}