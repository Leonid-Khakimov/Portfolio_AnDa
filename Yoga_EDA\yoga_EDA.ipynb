{
  "cells": [
    {
      "cell_type": "markdown",
      "metadata": {
        "id": "ma1v0L2Nheuw"
      },
      "source": [
        "### Опишем цели исследования:"
      ]
    },
    {
      "cell_type": "markdown",
      "metadata": {
        "id": "Zq_6CYinheuz"
      },
      "source": [
        "Коронавирус застал мир врасплох, изменив привычный порядок вещей. В свободное время жители городов больше не выходят на улицу, не посещают кафе и торговые центры. Зато стало больше времени для книг. Это заметили стартаперы — и бросились создавать приложения для тех, кто любит читать.\n",
        "\n",
        "Наша компания решила быть на волне и купила крупный сервис для чтения книг по подписке. Моя первая задача как аналитика — проанализировать базу данных.\n",
        "\n",
        "В ней — информация о книгах, издательствах, авторах, а также пользовательские обзоры книг. Эти данные помогут сформулировать ценностное предложение для нового продукта."
      ]
    },
    {
      "cell_type": "markdown",
      "metadata": {
        "id": "X4nGEclsheu3"
      },
      "source": [
        "### Описание данных\n",
        "#### Таблица books:\n",
        "Содержит данные о книгах:\n",
        "- book_id — идентификатор книги;\n",
        "- author_id — идентификатор автора;\n",
        "- title — название книги;\n",
        "- num_pages — количество страниц;\n",
        "- publication_date — дата публикации книги;\n",
        "- publisher_id — идентификатор издателя.\n",
        "\n",
        "#### Таблица authors:\n",
        "Содержит данные об авторах:\n",
        "- author_id — идентификатор автора;\n",
        "- author — имя автора.\n",
        "\n",
        "#### Таблица publishers:\n",
        "Содержит данные об издательствах:\n",
        "- publisher_id — идентификатор издательства;\n",
        "- publisher — название издательства.\n",
        "\n",
        "#### Таблица ratings:\n",
        "Содержит данные о пользовательских оценках книг:\n",
        "- rating_id — идентификатор оценки;\n",
        "- book_id — идентификатор книги;\n",
        "- username — имя пользователя, оставившего оценку;\n",
        "- rating — оценка книги.\n",
        "\n",
        "#### Таблица reviews:\n",
        "Содержит данные о пользовательских обзорах:\n",
        "- review_id — идентификатор обзора;\n",
        "- book_id — идентификатор книги;\n",
        "- username — имя автора обзора;\n",
        "- text — текст обзора."
      ]
    },
    {
      "cell_type": "markdown",
      "metadata": {
        "id": "6qic-RLHheu5"
      },
      "source": [
        "### Подключение к базе данных"
      ]
    },
    {
      "cell_type": "code",
      "execution_count": 1,
      "metadata": {
        "id": "7ya5hkWBheu6",
        "colab": {
          "base_uri": "https://localhost:8080/"
        },
        "outputId": "1960fee9-e135-4acb-f847-e034f6159cb7"
      },
      "outputs": [
        {
          "output_type": "stream",
          "name": "stdout",
          "text": [
            "Collecting sqlalchemy<2.0.0\n",
            "  Downloading SQLAlchemy-1.4.49-cp310-cp310-manylinux_2_5_x86_64.manylinux1_x86_64.manylinux_2_17_x86_64.manylinux2014_x86_64.whl (1.6 MB)\n",
            "\u001b[2K     \u001b[90m━━━━━━━━━━━━━━━━━━━━━━━━━━━━━━━━━━━━━━━━\u001b[0m \u001b[32m1.6/1.6 MB\u001b[0m \u001b[31m11.3 MB/s\u001b[0m eta \u001b[36m0:00:00\u001b[0m\n",
            "\u001b[?25hCollecting greenlet!=0.4.17 (from sqlalchemy<2.0.0)\n",
            "  Downloading greenlet-2.0.2-cp310-cp310-manylinux_2_17_x86_64.manylinux2014_x86_64.whl (613 kB)\n",
            "\u001b[2K     \u001b[90m━━━━━━━━━━━━━━━━━━━━━━━━━━━━━━━━━━━━━━\u001b[0m \u001b[32m613.7/613.7 kB\u001b[0m \u001b[31m15.2 MB/s\u001b[0m eta \u001b[36m0:00:00\u001b[0m\n",
            "\u001b[?25hInstalling collected packages: greenlet, sqlalchemy\n",
            "  Attempting uninstall: greenlet\n",
            "    Found existing installation: greenlet 2.0.2\n",
            "    Uninstalling greenlet-2.0.2:\n",
            "      Successfully uninstalled greenlet-2.0.2\n",
            "  Attempting uninstall: sqlalchemy\n",
            "    Found existing installation: SQLAlchemy 2.0.20\n",
            "    Uninstalling SQLAlchemy-2.0.20:\n",
            "      Successfully uninstalled SQLAlchemy-2.0.20\n",
            "\u001b[31mERROR: pip's dependency resolver does not currently take into account all the packages that are installed. This behaviour is the source of the following dependency conflicts.\n",
            "ipython-sql 0.5.0 requires sqlalchemy>=2.0, but you have sqlalchemy 1.4.49 which is incompatible.\u001b[0m\u001b[31m\n",
            "\u001b[0mSuccessfully installed greenlet-2.0.2 sqlalchemy-1.4.49\n"
          ]
        }
      ],
      "source": [
        "# !pip install sqlalchemy\n",
        "!pip install --force-reinstall 'sqlalchemy<2.0.0'"
      ]
    },
    {
      "cell_type": "markdown",
      "metadata": {
        "id": "NVzVuRlSheu8"
      },
      "source": [
        "<div class=\"alert alert-warning\"><b>Комментарий ревьюера</b>&nbsp;🔧<br>\n",
        "Я заметил что первая ячейка имела номер выполнения, отличный от <tt>[1]</tt>. Это может приводить к тому, что не вызовут ошибку какие-то изменения кода, которые вызвали бы ошибку после перезапуска ноутбука (или при его запуске на другой машине), например потому, что в памяти сохраняются переменные, которые были сформированы до того, как код был изменён. Поэтому важно выполнять ячейки с первой по последнюю строго последовательным образом перед тем, как отправлять их кому-то.\n",
        "</div>"
      ]
    },
    {
      "cell_type": "markdown",
      "metadata": {
        "id": "0Fl0D3w2heu-"
      },
      "source": [
        "<div class=\"alert alert-info\"> <b>Комментарии студента:</b><br>\n",
        "    Прощу прощения, перед отправкой буду перезапускать в обязательном порядке<br>\n",
        "</div>"
      ]
    },
    {
      "cell_type": "code",
      "execution_count": 2,
      "metadata": {
        "id": "q5ZpozC4hevC"
      },
      "outputs": [],
      "source": [
        "# импортируем библиотеки\n",
        "import pandas as pd\n",
        "from sqlalchemy import create_engine\n",
        "from IPython.display import display, HTML"
      ]
    },
    {
      "cell_type": "code",
      "execution_count": 3,
      "metadata": {
        "id": "eKeJaYiChevE"
      },
      "outputs": [],
      "source": [
        "# устанавливаем параметры\n",
        "db_config = {'user': 'leonidas', # имя пользователя\n",
        "             'pwd': 'HzMQksJE3m', # пароль\n",
        "             'host': '89.108.115.89',\n",
        "             'port': 13482, # порт подключения\n",
        "             'db': 'yogadata'} # название базы данных\n",
        "\n",
        "connection_string = 'postgresql://{user}:{pwd}@{host}:{port}/{db}'.format(**db_config)\n",
        "\n",
        "# 'postgresql://{}:{}@{}:{}/{}'.format(db_config['user'],db_config['pwd'],db_config['host'],db_config['port'],db_config['db'])\n",
        "\n",
        "# сохраняем коннектор\n",
        "engine = create_engine(connection_string, connect_args={'sslmode':'require'})"
      ]
    },
    {
      "cell_type": "markdown",
      "metadata": {
        "id": "w59IGt_1hevG"
      },
      "source": [
        "<div class=\"alert alert-success\"><b>Комментарий ревьюера</b>&nbsp;📝<br>\n",
        "Это код из справки, но его можно улучшить. Если задать имена ключам в текстовом шаблоне, то можно гораздо короче и удобнее формировать строки:\n",
        "\n",
        "    'postgresql://{user}:{pwd}@{host}:{port}/{db}'.format(**db_config)\n",
        "</div>"
      ]
    },
    {
      "cell_type": "markdown",
      "metadata": {
        "id": "-byfMYmohevH"
      },
      "source": [
        "<div class=\"alert alert-info\"> <b>Комментарии студента:</b><br>\n",
        "    Спасибо! Пометил себе.\n",
        "</div>"
      ]
    },
    {
      "cell_type": "code",
      "source": [
        "# какие ещё таблицы доступны в базе\n",
        "display(pd.io.sql.read_sql('''\n",
        "\n",
        "SELECT *\n",
        "FROM pg_catalog.pg_tables\n",
        "WHERE schemaname != 'pg_catalog' AND\n",
        "      schemaname != 'information_schema';\n",
        "\n",
        "''', con = engine))"
      ],
      "metadata": {
        "id": "dy7BA5MElw24",
        "colab": {
          "base_uri": "https://localhost:8080/",
          "height": 143
        },
        "outputId": "83ecb5b3-d142-4bad-effb-97d1266821c7"
      },
      "execution_count": 4,
      "outputs": [
        {
          "output_type": "display_data",
          "data": {
            "text/plain": [
              "  schemaname      tablename tableowner tablespace  hasindexes  hasrules  \\\n",
              "0     public        clients   leonidas       None       False     False   \n",
              "1     public  subscriptions   leonidas       None        True     False   \n",
              "2     public         visits   leonidas       None        True     False   \n",
              "\n",
              "   hastriggers  rowsecurity  \n",
              "0        False        False  \n",
              "1        False        False  \n",
              "2        False        False  "
            ],
            "text/html": [
              "\n",
              "  <div id=\"df-e83b271e-fa90-4e35-899b-e27483cdd8bd\" class=\"colab-df-container\">\n",
              "    <div>\n",
              "<style scoped>\n",
              "    .dataframe tbody tr th:only-of-type {\n",
              "        vertical-align: middle;\n",
              "    }\n",
              "\n",
              "    .dataframe tbody tr th {\n",
              "        vertical-align: top;\n",
              "    }\n",
              "\n",
              "    .dataframe thead th {\n",
              "        text-align: right;\n",
              "    }\n",
              "</style>\n",
              "<table border=\"1\" class=\"dataframe\">\n",
              "  <thead>\n",
              "    <tr style=\"text-align: right;\">\n",
              "      <th></th>\n",
              "      <th>schemaname</th>\n",
              "      <th>tablename</th>\n",
              "      <th>tableowner</th>\n",
              "      <th>tablespace</th>\n",
              "      <th>hasindexes</th>\n",
              "      <th>hasrules</th>\n",
              "      <th>hastriggers</th>\n",
              "      <th>rowsecurity</th>\n",
              "    </tr>\n",
              "  </thead>\n",
              "  <tbody>\n",
              "    <tr>\n",
              "      <th>0</th>\n",
              "      <td>public</td>\n",
              "      <td>clients</td>\n",
              "      <td>leonidas</td>\n",
              "      <td>None</td>\n",
              "      <td>False</td>\n",
              "      <td>False</td>\n",
              "      <td>False</td>\n",
              "      <td>False</td>\n",
              "    </tr>\n",
              "    <tr>\n",
              "      <th>1</th>\n",
              "      <td>public</td>\n",
              "      <td>subscriptions</td>\n",
              "      <td>leonidas</td>\n",
              "      <td>None</td>\n",
              "      <td>True</td>\n",
              "      <td>False</td>\n",
              "      <td>False</td>\n",
              "      <td>False</td>\n",
              "    </tr>\n",
              "    <tr>\n",
              "      <th>2</th>\n",
              "      <td>public</td>\n",
              "      <td>visits</td>\n",
              "      <td>leonidas</td>\n",
              "      <td>None</td>\n",
              "      <td>True</td>\n",
              "      <td>False</td>\n",
              "      <td>False</td>\n",
              "      <td>False</td>\n",
              "    </tr>\n",
              "  </tbody>\n",
              "</table>\n",
              "</div>\n",
              "    <div class=\"colab-df-buttons\">\n",
              "\n",
              "  <div class=\"colab-df-container\">\n",
              "    <button class=\"colab-df-convert\" onclick=\"convertToInteractive('df-e83b271e-fa90-4e35-899b-e27483cdd8bd')\"\n",
              "            title=\"Convert this dataframe to an interactive table.\"\n",
              "            style=\"display:none;\">\n",
              "\n",
              "  <svg xmlns=\"http://www.w3.org/2000/svg\" height=\"24px\" viewBox=\"0 -960 960 960\">\n",
              "    <path d=\"M120-120v-720h720v720H120Zm60-500h600v-160H180v160Zm220 220h160v-160H400v160Zm0 220h160v-160H400v160ZM180-400h160v-160H180v160Zm440 0h160v-160H620v160ZM180-180h160v-160H180v160Zm440 0h160v-160H620v160Z\"/>\n",
              "  </svg>\n",
              "    </button>\n",
              "\n",
              "  <style>\n",
              "    .colab-df-container {\n",
              "      display:flex;\n",
              "      gap: 12px;\n",
              "    }\n",
              "\n",
              "    .colab-df-convert {\n",
              "      background-color: #E8F0FE;\n",
              "      border: none;\n",
              "      border-radius: 50%;\n",
              "      cursor: pointer;\n",
              "      display: none;\n",
              "      fill: #1967D2;\n",
              "      height: 32px;\n",
              "      padding: 0 0 0 0;\n",
              "      width: 32px;\n",
              "    }\n",
              "\n",
              "    .colab-df-convert:hover {\n",
              "      background-color: #E2EBFA;\n",
              "      box-shadow: 0px 1px 2px rgba(60, 64, 67, 0.3), 0px 1px 3px 1px rgba(60, 64, 67, 0.15);\n",
              "      fill: #174EA6;\n",
              "    }\n",
              "\n",
              "    .colab-df-buttons div {\n",
              "      margin-bottom: 4px;\n",
              "    }\n",
              "\n",
              "    [theme=dark] .colab-df-convert {\n",
              "      background-color: #3B4455;\n",
              "      fill: #D2E3FC;\n",
              "    }\n",
              "\n",
              "    [theme=dark] .colab-df-convert:hover {\n",
              "      background-color: #434B5C;\n",
              "      box-shadow: 0px 1px 3px 1px rgba(0, 0, 0, 0.15);\n",
              "      filter: drop-shadow(0px 1px 2px rgba(0, 0, 0, 0.3));\n",
              "      fill: #FFFFFF;\n",
              "    }\n",
              "  </style>\n",
              "\n",
              "    <script>\n",
              "      const buttonEl =\n",
              "        document.querySelector('#df-e83b271e-fa90-4e35-899b-e27483cdd8bd button.colab-df-convert');\n",
              "      buttonEl.style.display =\n",
              "        google.colab.kernel.accessAllowed ? 'block' : 'none';\n",
              "\n",
              "      async function convertToInteractive(key) {\n",
              "        const element = document.querySelector('#df-e83b271e-fa90-4e35-899b-e27483cdd8bd');\n",
              "        const dataTable =\n",
              "          await google.colab.kernel.invokeFunction('convertToInteractive',\n",
              "                                                    [key], {});\n",
              "        if (!dataTable) return;\n",
              "\n",
              "        const docLinkHtml = 'Like what you see? Visit the ' +\n",
              "          '<a target=\"_blank\" href=https://colab.research.google.com/notebooks/data_table.ipynb>data table notebook</a>'\n",
              "          + ' to learn more about interactive tables.';\n",
              "        element.innerHTML = '';\n",
              "        dataTable['output_type'] = 'display_data';\n",
              "        await google.colab.output.renderOutput(dataTable, element);\n",
              "        const docLink = document.createElement('div');\n",
              "        docLink.innerHTML = docLinkHtml;\n",
              "        element.appendChild(docLink);\n",
              "      }\n",
              "    </script>\n",
              "  </div>\n",
              "\n",
              "\n",
              "<div id=\"df-54b4967d-b845-4bd1-8ff6-7c6fa1f02fb2\">\n",
              "  <button class=\"colab-df-quickchart\" onclick=\"quickchart('df-54b4967d-b845-4bd1-8ff6-7c6fa1f02fb2')\"\n",
              "            title=\"Suggest charts.\"\n",
              "            style=\"display:none;\">\n",
              "\n",
              "<svg xmlns=\"http://www.w3.org/2000/svg\" height=\"24px\"viewBox=\"0 0 24 24\"\n",
              "     width=\"24px\">\n",
              "    <g>\n",
              "        <path d=\"M19 3H5c-1.1 0-2 .9-2 2v14c0 1.1.9 2 2 2h14c1.1 0 2-.9 2-2V5c0-1.1-.9-2-2-2zM9 17H7v-7h2v7zm4 0h-2V7h2v10zm4 0h-2v-4h2v4z\"/>\n",
              "    </g>\n",
              "</svg>\n",
              "  </button>\n",
              "\n",
              "<style>\n",
              "  .colab-df-quickchart {\n",
              "      --bg-color: #E8F0FE;\n",
              "      --fill-color: #1967D2;\n",
              "      --hover-bg-color: #E2EBFA;\n",
              "      --hover-fill-color: #174EA6;\n",
              "      --disabled-fill-color: #AAA;\n",
              "      --disabled-bg-color: #DDD;\n",
              "  }\n",
              "\n",
              "  [theme=dark] .colab-df-quickchart {\n",
              "      --bg-color: #3B4455;\n",
              "      --fill-color: #D2E3FC;\n",
              "      --hover-bg-color: #434B5C;\n",
              "      --hover-fill-color: #FFFFFF;\n",
              "      --disabled-bg-color: #3B4455;\n",
              "      --disabled-fill-color: #666;\n",
              "  }\n",
              "\n",
              "  .colab-df-quickchart {\n",
              "    background-color: var(--bg-color);\n",
              "    border: none;\n",
              "    border-radius: 50%;\n",
              "    cursor: pointer;\n",
              "    display: none;\n",
              "    fill: var(--fill-color);\n",
              "    height: 32px;\n",
              "    padding: 0;\n",
              "    width: 32px;\n",
              "  }\n",
              "\n",
              "  .colab-df-quickchart:hover {\n",
              "    background-color: var(--hover-bg-color);\n",
              "    box-shadow: 0 1px 2px rgba(60, 64, 67, 0.3), 0 1px 3px 1px rgba(60, 64, 67, 0.15);\n",
              "    fill: var(--button-hover-fill-color);\n",
              "  }\n",
              "\n",
              "  .colab-df-quickchart-complete:disabled,\n",
              "  .colab-df-quickchart-complete:disabled:hover {\n",
              "    background-color: var(--disabled-bg-color);\n",
              "    fill: var(--disabled-fill-color);\n",
              "    box-shadow: none;\n",
              "  }\n",
              "\n",
              "  .colab-df-spinner {\n",
              "    border: 2px solid var(--fill-color);\n",
              "    border-color: transparent;\n",
              "    border-bottom-color: var(--fill-color);\n",
              "    animation:\n",
              "      spin 1s steps(1) infinite;\n",
              "  }\n",
              "\n",
              "  @keyframes spin {\n",
              "    0% {\n",
              "      border-color: transparent;\n",
              "      border-bottom-color: var(--fill-color);\n",
              "      border-left-color: var(--fill-color);\n",
              "    }\n",
              "    20% {\n",
              "      border-color: transparent;\n",
              "      border-left-color: var(--fill-color);\n",
              "      border-top-color: var(--fill-color);\n",
              "    }\n",
              "    30% {\n",
              "      border-color: transparent;\n",
              "      border-left-color: var(--fill-color);\n",
              "      border-top-color: var(--fill-color);\n",
              "      border-right-color: var(--fill-color);\n",
              "    }\n",
              "    40% {\n",
              "      border-color: transparent;\n",
              "      border-right-color: var(--fill-color);\n",
              "      border-top-color: var(--fill-color);\n",
              "    }\n",
              "    60% {\n",
              "      border-color: transparent;\n",
              "      border-right-color: var(--fill-color);\n",
              "    }\n",
              "    80% {\n",
              "      border-color: transparent;\n",
              "      border-right-color: var(--fill-color);\n",
              "      border-bottom-color: var(--fill-color);\n",
              "    }\n",
              "    90% {\n",
              "      border-color: transparent;\n",
              "      border-bottom-color: var(--fill-color);\n",
              "    }\n",
              "  }\n",
              "</style>\n",
              "\n",
              "  <script>\n",
              "    async function quickchart(key) {\n",
              "      const quickchartButtonEl =\n",
              "        document.querySelector('#' + key + ' button');\n",
              "      quickchartButtonEl.disabled = true;  // To prevent multiple clicks.\n",
              "      quickchartButtonEl.classList.add('colab-df-spinner');\n",
              "      try {\n",
              "        const charts = await google.colab.kernel.invokeFunction(\n",
              "            'suggestCharts', [key], {});\n",
              "      } catch (error) {\n",
              "        console.error('Error during call to suggestCharts:', error);\n",
              "      }\n",
              "      quickchartButtonEl.classList.remove('colab-df-spinner');\n",
              "      quickchartButtonEl.classList.add('colab-df-quickchart-complete');\n",
              "    }\n",
              "    (() => {\n",
              "      let quickchartButtonEl =\n",
              "        document.querySelector('#df-54b4967d-b845-4bd1-8ff6-7c6fa1f02fb2 button');\n",
              "      quickchartButtonEl.style.display =\n",
              "        google.colab.kernel.accessAllowed ? 'block' : 'none';\n",
              "    })();\n",
              "  </script>\n",
              "</div>\n",
              "    </div>\n",
              "  </div>\n"
            ]
          },
          "metadata": {}
        }
      ]
    },
    {
      "cell_type": "code",
      "source": [
        "# смотрим на типы столбцов в интересующих таблицах\n",
        "display(pd.io.sql.read_sql('''\n",
        "SELECT\n",
        "    table_name,\n",
        "    column_name,\n",
        "    data_type,\n",
        "    is_nullable\n",
        "FROM INFORMATION_SCHEMA.COLUMNS\n",
        "WHERE table_name IN ('clients', 'subscriptions', 'visits')\n",
        "ORDER BY table_name, column_name;\n",
        "''', con = engine))"
      ],
      "metadata": {
        "id": "oOdrF0OSlz4k",
        "colab": {
          "base_uri": "https://localhost:8080/",
          "height": 708
        },
        "outputId": "e2b35936-6b31-46dd-e37a-b4fc65860a21"
      },
      "execution_count": 9,
      "outputs": [
        {
          "output_type": "display_data",
          "data": {
            "text/plain": [
              "       table_name   column_name                    data_type is_nullable\n",
              "0         clients        gender                         text         YES\n",
              "1         clients          unid                         text         YES\n",
              "2   subscriptions     abonement                         text         YES\n",
              "3   subscriptions     client_id                         text         YES\n",
              "4   subscriptions         ctime  timestamp without time zone          NO\n",
              "5   subscriptions      end_date                         date         YES\n",
              "6   subscriptions  lessons_left                      integer         YES\n",
              "7   subscriptions         mtime  timestamp without time zone          NO\n",
              "8   subscriptions         sdate  timestamp without time zone          NO\n",
              "9   subscriptions    start_date                         date         YES\n",
              "10         visits           aid                      integer          NO\n",
              "11         visits     book_date  timestamp without time zone         YES\n",
              "12         visits     client_id                         text         YES\n",
              "13         visits         ctime  timestamp without time zone          NO\n",
              "14         visits          kids                      boolean         YES\n",
              "15         visits        lesson                         text         YES\n",
              "16         visits     lesson_id                      integer          NO\n",
              "17         visits         mtime  timestamp without time zone          NO\n",
              "18         visits        status                         text         YES\n",
              "19         visits    trainer_id                         text         YES\n",
              "20         visits    visit_date                         date         YES"
            ],
            "text/html": [
              "\n",
              "  <div id=\"df-4aa3cd81-dd9e-472d-8809-ebfe32019249\" class=\"colab-df-container\">\n",
              "    <div>\n",
              "<style scoped>\n",
              "    .dataframe tbody tr th:only-of-type {\n",
              "        vertical-align: middle;\n",
              "    }\n",
              "\n",
              "    .dataframe tbody tr th {\n",
              "        vertical-align: top;\n",
              "    }\n",
              "\n",
              "    .dataframe thead th {\n",
              "        text-align: right;\n",
              "    }\n",
              "</style>\n",
              "<table border=\"1\" class=\"dataframe\">\n",
              "  <thead>\n",
              "    <tr style=\"text-align: right;\">\n",
              "      <th></th>\n",
              "      <th>table_name</th>\n",
              "      <th>column_name</th>\n",
              "      <th>data_type</th>\n",
              "      <th>is_nullable</th>\n",
              "    </tr>\n",
              "  </thead>\n",
              "  <tbody>\n",
              "    <tr>\n",
              "      <th>0</th>\n",
              "      <td>clients</td>\n",
              "      <td>gender</td>\n",
              "      <td>text</td>\n",
              "      <td>YES</td>\n",
              "    </tr>\n",
              "    <tr>\n",
              "      <th>1</th>\n",
              "      <td>clients</td>\n",
              "      <td>unid</td>\n",
              "      <td>text</td>\n",
              "      <td>YES</td>\n",
              "    </tr>\n",
              "    <tr>\n",
              "      <th>2</th>\n",
              "      <td>subscriptions</td>\n",
              "      <td>abonement</td>\n",
              "      <td>text</td>\n",
              "      <td>YES</td>\n",
              "    </tr>\n",
              "    <tr>\n",
              "      <th>3</th>\n",
              "      <td>subscriptions</td>\n",
              "      <td>client_id</td>\n",
              "      <td>text</td>\n",
              "      <td>YES</td>\n",
              "    </tr>\n",
              "    <tr>\n",
              "      <th>4</th>\n",
              "      <td>subscriptions</td>\n",
              "      <td>ctime</td>\n",
              "      <td>timestamp without time zone</td>\n",
              "      <td>NO</td>\n",
              "    </tr>\n",
              "    <tr>\n",
              "      <th>5</th>\n",
              "      <td>subscriptions</td>\n",
              "      <td>end_date</td>\n",
              "      <td>date</td>\n",
              "      <td>YES</td>\n",
              "    </tr>\n",
              "    <tr>\n",
              "      <th>6</th>\n",
              "      <td>subscriptions</td>\n",
              "      <td>lessons_left</td>\n",
              "      <td>integer</td>\n",
              "      <td>YES</td>\n",
              "    </tr>\n",
              "    <tr>\n",
              "      <th>7</th>\n",
              "      <td>subscriptions</td>\n",
              "      <td>mtime</td>\n",
              "      <td>timestamp without time zone</td>\n",
              "      <td>NO</td>\n",
              "    </tr>\n",
              "    <tr>\n",
              "      <th>8</th>\n",
              "      <td>subscriptions</td>\n",
              "      <td>sdate</td>\n",
              "      <td>timestamp without time zone</td>\n",
              "      <td>NO</td>\n",
              "    </tr>\n",
              "    <tr>\n",
              "      <th>9</th>\n",
              "      <td>subscriptions</td>\n",
              "      <td>start_date</td>\n",
              "      <td>date</td>\n",
              "      <td>YES</td>\n",
              "    </tr>\n",
              "    <tr>\n",
              "      <th>10</th>\n",
              "      <td>visits</td>\n",
              "      <td>aid</td>\n",
              "      <td>integer</td>\n",
              "      <td>NO</td>\n",
              "    </tr>\n",
              "    <tr>\n",
              "      <th>11</th>\n",
              "      <td>visits</td>\n",
              "      <td>book_date</td>\n",
              "      <td>timestamp without time zone</td>\n",
              "      <td>YES</td>\n",
              "    </tr>\n",
              "    <tr>\n",
              "      <th>12</th>\n",
              "      <td>visits</td>\n",
              "      <td>client_id</td>\n",
              "      <td>text</td>\n",
              "      <td>YES</td>\n",
              "    </tr>\n",
              "    <tr>\n",
              "      <th>13</th>\n",
              "      <td>visits</td>\n",
              "      <td>ctime</td>\n",
              "      <td>timestamp without time zone</td>\n",
              "      <td>NO</td>\n",
              "    </tr>\n",
              "    <tr>\n",
              "      <th>14</th>\n",
              "      <td>visits</td>\n",
              "      <td>kids</td>\n",
              "      <td>boolean</td>\n",
              "      <td>YES</td>\n",
              "    </tr>\n",
              "    <tr>\n",
              "      <th>15</th>\n",
              "      <td>visits</td>\n",
              "      <td>lesson</td>\n",
              "      <td>text</td>\n",
              "      <td>YES</td>\n",
              "    </tr>\n",
              "    <tr>\n",
              "      <th>16</th>\n",
              "      <td>visits</td>\n",
              "      <td>lesson_id</td>\n",
              "      <td>integer</td>\n",
              "      <td>NO</td>\n",
              "    </tr>\n",
              "    <tr>\n",
              "      <th>17</th>\n",
              "      <td>visits</td>\n",
              "      <td>mtime</td>\n",
              "      <td>timestamp without time zone</td>\n",
              "      <td>NO</td>\n",
              "    </tr>\n",
              "    <tr>\n",
              "      <th>18</th>\n",
              "      <td>visits</td>\n",
              "      <td>status</td>\n",
              "      <td>text</td>\n",
              "      <td>YES</td>\n",
              "    </tr>\n",
              "    <tr>\n",
              "      <th>19</th>\n",
              "      <td>visits</td>\n",
              "      <td>trainer_id</td>\n",
              "      <td>text</td>\n",
              "      <td>YES</td>\n",
              "    </tr>\n",
              "    <tr>\n",
              "      <th>20</th>\n",
              "      <td>visits</td>\n",
              "      <td>visit_date</td>\n",
              "      <td>date</td>\n",
              "      <td>YES</td>\n",
              "    </tr>\n",
              "  </tbody>\n",
              "</table>\n",
              "</div>\n",
              "    <div class=\"colab-df-buttons\">\n",
              "\n",
              "  <div class=\"colab-df-container\">\n",
              "    <button class=\"colab-df-convert\" onclick=\"convertToInteractive('df-4aa3cd81-dd9e-472d-8809-ebfe32019249')\"\n",
              "            title=\"Convert this dataframe to an interactive table.\"\n",
              "            style=\"display:none;\">\n",
              "\n",
              "  <svg xmlns=\"http://www.w3.org/2000/svg\" height=\"24px\" viewBox=\"0 -960 960 960\">\n",
              "    <path d=\"M120-120v-720h720v720H120Zm60-500h600v-160H180v160Zm220 220h160v-160H400v160Zm0 220h160v-160H400v160ZM180-400h160v-160H180v160Zm440 0h160v-160H620v160ZM180-180h160v-160H180v160Zm440 0h160v-160H620v160Z\"/>\n",
              "  </svg>\n",
              "    </button>\n",
              "\n",
              "  <style>\n",
              "    .colab-df-container {\n",
              "      display:flex;\n",
              "      gap: 12px;\n",
              "    }\n",
              "\n",
              "    .colab-df-convert {\n",
              "      background-color: #E8F0FE;\n",
              "      border: none;\n",
              "      border-radius: 50%;\n",
              "      cursor: pointer;\n",
              "      display: none;\n",
              "      fill: #1967D2;\n",
              "      height: 32px;\n",
              "      padding: 0 0 0 0;\n",
              "      width: 32px;\n",
              "    }\n",
              "\n",
              "    .colab-df-convert:hover {\n",
              "      background-color: #E2EBFA;\n",
              "      box-shadow: 0px 1px 2px rgba(60, 64, 67, 0.3), 0px 1px 3px 1px rgba(60, 64, 67, 0.15);\n",
              "      fill: #174EA6;\n",
              "    }\n",
              "\n",
              "    .colab-df-buttons div {\n",
              "      margin-bottom: 4px;\n",
              "    }\n",
              "\n",
              "    [theme=dark] .colab-df-convert {\n",
              "      background-color: #3B4455;\n",
              "      fill: #D2E3FC;\n",
              "    }\n",
              "\n",
              "    [theme=dark] .colab-df-convert:hover {\n",
              "      background-color: #434B5C;\n",
              "      box-shadow: 0px 1px 3px 1px rgba(0, 0, 0, 0.15);\n",
              "      filter: drop-shadow(0px 1px 2px rgba(0, 0, 0, 0.3));\n",
              "      fill: #FFFFFF;\n",
              "    }\n",
              "  </style>\n",
              "\n",
              "    <script>\n",
              "      const buttonEl =\n",
              "        document.querySelector('#df-4aa3cd81-dd9e-472d-8809-ebfe32019249 button.colab-df-convert');\n",
              "      buttonEl.style.display =\n",
              "        google.colab.kernel.accessAllowed ? 'block' : 'none';\n",
              "\n",
              "      async function convertToInteractive(key) {\n",
              "        const element = document.querySelector('#df-4aa3cd81-dd9e-472d-8809-ebfe32019249');\n",
              "        const dataTable =\n",
              "          await google.colab.kernel.invokeFunction('convertToInteractive',\n",
              "                                                    [key], {});\n",
              "        if (!dataTable) return;\n",
              "\n",
              "        const docLinkHtml = 'Like what you see? Visit the ' +\n",
              "          '<a target=\"_blank\" href=https://colab.research.google.com/notebooks/data_table.ipynb>data table notebook</a>'\n",
              "          + ' to learn more about interactive tables.';\n",
              "        element.innerHTML = '';\n",
              "        dataTable['output_type'] = 'display_data';\n",
              "        await google.colab.output.renderOutput(dataTable, element);\n",
              "        const docLink = document.createElement('div');\n",
              "        docLink.innerHTML = docLinkHtml;\n",
              "        element.appendChild(docLink);\n",
              "      }\n",
              "    </script>\n",
              "  </div>\n",
              "\n",
              "\n",
              "<div id=\"df-0a8c6cc1-d0e8-4a9b-a273-3f5c8bf33420\">\n",
              "  <button class=\"colab-df-quickchart\" onclick=\"quickchart('df-0a8c6cc1-d0e8-4a9b-a273-3f5c8bf33420')\"\n",
              "            title=\"Suggest charts.\"\n",
              "            style=\"display:none;\">\n",
              "\n",
              "<svg xmlns=\"http://www.w3.org/2000/svg\" height=\"24px\"viewBox=\"0 0 24 24\"\n",
              "     width=\"24px\">\n",
              "    <g>\n",
              "        <path d=\"M19 3H5c-1.1 0-2 .9-2 2v14c0 1.1.9 2 2 2h14c1.1 0 2-.9 2-2V5c0-1.1-.9-2-2-2zM9 17H7v-7h2v7zm4 0h-2V7h2v10zm4 0h-2v-4h2v4z\"/>\n",
              "    </g>\n",
              "</svg>\n",
              "  </button>\n",
              "\n",
              "<style>\n",
              "  .colab-df-quickchart {\n",
              "      --bg-color: #E8F0FE;\n",
              "      --fill-color: #1967D2;\n",
              "      --hover-bg-color: #E2EBFA;\n",
              "      --hover-fill-color: #174EA6;\n",
              "      --disabled-fill-color: #AAA;\n",
              "      --disabled-bg-color: #DDD;\n",
              "  }\n",
              "\n",
              "  [theme=dark] .colab-df-quickchart {\n",
              "      --bg-color: #3B4455;\n",
              "      --fill-color: #D2E3FC;\n",
              "      --hover-bg-color: #434B5C;\n",
              "      --hover-fill-color: #FFFFFF;\n",
              "      --disabled-bg-color: #3B4455;\n",
              "      --disabled-fill-color: #666;\n",
              "  }\n",
              "\n",
              "  .colab-df-quickchart {\n",
              "    background-color: var(--bg-color);\n",
              "    border: none;\n",
              "    border-radius: 50%;\n",
              "    cursor: pointer;\n",
              "    display: none;\n",
              "    fill: var(--fill-color);\n",
              "    height: 32px;\n",
              "    padding: 0;\n",
              "    width: 32px;\n",
              "  }\n",
              "\n",
              "  .colab-df-quickchart:hover {\n",
              "    background-color: var(--hover-bg-color);\n",
              "    box-shadow: 0 1px 2px rgba(60, 64, 67, 0.3), 0 1px 3px 1px rgba(60, 64, 67, 0.15);\n",
              "    fill: var(--button-hover-fill-color);\n",
              "  }\n",
              "\n",
              "  .colab-df-quickchart-complete:disabled,\n",
              "  .colab-df-quickchart-complete:disabled:hover {\n",
              "    background-color: var(--disabled-bg-color);\n",
              "    fill: var(--disabled-fill-color);\n",
              "    box-shadow: none;\n",
              "  }\n",
              "\n",
              "  .colab-df-spinner {\n",
              "    border: 2px solid var(--fill-color);\n",
              "    border-color: transparent;\n",
              "    border-bottom-color: var(--fill-color);\n",
              "    animation:\n",
              "      spin 1s steps(1) infinite;\n",
              "  }\n",
              "\n",
              "  @keyframes spin {\n",
              "    0% {\n",
              "      border-color: transparent;\n",
              "      border-bottom-color: var(--fill-color);\n",
              "      border-left-color: var(--fill-color);\n",
              "    }\n",
              "    20% {\n",
              "      border-color: transparent;\n",
              "      border-left-color: var(--fill-color);\n",
              "      border-top-color: var(--fill-color);\n",
              "    }\n",
              "    30% {\n",
              "      border-color: transparent;\n",
              "      border-left-color: var(--fill-color);\n",
              "      border-top-color: var(--fill-color);\n",
              "      border-right-color: var(--fill-color);\n",
              "    }\n",
              "    40% {\n",
              "      border-color: transparent;\n",
              "      border-right-color: var(--fill-color);\n",
              "      border-top-color: var(--fill-color);\n",
              "    }\n",
              "    60% {\n",
              "      border-color: transparent;\n",
              "      border-right-color: var(--fill-color);\n",
              "    }\n",
              "    80% {\n",
              "      border-color: transparent;\n",
              "      border-right-color: var(--fill-color);\n",
              "      border-bottom-color: var(--fill-color);\n",
              "    }\n",
              "    90% {\n",
              "      border-color: transparent;\n",
              "      border-bottom-color: var(--fill-color);\n",
              "    }\n",
              "  }\n",
              "</style>\n",
              "\n",
              "  <script>\n",
              "    async function quickchart(key) {\n",
              "      const quickchartButtonEl =\n",
              "        document.querySelector('#' + key + ' button');\n",
              "      quickchartButtonEl.disabled = true;  // To prevent multiple clicks.\n",
              "      quickchartButtonEl.classList.add('colab-df-spinner');\n",
              "      try {\n",
              "        const charts = await google.colab.kernel.invokeFunction(\n",
              "            'suggestCharts', [key], {});\n",
              "      } catch (error) {\n",
              "        console.error('Error during call to suggestCharts:', error);\n",
              "      }\n",
              "      quickchartButtonEl.classList.remove('colab-df-spinner');\n",
              "      quickchartButtonEl.classList.add('colab-df-quickchart-complete');\n",
              "    }\n",
              "    (() => {\n",
              "      let quickchartButtonEl =\n",
              "        document.querySelector('#df-0a8c6cc1-d0e8-4a9b-a273-3f5c8bf33420 button');\n",
              "      quickchartButtonEl.style.display =\n",
              "        google.colab.kernel.accessAllowed ? 'block' : 'none';\n",
              "    })();\n",
              "  </script>\n",
              "</div>\n",
              "    </div>\n",
              "  </div>\n"
            ]
          },
          "metadata": {}
        }
      ]
    },
    {
      "cell_type": "markdown",
      "metadata": {
        "id": "5HADuubBhevI"
      },
      "source": [
        "### Исследуем таблицы — выведем первые строки:"
      ]
    },
    {
      "cell_type": "code",
      "source": [
        "# смотрим на значения в 5 первых строках\n",
        "display(pd.io.sql.read_sql('''\n",
        "SELECT *\n",
        "FROM clients\n",
        "ORDER BY unid\n",
        "LIMIT 5;\n",
        "''', con = engine))"
      ],
      "metadata": {
        "colab": {
          "base_uri": "https://localhost:8080/",
          "height": 206
        },
        "id": "7OqgmKIKnyjf",
        "outputId": "62c7ed2e-7a37-4263-a092-1bafa10bbec2"
      },
      "execution_count": 45,
      "outputs": [
        {
          "output_type": "display_data",
          "data": {
            "text/plain": [
              "                        unid gender\n",
              "0  0046ebbaf63abc7150d07d1ae      F\n",
              "1  0073e6829cbc67dc1e1467a07      M\n",
              "2  00a7fa1e460cd64eae45d6b8f      F\n",
              "3  0124a52e4e6b6e365402b66d7      F\n",
              "4  0138e8b4dd238aa77c324e614      M"
            ],
            "text/html": [
              "\n",
              "  <div id=\"df-f11babc1-f4fc-4e52-a655-92476d3ae22c\" class=\"colab-df-container\">\n",
              "    <div>\n",
              "<style scoped>\n",
              "    .dataframe tbody tr th:only-of-type {\n",
              "        vertical-align: middle;\n",
              "    }\n",
              "\n",
              "    .dataframe tbody tr th {\n",
              "        vertical-align: top;\n",
              "    }\n",
              "\n",
              "    .dataframe thead th {\n",
              "        text-align: right;\n",
              "    }\n",
              "</style>\n",
              "<table border=\"1\" class=\"dataframe\">\n",
              "  <thead>\n",
              "    <tr style=\"text-align: right;\">\n",
              "      <th></th>\n",
              "      <th>unid</th>\n",
              "      <th>gender</th>\n",
              "    </tr>\n",
              "  </thead>\n",
              "  <tbody>\n",
              "    <tr>\n",
              "      <th>0</th>\n",
              "      <td>0046ebbaf63abc7150d07d1ae</td>\n",
              "      <td>F</td>\n",
              "    </tr>\n",
              "    <tr>\n",
              "      <th>1</th>\n",
              "      <td>0073e6829cbc67dc1e1467a07</td>\n",
              "      <td>M</td>\n",
              "    </tr>\n",
              "    <tr>\n",
              "      <th>2</th>\n",
              "      <td>00a7fa1e460cd64eae45d6b8f</td>\n",
              "      <td>F</td>\n",
              "    </tr>\n",
              "    <tr>\n",
              "      <th>3</th>\n",
              "      <td>0124a52e4e6b6e365402b66d7</td>\n",
              "      <td>F</td>\n",
              "    </tr>\n",
              "    <tr>\n",
              "      <th>4</th>\n",
              "      <td>0138e8b4dd238aa77c324e614</td>\n",
              "      <td>M</td>\n",
              "    </tr>\n",
              "  </tbody>\n",
              "</table>\n",
              "</div>\n",
              "    <div class=\"colab-df-buttons\">\n",
              "\n",
              "  <div class=\"colab-df-container\">\n",
              "    <button class=\"colab-df-convert\" onclick=\"convertToInteractive('df-f11babc1-f4fc-4e52-a655-92476d3ae22c')\"\n",
              "            title=\"Convert this dataframe to an interactive table.\"\n",
              "            style=\"display:none;\">\n",
              "\n",
              "  <svg xmlns=\"http://www.w3.org/2000/svg\" height=\"24px\" viewBox=\"0 -960 960 960\">\n",
              "    <path d=\"M120-120v-720h720v720H120Zm60-500h600v-160H180v160Zm220 220h160v-160H400v160Zm0 220h160v-160H400v160ZM180-400h160v-160H180v160Zm440 0h160v-160H620v160ZM180-180h160v-160H180v160Zm440 0h160v-160H620v160Z\"/>\n",
              "  </svg>\n",
              "    </button>\n",
              "\n",
              "  <style>\n",
              "    .colab-df-container {\n",
              "      display:flex;\n",
              "      gap: 12px;\n",
              "    }\n",
              "\n",
              "    .colab-df-convert {\n",
              "      background-color: #E8F0FE;\n",
              "      border: none;\n",
              "      border-radius: 50%;\n",
              "      cursor: pointer;\n",
              "      display: none;\n",
              "      fill: #1967D2;\n",
              "      height: 32px;\n",
              "      padding: 0 0 0 0;\n",
              "      width: 32px;\n",
              "    }\n",
              "\n",
              "    .colab-df-convert:hover {\n",
              "      background-color: #E2EBFA;\n",
              "      box-shadow: 0px 1px 2px rgba(60, 64, 67, 0.3), 0px 1px 3px 1px rgba(60, 64, 67, 0.15);\n",
              "      fill: #174EA6;\n",
              "    }\n",
              "\n",
              "    .colab-df-buttons div {\n",
              "      margin-bottom: 4px;\n",
              "    }\n",
              "\n",
              "    [theme=dark] .colab-df-convert {\n",
              "      background-color: #3B4455;\n",
              "      fill: #D2E3FC;\n",
              "    }\n",
              "\n",
              "    [theme=dark] .colab-df-convert:hover {\n",
              "      background-color: #434B5C;\n",
              "      box-shadow: 0px 1px 3px 1px rgba(0, 0, 0, 0.15);\n",
              "      filter: drop-shadow(0px 1px 2px rgba(0, 0, 0, 0.3));\n",
              "      fill: #FFFFFF;\n",
              "    }\n",
              "  </style>\n",
              "\n",
              "    <script>\n",
              "      const buttonEl =\n",
              "        document.querySelector('#df-f11babc1-f4fc-4e52-a655-92476d3ae22c button.colab-df-convert');\n",
              "      buttonEl.style.display =\n",
              "        google.colab.kernel.accessAllowed ? 'block' : 'none';\n",
              "\n",
              "      async function convertToInteractive(key) {\n",
              "        const element = document.querySelector('#df-f11babc1-f4fc-4e52-a655-92476d3ae22c');\n",
              "        const dataTable =\n",
              "          await google.colab.kernel.invokeFunction('convertToInteractive',\n",
              "                                                    [key], {});\n",
              "        if (!dataTable) return;\n",
              "\n",
              "        const docLinkHtml = 'Like what you see? Visit the ' +\n",
              "          '<a target=\"_blank\" href=https://colab.research.google.com/notebooks/data_table.ipynb>data table notebook</a>'\n",
              "          + ' to learn more about interactive tables.';\n",
              "        element.innerHTML = '';\n",
              "        dataTable['output_type'] = 'display_data';\n",
              "        await google.colab.output.renderOutput(dataTable, element);\n",
              "        const docLink = document.createElement('div');\n",
              "        docLink.innerHTML = docLinkHtml;\n",
              "        element.appendChild(docLink);\n",
              "      }\n",
              "    </script>\n",
              "  </div>\n",
              "\n",
              "\n",
              "<div id=\"df-38a00f1a-fb5b-4b44-a1a0-02b7313f8b3b\">\n",
              "  <button class=\"colab-df-quickchart\" onclick=\"quickchart('df-38a00f1a-fb5b-4b44-a1a0-02b7313f8b3b')\"\n",
              "            title=\"Suggest charts.\"\n",
              "            style=\"display:none;\">\n",
              "\n",
              "<svg xmlns=\"http://www.w3.org/2000/svg\" height=\"24px\"viewBox=\"0 0 24 24\"\n",
              "     width=\"24px\">\n",
              "    <g>\n",
              "        <path d=\"M19 3H5c-1.1 0-2 .9-2 2v14c0 1.1.9 2 2 2h14c1.1 0 2-.9 2-2V5c0-1.1-.9-2-2-2zM9 17H7v-7h2v7zm4 0h-2V7h2v10zm4 0h-2v-4h2v4z\"/>\n",
              "    </g>\n",
              "</svg>\n",
              "  </button>\n",
              "\n",
              "<style>\n",
              "  .colab-df-quickchart {\n",
              "      --bg-color: #E8F0FE;\n",
              "      --fill-color: #1967D2;\n",
              "      --hover-bg-color: #E2EBFA;\n",
              "      --hover-fill-color: #174EA6;\n",
              "      --disabled-fill-color: #AAA;\n",
              "      --disabled-bg-color: #DDD;\n",
              "  }\n",
              "\n",
              "  [theme=dark] .colab-df-quickchart {\n",
              "      --bg-color: #3B4455;\n",
              "      --fill-color: #D2E3FC;\n",
              "      --hover-bg-color: #434B5C;\n",
              "      --hover-fill-color: #FFFFFF;\n",
              "      --disabled-bg-color: #3B4455;\n",
              "      --disabled-fill-color: #666;\n",
              "  }\n",
              "\n",
              "  .colab-df-quickchart {\n",
              "    background-color: var(--bg-color);\n",
              "    border: none;\n",
              "    border-radius: 50%;\n",
              "    cursor: pointer;\n",
              "    display: none;\n",
              "    fill: var(--fill-color);\n",
              "    height: 32px;\n",
              "    padding: 0;\n",
              "    width: 32px;\n",
              "  }\n",
              "\n",
              "  .colab-df-quickchart:hover {\n",
              "    background-color: var(--hover-bg-color);\n",
              "    box-shadow: 0 1px 2px rgba(60, 64, 67, 0.3), 0 1px 3px 1px rgba(60, 64, 67, 0.15);\n",
              "    fill: var(--button-hover-fill-color);\n",
              "  }\n",
              "\n",
              "  .colab-df-quickchart-complete:disabled,\n",
              "  .colab-df-quickchart-complete:disabled:hover {\n",
              "    background-color: var(--disabled-bg-color);\n",
              "    fill: var(--disabled-fill-color);\n",
              "    box-shadow: none;\n",
              "  }\n",
              "\n",
              "  .colab-df-spinner {\n",
              "    border: 2px solid var(--fill-color);\n",
              "    border-color: transparent;\n",
              "    border-bottom-color: var(--fill-color);\n",
              "    animation:\n",
              "      spin 1s steps(1) infinite;\n",
              "  }\n",
              "\n",
              "  @keyframes spin {\n",
              "    0% {\n",
              "      border-color: transparent;\n",
              "      border-bottom-color: var(--fill-color);\n",
              "      border-left-color: var(--fill-color);\n",
              "    }\n",
              "    20% {\n",
              "      border-color: transparent;\n",
              "      border-left-color: var(--fill-color);\n",
              "      border-top-color: var(--fill-color);\n",
              "    }\n",
              "    30% {\n",
              "      border-color: transparent;\n",
              "      border-left-color: var(--fill-color);\n",
              "      border-top-color: var(--fill-color);\n",
              "      border-right-color: var(--fill-color);\n",
              "    }\n",
              "    40% {\n",
              "      border-color: transparent;\n",
              "      border-right-color: var(--fill-color);\n",
              "      border-top-color: var(--fill-color);\n",
              "    }\n",
              "    60% {\n",
              "      border-color: transparent;\n",
              "      border-right-color: var(--fill-color);\n",
              "    }\n",
              "    80% {\n",
              "      border-color: transparent;\n",
              "      border-right-color: var(--fill-color);\n",
              "      border-bottom-color: var(--fill-color);\n",
              "    }\n",
              "    90% {\n",
              "      border-color: transparent;\n",
              "      border-bottom-color: var(--fill-color);\n",
              "    }\n",
              "  }\n",
              "</style>\n",
              "\n",
              "  <script>\n",
              "    async function quickchart(key) {\n",
              "      const quickchartButtonEl =\n",
              "        document.querySelector('#' + key + ' button');\n",
              "      quickchartButtonEl.disabled = true;  // To prevent multiple clicks.\n",
              "      quickchartButtonEl.classList.add('colab-df-spinner');\n",
              "      try {\n",
              "        const charts = await google.colab.kernel.invokeFunction(\n",
              "            'suggestCharts', [key], {});\n",
              "      } catch (error) {\n",
              "        console.error('Error during call to suggestCharts:', error);\n",
              "      }\n",
              "      quickchartButtonEl.classList.remove('colab-df-spinner');\n",
              "      quickchartButtonEl.classList.add('colab-df-quickchart-complete');\n",
              "    }\n",
              "    (() => {\n",
              "      let quickchartButtonEl =\n",
              "        document.querySelector('#df-38a00f1a-fb5b-4b44-a1a0-02b7313f8b3b button');\n",
              "      quickchartButtonEl.style.display =\n",
              "        google.colab.kernel.accessAllowed ? 'block' : 'none';\n",
              "    })();\n",
              "  </script>\n",
              "</div>\n",
              "    </div>\n",
              "  </div>\n"
            ]
          },
          "metadata": {}
        }
      ]
    },
    {
      "cell_type": "code",
      "source": [
        "# Посмотрим есть ли значения null:\n",
        "display(pd.io.sql.read_sql('''\n",
        "SELECT COUNT(*) AS row\n",
        "FROM clients\n",
        "WHERE (gender IS NULL) OR (unid IS NULL)\n",
        "LIMIT 5;\n",
        "''', con = engine))"
      ],
      "metadata": {
        "colab": {
          "base_uri": "https://localhost:8080/",
          "height": 81
        },
        "id": "os3rMe8Kobnb",
        "outputId": "cfa6e1f7-d73e-4225-8a98-9440faab1971"
      },
      "execution_count": 18,
      "outputs": [
        {
          "output_type": "display_data",
          "data": {
            "text/plain": [
              "   row  unique_unid\n",
              "0    0            0"
            ],
            "text/html": [
              "\n",
              "  <div id=\"df-9fd36d37-fb61-494b-a2c7-6fe175443371\" class=\"colab-df-container\">\n",
              "    <div>\n",
              "<style scoped>\n",
              "    .dataframe tbody tr th:only-of-type {\n",
              "        vertical-align: middle;\n",
              "    }\n",
              "\n",
              "    .dataframe tbody tr th {\n",
              "        vertical-align: top;\n",
              "    }\n",
              "\n",
              "    .dataframe thead th {\n",
              "        text-align: right;\n",
              "    }\n",
              "</style>\n",
              "<table border=\"1\" class=\"dataframe\">\n",
              "  <thead>\n",
              "    <tr style=\"text-align: right;\">\n",
              "      <th></th>\n",
              "      <th>row</th>\n",
              "      <th>unique_unid</th>\n",
              "    </tr>\n",
              "  </thead>\n",
              "  <tbody>\n",
              "    <tr>\n",
              "      <th>0</th>\n",
              "      <td>0</td>\n",
              "      <td>0</td>\n",
              "    </tr>\n",
              "  </tbody>\n",
              "</table>\n",
              "</div>\n",
              "    <div class=\"colab-df-buttons\">\n",
              "\n",
              "  <div class=\"colab-df-container\">\n",
              "    <button class=\"colab-df-convert\" onclick=\"convertToInteractive('df-9fd36d37-fb61-494b-a2c7-6fe175443371')\"\n",
              "            title=\"Convert this dataframe to an interactive table.\"\n",
              "            style=\"display:none;\">\n",
              "\n",
              "  <svg xmlns=\"http://www.w3.org/2000/svg\" height=\"24px\" viewBox=\"0 -960 960 960\">\n",
              "    <path d=\"M120-120v-720h720v720H120Zm60-500h600v-160H180v160Zm220 220h160v-160H400v160Zm0 220h160v-160H400v160ZM180-400h160v-160H180v160Zm440 0h160v-160H620v160ZM180-180h160v-160H180v160Zm440 0h160v-160H620v160Z\"/>\n",
              "  </svg>\n",
              "    </button>\n",
              "\n",
              "  <style>\n",
              "    .colab-df-container {\n",
              "      display:flex;\n",
              "      gap: 12px;\n",
              "    }\n",
              "\n",
              "    .colab-df-convert {\n",
              "      background-color: #E8F0FE;\n",
              "      border: none;\n",
              "      border-radius: 50%;\n",
              "      cursor: pointer;\n",
              "      display: none;\n",
              "      fill: #1967D2;\n",
              "      height: 32px;\n",
              "      padding: 0 0 0 0;\n",
              "      width: 32px;\n",
              "    }\n",
              "\n",
              "    .colab-df-convert:hover {\n",
              "      background-color: #E2EBFA;\n",
              "      box-shadow: 0px 1px 2px rgba(60, 64, 67, 0.3), 0px 1px 3px 1px rgba(60, 64, 67, 0.15);\n",
              "      fill: #174EA6;\n",
              "    }\n",
              "\n",
              "    .colab-df-buttons div {\n",
              "      margin-bottom: 4px;\n",
              "    }\n",
              "\n",
              "    [theme=dark] .colab-df-convert {\n",
              "      background-color: #3B4455;\n",
              "      fill: #D2E3FC;\n",
              "    }\n",
              "\n",
              "    [theme=dark] .colab-df-convert:hover {\n",
              "      background-color: #434B5C;\n",
              "      box-shadow: 0px 1px 3px 1px rgba(0, 0, 0, 0.15);\n",
              "      filter: drop-shadow(0px 1px 2px rgba(0, 0, 0, 0.3));\n",
              "      fill: #FFFFFF;\n",
              "    }\n",
              "  </style>\n",
              "\n",
              "    <script>\n",
              "      const buttonEl =\n",
              "        document.querySelector('#df-9fd36d37-fb61-494b-a2c7-6fe175443371 button.colab-df-convert');\n",
              "      buttonEl.style.display =\n",
              "        google.colab.kernel.accessAllowed ? 'block' : 'none';\n",
              "\n",
              "      async function convertToInteractive(key) {\n",
              "        const element = document.querySelector('#df-9fd36d37-fb61-494b-a2c7-6fe175443371');\n",
              "        const dataTable =\n",
              "          await google.colab.kernel.invokeFunction('convertToInteractive',\n",
              "                                                    [key], {});\n",
              "        if (!dataTable) return;\n",
              "\n",
              "        const docLinkHtml = 'Like what you see? Visit the ' +\n",
              "          '<a target=\"_blank\" href=https://colab.research.google.com/notebooks/data_table.ipynb>data table notebook</a>'\n",
              "          + ' to learn more about interactive tables.';\n",
              "        element.innerHTML = '';\n",
              "        dataTable['output_type'] = 'display_data';\n",
              "        await google.colab.output.renderOutput(dataTable, element);\n",
              "        const docLink = document.createElement('div');\n",
              "        docLink.innerHTML = docLinkHtml;\n",
              "        element.appendChild(docLink);\n",
              "      }\n",
              "    </script>\n",
              "  </div>\n",
              "\n",
              "    </div>\n",
              "  </div>\n"
            ]
          },
          "metadata": {}
        }
      ]
    },
    {
      "cell_type": "code",
      "source": [
        "# Посмотрим есть ли дубли в unid\n",
        "display(pd.io.sql.read_sql('''\n",
        "SELECT COUNT(*) AS row, COUNT(DISTINCT unid) AS unique_unid\n",
        "FROM clients\n",
        "LIMIT 5;\n",
        "''', con = engine))"
      ],
      "metadata": {
        "colab": {
          "base_uri": "https://localhost:8080/",
          "height": 81
        },
        "id": "kaL07lu6pqTz",
        "outputId": "d842429a-4002-46b1-e76c-e1af4899f80a"
      },
      "execution_count": 20,
      "outputs": [
        {
          "output_type": "display_data",
          "data": {
            "text/plain": [
              "    row  unique_unid\n",
              "0  1395         1395"
            ],
            "text/html": [
              "\n",
              "  <div id=\"df-d0cdc074-a19d-4ebf-8d32-e699968d02f7\" class=\"colab-df-container\">\n",
              "    <div>\n",
              "<style scoped>\n",
              "    .dataframe tbody tr th:only-of-type {\n",
              "        vertical-align: middle;\n",
              "    }\n",
              "\n",
              "    .dataframe tbody tr th {\n",
              "        vertical-align: top;\n",
              "    }\n",
              "\n",
              "    .dataframe thead th {\n",
              "        text-align: right;\n",
              "    }\n",
              "</style>\n",
              "<table border=\"1\" class=\"dataframe\">\n",
              "  <thead>\n",
              "    <tr style=\"text-align: right;\">\n",
              "      <th></th>\n",
              "      <th>row</th>\n",
              "      <th>unique_unid</th>\n",
              "    </tr>\n",
              "  </thead>\n",
              "  <tbody>\n",
              "    <tr>\n",
              "      <th>0</th>\n",
              "      <td>1395</td>\n",
              "      <td>1395</td>\n",
              "    </tr>\n",
              "  </tbody>\n",
              "</table>\n",
              "</div>\n",
              "    <div class=\"colab-df-buttons\">\n",
              "\n",
              "  <div class=\"colab-df-container\">\n",
              "    <button class=\"colab-df-convert\" onclick=\"convertToInteractive('df-d0cdc074-a19d-4ebf-8d32-e699968d02f7')\"\n",
              "            title=\"Convert this dataframe to an interactive table.\"\n",
              "            style=\"display:none;\">\n",
              "\n",
              "  <svg xmlns=\"http://www.w3.org/2000/svg\" height=\"24px\" viewBox=\"0 -960 960 960\">\n",
              "    <path d=\"M120-120v-720h720v720H120Zm60-500h600v-160H180v160Zm220 220h160v-160H400v160Zm0 220h160v-160H400v160ZM180-400h160v-160H180v160Zm440 0h160v-160H620v160ZM180-180h160v-160H180v160Zm440 0h160v-160H620v160Z\"/>\n",
              "  </svg>\n",
              "    </button>\n",
              "\n",
              "  <style>\n",
              "    .colab-df-container {\n",
              "      display:flex;\n",
              "      gap: 12px;\n",
              "    }\n",
              "\n",
              "    .colab-df-convert {\n",
              "      background-color: #E8F0FE;\n",
              "      border: none;\n",
              "      border-radius: 50%;\n",
              "      cursor: pointer;\n",
              "      display: none;\n",
              "      fill: #1967D2;\n",
              "      height: 32px;\n",
              "      padding: 0 0 0 0;\n",
              "      width: 32px;\n",
              "    }\n",
              "\n",
              "    .colab-df-convert:hover {\n",
              "      background-color: #E2EBFA;\n",
              "      box-shadow: 0px 1px 2px rgba(60, 64, 67, 0.3), 0px 1px 3px 1px rgba(60, 64, 67, 0.15);\n",
              "      fill: #174EA6;\n",
              "    }\n",
              "\n",
              "    .colab-df-buttons div {\n",
              "      margin-bottom: 4px;\n",
              "    }\n",
              "\n",
              "    [theme=dark] .colab-df-convert {\n",
              "      background-color: #3B4455;\n",
              "      fill: #D2E3FC;\n",
              "    }\n",
              "\n",
              "    [theme=dark] .colab-df-convert:hover {\n",
              "      background-color: #434B5C;\n",
              "      box-shadow: 0px 1px 3px 1px rgba(0, 0, 0, 0.15);\n",
              "      filter: drop-shadow(0px 1px 2px rgba(0, 0, 0, 0.3));\n",
              "      fill: #FFFFFF;\n",
              "    }\n",
              "  </style>\n",
              "\n",
              "    <script>\n",
              "      const buttonEl =\n",
              "        document.querySelector('#df-d0cdc074-a19d-4ebf-8d32-e699968d02f7 button.colab-df-convert');\n",
              "      buttonEl.style.display =\n",
              "        google.colab.kernel.accessAllowed ? 'block' : 'none';\n",
              "\n",
              "      async function convertToInteractive(key) {\n",
              "        const element = document.querySelector('#df-d0cdc074-a19d-4ebf-8d32-e699968d02f7');\n",
              "        const dataTable =\n",
              "          await google.colab.kernel.invokeFunction('convertToInteractive',\n",
              "                                                    [key], {});\n",
              "        if (!dataTable) return;\n",
              "\n",
              "        const docLinkHtml = 'Like what you see? Visit the ' +\n",
              "          '<a target=\"_blank\" href=https://colab.research.google.com/notebooks/data_table.ipynb>data table notebook</a>'\n",
              "          + ' to learn more about interactive tables.';\n",
              "        element.innerHTML = '';\n",
              "        dataTable['output_type'] = 'display_data';\n",
              "        await google.colab.output.renderOutput(dataTable, element);\n",
              "        const docLink = document.createElement('div');\n",
              "        docLink.innerHTML = docLinkHtml;\n",
              "        element.appendChild(docLink);\n",
              "      }\n",
              "    </script>\n",
              "  </div>\n",
              "\n",
              "    </div>\n",
              "  </div>\n"
            ]
          },
          "metadata": {}
        }
      ]
    },
    {
      "cell_type": "code",
      "source": [
        "# Посмотрим есть ли дубли в unid\n",
        "display(pd.io.sql.read_sql('''\n",
        "SELECT gender, COUNT(unid) AS count_unid\n",
        "FROM clients\n",
        "GROUP BY gender\n",
        "LIMIT 5;\n",
        "''', con = engine))"
      ],
      "metadata": {
        "colab": {
          "base_uri": "https://localhost:8080/",
          "height": 143
        },
        "id": "cpfsirxwobeS",
        "outputId": "058e582d-d48c-4d82-ebd6-bed885e68c0f"
      },
      "execution_count": 21,
      "outputs": [
        {
          "output_type": "display_data",
          "data": {
            "text/plain": [
              "  gender  count_unid\n",
              "0      M          60\n",
              "1      U          94\n",
              "2      F        1241"
            ],
            "text/html": [
              "\n",
              "  <div id=\"df-729982a6-c60f-4100-a843-80f98666a7a9\" class=\"colab-df-container\">\n",
              "    <div>\n",
              "<style scoped>\n",
              "    .dataframe tbody tr th:only-of-type {\n",
              "        vertical-align: middle;\n",
              "    }\n",
              "\n",
              "    .dataframe tbody tr th {\n",
              "        vertical-align: top;\n",
              "    }\n",
              "\n",
              "    .dataframe thead th {\n",
              "        text-align: right;\n",
              "    }\n",
              "</style>\n",
              "<table border=\"1\" class=\"dataframe\">\n",
              "  <thead>\n",
              "    <tr style=\"text-align: right;\">\n",
              "      <th></th>\n",
              "      <th>gender</th>\n",
              "      <th>count_unid</th>\n",
              "    </tr>\n",
              "  </thead>\n",
              "  <tbody>\n",
              "    <tr>\n",
              "      <th>0</th>\n",
              "      <td>M</td>\n",
              "      <td>60</td>\n",
              "    </tr>\n",
              "    <tr>\n",
              "      <th>1</th>\n",
              "      <td>U</td>\n",
              "      <td>94</td>\n",
              "    </tr>\n",
              "    <tr>\n",
              "      <th>2</th>\n",
              "      <td>F</td>\n",
              "      <td>1241</td>\n",
              "    </tr>\n",
              "  </tbody>\n",
              "</table>\n",
              "</div>\n",
              "    <div class=\"colab-df-buttons\">\n",
              "\n",
              "  <div class=\"colab-df-container\">\n",
              "    <button class=\"colab-df-convert\" onclick=\"convertToInteractive('df-729982a6-c60f-4100-a843-80f98666a7a9')\"\n",
              "            title=\"Convert this dataframe to an interactive table.\"\n",
              "            style=\"display:none;\">\n",
              "\n",
              "  <svg xmlns=\"http://www.w3.org/2000/svg\" height=\"24px\" viewBox=\"0 -960 960 960\">\n",
              "    <path d=\"M120-120v-720h720v720H120Zm60-500h600v-160H180v160Zm220 220h160v-160H400v160Zm0 220h160v-160H400v160ZM180-400h160v-160H180v160Zm440 0h160v-160H620v160ZM180-180h160v-160H180v160Zm440 0h160v-160H620v160Z\"/>\n",
              "  </svg>\n",
              "    </button>\n",
              "\n",
              "  <style>\n",
              "    .colab-df-container {\n",
              "      display:flex;\n",
              "      gap: 12px;\n",
              "    }\n",
              "\n",
              "    .colab-df-convert {\n",
              "      background-color: #E8F0FE;\n",
              "      border: none;\n",
              "      border-radius: 50%;\n",
              "      cursor: pointer;\n",
              "      display: none;\n",
              "      fill: #1967D2;\n",
              "      height: 32px;\n",
              "      padding: 0 0 0 0;\n",
              "      width: 32px;\n",
              "    }\n",
              "\n",
              "    .colab-df-convert:hover {\n",
              "      background-color: #E2EBFA;\n",
              "      box-shadow: 0px 1px 2px rgba(60, 64, 67, 0.3), 0px 1px 3px 1px rgba(60, 64, 67, 0.15);\n",
              "      fill: #174EA6;\n",
              "    }\n",
              "\n",
              "    .colab-df-buttons div {\n",
              "      margin-bottom: 4px;\n",
              "    }\n",
              "\n",
              "    [theme=dark] .colab-df-convert {\n",
              "      background-color: #3B4455;\n",
              "      fill: #D2E3FC;\n",
              "    }\n",
              "\n",
              "    [theme=dark] .colab-df-convert:hover {\n",
              "      background-color: #434B5C;\n",
              "      box-shadow: 0px 1px 3px 1px rgba(0, 0, 0, 0.15);\n",
              "      filter: drop-shadow(0px 1px 2px rgba(0, 0, 0, 0.3));\n",
              "      fill: #FFFFFF;\n",
              "    }\n",
              "  </style>\n",
              "\n",
              "    <script>\n",
              "      const buttonEl =\n",
              "        document.querySelector('#df-729982a6-c60f-4100-a843-80f98666a7a9 button.colab-df-convert');\n",
              "      buttonEl.style.display =\n",
              "        google.colab.kernel.accessAllowed ? 'block' : 'none';\n",
              "\n",
              "      async function convertToInteractive(key) {\n",
              "        const element = document.querySelector('#df-729982a6-c60f-4100-a843-80f98666a7a9');\n",
              "        const dataTable =\n",
              "          await google.colab.kernel.invokeFunction('convertToInteractive',\n",
              "                                                    [key], {});\n",
              "        if (!dataTable) return;\n",
              "\n",
              "        const docLinkHtml = 'Like what you see? Visit the ' +\n",
              "          '<a target=\"_blank\" href=https://colab.research.google.com/notebooks/data_table.ipynb>data table notebook</a>'\n",
              "          + ' to learn more about interactive tables.';\n",
              "        element.innerHTML = '';\n",
              "        dataTable['output_type'] = 'display_data';\n",
              "        await google.colab.output.renderOutput(dataTable, element);\n",
              "        const docLink = document.createElement('div');\n",
              "        docLink.innerHTML = docLinkHtml;\n",
              "        element.appendChild(docLink);\n",
              "      }\n",
              "    </script>\n",
              "  </div>\n",
              "\n",
              "\n",
              "<div id=\"df-456d84a6-7a03-47e6-97e4-ce1efd3b325e\">\n",
              "  <button class=\"colab-df-quickchart\" onclick=\"quickchart('df-456d84a6-7a03-47e6-97e4-ce1efd3b325e')\"\n",
              "            title=\"Suggest charts.\"\n",
              "            style=\"display:none;\">\n",
              "\n",
              "<svg xmlns=\"http://www.w3.org/2000/svg\" height=\"24px\"viewBox=\"0 0 24 24\"\n",
              "     width=\"24px\">\n",
              "    <g>\n",
              "        <path d=\"M19 3H5c-1.1 0-2 .9-2 2v14c0 1.1.9 2 2 2h14c1.1 0 2-.9 2-2V5c0-1.1-.9-2-2-2zM9 17H7v-7h2v7zm4 0h-2V7h2v10zm4 0h-2v-4h2v4z\"/>\n",
              "    </g>\n",
              "</svg>\n",
              "  </button>\n",
              "\n",
              "<style>\n",
              "  .colab-df-quickchart {\n",
              "      --bg-color: #E8F0FE;\n",
              "      --fill-color: #1967D2;\n",
              "      --hover-bg-color: #E2EBFA;\n",
              "      --hover-fill-color: #174EA6;\n",
              "      --disabled-fill-color: #AAA;\n",
              "      --disabled-bg-color: #DDD;\n",
              "  }\n",
              "\n",
              "  [theme=dark] .colab-df-quickchart {\n",
              "      --bg-color: #3B4455;\n",
              "      --fill-color: #D2E3FC;\n",
              "      --hover-bg-color: #434B5C;\n",
              "      --hover-fill-color: #FFFFFF;\n",
              "      --disabled-bg-color: #3B4455;\n",
              "      --disabled-fill-color: #666;\n",
              "  }\n",
              "\n",
              "  .colab-df-quickchart {\n",
              "    background-color: var(--bg-color);\n",
              "    border: none;\n",
              "    border-radius: 50%;\n",
              "    cursor: pointer;\n",
              "    display: none;\n",
              "    fill: var(--fill-color);\n",
              "    height: 32px;\n",
              "    padding: 0;\n",
              "    width: 32px;\n",
              "  }\n",
              "\n",
              "  .colab-df-quickchart:hover {\n",
              "    background-color: var(--hover-bg-color);\n",
              "    box-shadow: 0 1px 2px rgba(60, 64, 67, 0.3), 0 1px 3px 1px rgba(60, 64, 67, 0.15);\n",
              "    fill: var(--button-hover-fill-color);\n",
              "  }\n",
              "\n",
              "  .colab-df-quickchart-complete:disabled,\n",
              "  .colab-df-quickchart-complete:disabled:hover {\n",
              "    background-color: var(--disabled-bg-color);\n",
              "    fill: var(--disabled-fill-color);\n",
              "    box-shadow: none;\n",
              "  }\n",
              "\n",
              "  .colab-df-spinner {\n",
              "    border: 2px solid var(--fill-color);\n",
              "    border-color: transparent;\n",
              "    border-bottom-color: var(--fill-color);\n",
              "    animation:\n",
              "      spin 1s steps(1) infinite;\n",
              "  }\n",
              "\n",
              "  @keyframes spin {\n",
              "    0% {\n",
              "      border-color: transparent;\n",
              "      border-bottom-color: var(--fill-color);\n",
              "      border-left-color: var(--fill-color);\n",
              "    }\n",
              "    20% {\n",
              "      border-color: transparent;\n",
              "      border-left-color: var(--fill-color);\n",
              "      border-top-color: var(--fill-color);\n",
              "    }\n",
              "    30% {\n",
              "      border-color: transparent;\n",
              "      border-left-color: var(--fill-color);\n",
              "      border-top-color: var(--fill-color);\n",
              "      border-right-color: var(--fill-color);\n",
              "    }\n",
              "    40% {\n",
              "      border-color: transparent;\n",
              "      border-right-color: var(--fill-color);\n",
              "      border-top-color: var(--fill-color);\n",
              "    }\n",
              "    60% {\n",
              "      border-color: transparent;\n",
              "      border-right-color: var(--fill-color);\n",
              "    }\n",
              "    80% {\n",
              "      border-color: transparent;\n",
              "      border-right-color: var(--fill-color);\n",
              "      border-bottom-color: var(--fill-color);\n",
              "    }\n",
              "    90% {\n",
              "      border-color: transparent;\n",
              "      border-bottom-color: var(--fill-color);\n",
              "    }\n",
              "  }\n",
              "</style>\n",
              "\n",
              "  <script>\n",
              "    async function quickchart(key) {\n",
              "      const quickchartButtonEl =\n",
              "        document.querySelector('#' + key + ' button');\n",
              "      quickchartButtonEl.disabled = true;  // To prevent multiple clicks.\n",
              "      quickchartButtonEl.classList.add('colab-df-spinner');\n",
              "      try {\n",
              "        const charts = await google.colab.kernel.invokeFunction(\n",
              "            'suggestCharts', [key], {});\n",
              "      } catch (error) {\n",
              "        console.error('Error during call to suggestCharts:', error);\n",
              "      }\n",
              "      quickchartButtonEl.classList.remove('colab-df-spinner');\n",
              "      quickchartButtonEl.classList.add('colab-df-quickchart-complete');\n",
              "    }\n",
              "    (() => {\n",
              "      let quickchartButtonEl =\n",
              "        document.querySelector('#df-456d84a6-7a03-47e6-97e4-ce1efd3b325e button');\n",
              "      quickchartButtonEl.style.display =\n",
              "        google.colab.kernel.accessAllowed ? 'block' : 'none';\n",
              "    })();\n",
              "  </script>\n",
              "</div>\n",
              "    </div>\n",
              "  </div>\n"
            ]
          },
          "metadata": {}
        }
      ]
    },
    {
      "cell_type": "markdown",
      "source": [
        "Мужчин в 20 раз меньше"
      ],
      "metadata": {
        "id": "kdDoN3P4qQcI"
      }
    },
    {
      "cell_type": "code",
      "source": [
        "# смотрим на типы столбцов в интересующих таблицах\n",
        "display(pd.io.sql.read_sql('''\n",
        "SELECT *\n",
        "FROM subscriptions\n",
        "LIMIT 5;\n",
        "''', con = engine))"
      ],
      "metadata": {
        "colab": {
          "base_uri": "https://localhost:8080/",
          "height": 206
        },
        "id": "xSWj1zGHn_lB",
        "outputId": "d71f0825-5953-4ab8-ada3-673064e3f473"
      },
      "execution_count": 32,
      "outputs": [
        {
          "output_type": "display_data",
          "data": {
            "text/plain": [
              "                sdate   abonement                  client_id  lessons_left  \\\n",
              "0 2023-09-11 22:25:05   5 занятий  7989580efbcd02e1226addbd9             4   \n",
              "1 2023-09-08 11:26:17   5 занятий  7fc6446ef711b721fbb35fb63             1   \n",
              "2 2023-08-18 00:47:51   5 занятий  c53a3bfcd09fb9d493ca9d511             1   \n",
              "3 2023-08-01 13:04:49  20 занятий  db4af14a318d39c767e19877b            17   \n",
              "4 2023-07-25 19:03:44   5 занятий  47b0ebaec83e50887c1070e32             2   \n",
              "\n",
              "   start_date    end_date                      ctime  \\\n",
              "0  2023-09-11  2023-11-11 2023-09-12 20:35:10.891991   \n",
              "1  2023-09-08  2023-11-08 2023-09-12 20:35:10.891991   \n",
              "2  2023-09-02  2023-11-02 2023-09-12 20:30:07.494995   \n",
              "3  2023-07-31  2024-02-01 2023-09-12 20:30:07.494995   \n",
              "4  2023-07-24  2023-09-23 2023-09-12 20:30:07.494995   \n",
              "\n",
              "                       mtime  \n",
              "0 2023-09-12 20:49:25.133746  \n",
              "1 2023-09-14 18:47:48.976594  \n",
              "2 2023-09-14 18:47:48.976594  \n",
              "3 2023-09-14 18:47:48.976594  \n",
              "4 2023-09-14 18:47:48.976594  "
            ],
            "text/html": [
              "\n",
              "  <div id=\"df-f4c4ea65-2335-41e5-a1bc-abf5f02da260\" class=\"colab-df-container\">\n",
              "    <div>\n",
              "<style scoped>\n",
              "    .dataframe tbody tr th:only-of-type {\n",
              "        vertical-align: middle;\n",
              "    }\n",
              "\n",
              "    .dataframe tbody tr th {\n",
              "        vertical-align: top;\n",
              "    }\n",
              "\n",
              "    .dataframe thead th {\n",
              "        text-align: right;\n",
              "    }\n",
              "</style>\n",
              "<table border=\"1\" class=\"dataframe\">\n",
              "  <thead>\n",
              "    <tr style=\"text-align: right;\">\n",
              "      <th></th>\n",
              "      <th>sdate</th>\n",
              "      <th>abonement</th>\n",
              "      <th>client_id</th>\n",
              "      <th>lessons_left</th>\n",
              "      <th>start_date</th>\n",
              "      <th>end_date</th>\n",
              "      <th>ctime</th>\n",
              "      <th>mtime</th>\n",
              "    </tr>\n",
              "  </thead>\n",
              "  <tbody>\n",
              "    <tr>\n",
              "      <th>0</th>\n",
              "      <td>2023-09-11 22:25:05</td>\n",
              "      <td>5 занятий</td>\n",
              "      <td>7989580efbcd02e1226addbd9</td>\n",
              "      <td>4</td>\n",
              "      <td>2023-09-11</td>\n",
              "      <td>2023-11-11</td>\n",
              "      <td>2023-09-12 20:35:10.891991</td>\n",
              "      <td>2023-09-12 20:49:25.133746</td>\n",
              "    </tr>\n",
              "    <tr>\n",
              "      <th>1</th>\n",
              "      <td>2023-09-08 11:26:17</td>\n",
              "      <td>5 занятий</td>\n",
              "      <td>7fc6446ef711b721fbb35fb63</td>\n",
              "      <td>1</td>\n",
              "      <td>2023-09-08</td>\n",
              "      <td>2023-11-08</td>\n",
              "      <td>2023-09-12 20:35:10.891991</td>\n",
              "      <td>2023-09-14 18:47:48.976594</td>\n",
              "    </tr>\n",
              "    <tr>\n",
              "      <th>2</th>\n",
              "      <td>2023-08-18 00:47:51</td>\n",
              "      <td>5 занятий</td>\n",
              "      <td>c53a3bfcd09fb9d493ca9d511</td>\n",
              "      <td>1</td>\n",
              "      <td>2023-09-02</td>\n",
              "      <td>2023-11-02</td>\n",
              "      <td>2023-09-12 20:30:07.494995</td>\n",
              "      <td>2023-09-14 18:47:48.976594</td>\n",
              "    </tr>\n",
              "    <tr>\n",
              "      <th>3</th>\n",
              "      <td>2023-08-01 13:04:49</td>\n",
              "      <td>20 занятий</td>\n",
              "      <td>db4af14a318d39c767e19877b</td>\n",
              "      <td>17</td>\n",
              "      <td>2023-07-31</td>\n",
              "      <td>2024-02-01</td>\n",
              "      <td>2023-09-12 20:30:07.494995</td>\n",
              "      <td>2023-09-14 18:47:48.976594</td>\n",
              "    </tr>\n",
              "    <tr>\n",
              "      <th>4</th>\n",
              "      <td>2023-07-25 19:03:44</td>\n",
              "      <td>5 занятий</td>\n",
              "      <td>47b0ebaec83e50887c1070e32</td>\n",
              "      <td>2</td>\n",
              "      <td>2023-07-24</td>\n",
              "      <td>2023-09-23</td>\n",
              "      <td>2023-09-12 20:30:07.494995</td>\n",
              "      <td>2023-09-14 18:47:48.976594</td>\n",
              "    </tr>\n",
              "  </tbody>\n",
              "</table>\n",
              "</div>\n",
              "    <div class=\"colab-df-buttons\">\n",
              "\n",
              "  <div class=\"colab-df-container\">\n",
              "    <button class=\"colab-df-convert\" onclick=\"convertToInteractive('df-f4c4ea65-2335-41e5-a1bc-abf5f02da260')\"\n",
              "            title=\"Convert this dataframe to an interactive table.\"\n",
              "            style=\"display:none;\">\n",
              "\n",
              "  <svg xmlns=\"http://www.w3.org/2000/svg\" height=\"24px\" viewBox=\"0 -960 960 960\">\n",
              "    <path d=\"M120-120v-720h720v720H120Zm60-500h600v-160H180v160Zm220 220h160v-160H400v160Zm0 220h160v-160H400v160ZM180-400h160v-160H180v160Zm440 0h160v-160H620v160ZM180-180h160v-160H180v160Zm440 0h160v-160H620v160Z\"/>\n",
              "  </svg>\n",
              "    </button>\n",
              "\n",
              "  <style>\n",
              "    .colab-df-container {\n",
              "      display:flex;\n",
              "      gap: 12px;\n",
              "    }\n",
              "\n",
              "    .colab-df-convert {\n",
              "      background-color: #E8F0FE;\n",
              "      border: none;\n",
              "      border-radius: 50%;\n",
              "      cursor: pointer;\n",
              "      display: none;\n",
              "      fill: #1967D2;\n",
              "      height: 32px;\n",
              "      padding: 0 0 0 0;\n",
              "      width: 32px;\n",
              "    }\n",
              "\n",
              "    .colab-df-convert:hover {\n",
              "      background-color: #E2EBFA;\n",
              "      box-shadow: 0px 1px 2px rgba(60, 64, 67, 0.3), 0px 1px 3px 1px rgba(60, 64, 67, 0.15);\n",
              "      fill: #174EA6;\n",
              "    }\n",
              "\n",
              "    .colab-df-buttons div {\n",
              "      margin-bottom: 4px;\n",
              "    }\n",
              "\n",
              "    [theme=dark] .colab-df-convert {\n",
              "      background-color: #3B4455;\n",
              "      fill: #D2E3FC;\n",
              "    }\n",
              "\n",
              "    [theme=dark] .colab-df-convert:hover {\n",
              "      background-color: #434B5C;\n",
              "      box-shadow: 0px 1px 3px 1px rgba(0, 0, 0, 0.15);\n",
              "      filter: drop-shadow(0px 1px 2px rgba(0, 0, 0, 0.3));\n",
              "      fill: #FFFFFF;\n",
              "    }\n",
              "  </style>\n",
              "\n",
              "    <script>\n",
              "      const buttonEl =\n",
              "        document.querySelector('#df-f4c4ea65-2335-41e5-a1bc-abf5f02da260 button.colab-df-convert');\n",
              "      buttonEl.style.display =\n",
              "        google.colab.kernel.accessAllowed ? 'block' : 'none';\n",
              "\n",
              "      async function convertToInteractive(key) {\n",
              "        const element = document.querySelector('#df-f4c4ea65-2335-41e5-a1bc-abf5f02da260');\n",
              "        const dataTable =\n",
              "          await google.colab.kernel.invokeFunction('convertToInteractive',\n",
              "                                                    [key], {});\n",
              "        if (!dataTable) return;\n",
              "\n",
              "        const docLinkHtml = 'Like what you see? Visit the ' +\n",
              "          '<a target=\"_blank\" href=https://colab.research.google.com/notebooks/data_table.ipynb>data table notebook</a>'\n",
              "          + ' to learn more about interactive tables.';\n",
              "        element.innerHTML = '';\n",
              "        dataTable['output_type'] = 'display_data';\n",
              "        await google.colab.output.renderOutput(dataTable, element);\n",
              "        const docLink = document.createElement('div');\n",
              "        docLink.innerHTML = docLinkHtml;\n",
              "        element.appendChild(docLink);\n",
              "      }\n",
              "    </script>\n",
              "  </div>\n",
              "\n",
              "\n",
              "<div id=\"df-6d91bdc2-0824-40b7-b7ee-d86b1338d08b\">\n",
              "  <button class=\"colab-df-quickchart\" onclick=\"quickchart('df-6d91bdc2-0824-40b7-b7ee-d86b1338d08b')\"\n",
              "            title=\"Suggest charts.\"\n",
              "            style=\"display:none;\">\n",
              "\n",
              "<svg xmlns=\"http://www.w3.org/2000/svg\" height=\"24px\"viewBox=\"0 0 24 24\"\n",
              "     width=\"24px\">\n",
              "    <g>\n",
              "        <path d=\"M19 3H5c-1.1 0-2 .9-2 2v14c0 1.1.9 2 2 2h14c1.1 0 2-.9 2-2V5c0-1.1-.9-2-2-2zM9 17H7v-7h2v7zm4 0h-2V7h2v10zm4 0h-2v-4h2v4z\"/>\n",
              "    </g>\n",
              "</svg>\n",
              "  </button>\n",
              "\n",
              "<style>\n",
              "  .colab-df-quickchart {\n",
              "      --bg-color: #E8F0FE;\n",
              "      --fill-color: #1967D2;\n",
              "      --hover-bg-color: #E2EBFA;\n",
              "      --hover-fill-color: #174EA6;\n",
              "      --disabled-fill-color: #AAA;\n",
              "      --disabled-bg-color: #DDD;\n",
              "  }\n",
              "\n",
              "  [theme=dark] .colab-df-quickchart {\n",
              "      --bg-color: #3B4455;\n",
              "      --fill-color: #D2E3FC;\n",
              "      --hover-bg-color: #434B5C;\n",
              "      --hover-fill-color: #FFFFFF;\n",
              "      --disabled-bg-color: #3B4455;\n",
              "      --disabled-fill-color: #666;\n",
              "  }\n",
              "\n",
              "  .colab-df-quickchart {\n",
              "    background-color: var(--bg-color);\n",
              "    border: none;\n",
              "    border-radius: 50%;\n",
              "    cursor: pointer;\n",
              "    display: none;\n",
              "    fill: var(--fill-color);\n",
              "    height: 32px;\n",
              "    padding: 0;\n",
              "    width: 32px;\n",
              "  }\n",
              "\n",
              "  .colab-df-quickchart:hover {\n",
              "    background-color: var(--hover-bg-color);\n",
              "    box-shadow: 0 1px 2px rgba(60, 64, 67, 0.3), 0 1px 3px 1px rgba(60, 64, 67, 0.15);\n",
              "    fill: var(--button-hover-fill-color);\n",
              "  }\n",
              "\n",
              "  .colab-df-quickchart-complete:disabled,\n",
              "  .colab-df-quickchart-complete:disabled:hover {\n",
              "    background-color: var(--disabled-bg-color);\n",
              "    fill: var(--disabled-fill-color);\n",
              "    box-shadow: none;\n",
              "  }\n",
              "\n",
              "  .colab-df-spinner {\n",
              "    border: 2px solid var(--fill-color);\n",
              "    border-color: transparent;\n",
              "    border-bottom-color: var(--fill-color);\n",
              "    animation:\n",
              "      spin 1s steps(1) infinite;\n",
              "  }\n",
              "\n",
              "  @keyframes spin {\n",
              "    0% {\n",
              "      border-color: transparent;\n",
              "      border-bottom-color: var(--fill-color);\n",
              "      border-left-color: var(--fill-color);\n",
              "    }\n",
              "    20% {\n",
              "      border-color: transparent;\n",
              "      border-left-color: var(--fill-color);\n",
              "      border-top-color: var(--fill-color);\n",
              "    }\n",
              "    30% {\n",
              "      border-color: transparent;\n",
              "      border-left-color: var(--fill-color);\n",
              "      border-top-color: var(--fill-color);\n",
              "      border-right-color: var(--fill-color);\n",
              "    }\n",
              "    40% {\n",
              "      border-color: transparent;\n",
              "      border-right-color: var(--fill-color);\n",
              "      border-top-color: var(--fill-color);\n",
              "    }\n",
              "    60% {\n",
              "      border-color: transparent;\n",
              "      border-right-color: var(--fill-color);\n",
              "    }\n",
              "    80% {\n",
              "      border-color: transparent;\n",
              "      border-right-color: var(--fill-color);\n",
              "      border-bottom-color: var(--fill-color);\n",
              "    }\n",
              "    90% {\n",
              "      border-color: transparent;\n",
              "      border-bottom-color: var(--fill-color);\n",
              "    }\n",
              "  }\n",
              "</style>\n",
              "\n",
              "  <script>\n",
              "    async function quickchart(key) {\n",
              "      const quickchartButtonEl =\n",
              "        document.querySelector('#' + key + ' button');\n",
              "      quickchartButtonEl.disabled = true;  // To prevent multiple clicks.\n",
              "      quickchartButtonEl.classList.add('colab-df-spinner');\n",
              "      try {\n",
              "        const charts = await google.colab.kernel.invokeFunction(\n",
              "            'suggestCharts', [key], {});\n",
              "      } catch (error) {\n",
              "        console.error('Error during call to suggestCharts:', error);\n",
              "      }\n",
              "      quickchartButtonEl.classList.remove('colab-df-spinner');\n",
              "      quickchartButtonEl.classList.add('colab-df-quickchart-complete');\n",
              "    }\n",
              "    (() => {\n",
              "      let quickchartButtonEl =\n",
              "        document.querySelector('#df-6d91bdc2-0824-40b7-b7ee-d86b1338d08b button');\n",
              "      quickchartButtonEl.style.display =\n",
              "        google.colab.kernel.accessAllowed ? 'block' : 'none';\n",
              "    })();\n",
              "  </script>\n",
              "</div>\n",
              "    </div>\n",
              "  </div>\n"
            ]
          },
          "metadata": {}
        }
      ]
    },
    {
      "cell_type": "markdown",
      "source": [
        "?_что за столбцы ctime \tmtime? (у Дмитрий спросил)"
      ],
      "metadata": {
        "id": "mYXIzRxlxEQV"
      }
    },
    {
      "cell_type": "code",
      "source": [
        "# Посмотрим есть ли значения null:\n",
        "display(pd.io.sql.read_sql('''\n",
        "SELECT COUNT(*) FILTER (WHERE sdate IS NULL) AS row_sdate_null\n",
        "  , COUNT(*) FILTER (WHERE abonement IS NULL) AS row_abonement_null\n",
        "  , COUNT(*) FILTER (WHERE client_id IS NULL) AS row_client_id_null\n",
        "  , COUNT(*) FILTER (WHERE lessons_left IS NULL) AS row_lessons_left_null\n",
        "  , COUNT(*) FILTER (WHERE start_date IS NULL) AS row_start_date_null\n",
        "  , COUNT(*) FILTER (WHERE end_date IS NULL) AS row_end_date_null\n",
        "  , COUNT(*) FILTER (WHERE ctime IS NULL) AS row_ctime_null\n",
        "  , COUNT(*) FILTER (WHERE mtime IS NULL) AS row_mtime_null\n",
        "FROM subscriptions\n",
        "LIMIT 5;\n",
        "''', con = engine))"
      ],
      "metadata": {
        "colab": {
          "base_uri": "https://localhost:8080/",
          "height": 81
        },
        "outputId": "70937db2-b391-44da-d5af-8eb01acaa43d",
        "id": "XwNobpHQrmBo"
      },
      "execution_count": 24,
      "outputs": [
        {
          "output_type": "display_data",
          "data": {
            "text/plain": [
              "   row_sdate_null  row_abonement_null  row_client_id_null  \\\n",
              "0               0                   2                   0   \n",
              "\n",
              "   row_lessons_left_null  row_start_date_null  row_end_date_null  \\\n",
              "0                      0                    0                  0   \n",
              "\n",
              "   row_ctime_null  row_mtime_null  \n",
              "0               0               0  "
            ],
            "text/html": [
              "\n",
              "  <div id=\"df-33261d77-a1ab-48ce-9318-ad5c6b0dc625\" class=\"colab-df-container\">\n",
              "    <div>\n",
              "<style scoped>\n",
              "    .dataframe tbody tr th:only-of-type {\n",
              "        vertical-align: middle;\n",
              "    }\n",
              "\n",
              "    .dataframe tbody tr th {\n",
              "        vertical-align: top;\n",
              "    }\n",
              "\n",
              "    .dataframe thead th {\n",
              "        text-align: right;\n",
              "    }\n",
              "</style>\n",
              "<table border=\"1\" class=\"dataframe\">\n",
              "  <thead>\n",
              "    <tr style=\"text-align: right;\">\n",
              "      <th></th>\n",
              "      <th>row_sdate_null</th>\n",
              "      <th>row_abonement_null</th>\n",
              "      <th>row_client_id_null</th>\n",
              "      <th>row_lessons_left_null</th>\n",
              "      <th>row_start_date_null</th>\n",
              "      <th>row_end_date_null</th>\n",
              "      <th>row_ctime_null</th>\n",
              "      <th>row_mtime_null</th>\n",
              "    </tr>\n",
              "  </thead>\n",
              "  <tbody>\n",
              "    <tr>\n",
              "      <th>0</th>\n",
              "      <td>0</td>\n",
              "      <td>2</td>\n",
              "      <td>0</td>\n",
              "      <td>0</td>\n",
              "      <td>0</td>\n",
              "      <td>0</td>\n",
              "      <td>0</td>\n",
              "      <td>0</td>\n",
              "    </tr>\n",
              "  </tbody>\n",
              "</table>\n",
              "</div>\n",
              "    <div class=\"colab-df-buttons\">\n",
              "\n",
              "  <div class=\"colab-df-container\">\n",
              "    <button class=\"colab-df-convert\" onclick=\"convertToInteractive('df-33261d77-a1ab-48ce-9318-ad5c6b0dc625')\"\n",
              "            title=\"Convert this dataframe to an interactive table.\"\n",
              "            style=\"display:none;\">\n",
              "\n",
              "  <svg xmlns=\"http://www.w3.org/2000/svg\" height=\"24px\" viewBox=\"0 -960 960 960\">\n",
              "    <path d=\"M120-120v-720h720v720H120Zm60-500h600v-160H180v160Zm220 220h160v-160H400v160Zm0 220h160v-160H400v160ZM180-400h160v-160H180v160Zm440 0h160v-160H620v160ZM180-180h160v-160H180v160Zm440 0h160v-160H620v160Z\"/>\n",
              "  </svg>\n",
              "    </button>\n",
              "\n",
              "  <style>\n",
              "    .colab-df-container {\n",
              "      display:flex;\n",
              "      gap: 12px;\n",
              "    }\n",
              "\n",
              "    .colab-df-convert {\n",
              "      background-color: #E8F0FE;\n",
              "      border: none;\n",
              "      border-radius: 50%;\n",
              "      cursor: pointer;\n",
              "      display: none;\n",
              "      fill: #1967D2;\n",
              "      height: 32px;\n",
              "      padding: 0 0 0 0;\n",
              "      width: 32px;\n",
              "    }\n",
              "\n",
              "    .colab-df-convert:hover {\n",
              "      background-color: #E2EBFA;\n",
              "      box-shadow: 0px 1px 2px rgba(60, 64, 67, 0.3), 0px 1px 3px 1px rgba(60, 64, 67, 0.15);\n",
              "      fill: #174EA6;\n",
              "    }\n",
              "\n",
              "    .colab-df-buttons div {\n",
              "      margin-bottom: 4px;\n",
              "    }\n",
              "\n",
              "    [theme=dark] .colab-df-convert {\n",
              "      background-color: #3B4455;\n",
              "      fill: #D2E3FC;\n",
              "    }\n",
              "\n",
              "    [theme=dark] .colab-df-convert:hover {\n",
              "      background-color: #434B5C;\n",
              "      box-shadow: 0px 1px 3px 1px rgba(0, 0, 0, 0.15);\n",
              "      filter: drop-shadow(0px 1px 2px rgba(0, 0, 0, 0.3));\n",
              "      fill: #FFFFFF;\n",
              "    }\n",
              "  </style>\n",
              "\n",
              "    <script>\n",
              "      const buttonEl =\n",
              "        document.querySelector('#df-33261d77-a1ab-48ce-9318-ad5c6b0dc625 button.colab-df-convert');\n",
              "      buttonEl.style.display =\n",
              "        google.colab.kernel.accessAllowed ? 'block' : 'none';\n",
              "\n",
              "      async function convertToInteractive(key) {\n",
              "        const element = document.querySelector('#df-33261d77-a1ab-48ce-9318-ad5c6b0dc625');\n",
              "        const dataTable =\n",
              "          await google.colab.kernel.invokeFunction('convertToInteractive',\n",
              "                                                    [key], {});\n",
              "        if (!dataTable) return;\n",
              "\n",
              "        const docLinkHtml = 'Like what you see? Visit the ' +\n",
              "          '<a target=\"_blank\" href=https://colab.research.google.com/notebooks/data_table.ipynb>data table notebook</a>'\n",
              "          + ' to learn more about interactive tables.';\n",
              "        element.innerHTML = '';\n",
              "        dataTable['output_type'] = 'display_data';\n",
              "        await google.colab.output.renderOutput(dataTable, element);\n",
              "        const docLink = document.createElement('div');\n",
              "        docLink.innerHTML = docLinkHtml;\n",
              "        element.appendChild(docLink);\n",
              "      }\n",
              "    </script>\n",
              "  </div>\n",
              "\n",
              "    </div>\n",
              "  </div>\n"
            ]
          },
          "metadata": {}
        }
      ]
    },
    {
      "cell_type": "markdown",
      "source": [
        "!_Есть пропущенные столбцы"
      ],
      "metadata": {
        "id": "yKp6RTDGsYoq"
      }
    },
    {
      "cell_type": "code",
      "source": [
        "# Посмотрим сколько всего абонементов\n",
        "display(pd.io.sql.read_sql('''\n",
        "SELECT COUNT(*) AS count_abonement\n",
        "FROM subscriptions\n",
        "LIMIT 5;\n",
        "''', con = engine))"
      ],
      "metadata": {
        "id": "3r_V_vK1vHRo",
        "outputId": "ebf69404-9dc9-45a2-c404-2bad159920d4",
        "colab": {
          "base_uri": "https://localhost:8080/",
          "height": 81
        }
      },
      "execution_count": 27,
      "outputs": [
        {
          "output_type": "display_data",
          "data": {
            "text/plain": [
              "   count_abonement\n",
              "0              785"
            ],
            "text/html": [
              "\n",
              "  <div id=\"df-2d2bc6a8-bf4d-4325-98a9-609c93ed5d5a\" class=\"colab-df-container\">\n",
              "    <div>\n",
              "<style scoped>\n",
              "    .dataframe tbody tr th:only-of-type {\n",
              "        vertical-align: middle;\n",
              "    }\n",
              "\n",
              "    .dataframe tbody tr th {\n",
              "        vertical-align: top;\n",
              "    }\n",
              "\n",
              "    .dataframe thead th {\n",
              "        text-align: right;\n",
              "    }\n",
              "</style>\n",
              "<table border=\"1\" class=\"dataframe\">\n",
              "  <thead>\n",
              "    <tr style=\"text-align: right;\">\n",
              "      <th></th>\n",
              "      <th>count_abonement</th>\n",
              "    </tr>\n",
              "  </thead>\n",
              "  <tbody>\n",
              "    <tr>\n",
              "      <th>0</th>\n",
              "      <td>785</td>\n",
              "    </tr>\n",
              "  </tbody>\n",
              "</table>\n",
              "</div>\n",
              "    <div class=\"colab-df-buttons\">\n",
              "\n",
              "  <div class=\"colab-df-container\">\n",
              "    <button class=\"colab-df-convert\" onclick=\"convertToInteractive('df-2d2bc6a8-bf4d-4325-98a9-609c93ed5d5a')\"\n",
              "            title=\"Convert this dataframe to an interactive table.\"\n",
              "            style=\"display:none;\">\n",
              "\n",
              "  <svg xmlns=\"http://www.w3.org/2000/svg\" height=\"24px\" viewBox=\"0 -960 960 960\">\n",
              "    <path d=\"M120-120v-720h720v720H120Zm60-500h600v-160H180v160Zm220 220h160v-160H400v160Zm0 220h160v-160H400v160ZM180-400h160v-160H180v160Zm440 0h160v-160H620v160ZM180-180h160v-160H180v160Zm440 0h160v-160H620v160Z\"/>\n",
              "  </svg>\n",
              "    </button>\n",
              "\n",
              "  <style>\n",
              "    .colab-df-container {\n",
              "      display:flex;\n",
              "      gap: 12px;\n",
              "    }\n",
              "\n",
              "    .colab-df-convert {\n",
              "      background-color: #E8F0FE;\n",
              "      border: none;\n",
              "      border-radius: 50%;\n",
              "      cursor: pointer;\n",
              "      display: none;\n",
              "      fill: #1967D2;\n",
              "      height: 32px;\n",
              "      padding: 0 0 0 0;\n",
              "      width: 32px;\n",
              "    }\n",
              "\n",
              "    .colab-df-convert:hover {\n",
              "      background-color: #E2EBFA;\n",
              "      box-shadow: 0px 1px 2px rgba(60, 64, 67, 0.3), 0px 1px 3px 1px rgba(60, 64, 67, 0.15);\n",
              "      fill: #174EA6;\n",
              "    }\n",
              "\n",
              "    .colab-df-buttons div {\n",
              "      margin-bottom: 4px;\n",
              "    }\n",
              "\n",
              "    [theme=dark] .colab-df-convert {\n",
              "      background-color: #3B4455;\n",
              "      fill: #D2E3FC;\n",
              "    }\n",
              "\n",
              "    [theme=dark] .colab-df-convert:hover {\n",
              "      background-color: #434B5C;\n",
              "      box-shadow: 0px 1px 3px 1px rgba(0, 0, 0, 0.15);\n",
              "      filter: drop-shadow(0px 1px 2px rgba(0, 0, 0, 0.3));\n",
              "      fill: #FFFFFF;\n",
              "    }\n",
              "  </style>\n",
              "\n",
              "    <script>\n",
              "      const buttonEl =\n",
              "        document.querySelector('#df-2d2bc6a8-bf4d-4325-98a9-609c93ed5d5a button.colab-df-convert');\n",
              "      buttonEl.style.display =\n",
              "        google.colab.kernel.accessAllowed ? 'block' : 'none';\n",
              "\n",
              "      async function convertToInteractive(key) {\n",
              "        const element = document.querySelector('#df-2d2bc6a8-bf4d-4325-98a9-609c93ed5d5a');\n",
              "        const dataTable =\n",
              "          await google.colab.kernel.invokeFunction('convertToInteractive',\n",
              "                                                    [key], {});\n",
              "        if (!dataTable) return;\n",
              "\n",
              "        const docLinkHtml = 'Like what you see? Visit the ' +\n",
              "          '<a target=\"_blank\" href=https://colab.research.google.com/notebooks/data_table.ipynb>data table notebook</a>'\n",
              "          + ' to learn more about interactive tables.';\n",
              "        element.innerHTML = '';\n",
              "        dataTable['output_type'] = 'display_data';\n",
              "        await google.colab.output.renderOutput(dataTable, element);\n",
              "        const docLink = document.createElement('div');\n",
              "        docLink.innerHTML = docLinkHtml;\n",
              "        element.appendChild(docLink);\n",
              "      }\n",
              "    </script>\n",
              "  </div>\n",
              "\n",
              "    </div>\n",
              "  </div>\n"
            ]
          },
          "metadata": {}
        }
      ]
    },
    {
      "cell_type": "code",
      "source": [
        "# Посмотрим сколько клиентов покупают абонементы\n",
        "display(pd.io.sql.read_sql('''\n",
        "SELECT COUNT(DISTINCT client_id) AS unique_client_id\n",
        "FROM subscriptions\n",
        "LIMIT 5;\n",
        "''', con = engine))"
      ],
      "metadata": {
        "outputId": "d9721c46-75bb-4b57-f956-dfd1a29444be",
        "colab": {
          "base_uri": "https://localhost:8080/",
          "height": 81
        },
        "id": "NrCDpDHZrmBq"
      },
      "execution_count": 30,
      "outputs": [
        {
          "output_type": "display_data",
          "data": {
            "text/plain": [
              "   unique_client_id\n",
              "0               363"
            ],
            "text/html": [
              "\n",
              "  <div id=\"df-cd5824d7-0ab2-4925-b732-4602615687fb\" class=\"colab-df-container\">\n",
              "    <div>\n",
              "<style scoped>\n",
              "    .dataframe tbody tr th:only-of-type {\n",
              "        vertical-align: middle;\n",
              "    }\n",
              "\n",
              "    .dataframe tbody tr th {\n",
              "        vertical-align: top;\n",
              "    }\n",
              "\n",
              "    .dataframe thead th {\n",
              "        text-align: right;\n",
              "    }\n",
              "</style>\n",
              "<table border=\"1\" class=\"dataframe\">\n",
              "  <thead>\n",
              "    <tr style=\"text-align: right;\">\n",
              "      <th></th>\n",
              "      <th>unique_client_id</th>\n",
              "    </tr>\n",
              "  </thead>\n",
              "  <tbody>\n",
              "    <tr>\n",
              "      <th>0</th>\n",
              "      <td>363</td>\n",
              "    </tr>\n",
              "  </tbody>\n",
              "</table>\n",
              "</div>\n",
              "    <div class=\"colab-df-buttons\">\n",
              "\n",
              "  <div class=\"colab-df-container\">\n",
              "    <button class=\"colab-df-convert\" onclick=\"convertToInteractive('df-cd5824d7-0ab2-4925-b732-4602615687fb')\"\n",
              "            title=\"Convert this dataframe to an interactive table.\"\n",
              "            style=\"display:none;\">\n",
              "\n",
              "  <svg xmlns=\"http://www.w3.org/2000/svg\" height=\"24px\" viewBox=\"0 -960 960 960\">\n",
              "    <path d=\"M120-120v-720h720v720H120Zm60-500h600v-160H180v160Zm220 220h160v-160H400v160Zm0 220h160v-160H400v160ZM180-400h160v-160H180v160Zm440 0h160v-160H620v160ZM180-180h160v-160H180v160Zm440 0h160v-160H620v160Z\"/>\n",
              "  </svg>\n",
              "    </button>\n",
              "\n",
              "  <style>\n",
              "    .colab-df-container {\n",
              "      display:flex;\n",
              "      gap: 12px;\n",
              "    }\n",
              "\n",
              "    .colab-df-convert {\n",
              "      background-color: #E8F0FE;\n",
              "      border: none;\n",
              "      border-radius: 50%;\n",
              "      cursor: pointer;\n",
              "      display: none;\n",
              "      fill: #1967D2;\n",
              "      height: 32px;\n",
              "      padding: 0 0 0 0;\n",
              "      width: 32px;\n",
              "    }\n",
              "\n",
              "    .colab-df-convert:hover {\n",
              "      background-color: #E2EBFA;\n",
              "      box-shadow: 0px 1px 2px rgba(60, 64, 67, 0.3), 0px 1px 3px 1px rgba(60, 64, 67, 0.15);\n",
              "      fill: #174EA6;\n",
              "    }\n",
              "\n",
              "    .colab-df-buttons div {\n",
              "      margin-bottom: 4px;\n",
              "    }\n",
              "\n",
              "    [theme=dark] .colab-df-convert {\n",
              "      background-color: #3B4455;\n",
              "      fill: #D2E3FC;\n",
              "    }\n",
              "\n",
              "    [theme=dark] .colab-df-convert:hover {\n",
              "      background-color: #434B5C;\n",
              "      box-shadow: 0px 1px 3px 1px rgba(0, 0, 0, 0.15);\n",
              "      filter: drop-shadow(0px 1px 2px rgba(0, 0, 0, 0.3));\n",
              "      fill: #FFFFFF;\n",
              "    }\n",
              "  </style>\n",
              "\n",
              "    <script>\n",
              "      const buttonEl =\n",
              "        document.querySelector('#df-cd5824d7-0ab2-4925-b732-4602615687fb button.colab-df-convert');\n",
              "      buttonEl.style.display =\n",
              "        google.colab.kernel.accessAllowed ? 'block' : 'none';\n",
              "\n",
              "      async function convertToInteractive(key) {\n",
              "        const element = document.querySelector('#df-cd5824d7-0ab2-4925-b732-4602615687fb');\n",
              "        const dataTable =\n",
              "          await google.colab.kernel.invokeFunction('convertToInteractive',\n",
              "                                                    [key], {});\n",
              "        if (!dataTable) return;\n",
              "\n",
              "        const docLinkHtml = 'Like what you see? Visit the ' +\n",
              "          '<a target=\"_blank\" href=https://colab.research.google.com/notebooks/data_table.ipynb>data table notebook</a>'\n",
              "          + ' to learn more about interactive tables.';\n",
              "        element.innerHTML = '';\n",
              "        dataTable['output_type'] = 'display_data';\n",
              "        await google.colab.output.renderOutput(dataTable, element);\n",
              "        const docLink = document.createElement('div');\n",
              "        docLink.innerHTML = docLinkHtml;\n",
              "        element.appendChild(docLink);\n",
              "      }\n",
              "    </script>\n",
              "  </div>\n",
              "\n",
              "    </div>\n",
              "  </div>\n"
            ]
          },
          "metadata": {}
        }
      ]
    },
    {
      "cell_type": "code",
      "source": [
        "# Посмотрим client_id - в таблице с записями есть типа nda (по итогу просмотра тут таких нет)\n",
        "display(pd.io.sql.read_sql('''\n",
        "SELECT DISTINCT client_id\n",
        "FROM subscriptions\n",
        "ORDER BY client_id\n",
        "LIMIT 5;\n",
        "''', con = engine))"
      ],
      "metadata": {
        "id": "gXzybiphy3z2",
        "outputId": "d7c5e7a4-5c3b-401e-8ca5-12fbf183037c",
        "colab": {
          "base_uri": "https://localhost:8080/",
          "height": 206
        }
      },
      "execution_count": 43,
      "outputs": [
        {
          "output_type": "display_data",
          "data": {
            "text/plain": [
              "                   client_id\n",
              "0  01a8461e27ceb60e60c8bd52a\n",
              "1  0269d3117391d8e9ffd14277d\n",
              "2  02c09ed3b957487d11cfc319e\n",
              "3  02d848efe2926e48d44cc359c\n",
              "4  02ee5d0a76790fc795e3f498e"
            ],
            "text/html": [
              "\n",
              "  <div id=\"df-87e47aac-37d4-4b92-87c0-25d79b80b432\" class=\"colab-df-container\">\n",
              "    <div>\n",
              "<style scoped>\n",
              "    .dataframe tbody tr th:only-of-type {\n",
              "        vertical-align: middle;\n",
              "    }\n",
              "\n",
              "    .dataframe tbody tr th {\n",
              "        vertical-align: top;\n",
              "    }\n",
              "\n",
              "    .dataframe thead th {\n",
              "        text-align: right;\n",
              "    }\n",
              "</style>\n",
              "<table border=\"1\" class=\"dataframe\">\n",
              "  <thead>\n",
              "    <tr style=\"text-align: right;\">\n",
              "      <th></th>\n",
              "      <th>client_id</th>\n",
              "    </tr>\n",
              "  </thead>\n",
              "  <tbody>\n",
              "    <tr>\n",
              "      <th>0</th>\n",
              "      <td>01a8461e27ceb60e60c8bd52a</td>\n",
              "    </tr>\n",
              "    <tr>\n",
              "      <th>1</th>\n",
              "      <td>0269d3117391d8e9ffd14277d</td>\n",
              "    </tr>\n",
              "    <tr>\n",
              "      <th>2</th>\n",
              "      <td>02c09ed3b957487d11cfc319e</td>\n",
              "    </tr>\n",
              "    <tr>\n",
              "      <th>3</th>\n",
              "      <td>02d848efe2926e48d44cc359c</td>\n",
              "    </tr>\n",
              "    <tr>\n",
              "      <th>4</th>\n",
              "      <td>02ee5d0a76790fc795e3f498e</td>\n",
              "    </tr>\n",
              "  </tbody>\n",
              "</table>\n",
              "</div>\n",
              "    <div class=\"colab-df-buttons\">\n",
              "\n",
              "  <div class=\"colab-df-container\">\n",
              "    <button class=\"colab-df-convert\" onclick=\"convertToInteractive('df-87e47aac-37d4-4b92-87c0-25d79b80b432')\"\n",
              "            title=\"Convert this dataframe to an interactive table.\"\n",
              "            style=\"display:none;\">\n",
              "\n",
              "  <svg xmlns=\"http://www.w3.org/2000/svg\" height=\"24px\" viewBox=\"0 -960 960 960\">\n",
              "    <path d=\"M120-120v-720h720v720H120Zm60-500h600v-160H180v160Zm220 220h160v-160H400v160Zm0 220h160v-160H400v160ZM180-400h160v-160H180v160Zm440 0h160v-160H620v160ZM180-180h160v-160H180v160Zm440 0h160v-160H620v160Z\"/>\n",
              "  </svg>\n",
              "    </button>\n",
              "\n",
              "  <style>\n",
              "    .colab-df-container {\n",
              "      display:flex;\n",
              "      gap: 12px;\n",
              "    }\n",
              "\n",
              "    .colab-df-convert {\n",
              "      background-color: #E8F0FE;\n",
              "      border: none;\n",
              "      border-radius: 50%;\n",
              "      cursor: pointer;\n",
              "      display: none;\n",
              "      fill: #1967D2;\n",
              "      height: 32px;\n",
              "      padding: 0 0 0 0;\n",
              "      width: 32px;\n",
              "    }\n",
              "\n",
              "    .colab-df-convert:hover {\n",
              "      background-color: #E2EBFA;\n",
              "      box-shadow: 0px 1px 2px rgba(60, 64, 67, 0.3), 0px 1px 3px 1px rgba(60, 64, 67, 0.15);\n",
              "      fill: #174EA6;\n",
              "    }\n",
              "\n",
              "    .colab-df-buttons div {\n",
              "      margin-bottom: 4px;\n",
              "    }\n",
              "\n",
              "    [theme=dark] .colab-df-convert {\n",
              "      background-color: #3B4455;\n",
              "      fill: #D2E3FC;\n",
              "    }\n",
              "\n",
              "    [theme=dark] .colab-df-convert:hover {\n",
              "      background-color: #434B5C;\n",
              "      box-shadow: 0px 1px 3px 1px rgba(0, 0, 0, 0.15);\n",
              "      filter: drop-shadow(0px 1px 2px rgba(0, 0, 0, 0.3));\n",
              "      fill: #FFFFFF;\n",
              "    }\n",
              "  </style>\n",
              "\n",
              "    <script>\n",
              "      const buttonEl =\n",
              "        document.querySelector('#df-87e47aac-37d4-4b92-87c0-25d79b80b432 button.colab-df-convert');\n",
              "      buttonEl.style.display =\n",
              "        google.colab.kernel.accessAllowed ? 'block' : 'none';\n",
              "\n",
              "      async function convertToInteractive(key) {\n",
              "        const element = document.querySelector('#df-87e47aac-37d4-4b92-87c0-25d79b80b432');\n",
              "        const dataTable =\n",
              "          await google.colab.kernel.invokeFunction('convertToInteractive',\n",
              "                                                    [key], {});\n",
              "        if (!dataTable) return;\n",
              "\n",
              "        const docLinkHtml = 'Like what you see? Visit the ' +\n",
              "          '<a target=\"_blank\" href=https://colab.research.google.com/notebooks/data_table.ipynb>data table notebook</a>'\n",
              "          + ' to learn more about interactive tables.';\n",
              "        element.innerHTML = '';\n",
              "        dataTable['output_type'] = 'display_data';\n",
              "        await google.colab.output.renderOutput(dataTable, element);\n",
              "        const docLink = document.createElement('div');\n",
              "        docLink.innerHTML = docLinkHtml;\n",
              "        element.appendChild(docLink);\n",
              "      }\n",
              "    </script>\n",
              "  </div>\n",
              "\n",
              "\n",
              "<div id=\"df-dc1cd00e-5d50-4345-b012-d6612868e4f9\">\n",
              "  <button class=\"colab-df-quickchart\" onclick=\"quickchart('df-dc1cd00e-5d50-4345-b012-d6612868e4f9')\"\n",
              "            title=\"Suggest charts.\"\n",
              "            style=\"display:none;\">\n",
              "\n",
              "<svg xmlns=\"http://www.w3.org/2000/svg\" height=\"24px\"viewBox=\"0 0 24 24\"\n",
              "     width=\"24px\">\n",
              "    <g>\n",
              "        <path d=\"M19 3H5c-1.1 0-2 .9-2 2v14c0 1.1.9 2 2 2h14c1.1 0 2-.9 2-2V5c0-1.1-.9-2-2-2zM9 17H7v-7h2v7zm4 0h-2V7h2v10zm4 0h-2v-4h2v4z\"/>\n",
              "    </g>\n",
              "</svg>\n",
              "  </button>\n",
              "\n",
              "<style>\n",
              "  .colab-df-quickchart {\n",
              "      --bg-color: #E8F0FE;\n",
              "      --fill-color: #1967D2;\n",
              "      --hover-bg-color: #E2EBFA;\n",
              "      --hover-fill-color: #174EA6;\n",
              "      --disabled-fill-color: #AAA;\n",
              "      --disabled-bg-color: #DDD;\n",
              "  }\n",
              "\n",
              "  [theme=dark] .colab-df-quickchart {\n",
              "      --bg-color: #3B4455;\n",
              "      --fill-color: #D2E3FC;\n",
              "      --hover-bg-color: #434B5C;\n",
              "      --hover-fill-color: #FFFFFF;\n",
              "      --disabled-bg-color: #3B4455;\n",
              "      --disabled-fill-color: #666;\n",
              "  }\n",
              "\n",
              "  .colab-df-quickchart {\n",
              "    background-color: var(--bg-color);\n",
              "    border: none;\n",
              "    border-radius: 50%;\n",
              "    cursor: pointer;\n",
              "    display: none;\n",
              "    fill: var(--fill-color);\n",
              "    height: 32px;\n",
              "    padding: 0;\n",
              "    width: 32px;\n",
              "  }\n",
              "\n",
              "  .colab-df-quickchart:hover {\n",
              "    background-color: var(--hover-bg-color);\n",
              "    box-shadow: 0 1px 2px rgba(60, 64, 67, 0.3), 0 1px 3px 1px rgba(60, 64, 67, 0.15);\n",
              "    fill: var(--button-hover-fill-color);\n",
              "  }\n",
              "\n",
              "  .colab-df-quickchart-complete:disabled,\n",
              "  .colab-df-quickchart-complete:disabled:hover {\n",
              "    background-color: var(--disabled-bg-color);\n",
              "    fill: var(--disabled-fill-color);\n",
              "    box-shadow: none;\n",
              "  }\n",
              "\n",
              "  .colab-df-spinner {\n",
              "    border: 2px solid var(--fill-color);\n",
              "    border-color: transparent;\n",
              "    border-bottom-color: var(--fill-color);\n",
              "    animation:\n",
              "      spin 1s steps(1) infinite;\n",
              "  }\n",
              "\n",
              "  @keyframes spin {\n",
              "    0% {\n",
              "      border-color: transparent;\n",
              "      border-bottom-color: var(--fill-color);\n",
              "      border-left-color: var(--fill-color);\n",
              "    }\n",
              "    20% {\n",
              "      border-color: transparent;\n",
              "      border-left-color: var(--fill-color);\n",
              "      border-top-color: var(--fill-color);\n",
              "    }\n",
              "    30% {\n",
              "      border-color: transparent;\n",
              "      border-left-color: var(--fill-color);\n",
              "      border-top-color: var(--fill-color);\n",
              "      border-right-color: var(--fill-color);\n",
              "    }\n",
              "    40% {\n",
              "      border-color: transparent;\n",
              "      border-right-color: var(--fill-color);\n",
              "      border-top-color: var(--fill-color);\n",
              "    }\n",
              "    60% {\n",
              "      border-color: transparent;\n",
              "      border-right-color: var(--fill-color);\n",
              "    }\n",
              "    80% {\n",
              "      border-color: transparent;\n",
              "      border-right-color: var(--fill-color);\n",
              "      border-bottom-color: var(--fill-color);\n",
              "    }\n",
              "    90% {\n",
              "      border-color: transparent;\n",
              "      border-bottom-color: var(--fill-color);\n",
              "    }\n",
              "  }\n",
              "</style>\n",
              "\n",
              "  <script>\n",
              "    async function quickchart(key) {\n",
              "      const quickchartButtonEl =\n",
              "        document.querySelector('#' + key + ' button');\n",
              "      quickchartButtonEl.disabled = true;  // To prevent multiple clicks.\n",
              "      quickchartButtonEl.classList.add('colab-df-spinner');\n",
              "      try {\n",
              "        const charts = await google.colab.kernel.invokeFunction(\n",
              "            'suggestCharts', [key], {});\n",
              "      } catch (error) {\n",
              "        console.error('Error during call to suggestCharts:', error);\n",
              "      }\n",
              "      quickchartButtonEl.classList.remove('colab-df-spinner');\n",
              "      quickchartButtonEl.classList.add('colab-df-quickchart-complete');\n",
              "    }\n",
              "    (() => {\n",
              "      let quickchartButtonEl =\n",
              "        document.querySelector('#df-dc1cd00e-5d50-4345-b012-d6612868e4f9 button');\n",
              "      quickchartButtonEl.style.display =\n",
              "        google.colab.kernel.accessAllowed ? 'block' : 'none';\n",
              "    })();\n",
              "  </script>\n",
              "</div>\n",
              "    </div>\n",
              "  </div>\n"
            ]
          },
          "metadata": {}
        }
      ]
    },
    {
      "cell_type": "code",
      "source": [
        "# Посмотрим сколько каких абонементов\n",
        "display(pd.io.sql.read_sql('''\n",
        "SELECT abonement, COUNT(client_id) AS count_client_id\n",
        "FROM subscriptions\n",
        "GROUP BY abonement\n",
        "ORDER BY abonement;\n",
        "''', con = engine))"
      ],
      "metadata": {
        "colab": {
          "base_uri": "https://localhost:8080/",
          "height": 363
        },
        "outputId": "97441a49-66be-4a92-a693-64f18f28d724",
        "id": "gVBou-FgrmBs"
      },
      "execution_count": 29,
      "outputs": [
        {
          "output_type": "display_data",
          "data": {
            "text/plain": [
              "               abonement  count_client_id\n",
              "0             10 занятий              152\n",
              "1             20 занятий               42\n",
              "2              5 занятий              386\n",
              "3    8 занятий (детский)               38\n",
              "4     Бесплатное занятие               30\n",
              "5             Весна-2020                3\n",
              "6  Подарочный сертификат                3\n",
              "7        Пригласительный               37\n",
              "8    Пробный безлимитный               92\n",
              "9                   None                2"
            ],
            "text/html": [
              "\n",
              "  <div id=\"df-2bc742e1-941f-4d67-847a-fd002cabfffd\" class=\"colab-df-container\">\n",
              "    <div>\n",
              "<style scoped>\n",
              "    .dataframe tbody tr th:only-of-type {\n",
              "        vertical-align: middle;\n",
              "    }\n",
              "\n",
              "    .dataframe tbody tr th {\n",
              "        vertical-align: top;\n",
              "    }\n",
              "\n",
              "    .dataframe thead th {\n",
              "        text-align: right;\n",
              "    }\n",
              "</style>\n",
              "<table border=\"1\" class=\"dataframe\">\n",
              "  <thead>\n",
              "    <tr style=\"text-align: right;\">\n",
              "      <th></th>\n",
              "      <th>abonement</th>\n",
              "      <th>count_client_id</th>\n",
              "    </tr>\n",
              "  </thead>\n",
              "  <tbody>\n",
              "    <tr>\n",
              "      <th>0</th>\n",
              "      <td>10 занятий</td>\n",
              "      <td>152</td>\n",
              "    </tr>\n",
              "    <tr>\n",
              "      <th>1</th>\n",
              "      <td>20 занятий</td>\n",
              "      <td>42</td>\n",
              "    </tr>\n",
              "    <tr>\n",
              "      <th>2</th>\n",
              "      <td>5 занятий</td>\n",
              "      <td>386</td>\n",
              "    </tr>\n",
              "    <tr>\n",
              "      <th>3</th>\n",
              "      <td>8 занятий (детский)</td>\n",
              "      <td>38</td>\n",
              "    </tr>\n",
              "    <tr>\n",
              "      <th>4</th>\n",
              "      <td>Бесплатное занятие</td>\n",
              "      <td>30</td>\n",
              "    </tr>\n",
              "    <tr>\n",
              "      <th>5</th>\n",
              "      <td>Весна-2020</td>\n",
              "      <td>3</td>\n",
              "    </tr>\n",
              "    <tr>\n",
              "      <th>6</th>\n",
              "      <td>Подарочный сертификат</td>\n",
              "      <td>3</td>\n",
              "    </tr>\n",
              "    <tr>\n",
              "      <th>7</th>\n",
              "      <td>Пригласительный</td>\n",
              "      <td>37</td>\n",
              "    </tr>\n",
              "    <tr>\n",
              "      <th>8</th>\n",
              "      <td>Пробный безлимитный</td>\n",
              "      <td>92</td>\n",
              "    </tr>\n",
              "    <tr>\n",
              "      <th>9</th>\n",
              "      <td>None</td>\n",
              "      <td>2</td>\n",
              "    </tr>\n",
              "  </tbody>\n",
              "</table>\n",
              "</div>\n",
              "    <div class=\"colab-df-buttons\">\n",
              "\n",
              "  <div class=\"colab-df-container\">\n",
              "    <button class=\"colab-df-convert\" onclick=\"convertToInteractive('df-2bc742e1-941f-4d67-847a-fd002cabfffd')\"\n",
              "            title=\"Convert this dataframe to an interactive table.\"\n",
              "            style=\"display:none;\">\n",
              "\n",
              "  <svg xmlns=\"http://www.w3.org/2000/svg\" height=\"24px\" viewBox=\"0 -960 960 960\">\n",
              "    <path d=\"M120-120v-720h720v720H120Zm60-500h600v-160H180v160Zm220 220h160v-160H400v160Zm0 220h160v-160H400v160ZM180-400h160v-160H180v160Zm440 0h160v-160H620v160ZM180-180h160v-160H180v160Zm440 0h160v-160H620v160Z\"/>\n",
              "  </svg>\n",
              "    </button>\n",
              "\n",
              "  <style>\n",
              "    .colab-df-container {\n",
              "      display:flex;\n",
              "      gap: 12px;\n",
              "    }\n",
              "\n",
              "    .colab-df-convert {\n",
              "      background-color: #E8F0FE;\n",
              "      border: none;\n",
              "      border-radius: 50%;\n",
              "      cursor: pointer;\n",
              "      display: none;\n",
              "      fill: #1967D2;\n",
              "      height: 32px;\n",
              "      padding: 0 0 0 0;\n",
              "      width: 32px;\n",
              "    }\n",
              "\n",
              "    .colab-df-convert:hover {\n",
              "      background-color: #E2EBFA;\n",
              "      box-shadow: 0px 1px 2px rgba(60, 64, 67, 0.3), 0px 1px 3px 1px rgba(60, 64, 67, 0.15);\n",
              "      fill: #174EA6;\n",
              "    }\n",
              "\n",
              "    .colab-df-buttons div {\n",
              "      margin-bottom: 4px;\n",
              "    }\n",
              "\n",
              "    [theme=dark] .colab-df-convert {\n",
              "      background-color: #3B4455;\n",
              "      fill: #D2E3FC;\n",
              "    }\n",
              "\n",
              "    [theme=dark] .colab-df-convert:hover {\n",
              "      background-color: #434B5C;\n",
              "      box-shadow: 0px 1px 3px 1px rgba(0, 0, 0, 0.15);\n",
              "      filter: drop-shadow(0px 1px 2px rgba(0, 0, 0, 0.3));\n",
              "      fill: #FFFFFF;\n",
              "    }\n",
              "  </style>\n",
              "\n",
              "    <script>\n",
              "      const buttonEl =\n",
              "        document.querySelector('#df-2bc742e1-941f-4d67-847a-fd002cabfffd button.colab-df-convert');\n",
              "      buttonEl.style.display =\n",
              "        google.colab.kernel.accessAllowed ? 'block' : 'none';\n",
              "\n",
              "      async function convertToInteractive(key) {\n",
              "        const element = document.querySelector('#df-2bc742e1-941f-4d67-847a-fd002cabfffd');\n",
              "        const dataTable =\n",
              "          await google.colab.kernel.invokeFunction('convertToInteractive',\n",
              "                                                    [key], {});\n",
              "        if (!dataTable) return;\n",
              "\n",
              "        const docLinkHtml = 'Like what you see? Visit the ' +\n",
              "          '<a target=\"_blank\" href=https://colab.research.google.com/notebooks/data_table.ipynb>data table notebook</a>'\n",
              "          + ' to learn more about interactive tables.';\n",
              "        element.innerHTML = '';\n",
              "        dataTable['output_type'] = 'display_data';\n",
              "        await google.colab.output.renderOutput(dataTable, element);\n",
              "        const docLink = document.createElement('div');\n",
              "        docLink.innerHTML = docLinkHtml;\n",
              "        element.appendChild(docLink);\n",
              "      }\n",
              "    </script>\n",
              "  </div>\n",
              "\n",
              "\n",
              "<div id=\"df-f4cda604-45a1-474d-ada7-fca4d071b66f\">\n",
              "  <button class=\"colab-df-quickchart\" onclick=\"quickchart('df-f4cda604-45a1-474d-ada7-fca4d071b66f')\"\n",
              "            title=\"Suggest charts.\"\n",
              "            style=\"display:none;\">\n",
              "\n",
              "<svg xmlns=\"http://www.w3.org/2000/svg\" height=\"24px\"viewBox=\"0 0 24 24\"\n",
              "     width=\"24px\">\n",
              "    <g>\n",
              "        <path d=\"M19 3H5c-1.1 0-2 .9-2 2v14c0 1.1.9 2 2 2h14c1.1 0 2-.9 2-2V5c0-1.1-.9-2-2-2zM9 17H7v-7h2v7zm4 0h-2V7h2v10zm4 0h-2v-4h2v4z\"/>\n",
              "    </g>\n",
              "</svg>\n",
              "  </button>\n",
              "\n",
              "<style>\n",
              "  .colab-df-quickchart {\n",
              "      --bg-color: #E8F0FE;\n",
              "      --fill-color: #1967D2;\n",
              "      --hover-bg-color: #E2EBFA;\n",
              "      --hover-fill-color: #174EA6;\n",
              "      --disabled-fill-color: #AAA;\n",
              "      --disabled-bg-color: #DDD;\n",
              "  }\n",
              "\n",
              "  [theme=dark] .colab-df-quickchart {\n",
              "      --bg-color: #3B4455;\n",
              "      --fill-color: #D2E3FC;\n",
              "      --hover-bg-color: #434B5C;\n",
              "      --hover-fill-color: #FFFFFF;\n",
              "      --disabled-bg-color: #3B4455;\n",
              "      --disabled-fill-color: #666;\n",
              "  }\n",
              "\n",
              "  .colab-df-quickchart {\n",
              "    background-color: var(--bg-color);\n",
              "    border: none;\n",
              "    border-radius: 50%;\n",
              "    cursor: pointer;\n",
              "    display: none;\n",
              "    fill: var(--fill-color);\n",
              "    height: 32px;\n",
              "    padding: 0;\n",
              "    width: 32px;\n",
              "  }\n",
              "\n",
              "  .colab-df-quickchart:hover {\n",
              "    background-color: var(--hover-bg-color);\n",
              "    box-shadow: 0 1px 2px rgba(60, 64, 67, 0.3), 0 1px 3px 1px rgba(60, 64, 67, 0.15);\n",
              "    fill: var(--button-hover-fill-color);\n",
              "  }\n",
              "\n",
              "  .colab-df-quickchart-complete:disabled,\n",
              "  .colab-df-quickchart-complete:disabled:hover {\n",
              "    background-color: var(--disabled-bg-color);\n",
              "    fill: var(--disabled-fill-color);\n",
              "    box-shadow: none;\n",
              "  }\n",
              "\n",
              "  .colab-df-spinner {\n",
              "    border: 2px solid var(--fill-color);\n",
              "    border-color: transparent;\n",
              "    border-bottom-color: var(--fill-color);\n",
              "    animation:\n",
              "      spin 1s steps(1) infinite;\n",
              "  }\n",
              "\n",
              "  @keyframes spin {\n",
              "    0% {\n",
              "      border-color: transparent;\n",
              "      border-bottom-color: var(--fill-color);\n",
              "      border-left-color: var(--fill-color);\n",
              "    }\n",
              "    20% {\n",
              "      border-color: transparent;\n",
              "      border-left-color: var(--fill-color);\n",
              "      border-top-color: var(--fill-color);\n",
              "    }\n",
              "    30% {\n",
              "      border-color: transparent;\n",
              "      border-left-color: var(--fill-color);\n",
              "      border-top-color: var(--fill-color);\n",
              "      border-right-color: var(--fill-color);\n",
              "    }\n",
              "    40% {\n",
              "      border-color: transparent;\n",
              "      border-right-color: var(--fill-color);\n",
              "      border-top-color: var(--fill-color);\n",
              "    }\n",
              "    60% {\n",
              "      border-color: transparent;\n",
              "      border-right-color: var(--fill-color);\n",
              "    }\n",
              "    80% {\n",
              "      border-color: transparent;\n",
              "      border-right-color: var(--fill-color);\n",
              "      border-bottom-color: var(--fill-color);\n",
              "    }\n",
              "    90% {\n",
              "      border-color: transparent;\n",
              "      border-bottom-color: var(--fill-color);\n",
              "    }\n",
              "  }\n",
              "</style>\n",
              "\n",
              "  <script>\n",
              "    async function quickchart(key) {\n",
              "      const quickchartButtonEl =\n",
              "        document.querySelector('#' + key + ' button');\n",
              "      quickchartButtonEl.disabled = true;  // To prevent multiple clicks.\n",
              "      quickchartButtonEl.classList.add('colab-df-spinner');\n",
              "      try {\n",
              "        const charts = await google.colab.kernel.invokeFunction(\n",
              "            'suggestCharts', [key], {});\n",
              "      } catch (error) {\n",
              "        console.error('Error during call to suggestCharts:', error);\n",
              "      }\n",
              "      quickchartButtonEl.classList.remove('colab-df-spinner');\n",
              "      quickchartButtonEl.classList.add('colab-df-quickchart-complete');\n",
              "    }\n",
              "    (() => {\n",
              "      let quickchartButtonEl =\n",
              "        document.querySelector('#df-f4cda604-45a1-474d-ada7-fca4d071b66f button');\n",
              "      quickchartButtonEl.style.display =\n",
              "        google.colab.kernel.accessAllowed ? 'block' : 'none';\n",
              "    })();\n",
              "  </script>\n",
              "</div>\n",
              "    </div>\n",
              "  </div>\n"
            ]
          },
          "metadata": {}
        }
      ]
    },
    {
      "cell_type": "code",
      "source": [
        "# Посмотрим диапазоны дат и мин и макс оставшихся занятий\n",
        "display(pd.io.sql.read_sql('''\n",
        "SELECT MIN(sdate) AS min_sdate, MAX(sdate) AS max_sdate\n",
        "  , MIN(start_date) AS min_start_date, MAX(start_date) AS max_start_date\n",
        "  , MIN(end_date) AS min_end_date, MAX(end_date) AS max_end_date\n",
        "  , MIN(ctime) AS min_ctime, MAX(ctime) AS max_ctime\n",
        "  , MIN(mtime) AS min_mtime, MAX(mtime) AS max_mtime\n",
        "  , MIN(lessons_left) AS min_lessons_left, MAX(lessons_left) AS max_lessons_left\n",
        "FROM subscriptions\n",
        "LIMIT 5;\n",
        "''', con = engine))"
      ],
      "metadata": {
        "id": "tbTD6xLxuirM",
        "outputId": "628360f3-7904-4de5-e27c-7265a0dc32ad",
        "colab": {
          "base_uri": "https://localhost:8080/",
          "height": 118
        }
      },
      "execution_count": 31,
      "outputs": [
        {
          "output_type": "display_data",
          "data": {
            "text/plain": [
              "            min_sdate           max_sdate min_start_date max_start_date  \\\n",
              "0 2020-03-06 13:19:46 2023-09-11 22:26:50     2019-10-14     2023-09-18   \n",
              "\n",
              "  min_end_date max_end_date                  min_ctime  \\\n",
              "0   2020-03-08   2024-02-01 2023-09-12 20:30:07.494995   \n",
              "\n",
              "                   max_ctime                  min_mtime  \\\n",
              "0 2023-09-12 20:35:10.891991 2023-09-12 20:35:10.891991   \n",
              "\n",
              "                   max_mtime  min_lessons_left  max_lessons_left  \n",
              "0 2023-09-14 18:47:48.976594                -1                17  "
            ],
            "text/html": [
              "\n",
              "  <div id=\"df-70a7f7ba-1585-4269-ac38-98db24d040ca\" class=\"colab-df-container\">\n",
              "    <div>\n",
              "<style scoped>\n",
              "    .dataframe tbody tr th:only-of-type {\n",
              "        vertical-align: middle;\n",
              "    }\n",
              "\n",
              "    .dataframe tbody tr th {\n",
              "        vertical-align: top;\n",
              "    }\n",
              "\n",
              "    .dataframe thead th {\n",
              "        text-align: right;\n",
              "    }\n",
              "</style>\n",
              "<table border=\"1\" class=\"dataframe\">\n",
              "  <thead>\n",
              "    <tr style=\"text-align: right;\">\n",
              "      <th></th>\n",
              "      <th>min_sdate</th>\n",
              "      <th>max_sdate</th>\n",
              "      <th>min_start_date</th>\n",
              "      <th>max_start_date</th>\n",
              "      <th>min_end_date</th>\n",
              "      <th>max_end_date</th>\n",
              "      <th>min_ctime</th>\n",
              "      <th>max_ctime</th>\n",
              "      <th>min_mtime</th>\n",
              "      <th>max_mtime</th>\n",
              "      <th>min_lessons_left</th>\n",
              "      <th>max_lessons_left</th>\n",
              "    </tr>\n",
              "  </thead>\n",
              "  <tbody>\n",
              "    <tr>\n",
              "      <th>0</th>\n",
              "      <td>2020-03-06 13:19:46</td>\n",
              "      <td>2023-09-11 22:26:50</td>\n",
              "      <td>2019-10-14</td>\n",
              "      <td>2023-09-18</td>\n",
              "      <td>2020-03-08</td>\n",
              "      <td>2024-02-01</td>\n",
              "      <td>2023-09-12 20:30:07.494995</td>\n",
              "      <td>2023-09-12 20:35:10.891991</td>\n",
              "      <td>2023-09-12 20:35:10.891991</td>\n",
              "      <td>2023-09-14 18:47:48.976594</td>\n",
              "      <td>-1</td>\n",
              "      <td>17</td>\n",
              "    </tr>\n",
              "  </tbody>\n",
              "</table>\n",
              "</div>\n",
              "    <div class=\"colab-df-buttons\">\n",
              "\n",
              "  <div class=\"colab-df-container\">\n",
              "    <button class=\"colab-df-convert\" onclick=\"convertToInteractive('df-70a7f7ba-1585-4269-ac38-98db24d040ca')\"\n",
              "            title=\"Convert this dataframe to an interactive table.\"\n",
              "            style=\"display:none;\">\n",
              "\n",
              "  <svg xmlns=\"http://www.w3.org/2000/svg\" height=\"24px\" viewBox=\"0 -960 960 960\">\n",
              "    <path d=\"M120-120v-720h720v720H120Zm60-500h600v-160H180v160Zm220 220h160v-160H400v160Zm0 220h160v-160H400v160ZM180-400h160v-160H180v160Zm440 0h160v-160H620v160ZM180-180h160v-160H180v160Zm440 0h160v-160H620v160Z\"/>\n",
              "  </svg>\n",
              "    </button>\n",
              "\n",
              "  <style>\n",
              "    .colab-df-container {\n",
              "      display:flex;\n",
              "      gap: 12px;\n",
              "    }\n",
              "\n",
              "    .colab-df-convert {\n",
              "      background-color: #E8F0FE;\n",
              "      border: none;\n",
              "      border-radius: 50%;\n",
              "      cursor: pointer;\n",
              "      display: none;\n",
              "      fill: #1967D2;\n",
              "      height: 32px;\n",
              "      padding: 0 0 0 0;\n",
              "      width: 32px;\n",
              "    }\n",
              "\n",
              "    .colab-df-convert:hover {\n",
              "      background-color: #E2EBFA;\n",
              "      box-shadow: 0px 1px 2px rgba(60, 64, 67, 0.3), 0px 1px 3px 1px rgba(60, 64, 67, 0.15);\n",
              "      fill: #174EA6;\n",
              "    }\n",
              "\n",
              "    .colab-df-buttons div {\n",
              "      margin-bottom: 4px;\n",
              "    }\n",
              "\n",
              "    [theme=dark] .colab-df-convert {\n",
              "      background-color: #3B4455;\n",
              "      fill: #D2E3FC;\n",
              "    }\n",
              "\n",
              "    [theme=dark] .colab-df-convert:hover {\n",
              "      background-color: #434B5C;\n",
              "      box-shadow: 0px 1px 3px 1px rgba(0, 0, 0, 0.15);\n",
              "      filter: drop-shadow(0px 1px 2px rgba(0, 0, 0, 0.3));\n",
              "      fill: #FFFFFF;\n",
              "    }\n",
              "  </style>\n",
              "\n",
              "    <script>\n",
              "      const buttonEl =\n",
              "        document.querySelector('#df-70a7f7ba-1585-4269-ac38-98db24d040ca button.colab-df-convert');\n",
              "      buttonEl.style.display =\n",
              "        google.colab.kernel.accessAllowed ? 'block' : 'none';\n",
              "\n",
              "      async function convertToInteractive(key) {\n",
              "        const element = document.querySelector('#df-70a7f7ba-1585-4269-ac38-98db24d040ca');\n",
              "        const dataTable =\n",
              "          await google.colab.kernel.invokeFunction('convertToInteractive',\n",
              "                                                    [key], {});\n",
              "        if (!dataTable) return;\n",
              "\n",
              "        const docLinkHtml = 'Like what you see? Visit the ' +\n",
              "          '<a target=\"_blank\" href=https://colab.research.google.com/notebooks/data_table.ipynb>data table notebook</a>'\n",
              "          + ' to learn more about interactive tables.';\n",
              "        element.innerHTML = '';\n",
              "        dataTable['output_type'] = 'display_data';\n",
              "        await google.colab.output.renderOutput(dataTable, element);\n",
              "        const docLink = document.createElement('div');\n",
              "        docLink.innerHTML = docLinkHtml;\n",
              "        element.appendChild(docLink);\n",
              "      }\n",
              "    </script>\n",
              "  </div>\n",
              "\n",
              "    </div>\n",
              "  </div>\n"
            ]
          },
          "metadata": {}
        }
      ]
    },
    {
      "cell_type": "code",
      "source": [
        "# смотрим есть ли клиенты с абонементами, которых нет в клиентах\n",
        "display(pd.io.sql.read_sql('''\n",
        "SELECT COUNT(*)\n",
        "FROM subscriptions\n",
        "WHERE client_id NOT IN (SELECT unid FROM clients)\n",
        "LIMIT 5;\n",
        "''', con = engine))"
      ],
      "metadata": {
        "id": "EYihLdq7xdBz",
        "outputId": "6fba4bdb-60b4-4113-9939-c2fb4d2b21a8",
        "colab": {
          "base_uri": "https://localhost:8080/",
          "height": 81
        }
      },
      "execution_count": 41,
      "outputs": [
        {
          "output_type": "display_data",
          "data": {
            "text/plain": [
              "   count\n",
              "0      0"
            ],
            "text/html": [
              "\n",
              "  <div id=\"df-f8c86469-5447-45b8-bb41-8aab6465c1db\" class=\"colab-df-container\">\n",
              "    <div>\n",
              "<style scoped>\n",
              "    .dataframe tbody tr th:only-of-type {\n",
              "        vertical-align: middle;\n",
              "    }\n",
              "\n",
              "    .dataframe tbody tr th {\n",
              "        vertical-align: top;\n",
              "    }\n",
              "\n",
              "    .dataframe thead th {\n",
              "        text-align: right;\n",
              "    }\n",
              "</style>\n",
              "<table border=\"1\" class=\"dataframe\">\n",
              "  <thead>\n",
              "    <tr style=\"text-align: right;\">\n",
              "      <th></th>\n",
              "      <th>count</th>\n",
              "    </tr>\n",
              "  </thead>\n",
              "  <tbody>\n",
              "    <tr>\n",
              "      <th>0</th>\n",
              "      <td>0</td>\n",
              "    </tr>\n",
              "  </tbody>\n",
              "</table>\n",
              "</div>\n",
              "    <div class=\"colab-df-buttons\">\n",
              "\n",
              "  <div class=\"colab-df-container\">\n",
              "    <button class=\"colab-df-convert\" onclick=\"convertToInteractive('df-f8c86469-5447-45b8-bb41-8aab6465c1db')\"\n",
              "            title=\"Convert this dataframe to an interactive table.\"\n",
              "            style=\"display:none;\">\n",
              "\n",
              "  <svg xmlns=\"http://www.w3.org/2000/svg\" height=\"24px\" viewBox=\"0 -960 960 960\">\n",
              "    <path d=\"M120-120v-720h720v720H120Zm60-500h600v-160H180v160Zm220 220h160v-160H400v160Zm0 220h160v-160H400v160ZM180-400h160v-160H180v160Zm440 0h160v-160H620v160ZM180-180h160v-160H180v160Zm440 0h160v-160H620v160Z\"/>\n",
              "  </svg>\n",
              "    </button>\n",
              "\n",
              "  <style>\n",
              "    .colab-df-container {\n",
              "      display:flex;\n",
              "      gap: 12px;\n",
              "    }\n",
              "\n",
              "    .colab-df-convert {\n",
              "      background-color: #E8F0FE;\n",
              "      border: none;\n",
              "      border-radius: 50%;\n",
              "      cursor: pointer;\n",
              "      display: none;\n",
              "      fill: #1967D2;\n",
              "      height: 32px;\n",
              "      padding: 0 0 0 0;\n",
              "      width: 32px;\n",
              "    }\n",
              "\n",
              "    .colab-df-convert:hover {\n",
              "      background-color: #E2EBFA;\n",
              "      box-shadow: 0px 1px 2px rgba(60, 64, 67, 0.3), 0px 1px 3px 1px rgba(60, 64, 67, 0.15);\n",
              "      fill: #174EA6;\n",
              "    }\n",
              "\n",
              "    .colab-df-buttons div {\n",
              "      margin-bottom: 4px;\n",
              "    }\n",
              "\n",
              "    [theme=dark] .colab-df-convert {\n",
              "      background-color: #3B4455;\n",
              "      fill: #D2E3FC;\n",
              "    }\n",
              "\n",
              "    [theme=dark] .colab-df-convert:hover {\n",
              "      background-color: #434B5C;\n",
              "      box-shadow: 0px 1px 3px 1px rgba(0, 0, 0, 0.15);\n",
              "      filter: drop-shadow(0px 1px 2px rgba(0, 0, 0, 0.3));\n",
              "      fill: #FFFFFF;\n",
              "    }\n",
              "  </style>\n",
              "\n",
              "    <script>\n",
              "      const buttonEl =\n",
              "        document.querySelector('#df-f8c86469-5447-45b8-bb41-8aab6465c1db button.colab-df-convert');\n",
              "      buttonEl.style.display =\n",
              "        google.colab.kernel.accessAllowed ? 'block' : 'none';\n",
              "\n",
              "      async function convertToInteractive(key) {\n",
              "        const element = document.querySelector('#df-f8c86469-5447-45b8-bb41-8aab6465c1db');\n",
              "        const dataTable =\n",
              "          await google.colab.kernel.invokeFunction('convertToInteractive',\n",
              "                                                    [key], {});\n",
              "        if (!dataTable) return;\n",
              "\n",
              "        const docLinkHtml = 'Like what you see? Visit the ' +\n",
              "          '<a target=\"_blank\" href=https://colab.research.google.com/notebooks/data_table.ipynb>data table notebook</a>'\n",
              "          + ' to learn more about interactive tables.';\n",
              "        element.innerHTML = '';\n",
              "        dataTable['output_type'] = 'display_data';\n",
              "        await google.colab.output.renderOutput(dataTable, element);\n",
              "        const docLink = document.createElement('div');\n",
              "        docLink.innerHTML = docLinkHtml;\n",
              "        element.appendChild(docLink);\n",
              "      }\n",
              "    </script>\n",
              "  </div>\n",
              "\n",
              "    </div>\n",
              "  </div>\n"
            ]
          },
          "metadata": {}
        }
      ]
    },
    {
      "cell_type": "code",
      "source": [
        "# смотрим на ___\n",
        "display(pd.io.sql.read_sql('''\n",
        "SELECT *\n",
        "FROM visits\n",
        "LIMIT 5;\n",
        "''', con = engine))"
      ],
      "metadata": {
        "colab": {
          "base_uri": "https://localhost:8080/",
          "height": 310
        },
        "id": "DV7ZhnnDn_XA",
        "outputId": "925acb7e-dc81-47e3-c68d-125f7ccc5f3e"
      },
      "execution_count": 13,
      "outputs": [
        {
          "output_type": "display_data",
          "data": {
            "text/plain": [
              "     aid  lesson_id                  client_id  status           book_date  \\\n",
              "0  24983      24979  51446b89f58e6e73d3b421c8d  booked 2023-09-09 00:28:09   \n",
              "1  24988      24921  579d883c9fb3055e3c981786c  booked 2023-09-10 17:42:44   \n",
              "2  24935      24855  579d883c9fb3055e3c981786c  booked 2023-09-06 17:02:43   \n",
              "3  24986      24985  c53a3bfcd09fb9d493ca9d511  booked 2023-09-10 13:08:59   \n",
              "4  24984      24847  c53a3bfcd09fb9d493ca9d511  booked 2023-09-10 13:01:24   \n",
              "\n",
              "   visit_date                 trainer_id  \\\n",
              "0  2023-09-19  2e3e9e5e62f53bcfdd4ef49f7   \n",
              "1  2023-09-18  e93a228046b0e849b613db6c6   \n",
              "2  2023-09-17  24afa988163406000dd31a78d   \n",
              "3  2023-09-17  0ed1eb34ce87d36b41b5dac1b   \n",
              "4  2023-09-14  bc18610c215b8fc4042cce7b4   \n",
              "\n",
              "                                          lesson   kids  \\\n",
              "0  Йога в гамаках. Дети 12-15 лет. ОТКРЫТЫЙ УРОК  False   \n",
              "1                                       АЭРОЙОГА  False   \n",
              "2                          АЭРОЙОГА + ЙОГА-НИДРА  False   \n",
              "3                                       АЭРОЙОГА  False   \n",
              "4                                   Хатха - йога  False   \n",
              "\n",
              "                       ctime                      mtime  \n",
              "0 2023-09-12 22:51:23.673085 2023-09-12 22:51:23.673085  \n",
              "1 2023-09-12 22:51:23.673085 2023-09-12 22:51:23.673085  \n",
              "2 2023-09-12 22:51:23.673085 2023-09-12 22:51:23.673085  \n",
              "3 2023-09-12 22:51:23.673085 2023-09-12 22:51:23.673085  \n",
              "4 2023-09-12 22:51:23.673085 2023-09-12 22:51:23.673085  "
            ],
            "text/html": [
              "\n",
              "  <div id=\"df-0e957ece-e158-4e7d-8c77-6adab3a018fe\" class=\"colab-df-container\">\n",
              "    <div>\n",
              "<style scoped>\n",
              "    .dataframe tbody tr th:only-of-type {\n",
              "        vertical-align: middle;\n",
              "    }\n",
              "\n",
              "    .dataframe tbody tr th {\n",
              "        vertical-align: top;\n",
              "    }\n",
              "\n",
              "    .dataframe thead th {\n",
              "        text-align: right;\n",
              "    }\n",
              "</style>\n",
              "<table border=\"1\" class=\"dataframe\">\n",
              "  <thead>\n",
              "    <tr style=\"text-align: right;\">\n",
              "      <th></th>\n",
              "      <th>aid</th>\n",
              "      <th>lesson_id</th>\n",
              "      <th>client_id</th>\n",
              "      <th>status</th>\n",
              "      <th>book_date</th>\n",
              "      <th>visit_date</th>\n",
              "      <th>trainer_id</th>\n",
              "      <th>lesson</th>\n",
              "      <th>kids</th>\n",
              "      <th>ctime</th>\n",
              "      <th>mtime</th>\n",
              "    </tr>\n",
              "  </thead>\n",
              "  <tbody>\n",
              "    <tr>\n",
              "      <th>0</th>\n",
              "      <td>24983</td>\n",
              "      <td>24979</td>\n",
              "      <td>51446b89f58e6e73d3b421c8d</td>\n",
              "      <td>booked</td>\n",
              "      <td>2023-09-09 00:28:09</td>\n",
              "      <td>2023-09-19</td>\n",
              "      <td>2e3e9e5e62f53bcfdd4ef49f7</td>\n",
              "      <td>Йога в гамаках. Дети 12-15 лет. ОТКРЫТЫЙ УРОК</td>\n",
              "      <td>False</td>\n",
              "      <td>2023-09-12 22:51:23.673085</td>\n",
              "      <td>2023-09-12 22:51:23.673085</td>\n",
              "    </tr>\n",
              "    <tr>\n",
              "      <th>1</th>\n",
              "      <td>24988</td>\n",
              "      <td>24921</td>\n",
              "      <td>579d883c9fb3055e3c981786c</td>\n",
              "      <td>booked</td>\n",
              "      <td>2023-09-10 17:42:44</td>\n",
              "      <td>2023-09-18</td>\n",
              "      <td>e93a228046b0e849b613db6c6</td>\n",
              "      <td>АЭРОЙОГА</td>\n",
              "      <td>False</td>\n",
              "      <td>2023-09-12 22:51:23.673085</td>\n",
              "      <td>2023-09-12 22:51:23.673085</td>\n",
              "    </tr>\n",
              "    <tr>\n",
              "      <th>2</th>\n",
              "      <td>24935</td>\n",
              "      <td>24855</td>\n",
              "      <td>579d883c9fb3055e3c981786c</td>\n",
              "      <td>booked</td>\n",
              "      <td>2023-09-06 17:02:43</td>\n",
              "      <td>2023-09-17</td>\n",
              "      <td>24afa988163406000dd31a78d</td>\n",
              "      <td>АЭРОЙОГА + ЙОГА-НИДРА</td>\n",
              "      <td>False</td>\n",
              "      <td>2023-09-12 22:51:23.673085</td>\n",
              "      <td>2023-09-12 22:51:23.673085</td>\n",
              "    </tr>\n",
              "    <tr>\n",
              "      <th>3</th>\n",
              "      <td>24986</td>\n",
              "      <td>24985</td>\n",
              "      <td>c53a3bfcd09fb9d493ca9d511</td>\n",
              "      <td>booked</td>\n",
              "      <td>2023-09-10 13:08:59</td>\n",
              "      <td>2023-09-17</td>\n",
              "      <td>0ed1eb34ce87d36b41b5dac1b</td>\n",
              "      <td>АЭРОЙОГА</td>\n",
              "      <td>False</td>\n",
              "      <td>2023-09-12 22:51:23.673085</td>\n",
              "      <td>2023-09-12 22:51:23.673085</td>\n",
              "    </tr>\n",
              "    <tr>\n",
              "      <th>4</th>\n",
              "      <td>24984</td>\n",
              "      <td>24847</td>\n",
              "      <td>c53a3bfcd09fb9d493ca9d511</td>\n",
              "      <td>booked</td>\n",
              "      <td>2023-09-10 13:01:24</td>\n",
              "      <td>2023-09-14</td>\n",
              "      <td>bc18610c215b8fc4042cce7b4</td>\n",
              "      <td>Хатха - йога</td>\n",
              "      <td>False</td>\n",
              "      <td>2023-09-12 22:51:23.673085</td>\n",
              "      <td>2023-09-12 22:51:23.673085</td>\n",
              "    </tr>\n",
              "  </tbody>\n",
              "</table>\n",
              "</div>\n",
              "    <div class=\"colab-df-buttons\">\n",
              "\n",
              "  <div class=\"colab-df-container\">\n",
              "    <button class=\"colab-df-convert\" onclick=\"convertToInteractive('df-0e957ece-e158-4e7d-8c77-6adab3a018fe')\"\n",
              "            title=\"Convert this dataframe to an interactive table.\"\n",
              "            style=\"display:none;\">\n",
              "\n",
              "  <svg xmlns=\"http://www.w3.org/2000/svg\" height=\"24px\" viewBox=\"0 -960 960 960\">\n",
              "    <path d=\"M120-120v-720h720v720H120Zm60-500h600v-160H180v160Zm220 220h160v-160H400v160Zm0 220h160v-160H400v160ZM180-400h160v-160H180v160Zm440 0h160v-160H620v160ZM180-180h160v-160H180v160Zm440 0h160v-160H620v160Z\"/>\n",
              "  </svg>\n",
              "    </button>\n",
              "\n",
              "  <style>\n",
              "    .colab-df-container {\n",
              "      display:flex;\n",
              "      gap: 12px;\n",
              "    }\n",
              "\n",
              "    .colab-df-convert {\n",
              "      background-color: #E8F0FE;\n",
              "      border: none;\n",
              "      border-radius: 50%;\n",
              "      cursor: pointer;\n",
              "      display: none;\n",
              "      fill: #1967D2;\n",
              "      height: 32px;\n",
              "      padding: 0 0 0 0;\n",
              "      width: 32px;\n",
              "    }\n",
              "\n",
              "    .colab-df-convert:hover {\n",
              "      background-color: #E2EBFA;\n",
              "      box-shadow: 0px 1px 2px rgba(60, 64, 67, 0.3), 0px 1px 3px 1px rgba(60, 64, 67, 0.15);\n",
              "      fill: #174EA6;\n",
              "    }\n",
              "\n",
              "    .colab-df-buttons div {\n",
              "      margin-bottom: 4px;\n",
              "    }\n",
              "\n",
              "    [theme=dark] .colab-df-convert {\n",
              "      background-color: #3B4455;\n",
              "      fill: #D2E3FC;\n",
              "    }\n",
              "\n",
              "    [theme=dark] .colab-df-convert:hover {\n",
              "      background-color: #434B5C;\n",
              "      box-shadow: 0px 1px 3px 1px rgba(0, 0, 0, 0.15);\n",
              "      filter: drop-shadow(0px 1px 2px rgba(0, 0, 0, 0.3));\n",
              "      fill: #FFFFFF;\n",
              "    }\n",
              "  </style>\n",
              "\n",
              "    <script>\n",
              "      const buttonEl =\n",
              "        document.querySelector('#df-0e957ece-e158-4e7d-8c77-6adab3a018fe button.colab-df-convert');\n",
              "      buttonEl.style.display =\n",
              "        google.colab.kernel.accessAllowed ? 'block' : 'none';\n",
              "\n",
              "      async function convertToInteractive(key) {\n",
              "        const element = document.querySelector('#df-0e957ece-e158-4e7d-8c77-6adab3a018fe');\n",
              "        const dataTable =\n",
              "          await google.colab.kernel.invokeFunction('convertToInteractive',\n",
              "                                                    [key], {});\n",
              "        if (!dataTable) return;\n",
              "\n",
              "        const docLinkHtml = 'Like what you see? Visit the ' +\n",
              "          '<a target=\"_blank\" href=https://colab.research.google.com/notebooks/data_table.ipynb>data table notebook</a>'\n",
              "          + ' to learn more about interactive tables.';\n",
              "        element.innerHTML = '';\n",
              "        dataTable['output_type'] = 'display_data';\n",
              "        await google.colab.output.renderOutput(dataTable, element);\n",
              "        const docLink = document.createElement('div');\n",
              "        docLink.innerHTML = docLinkHtml;\n",
              "        element.appendChild(docLink);\n",
              "      }\n",
              "    </script>\n",
              "  </div>\n",
              "\n",
              "\n",
              "<div id=\"df-10d7ebb5-43b2-404e-82d6-a3caf1ced78e\">\n",
              "  <button class=\"colab-df-quickchart\" onclick=\"quickchart('df-10d7ebb5-43b2-404e-82d6-a3caf1ced78e')\"\n",
              "            title=\"Suggest charts.\"\n",
              "            style=\"display:none;\">\n",
              "\n",
              "<svg xmlns=\"http://www.w3.org/2000/svg\" height=\"24px\"viewBox=\"0 0 24 24\"\n",
              "     width=\"24px\">\n",
              "    <g>\n",
              "        <path d=\"M19 3H5c-1.1 0-2 .9-2 2v14c0 1.1.9 2 2 2h14c1.1 0 2-.9 2-2V5c0-1.1-.9-2-2-2zM9 17H7v-7h2v7zm4 0h-2V7h2v10zm4 0h-2v-4h2v4z\"/>\n",
              "    </g>\n",
              "</svg>\n",
              "  </button>\n",
              "\n",
              "<style>\n",
              "  .colab-df-quickchart {\n",
              "      --bg-color: #E8F0FE;\n",
              "      --fill-color: #1967D2;\n",
              "      --hover-bg-color: #E2EBFA;\n",
              "      --hover-fill-color: #174EA6;\n",
              "      --disabled-fill-color: #AAA;\n",
              "      --disabled-bg-color: #DDD;\n",
              "  }\n",
              "\n",
              "  [theme=dark] .colab-df-quickchart {\n",
              "      --bg-color: #3B4455;\n",
              "      --fill-color: #D2E3FC;\n",
              "      --hover-bg-color: #434B5C;\n",
              "      --hover-fill-color: #FFFFFF;\n",
              "      --disabled-bg-color: #3B4455;\n",
              "      --disabled-fill-color: #666;\n",
              "  }\n",
              "\n",
              "  .colab-df-quickchart {\n",
              "    background-color: var(--bg-color);\n",
              "    border: none;\n",
              "    border-radius: 50%;\n",
              "    cursor: pointer;\n",
              "    display: none;\n",
              "    fill: var(--fill-color);\n",
              "    height: 32px;\n",
              "    padding: 0;\n",
              "    width: 32px;\n",
              "  }\n",
              "\n",
              "  .colab-df-quickchart:hover {\n",
              "    background-color: var(--hover-bg-color);\n",
              "    box-shadow: 0 1px 2px rgba(60, 64, 67, 0.3), 0 1px 3px 1px rgba(60, 64, 67, 0.15);\n",
              "    fill: var(--button-hover-fill-color);\n",
              "  }\n",
              "\n",
              "  .colab-df-quickchart-complete:disabled,\n",
              "  .colab-df-quickchart-complete:disabled:hover {\n",
              "    background-color: var(--disabled-bg-color);\n",
              "    fill: var(--disabled-fill-color);\n",
              "    box-shadow: none;\n",
              "  }\n",
              "\n",
              "  .colab-df-spinner {\n",
              "    border: 2px solid var(--fill-color);\n",
              "    border-color: transparent;\n",
              "    border-bottom-color: var(--fill-color);\n",
              "    animation:\n",
              "      spin 1s steps(1) infinite;\n",
              "  }\n",
              "\n",
              "  @keyframes spin {\n",
              "    0% {\n",
              "      border-color: transparent;\n",
              "      border-bottom-color: var(--fill-color);\n",
              "      border-left-color: var(--fill-color);\n",
              "    }\n",
              "    20% {\n",
              "      border-color: transparent;\n",
              "      border-left-color: var(--fill-color);\n",
              "      border-top-color: var(--fill-color);\n",
              "    }\n",
              "    30% {\n",
              "      border-color: transparent;\n",
              "      border-left-color: var(--fill-color);\n",
              "      border-top-color: var(--fill-color);\n",
              "      border-right-color: var(--fill-color);\n",
              "    }\n",
              "    40% {\n",
              "      border-color: transparent;\n",
              "      border-right-color: var(--fill-color);\n",
              "      border-top-color: var(--fill-color);\n",
              "    }\n",
              "    60% {\n",
              "      border-color: transparent;\n",
              "      border-right-color: var(--fill-color);\n",
              "    }\n",
              "    80% {\n",
              "      border-color: transparent;\n",
              "      border-right-color: var(--fill-color);\n",
              "      border-bottom-color: var(--fill-color);\n",
              "    }\n",
              "    90% {\n",
              "      border-color: transparent;\n",
              "      border-bottom-color: var(--fill-color);\n",
              "    }\n",
              "  }\n",
              "</style>\n",
              "\n",
              "  <script>\n",
              "    async function quickchart(key) {\n",
              "      const quickchartButtonEl =\n",
              "        document.querySelector('#' + key + ' button');\n",
              "      quickchartButtonEl.disabled = true;  // To prevent multiple clicks.\n",
              "      quickchartButtonEl.classList.add('colab-df-spinner');\n",
              "      try {\n",
              "        const charts = await google.colab.kernel.invokeFunction(\n",
              "            'suggestCharts', [key], {});\n",
              "      } catch (error) {\n",
              "        console.error('Error during call to suggestCharts:', error);\n",
              "      }\n",
              "      quickchartButtonEl.classList.remove('colab-df-spinner');\n",
              "      quickchartButtonEl.classList.add('colab-df-quickchart-complete');\n",
              "    }\n",
              "    (() => {\n",
              "      let quickchartButtonEl =\n",
              "        document.querySelector('#df-10d7ebb5-43b2-404e-82d6-a3caf1ced78e button');\n",
              "      quickchartButtonEl.style.display =\n",
              "        google.colab.kernel.accessAllowed ? 'block' : 'none';\n",
              "    })();\n",
              "  </script>\n",
              "</div>\n",
              "    </div>\n",
              "  </div>\n"
            ]
          },
          "metadata": {}
        }
      ]
    },
    {
      "cell_type": "code",
      "source": [
        "# смотрим есть ли клиенты с записями, которых нет в клиентах\n",
        "display(pd.io.sql.read_sql('''\n",
        "SELECT COUNT(*)\n",
        "FROM visits\n",
        "WHERE client_id NOT IN (SELECT unid FROM clients)\n",
        "LIMIT 15;\n",
        "''', con = engine))"
      ],
      "metadata": {
        "id": "jll2SMg4yI1t",
        "outputId": "94738fe7-bd5d-4a6c-bb9b-5926849df45b",
        "colab": {
          "base_uri": "https://localhost:8080/",
          "height": 81
        }
      },
      "execution_count": 35,
      "outputs": [
        {
          "output_type": "display_data",
          "data": {
            "text/plain": [
              "   count\n",
              "0     11"
            ],
            "text/html": [
              "\n",
              "  <div id=\"df-2185c64f-84ce-40e1-9bb6-1c68948ade5e\" class=\"colab-df-container\">\n",
              "    <div>\n",
              "<style scoped>\n",
              "    .dataframe tbody tr th:only-of-type {\n",
              "        vertical-align: middle;\n",
              "    }\n",
              "\n",
              "    .dataframe tbody tr th {\n",
              "        vertical-align: top;\n",
              "    }\n",
              "\n",
              "    .dataframe thead th {\n",
              "        text-align: right;\n",
              "    }\n",
              "</style>\n",
              "<table border=\"1\" class=\"dataframe\">\n",
              "  <thead>\n",
              "    <tr style=\"text-align: right;\">\n",
              "      <th></th>\n",
              "      <th>count</th>\n",
              "    </tr>\n",
              "  </thead>\n",
              "  <tbody>\n",
              "    <tr>\n",
              "      <th>0</th>\n",
              "      <td>11</td>\n",
              "    </tr>\n",
              "  </tbody>\n",
              "</table>\n",
              "</div>\n",
              "    <div class=\"colab-df-buttons\">\n",
              "\n",
              "  <div class=\"colab-df-container\">\n",
              "    <button class=\"colab-df-convert\" onclick=\"convertToInteractive('df-2185c64f-84ce-40e1-9bb6-1c68948ade5e')\"\n",
              "            title=\"Convert this dataframe to an interactive table.\"\n",
              "            style=\"display:none;\">\n",
              "\n",
              "  <svg xmlns=\"http://www.w3.org/2000/svg\" height=\"24px\" viewBox=\"0 -960 960 960\">\n",
              "    <path d=\"M120-120v-720h720v720H120Zm60-500h600v-160H180v160Zm220 220h160v-160H400v160Zm0 220h160v-160H400v160ZM180-400h160v-160H180v160Zm440 0h160v-160H620v160ZM180-180h160v-160H180v160Zm440 0h160v-160H620v160Z\"/>\n",
              "  </svg>\n",
              "    </button>\n",
              "\n",
              "  <style>\n",
              "    .colab-df-container {\n",
              "      display:flex;\n",
              "      gap: 12px;\n",
              "    }\n",
              "\n",
              "    .colab-df-convert {\n",
              "      background-color: #E8F0FE;\n",
              "      border: none;\n",
              "      border-radius: 50%;\n",
              "      cursor: pointer;\n",
              "      display: none;\n",
              "      fill: #1967D2;\n",
              "      height: 32px;\n",
              "      padding: 0 0 0 0;\n",
              "      width: 32px;\n",
              "    }\n",
              "\n",
              "    .colab-df-convert:hover {\n",
              "      background-color: #E2EBFA;\n",
              "      box-shadow: 0px 1px 2px rgba(60, 64, 67, 0.3), 0px 1px 3px 1px rgba(60, 64, 67, 0.15);\n",
              "      fill: #174EA6;\n",
              "    }\n",
              "\n",
              "    .colab-df-buttons div {\n",
              "      margin-bottom: 4px;\n",
              "    }\n",
              "\n",
              "    [theme=dark] .colab-df-convert {\n",
              "      background-color: #3B4455;\n",
              "      fill: #D2E3FC;\n",
              "    }\n",
              "\n",
              "    [theme=dark] .colab-df-convert:hover {\n",
              "      background-color: #434B5C;\n",
              "      box-shadow: 0px 1px 3px 1px rgba(0, 0, 0, 0.15);\n",
              "      filter: drop-shadow(0px 1px 2px rgba(0, 0, 0, 0.3));\n",
              "      fill: #FFFFFF;\n",
              "    }\n",
              "  </style>\n",
              "\n",
              "    <script>\n",
              "      const buttonEl =\n",
              "        document.querySelector('#df-2185c64f-84ce-40e1-9bb6-1c68948ade5e button.colab-df-convert');\n",
              "      buttonEl.style.display =\n",
              "        google.colab.kernel.accessAllowed ? 'block' : 'none';\n",
              "\n",
              "      async function convertToInteractive(key) {\n",
              "        const element = document.querySelector('#df-2185c64f-84ce-40e1-9bb6-1c68948ade5e');\n",
              "        const dataTable =\n",
              "          await google.colab.kernel.invokeFunction('convertToInteractive',\n",
              "                                                    [key], {});\n",
              "        if (!dataTable) return;\n",
              "\n",
              "        const docLinkHtml = 'Like what you see? Visit the ' +\n",
              "          '<a target=\"_blank\" href=https://colab.research.google.com/notebooks/data_table.ipynb>data table notebook</a>'\n",
              "          + ' to learn more about interactive tables.';\n",
              "        element.innerHTML = '';\n",
              "        dataTable['output_type'] = 'display_data';\n",
              "        await google.colab.output.renderOutput(dataTable, element);\n",
              "        const docLink = document.createElement('div');\n",
              "        docLink.innerHTML = docLinkHtml;\n",
              "        element.appendChild(docLink);\n",
              "      }\n",
              "    </script>\n",
              "  </div>\n",
              "\n",
              "    </div>\n",
              "  </div>\n"
            ]
          },
          "metadata": {}
        }
      ]
    },
    {
      "cell_type": "code",
      "source": [
        "# смотрим есть ли клиенты с записями, которых нет в клиентах\n",
        "display(pd.io.sql.read_sql('''\n",
        "SELECT *\n",
        "FROM visits\n",
        "WHERE client_id NOT IN (SELECT unid FROM clients)\n",
        "LIMIT 15;\n",
        "''', con = engine))"
      ],
      "metadata": {
        "id": "vEw_tto-yIzf",
        "outputId": "6c54e1e0-2fb7-44ab-d773-dac7ccead94a",
        "colab": {
          "base_uri": "https://localhost:8080/",
          "height": 585
        }
      },
      "execution_count": 37,
      "outputs": [
        {
          "output_type": "display_data",
          "data": {
            "text/plain": [
              "      aid  lesson_id     client_id    status           book_date  visit_date  \\\n",
              "0   24746      24585     nda_(3,8)     payed 2023-08-24 10:21:50  2023-08-24   \n",
              "1   22961      22679   nda_(24,32)     payed 2023-03-28 09:41:15  2023-03-30   \n",
              "2   20687      20386    nda_(49,9)     payed 2022-12-05 17:49:39  2022-12-05   \n",
              "3   16674      16501  nda_(100,33)     payed 2022-02-11 10:05:51  2022-02-15   \n",
              "4   16152      16028  nda_(105,36)     payed 2022-01-11 14:32:44  2022-01-15   \n",
              "5   14059      13834   nda_(137,8)     payed 2021-08-28 22:17:40  2021-08-29   \n",
              "6    9978       9712  nda_(193,10)     payed 2021-01-27 20:13:38  2021-01-30   \n",
              "7    7236       7117   nda_(228,2)  canceled 2020-09-05 19:38:27  2020-09-06   \n",
              "8    7243       7073   nda_(228,9)     payed 2020-09-05 19:49:47  2020-09-05   \n",
              "9    3568       3417   nda_(234,2)  canceled 2020-07-23 16:36:23  2020-07-23   \n",
              "10   2424       2227  nda_(237,34)  canceled 2020-03-19 17:51:53  2020-03-19   \n",
              "\n",
              "                   trainer_id                              lesson   kids  \\\n",
              "0   d8e976c9b9a9f9a4609a4413c                        Хатха - йога  False   \n",
              "1   24afa988163406000dd31a78d                            АЭРОЙОГА  False   \n",
              "2   9b4321a6001006da1a1e56d11                    Арома - Аэройога  False   \n",
              "3   e93a228046b0e849b613db6c6                            АЭРОЙОГА  False   \n",
              "4   a10321740f26a1da16645e644         Аэростретчинг с Александрой  False   \n",
              "5   a10321740f26a1da16645e644  АЭРОСТРЕТЧИНГ (растяжка с гамаком)  False   \n",
              "6   0ed1eb34ce87d36b41b5dac1b                            АЭРОЙОГА  False   \n",
              "7                        None                            АЭРОЙОГА  False   \n",
              "8   9b4321a6001006da1a1e56d11                    Арома - Аэройога  False   \n",
              "9   0ed1eb34ce87d36b41b5dac1b                            АЭРОЙОГА  False   \n",
              "10  0ed1eb34ce87d36b41b5dac1b                            АЭРОЙОГА  False   \n",
              "\n",
              "                        ctime                      mtime  \n",
              "0  2023-09-12 22:51:23.673085 2023-09-14 18:50:11.929322  \n",
              "1  2023-09-12 22:51:23.673085 2023-09-14 18:50:11.929322  \n",
              "2  2023-09-12 22:51:23.673085 2023-09-14 18:50:11.929322  \n",
              "3  2023-09-12 22:51:23.673085 2023-09-14 18:50:11.929322  \n",
              "4  2023-09-12 22:51:23.673085 2023-09-14 18:50:11.929322  \n",
              "5  2023-09-12 22:51:23.673085 2023-09-14 18:50:11.929322  \n",
              "6  2023-09-12 22:51:23.673085 2023-09-14 18:50:11.929322  \n",
              "7  2023-09-12 22:51:23.673085 2023-09-14 18:50:11.929322  \n",
              "8  2023-09-12 22:51:23.673085 2023-09-14 18:50:11.929322  \n",
              "9  2023-09-12 22:51:23.673085 2023-09-14 18:50:11.929322  \n",
              "10 2023-09-12 22:51:23.673085 2023-09-14 18:50:11.929322  "
            ],
            "text/html": [
              "\n",
              "  <div id=\"df-9fa3aa4b-4ee5-406e-89c9-b4dfbedb53b9\" class=\"colab-df-container\">\n",
              "    <div>\n",
              "<style scoped>\n",
              "    .dataframe tbody tr th:only-of-type {\n",
              "        vertical-align: middle;\n",
              "    }\n",
              "\n",
              "    .dataframe tbody tr th {\n",
              "        vertical-align: top;\n",
              "    }\n",
              "\n",
              "    .dataframe thead th {\n",
              "        text-align: right;\n",
              "    }\n",
              "</style>\n",
              "<table border=\"1\" class=\"dataframe\">\n",
              "  <thead>\n",
              "    <tr style=\"text-align: right;\">\n",
              "      <th></th>\n",
              "      <th>aid</th>\n",
              "      <th>lesson_id</th>\n",
              "      <th>client_id</th>\n",
              "      <th>status</th>\n",
              "      <th>book_date</th>\n",
              "      <th>visit_date</th>\n",
              "      <th>trainer_id</th>\n",
              "      <th>lesson</th>\n",
              "      <th>kids</th>\n",
              "      <th>ctime</th>\n",
              "      <th>mtime</th>\n",
              "    </tr>\n",
              "  </thead>\n",
              "  <tbody>\n",
              "    <tr>\n",
              "      <th>0</th>\n",
              "      <td>24746</td>\n",
              "      <td>24585</td>\n",
              "      <td>nda_(3,8)</td>\n",
              "      <td>payed</td>\n",
              "      <td>2023-08-24 10:21:50</td>\n",
              "      <td>2023-08-24</td>\n",
              "      <td>d8e976c9b9a9f9a4609a4413c</td>\n",
              "      <td>Хатха - йога</td>\n",
              "      <td>False</td>\n",
              "      <td>2023-09-12 22:51:23.673085</td>\n",
              "      <td>2023-09-14 18:50:11.929322</td>\n",
              "    </tr>\n",
              "    <tr>\n",
              "      <th>1</th>\n",
              "      <td>22961</td>\n",
              "      <td>22679</td>\n",
              "      <td>nda_(24,32)</td>\n",
              "      <td>payed</td>\n",
              "      <td>2023-03-28 09:41:15</td>\n",
              "      <td>2023-03-30</td>\n",
              "      <td>24afa988163406000dd31a78d</td>\n",
              "      <td>АЭРОЙОГА</td>\n",
              "      <td>False</td>\n",
              "      <td>2023-09-12 22:51:23.673085</td>\n",
              "      <td>2023-09-14 18:50:11.929322</td>\n",
              "    </tr>\n",
              "    <tr>\n",
              "      <th>2</th>\n",
              "      <td>20687</td>\n",
              "      <td>20386</td>\n",
              "      <td>nda_(49,9)</td>\n",
              "      <td>payed</td>\n",
              "      <td>2022-12-05 17:49:39</td>\n",
              "      <td>2022-12-05</td>\n",
              "      <td>9b4321a6001006da1a1e56d11</td>\n",
              "      <td>Арома - Аэройога</td>\n",
              "      <td>False</td>\n",
              "      <td>2023-09-12 22:51:23.673085</td>\n",
              "      <td>2023-09-14 18:50:11.929322</td>\n",
              "    </tr>\n",
              "    <tr>\n",
              "      <th>3</th>\n",
              "      <td>16674</td>\n",
              "      <td>16501</td>\n",
              "      <td>nda_(100,33)</td>\n",
              "      <td>payed</td>\n",
              "      <td>2022-02-11 10:05:51</td>\n",
              "      <td>2022-02-15</td>\n",
              "      <td>e93a228046b0e849b613db6c6</td>\n",
              "      <td>АЭРОЙОГА</td>\n",
              "      <td>False</td>\n",
              "      <td>2023-09-12 22:51:23.673085</td>\n",
              "      <td>2023-09-14 18:50:11.929322</td>\n",
              "    </tr>\n",
              "    <tr>\n",
              "      <th>4</th>\n",
              "      <td>16152</td>\n",
              "      <td>16028</td>\n",
              "      <td>nda_(105,36)</td>\n",
              "      <td>payed</td>\n",
              "      <td>2022-01-11 14:32:44</td>\n",
              "      <td>2022-01-15</td>\n",
              "      <td>a10321740f26a1da16645e644</td>\n",
              "      <td>Аэростретчинг с Александрой</td>\n",
              "      <td>False</td>\n",
              "      <td>2023-09-12 22:51:23.673085</td>\n",
              "      <td>2023-09-14 18:50:11.929322</td>\n",
              "    </tr>\n",
              "    <tr>\n",
              "      <th>5</th>\n",
              "      <td>14059</td>\n",
              "      <td>13834</td>\n",
              "      <td>nda_(137,8)</td>\n",
              "      <td>payed</td>\n",
              "      <td>2021-08-28 22:17:40</td>\n",
              "      <td>2021-08-29</td>\n",
              "      <td>a10321740f26a1da16645e644</td>\n",
              "      <td>АЭРОСТРЕТЧИНГ (растяжка с гамаком)</td>\n",
              "      <td>False</td>\n",
              "      <td>2023-09-12 22:51:23.673085</td>\n",
              "      <td>2023-09-14 18:50:11.929322</td>\n",
              "    </tr>\n",
              "    <tr>\n",
              "      <th>6</th>\n",
              "      <td>9978</td>\n",
              "      <td>9712</td>\n",
              "      <td>nda_(193,10)</td>\n",
              "      <td>payed</td>\n",
              "      <td>2021-01-27 20:13:38</td>\n",
              "      <td>2021-01-30</td>\n",
              "      <td>0ed1eb34ce87d36b41b5dac1b</td>\n",
              "      <td>АЭРОЙОГА</td>\n",
              "      <td>False</td>\n",
              "      <td>2023-09-12 22:51:23.673085</td>\n",
              "      <td>2023-09-14 18:50:11.929322</td>\n",
              "    </tr>\n",
              "    <tr>\n",
              "      <th>7</th>\n",
              "      <td>7236</td>\n",
              "      <td>7117</td>\n",
              "      <td>nda_(228,2)</td>\n",
              "      <td>canceled</td>\n",
              "      <td>2020-09-05 19:38:27</td>\n",
              "      <td>2020-09-06</td>\n",
              "      <td>None</td>\n",
              "      <td>АЭРОЙОГА</td>\n",
              "      <td>False</td>\n",
              "      <td>2023-09-12 22:51:23.673085</td>\n",
              "      <td>2023-09-14 18:50:11.929322</td>\n",
              "    </tr>\n",
              "    <tr>\n",
              "      <th>8</th>\n",
              "      <td>7243</td>\n",
              "      <td>7073</td>\n",
              "      <td>nda_(228,9)</td>\n",
              "      <td>payed</td>\n",
              "      <td>2020-09-05 19:49:47</td>\n",
              "      <td>2020-09-05</td>\n",
              "      <td>9b4321a6001006da1a1e56d11</td>\n",
              "      <td>Арома - Аэройога</td>\n",
              "      <td>False</td>\n",
              "      <td>2023-09-12 22:51:23.673085</td>\n",
              "      <td>2023-09-14 18:50:11.929322</td>\n",
              "    </tr>\n",
              "    <tr>\n",
              "      <th>9</th>\n",
              "      <td>3568</td>\n",
              "      <td>3417</td>\n",
              "      <td>nda_(234,2)</td>\n",
              "      <td>canceled</td>\n",
              "      <td>2020-07-23 16:36:23</td>\n",
              "      <td>2020-07-23</td>\n",
              "      <td>0ed1eb34ce87d36b41b5dac1b</td>\n",
              "      <td>АЭРОЙОГА</td>\n",
              "      <td>False</td>\n",
              "      <td>2023-09-12 22:51:23.673085</td>\n",
              "      <td>2023-09-14 18:50:11.929322</td>\n",
              "    </tr>\n",
              "    <tr>\n",
              "      <th>10</th>\n",
              "      <td>2424</td>\n",
              "      <td>2227</td>\n",
              "      <td>nda_(237,34)</td>\n",
              "      <td>canceled</td>\n",
              "      <td>2020-03-19 17:51:53</td>\n",
              "      <td>2020-03-19</td>\n",
              "      <td>0ed1eb34ce87d36b41b5dac1b</td>\n",
              "      <td>АЭРОЙОГА</td>\n",
              "      <td>False</td>\n",
              "      <td>2023-09-12 22:51:23.673085</td>\n",
              "      <td>2023-09-14 18:50:11.929322</td>\n",
              "    </tr>\n",
              "  </tbody>\n",
              "</table>\n",
              "</div>\n",
              "    <div class=\"colab-df-buttons\">\n",
              "\n",
              "  <div class=\"colab-df-container\">\n",
              "    <button class=\"colab-df-convert\" onclick=\"convertToInteractive('df-9fa3aa4b-4ee5-406e-89c9-b4dfbedb53b9')\"\n",
              "            title=\"Convert this dataframe to an interactive table.\"\n",
              "            style=\"display:none;\">\n",
              "\n",
              "  <svg xmlns=\"http://www.w3.org/2000/svg\" height=\"24px\" viewBox=\"0 -960 960 960\">\n",
              "    <path d=\"M120-120v-720h720v720H120Zm60-500h600v-160H180v160Zm220 220h160v-160H400v160Zm0 220h160v-160H400v160ZM180-400h160v-160H180v160Zm440 0h160v-160H620v160ZM180-180h160v-160H180v160Zm440 0h160v-160H620v160Z\"/>\n",
              "  </svg>\n",
              "    </button>\n",
              "\n",
              "  <style>\n",
              "    .colab-df-container {\n",
              "      display:flex;\n",
              "      gap: 12px;\n",
              "    }\n",
              "\n",
              "    .colab-df-convert {\n",
              "      background-color: #E8F0FE;\n",
              "      border: none;\n",
              "      border-radius: 50%;\n",
              "      cursor: pointer;\n",
              "      display: none;\n",
              "      fill: #1967D2;\n",
              "      height: 32px;\n",
              "      padding: 0 0 0 0;\n",
              "      width: 32px;\n",
              "    }\n",
              "\n",
              "    .colab-df-convert:hover {\n",
              "      background-color: #E2EBFA;\n",
              "      box-shadow: 0px 1px 2px rgba(60, 64, 67, 0.3), 0px 1px 3px 1px rgba(60, 64, 67, 0.15);\n",
              "      fill: #174EA6;\n",
              "    }\n",
              "\n",
              "    .colab-df-buttons div {\n",
              "      margin-bottom: 4px;\n",
              "    }\n",
              "\n",
              "    [theme=dark] .colab-df-convert {\n",
              "      background-color: #3B4455;\n",
              "      fill: #D2E3FC;\n",
              "    }\n",
              "\n",
              "    [theme=dark] .colab-df-convert:hover {\n",
              "      background-color: #434B5C;\n",
              "      box-shadow: 0px 1px 3px 1px rgba(0, 0, 0, 0.15);\n",
              "      filter: drop-shadow(0px 1px 2px rgba(0, 0, 0, 0.3));\n",
              "      fill: #FFFFFF;\n",
              "    }\n",
              "  </style>\n",
              "\n",
              "    <script>\n",
              "      const buttonEl =\n",
              "        document.querySelector('#df-9fa3aa4b-4ee5-406e-89c9-b4dfbedb53b9 button.colab-df-convert');\n",
              "      buttonEl.style.display =\n",
              "        google.colab.kernel.accessAllowed ? 'block' : 'none';\n",
              "\n",
              "      async function convertToInteractive(key) {\n",
              "        const element = document.querySelector('#df-9fa3aa4b-4ee5-406e-89c9-b4dfbedb53b9');\n",
              "        const dataTable =\n",
              "          await google.colab.kernel.invokeFunction('convertToInteractive',\n",
              "                                                    [key], {});\n",
              "        if (!dataTable) return;\n",
              "\n",
              "        const docLinkHtml = 'Like what you see? Visit the ' +\n",
              "          '<a target=\"_blank\" href=https://colab.research.google.com/notebooks/data_table.ipynb>data table notebook</a>'\n",
              "          + ' to learn more about interactive tables.';\n",
              "        element.innerHTML = '';\n",
              "        dataTable['output_type'] = 'display_data';\n",
              "        await google.colab.output.renderOutput(dataTable, element);\n",
              "        const docLink = document.createElement('div');\n",
              "        docLink.innerHTML = docLinkHtml;\n",
              "        element.appendChild(docLink);\n",
              "      }\n",
              "    </script>\n",
              "  </div>\n",
              "\n",
              "\n",
              "<div id=\"df-69f12ec3-6870-470c-ab0e-1044e7e543f3\">\n",
              "  <button class=\"colab-df-quickchart\" onclick=\"quickchart('df-69f12ec3-6870-470c-ab0e-1044e7e543f3')\"\n",
              "            title=\"Suggest charts.\"\n",
              "            style=\"display:none;\">\n",
              "\n",
              "<svg xmlns=\"http://www.w3.org/2000/svg\" height=\"24px\"viewBox=\"0 0 24 24\"\n",
              "     width=\"24px\">\n",
              "    <g>\n",
              "        <path d=\"M19 3H5c-1.1 0-2 .9-2 2v14c0 1.1.9 2 2 2h14c1.1 0 2-.9 2-2V5c0-1.1-.9-2-2-2zM9 17H7v-7h2v7zm4 0h-2V7h2v10zm4 0h-2v-4h2v4z\"/>\n",
              "    </g>\n",
              "</svg>\n",
              "  </button>\n",
              "\n",
              "<style>\n",
              "  .colab-df-quickchart {\n",
              "      --bg-color: #E8F0FE;\n",
              "      --fill-color: #1967D2;\n",
              "      --hover-bg-color: #E2EBFA;\n",
              "      --hover-fill-color: #174EA6;\n",
              "      --disabled-fill-color: #AAA;\n",
              "      --disabled-bg-color: #DDD;\n",
              "  }\n",
              "\n",
              "  [theme=dark] .colab-df-quickchart {\n",
              "      --bg-color: #3B4455;\n",
              "      --fill-color: #D2E3FC;\n",
              "      --hover-bg-color: #434B5C;\n",
              "      --hover-fill-color: #FFFFFF;\n",
              "      --disabled-bg-color: #3B4455;\n",
              "      --disabled-fill-color: #666;\n",
              "  }\n",
              "\n",
              "  .colab-df-quickchart {\n",
              "    background-color: var(--bg-color);\n",
              "    border: none;\n",
              "    border-radius: 50%;\n",
              "    cursor: pointer;\n",
              "    display: none;\n",
              "    fill: var(--fill-color);\n",
              "    height: 32px;\n",
              "    padding: 0;\n",
              "    width: 32px;\n",
              "  }\n",
              "\n",
              "  .colab-df-quickchart:hover {\n",
              "    background-color: var(--hover-bg-color);\n",
              "    box-shadow: 0 1px 2px rgba(60, 64, 67, 0.3), 0 1px 3px 1px rgba(60, 64, 67, 0.15);\n",
              "    fill: var(--button-hover-fill-color);\n",
              "  }\n",
              "\n",
              "  .colab-df-quickchart-complete:disabled,\n",
              "  .colab-df-quickchart-complete:disabled:hover {\n",
              "    background-color: var(--disabled-bg-color);\n",
              "    fill: var(--disabled-fill-color);\n",
              "    box-shadow: none;\n",
              "  }\n",
              "\n",
              "  .colab-df-spinner {\n",
              "    border: 2px solid var(--fill-color);\n",
              "    border-color: transparent;\n",
              "    border-bottom-color: var(--fill-color);\n",
              "    animation:\n",
              "      spin 1s steps(1) infinite;\n",
              "  }\n",
              "\n",
              "  @keyframes spin {\n",
              "    0% {\n",
              "      border-color: transparent;\n",
              "      border-bottom-color: var(--fill-color);\n",
              "      border-left-color: var(--fill-color);\n",
              "    }\n",
              "    20% {\n",
              "      border-color: transparent;\n",
              "      border-left-color: var(--fill-color);\n",
              "      border-top-color: var(--fill-color);\n",
              "    }\n",
              "    30% {\n",
              "      border-color: transparent;\n",
              "      border-left-color: var(--fill-color);\n",
              "      border-top-color: var(--fill-color);\n",
              "      border-right-color: var(--fill-color);\n",
              "    }\n",
              "    40% {\n",
              "      border-color: transparent;\n",
              "      border-right-color: var(--fill-color);\n",
              "      border-top-color: var(--fill-color);\n",
              "    }\n",
              "    60% {\n",
              "      border-color: transparent;\n",
              "      border-right-color: var(--fill-color);\n",
              "    }\n",
              "    80% {\n",
              "      border-color: transparent;\n",
              "      border-right-color: var(--fill-color);\n",
              "      border-bottom-color: var(--fill-color);\n",
              "    }\n",
              "    90% {\n",
              "      border-color: transparent;\n",
              "      border-bottom-color: var(--fill-color);\n",
              "    }\n",
              "  }\n",
              "</style>\n",
              "\n",
              "  <script>\n",
              "    async function quickchart(key) {\n",
              "      const quickchartButtonEl =\n",
              "        document.querySelector('#' + key + ' button');\n",
              "      quickchartButtonEl.disabled = true;  // To prevent multiple clicks.\n",
              "      quickchartButtonEl.classList.add('colab-df-spinner');\n",
              "      try {\n",
              "        const charts = await google.colab.kernel.invokeFunction(\n",
              "            'suggestCharts', [key], {});\n",
              "      } catch (error) {\n",
              "        console.error('Error during call to suggestCharts:', error);\n",
              "      }\n",
              "      quickchartButtonEl.classList.remove('colab-df-spinner');\n",
              "      quickchartButtonEl.classList.add('colab-df-quickchart-complete');\n",
              "    }\n",
              "    (() => {\n",
              "      let quickchartButtonEl =\n",
              "        document.querySelector('#df-69f12ec3-6870-470c-ab0e-1044e7e543f3 button');\n",
              "      quickchartButtonEl.style.display =\n",
              "        google.colab.kernel.accessAllowed ? 'block' : 'none';\n",
              "    })();\n",
              "  </script>\n",
              "</div>\n",
              "    </div>\n",
              "  </div>\n"
            ]
          },
          "metadata": {}
        }
      ]
    },
    {
      "cell_type": "markdown",
      "source": [
        "подобных значений в client_id (типа nda) на момент 20230915 не увидел"
      ],
      "metadata": {
        "id": "jTmfzoDu0T2s"
      }
    },
    {
      "cell_type": "code",
      "source": [
        "# смотрим есть ли клиенты с записями, которых нет в клиентах\n",
        "display(pd.io.sql.read_sql('''\n",
        "SELECT *\n",
        "FROM clitnts\n",
        "WHERE client_id NOT IN (SELECT unid FROM clients)\n",
        "LIMIT 15;\n",
        "''', con = engine))"
      ],
      "metadata": {
        "id": "q15R-9T6yIw1",
        "outputId": "a492e872-cde5-4c3e-93f8-bb88877d3374",
        "colab": {
          "base_uri": "https://localhost:8080/",
          "height": 177
        }
      },
      "execution_count": 38,
      "outputs": [
        {
          "output_type": "error",
          "ename": "NameError",
          "evalue": "ignored",
          "traceback": [
            "\u001b[0;31m---------------------------------------------------------------------------\u001b[0m",
            "\u001b[0;31mNameError\u001b[0m                                 Traceback (most recent call last)",
            "\u001b[0;32m<ipython-input-38-6929c74a40ed>\u001b[0m in \u001b[0;36m<cell line: 1>\u001b[0;34m()\u001b[0m\n\u001b[0;32m----> 1\u001b[0;31m \u001b[0mSE\u001b[0m\u001b[0;34m\u001b[0m\u001b[0;34m\u001b[0m\u001b[0m\n\u001b[0m",
            "\u001b[0;31mNameError\u001b[0m: name 'SE' is not defined"
          ]
        }
      ]
    },
    {
      "cell_type": "code",
      "source": [],
      "metadata": {
        "id": "mWvCu79WyIuU"
      },
      "execution_count": null,
      "outputs": []
    },
    {
      "cell_type": "code",
      "source": [],
      "metadata": {
        "id": "g9a-UouQyIro"
      },
      "execution_count": null,
      "outputs": []
    },
    {
      "cell_type": "code",
      "source": [],
      "metadata": {
        "id": "jWIQBlXryIov"
      },
      "execution_count": null,
      "outputs": []
    },
    {
      "cell_type": "code",
      "execution_count": null,
      "metadata": {
        "id": "dnjEAYvkhevI"
      },
      "outputs": [],
      "source": [
        "# выведем первые пять строк таблицы books - она содержит данные о книгах:\n",
        "query = '''\n",
        "SELECT *\n",
        "FROM books\n",
        "LIMIT 5 '''"
      ]
    },
    {
      "cell_type": "code",
      "execution_count": null,
      "metadata": {
        "id": "GKQg6OYohevJ"
      },
      "outputs": [],
      "source": [
        "engine.execute(query);"
      ]
    },
    {
      "cell_type": "code",
      "execution_count": null,
      "metadata": {
        "id": "eClJGYm7hevK",
        "outputId": "bdbec0b4-1575-4b9b-c48a-0f96324be4e8"
      },
      "outputs": [
        {
          "data": {
            "text/html": [
              "<div>\n",
              "<style scoped>\n",
              "    .dataframe tbody tr th:only-of-type {\n",
              "        vertical-align: middle;\n",
              "    }\n",
              "\n",
              "    .dataframe tbody tr th {\n",
              "        vertical-align: top;\n",
              "    }\n",
              "\n",
              "    .dataframe thead th {\n",
              "        text-align: right;\n",
              "    }\n",
              "</style>\n",
              "<table border=\"1\" class=\"dataframe\">\n",
              "  <thead>\n",
              "    <tr style=\"text-align: right;\">\n",
              "      <th></th>\n",
              "      <th>book_id</th>\n",
              "      <th>author_id</th>\n",
              "      <th>title</th>\n",
              "      <th>num_pages</th>\n",
              "      <th>publication_date</th>\n",
              "      <th>publisher_id</th>\n",
              "    </tr>\n",
              "  </thead>\n",
              "  <tbody>\n",
              "    <tr>\n",
              "      <th>0</th>\n",
              "      <td>1</td>\n",
              "      <td>546</td>\n",
              "      <td>'Salem's Lot</td>\n",
              "      <td>594</td>\n",
              "      <td>2005-11-01</td>\n",
              "      <td>93</td>\n",
              "    </tr>\n",
              "    <tr>\n",
              "      <th>1</th>\n",
              "      <td>2</td>\n",
              "      <td>465</td>\n",
              "      <td>1 000 Places to See Before You Die</td>\n",
              "      <td>992</td>\n",
              "      <td>2003-05-22</td>\n",
              "      <td>336</td>\n",
              "    </tr>\n",
              "    <tr>\n",
              "      <th>2</th>\n",
              "      <td>3</td>\n",
              "      <td>407</td>\n",
              "      <td>13 Little Blue Envelopes (Little Blue Envelope...</td>\n",
              "      <td>322</td>\n",
              "      <td>2010-12-21</td>\n",
              "      <td>135</td>\n",
              "    </tr>\n",
              "    <tr>\n",
              "      <th>3</th>\n",
              "      <td>4</td>\n",
              "      <td>82</td>\n",
              "      <td>1491: New Revelations of the Americas Before C...</td>\n",
              "      <td>541</td>\n",
              "      <td>2006-10-10</td>\n",
              "      <td>309</td>\n",
              "    </tr>\n",
              "    <tr>\n",
              "      <th>4</th>\n",
              "      <td>5</td>\n",
              "      <td>125</td>\n",
              "      <td>1776</td>\n",
              "      <td>386</td>\n",
              "      <td>2006-07-04</td>\n",
              "      <td>268</td>\n",
              "    </tr>\n",
              "  </tbody>\n",
              "</table>\n",
              "</div>"
            ],
            "text/plain": [
              "   book_id  author_id                                              title  \\\n",
              "0        1        546                                       'Salem's Lot   \n",
              "1        2        465                 1 000 Places to See Before You Die   \n",
              "2        3        407  13 Little Blue Envelopes (Little Blue Envelope...   \n",
              "3        4         82  1491: New Revelations of the Americas Before C...   \n",
              "4        5        125                                               1776   \n",
              "\n",
              "   num_pages publication_date  publisher_id  \n",
              "0        594       2005-11-01            93  \n",
              "1        992       2003-05-22           336  \n",
              "2        322       2010-12-21           135  \n",
              "3        541       2006-10-10           309  \n",
              "4        386       2006-07-04           268  "
            ]
          },
          "execution_count": 6,
          "metadata": {},
          "output_type": "execute_result"
        }
      ],
      "source": [
        "pd.io.sql.read_sql(query, con = engine)"
      ]
    },
    {
      "cell_type": "markdown",
      "metadata": {
        "id": "c0u0h2cShevL"
      },
      "source": [
        "<div class=\"alert alert-success\"><b>Комментарий ревьюера</b>&nbsp;<br>\n",
        "✔️ Хорошо, что ограничиваешь число загружаемых в память локальной машины строк средствами SQL, для крупных таблиц это будет критически важно\n",
        "\n",
        "Круто что ты ниже отдельным запросом смотришь на другие статистики\n",
        "</div>"
      ]
    },
    {
      "cell_type": "code",
      "execution_count": null,
      "metadata": {
        "id": "9DE3IEwqhevM"
      },
      "outputs": [],
      "source": [
        "# выведем наибольшее и наименьшее кол-во страниц и самую раннюю и самую позднюю даты публикации, кол-во строк:\n",
        "query = '''\n",
        "SELECT  MAX(num_pages) AS max_num_pages,\n",
        "        MIN(num_pages) AS min_num_pages,\n",
        "        MAX(publication_date) AS max_date,\n",
        "        MIN(publication_date) AS min_date,\n",
        "        COUNT(*)\n",
        "FROM books\n",
        "'''"
      ]
    },
    {
      "cell_type": "code",
      "execution_count": null,
      "metadata": {
        "id": "u8LzahoEhevM"
      },
      "outputs": [],
      "source": [
        "engine.execute(query);"
      ]
    },
    {
      "cell_type": "code",
      "execution_count": null,
      "metadata": {
        "id": "_6T9DyLjhevN",
        "outputId": "48bef023-aeb9-48c7-eb6a-91dec5ea4809"
      },
      "outputs": [
        {
          "data": {
            "text/html": [
              "<div>\n",
              "<style scoped>\n",
              "    .dataframe tbody tr th:only-of-type {\n",
              "        vertical-align: middle;\n",
              "    }\n",
              "\n",
              "    .dataframe tbody tr th {\n",
              "        vertical-align: top;\n",
              "    }\n",
              "\n",
              "    .dataframe thead th {\n",
              "        text-align: right;\n",
              "    }\n",
              "</style>\n",
              "<table border=\"1\" class=\"dataframe\">\n",
              "  <thead>\n",
              "    <tr style=\"text-align: right;\">\n",
              "      <th></th>\n",
              "      <th>max_num_pages</th>\n",
              "      <th>min_num_pages</th>\n",
              "      <th>max_date</th>\n",
              "      <th>min_date</th>\n",
              "      <th>count</th>\n",
              "    </tr>\n",
              "  </thead>\n",
              "  <tbody>\n",
              "    <tr>\n",
              "      <th>0</th>\n",
              "      <td>2690</td>\n",
              "      <td>14</td>\n",
              "      <td>2020-03-31</td>\n",
              "      <td>1952-12-01</td>\n",
              "      <td>1000</td>\n",
              "    </tr>\n",
              "  </tbody>\n",
              "</table>\n",
              "</div>"
            ],
            "text/plain": [
              "   max_num_pages  min_num_pages    max_date    min_date  count\n",
              "0           2690             14  2020-03-31  1952-12-01   1000"
            ]
          },
          "execution_count": 9,
          "metadata": {},
          "output_type": "execute_result"
        }
      ],
      "source": [
        "pd.io.sql.read_sql(query, con = engine)"
      ]
    },
    {
      "cell_type": "code",
      "execution_count": null,
      "metadata": {
        "id": "YpPMVbfBhevO"
      },
      "outputs": [],
      "source": [
        "# далее выведем пять первых строк таблицы authors - она содержит данные об авторах:\n",
        "query = '''\n",
        "SELECT *\n",
        "FROM authors\n",
        "LIMIT 5 '''"
      ]
    },
    {
      "cell_type": "code",
      "execution_count": null,
      "metadata": {
        "id": "xddUlgKThevO"
      },
      "outputs": [],
      "source": [
        "engine.execute(query);"
      ]
    },
    {
      "cell_type": "code",
      "execution_count": null,
      "metadata": {
        "id": "2v2-UKhWhevQ",
        "outputId": "cfa2a1ba-7d62-4e07-dccb-169d8fe33518"
      },
      "outputs": [
        {
          "data": {
            "text/html": [
              "<div>\n",
              "<style scoped>\n",
              "    .dataframe tbody tr th:only-of-type {\n",
              "        vertical-align: middle;\n",
              "    }\n",
              "\n",
              "    .dataframe tbody tr th {\n",
              "        vertical-align: top;\n",
              "    }\n",
              "\n",
              "    .dataframe thead th {\n",
              "        text-align: right;\n",
              "    }\n",
              "</style>\n",
              "<table border=\"1\" class=\"dataframe\">\n",
              "  <thead>\n",
              "    <tr style=\"text-align: right;\">\n",
              "      <th></th>\n",
              "      <th>author_id</th>\n",
              "      <th>author</th>\n",
              "    </tr>\n",
              "  </thead>\n",
              "  <tbody>\n",
              "    <tr>\n",
              "      <th>0</th>\n",
              "      <td>1</td>\n",
              "      <td>A.S. Byatt</td>\n",
              "    </tr>\n",
              "    <tr>\n",
              "      <th>1</th>\n",
              "      <td>2</td>\n",
              "      <td>Aesop/Laura Harris/Laura Gibbs</td>\n",
              "    </tr>\n",
              "    <tr>\n",
              "      <th>2</th>\n",
              "      <td>3</td>\n",
              "      <td>Agatha Christie</td>\n",
              "    </tr>\n",
              "    <tr>\n",
              "      <th>3</th>\n",
              "      <td>4</td>\n",
              "      <td>Alan Brennert</td>\n",
              "    </tr>\n",
              "    <tr>\n",
              "      <th>4</th>\n",
              "      <td>5</td>\n",
              "      <td>Alan Moore/David   Lloyd</td>\n",
              "    </tr>\n",
              "  </tbody>\n",
              "</table>\n",
              "</div>"
            ],
            "text/plain": [
              "   author_id                          author\n",
              "0          1                      A.S. Byatt\n",
              "1          2  Aesop/Laura Harris/Laura Gibbs\n",
              "2          3                 Agatha Christie\n",
              "3          4                   Alan Brennert\n",
              "4          5        Alan Moore/David   Lloyd"
            ]
          },
          "execution_count": 12,
          "metadata": {},
          "output_type": "execute_result"
        }
      ],
      "source": [
        "pd.io.sql.read_sql(query, con = engine)"
      ]
    },
    {
      "cell_type": "code",
      "execution_count": null,
      "metadata": {
        "id": "siu-XzQWhevR"
      },
      "outputs": [],
      "source": [
        "# далее выведем пять первых строк таблицы publishers - она содержит данные об издательствах:\n",
        "query = '''\n",
        "SELECT *\n",
        "FROM publishers\n",
        "LIMIT 5 '''"
      ]
    },
    {
      "cell_type": "code",
      "execution_count": null,
      "metadata": {
        "id": "4xpn-JV9hevS"
      },
      "outputs": [],
      "source": [
        "engine.execute(query);"
      ]
    },
    {
      "cell_type": "code",
      "execution_count": null,
      "metadata": {
        "id": "iRUhOhtzhevS",
        "outputId": "e8014b0d-c06d-42dd-995a-59375fa5d3f6"
      },
      "outputs": [
        {
          "data": {
            "text/html": [
              "<div>\n",
              "<style scoped>\n",
              "    .dataframe tbody tr th:only-of-type {\n",
              "        vertical-align: middle;\n",
              "    }\n",
              "\n",
              "    .dataframe tbody tr th {\n",
              "        vertical-align: top;\n",
              "    }\n",
              "\n",
              "    .dataframe thead th {\n",
              "        text-align: right;\n",
              "    }\n",
              "</style>\n",
              "<table border=\"1\" class=\"dataframe\">\n",
              "  <thead>\n",
              "    <tr style=\"text-align: right;\">\n",
              "      <th></th>\n",
              "      <th>publisher_id</th>\n",
              "      <th>publisher</th>\n",
              "    </tr>\n",
              "  </thead>\n",
              "  <tbody>\n",
              "    <tr>\n",
              "      <th>0</th>\n",
              "      <td>1</td>\n",
              "      <td>Ace</td>\n",
              "    </tr>\n",
              "    <tr>\n",
              "      <th>1</th>\n",
              "      <td>2</td>\n",
              "      <td>Ace Book</td>\n",
              "    </tr>\n",
              "    <tr>\n",
              "      <th>2</th>\n",
              "      <td>3</td>\n",
              "      <td>Ace Books</td>\n",
              "    </tr>\n",
              "    <tr>\n",
              "      <th>3</th>\n",
              "      <td>4</td>\n",
              "      <td>Ace Hardcover</td>\n",
              "    </tr>\n",
              "    <tr>\n",
              "      <th>4</th>\n",
              "      <td>5</td>\n",
              "      <td>Addison Wesley Publishing Company</td>\n",
              "    </tr>\n",
              "  </tbody>\n",
              "</table>\n",
              "</div>"
            ],
            "text/plain": [
              "   publisher_id                          publisher\n",
              "0             1                                Ace\n",
              "1             2                           Ace Book\n",
              "2             3                          Ace Books\n",
              "3             4                      Ace Hardcover\n",
              "4             5  Addison Wesley Publishing Company"
            ]
          },
          "execution_count": 15,
          "metadata": {},
          "output_type": "execute_result"
        }
      ],
      "source": [
        "pd.io.sql.read_sql(query, con = engine)"
      ]
    },
    {
      "cell_type": "code",
      "execution_count": null,
      "metadata": {
        "id": "2GUz1aLOhevT"
      },
      "outputs": [],
      "source": [
        "# далее выведем пять первых строк таблицы ratings - она содержит данные о пользовательских оценках книг:\n",
        "query = '''\n",
        "SELECT *\n",
        "FROM ratings\n",
        "LIMIT 5 '''"
      ]
    },
    {
      "cell_type": "code",
      "execution_count": null,
      "metadata": {
        "id": "XxVzy3s-hevU"
      },
      "outputs": [],
      "source": [
        "engine.execute(query);"
      ]
    },
    {
      "cell_type": "code",
      "execution_count": null,
      "metadata": {
        "id": "6inS6iXThevU",
        "outputId": "8c0fe128-343d-429c-b014-b3d6302bba9e"
      },
      "outputs": [
        {
          "data": {
            "text/html": [
              "<div>\n",
              "<style scoped>\n",
              "    .dataframe tbody tr th:only-of-type {\n",
              "        vertical-align: middle;\n",
              "    }\n",
              "\n",
              "    .dataframe tbody tr th {\n",
              "        vertical-align: top;\n",
              "    }\n",
              "\n",
              "    .dataframe thead th {\n",
              "        text-align: right;\n",
              "    }\n",
              "</style>\n",
              "<table border=\"1\" class=\"dataframe\">\n",
              "  <thead>\n",
              "    <tr style=\"text-align: right;\">\n",
              "      <th></th>\n",
              "      <th>rating_id</th>\n",
              "      <th>book_id</th>\n",
              "      <th>username</th>\n",
              "      <th>rating</th>\n",
              "    </tr>\n",
              "  </thead>\n",
              "  <tbody>\n",
              "    <tr>\n",
              "      <th>0</th>\n",
              "      <td>1</td>\n",
              "      <td>1</td>\n",
              "      <td>ryanfranco</td>\n",
              "      <td>4</td>\n",
              "    </tr>\n",
              "    <tr>\n",
              "      <th>1</th>\n",
              "      <td>2</td>\n",
              "      <td>1</td>\n",
              "      <td>grantpatricia</td>\n",
              "      <td>2</td>\n",
              "    </tr>\n",
              "    <tr>\n",
              "      <th>2</th>\n",
              "      <td>3</td>\n",
              "      <td>1</td>\n",
              "      <td>brandtandrea</td>\n",
              "      <td>5</td>\n",
              "    </tr>\n",
              "    <tr>\n",
              "      <th>3</th>\n",
              "      <td>4</td>\n",
              "      <td>2</td>\n",
              "      <td>lorichen</td>\n",
              "      <td>3</td>\n",
              "    </tr>\n",
              "    <tr>\n",
              "      <th>4</th>\n",
              "      <td>5</td>\n",
              "      <td>2</td>\n",
              "      <td>mariokeller</td>\n",
              "      <td>2</td>\n",
              "    </tr>\n",
              "  </tbody>\n",
              "</table>\n",
              "</div>"
            ],
            "text/plain": [
              "   rating_id  book_id       username  rating\n",
              "0          1        1     ryanfranco       4\n",
              "1          2        1  grantpatricia       2\n",
              "2          3        1   brandtandrea       5\n",
              "3          4        2       lorichen       3\n",
              "4          5        2    mariokeller       2"
            ]
          },
          "execution_count": 18,
          "metadata": {},
          "output_type": "execute_result"
        }
      ],
      "source": [
        "pd.io.sql.read_sql(query, con = engine)"
      ]
    },
    {
      "cell_type": "code",
      "execution_count": null,
      "metadata": {
        "id": "vQ629YgbhevV"
      },
      "outputs": [],
      "source": [
        "# посмотрим максимальную и минимальную оценку книг:\n",
        "query = '''\n",
        "SELECT MAX(rating) AS max_rating,\n",
        "       MIN(rating) AS min_rating\n",
        "FROM ratings\n",
        "'''"
      ]
    },
    {
      "cell_type": "code",
      "execution_count": null,
      "metadata": {
        "id": "6WwMVlY0hevV"
      },
      "outputs": [],
      "source": [
        "engine.execute(query);"
      ]
    },
    {
      "cell_type": "code",
      "execution_count": null,
      "metadata": {
        "id": "sg6Imn-5hevW",
        "outputId": "a85d4e30-620b-47c3-bb44-c0fd58c156a7"
      },
      "outputs": [
        {
          "data": {
            "text/html": [
              "<div>\n",
              "<style scoped>\n",
              "    .dataframe tbody tr th:only-of-type {\n",
              "        vertical-align: middle;\n",
              "    }\n",
              "\n",
              "    .dataframe tbody tr th {\n",
              "        vertical-align: top;\n",
              "    }\n",
              "\n",
              "    .dataframe thead th {\n",
              "        text-align: right;\n",
              "    }\n",
              "</style>\n",
              "<table border=\"1\" class=\"dataframe\">\n",
              "  <thead>\n",
              "    <tr style=\"text-align: right;\">\n",
              "      <th></th>\n",
              "      <th>max_rating</th>\n",
              "      <th>min_rating</th>\n",
              "    </tr>\n",
              "  </thead>\n",
              "  <tbody>\n",
              "    <tr>\n",
              "      <th>0</th>\n",
              "      <td>5</td>\n",
              "      <td>1</td>\n",
              "    </tr>\n",
              "  </tbody>\n",
              "</table>\n",
              "</div>"
            ],
            "text/plain": [
              "   max_rating  min_rating\n",
              "0           5           1"
            ]
          },
          "execution_count": 21,
          "metadata": {},
          "output_type": "execute_result"
        }
      ],
      "source": [
        "pd.io.sql.read_sql(query, con = engine)"
      ]
    },
    {
      "cell_type": "code",
      "execution_count": null,
      "metadata": {
        "id": "3XQ68sJEhevW"
      },
      "outputs": [],
      "source": [
        "# на последок выведем пять первых строк таблицы reviews - она содержит данные о пользовательских обзорах:\n",
        "query = '''\n",
        "SELECT *\n",
        "FROM reviews\n",
        "LIMIT 5 '''"
      ]
    },
    {
      "cell_type": "code",
      "execution_count": null,
      "metadata": {
        "id": "VEhi_lMohevW"
      },
      "outputs": [],
      "source": [
        "engine.execute(query);"
      ]
    },
    {
      "cell_type": "code",
      "execution_count": null,
      "metadata": {
        "id": "xgbOpUiUhevX",
        "outputId": "43398426-a36e-447e-bef4-cb8bfd79140f"
      },
      "outputs": [
        {
          "data": {
            "text/html": [
              "<div>\n",
              "<style scoped>\n",
              "    .dataframe tbody tr th:only-of-type {\n",
              "        vertical-align: middle;\n",
              "    }\n",
              "\n",
              "    .dataframe tbody tr th {\n",
              "        vertical-align: top;\n",
              "    }\n",
              "\n",
              "    .dataframe thead th {\n",
              "        text-align: right;\n",
              "    }\n",
              "</style>\n",
              "<table border=\"1\" class=\"dataframe\">\n",
              "  <thead>\n",
              "    <tr style=\"text-align: right;\">\n",
              "      <th></th>\n",
              "      <th>review_id</th>\n",
              "      <th>book_id</th>\n",
              "      <th>username</th>\n",
              "      <th>text</th>\n",
              "    </tr>\n",
              "  </thead>\n",
              "  <tbody>\n",
              "    <tr>\n",
              "      <th>0</th>\n",
              "      <td>1</td>\n",
              "      <td>1</td>\n",
              "      <td>brandtandrea</td>\n",
              "      <td>Mention society tell send professor analysis. ...</td>\n",
              "    </tr>\n",
              "    <tr>\n",
              "      <th>1</th>\n",
              "      <td>2</td>\n",
              "      <td>1</td>\n",
              "      <td>ryanfranco</td>\n",
              "      <td>Foot glass pretty audience hit themselves. Amo...</td>\n",
              "    </tr>\n",
              "    <tr>\n",
              "      <th>2</th>\n",
              "      <td>3</td>\n",
              "      <td>2</td>\n",
              "      <td>lorichen</td>\n",
              "      <td>Listen treat keep worry. Miss husband tax but ...</td>\n",
              "    </tr>\n",
              "    <tr>\n",
              "      <th>3</th>\n",
              "      <td>4</td>\n",
              "      <td>3</td>\n",
              "      <td>johnsonamanda</td>\n",
              "      <td>Finally month interesting blue could nature cu...</td>\n",
              "    </tr>\n",
              "    <tr>\n",
              "      <th>4</th>\n",
              "      <td>5</td>\n",
              "      <td>3</td>\n",
              "      <td>scotttamara</td>\n",
              "      <td>Nation purpose heavy give wait song will. List...</td>\n",
              "    </tr>\n",
              "  </tbody>\n",
              "</table>\n",
              "</div>"
            ],
            "text/plain": [
              "   review_id  book_id       username  \\\n",
              "0          1        1   brandtandrea   \n",
              "1          2        1     ryanfranco   \n",
              "2          3        2       lorichen   \n",
              "3          4        3  johnsonamanda   \n",
              "4          5        3    scotttamara   \n",
              "\n",
              "                                                text  \n",
              "0  Mention society tell send professor analysis. ...  \n",
              "1  Foot glass pretty audience hit themselves. Amo...  \n",
              "2  Listen treat keep worry. Miss husband tax but ...  \n",
              "3  Finally month interesting blue could nature cu...  \n",
              "4  Nation purpose heavy give wait song will. List...  "
            ]
          },
          "execution_count": 24,
          "metadata": {},
          "output_type": "execute_result"
        }
      ],
      "source": [
        "pd.io.sql.read_sql(query, con = engine)"
      ]
    },
    {
      "cell_type": "markdown",
      "metadata": {
        "id": "ANmA8WPhhevX"
      },
      "source": [
        "<div class=\"alert alert-success\"><b>Комментарий ревьюера</b>&nbsp;📝<br>\n",
        "Хорошо! Мы познакомились с данными: посмотрели содержимое таблиц и заодно проверили соединение с сервером. Ниже некоторые полезные запросы, которые могут помочь в будущем\n",
        "</div>"
      ]
    },
    {
      "cell_type": "code",
      "execution_count": null,
      "metadata": {
        "id": "T3vAftl6hevX",
        "outputId": "bb998fc3-d961-4f0f-c2e6-d2193ca046cc"
      },
      "outputs": [
        {
          "data": {
            "text/html": [
              "<div>\n",
              "<style scoped>\n",
              "    .dataframe tbody tr th:only-of-type {\n",
              "        vertical-align: middle;\n",
              "    }\n",
              "\n",
              "    .dataframe tbody tr th {\n",
              "        vertical-align: top;\n",
              "    }\n",
              "\n",
              "    .dataframe thead th {\n",
              "        text-align: right;\n",
              "    }\n",
              "</style>\n",
              "<table border=\"1\" class=\"dataframe\">\n",
              "  <thead>\n",
              "    <tr style=\"text-align: right;\">\n",
              "      <th></th>\n",
              "      <th>schemaname</th>\n",
              "      <th>tablename</th>\n",
              "      <th>tableowner</th>\n",
              "      <th>tablespace</th>\n",
              "      <th>hasindexes</th>\n",
              "      <th>hasrules</th>\n",
              "      <th>hastriggers</th>\n",
              "      <th>rowsecurity</th>\n",
              "    </tr>\n",
              "  </thead>\n",
              "  <tbody>\n",
              "    <tr>\n",
              "      <th>0</th>\n",
              "      <td>public</td>\n",
              "      <td>orders</td>\n",
              "      <td>praktikum_admin</td>\n",
              "      <td>None</td>\n",
              "      <td>True</td>\n",
              "      <td>False</td>\n",
              "      <td>False</td>\n",
              "      <td>False</td>\n",
              "    </tr>\n",
              "    <tr>\n",
              "      <th>1</th>\n",
              "      <td>public</td>\n",
              "      <td>visits</td>\n",
              "      <td>praktikum_admin</td>\n",
              "      <td>None</td>\n",
              "      <td>True</td>\n",
              "      <td>False</td>\n",
              "      <td>False</td>\n",
              "      <td>False</td>\n",
              "    </tr>\n",
              "    <tr>\n",
              "      <th>2</th>\n",
              "      <td>public</td>\n",
              "      <td>advertisment_costs</td>\n",
              "      <td>praktikum_admin</td>\n",
              "      <td>None</td>\n",
              "      <td>True</td>\n",
              "      <td>False</td>\n",
              "      <td>False</td>\n",
              "      <td>False</td>\n",
              "    </tr>\n",
              "    <tr>\n",
              "      <th>3</th>\n",
              "      <td>public</td>\n",
              "      <td>authors</td>\n",
              "      <td>praktikum_admin</td>\n",
              "      <td>None</td>\n",
              "      <td>True</td>\n",
              "      <td>False</td>\n",
              "      <td>True</td>\n",
              "      <td>False</td>\n",
              "    </tr>\n",
              "    <tr>\n",
              "      <th>4</th>\n",
              "      <td>public</td>\n",
              "      <td>second</td>\n",
              "      <td>praktikum_student</td>\n",
              "      <td>None</td>\n",
              "      <td>False</td>\n",
              "      <td>False</td>\n",
              "      <td>False</td>\n",
              "      <td>False</td>\n",
              "    </tr>\n",
              "    <tr>\n",
              "      <th>5</th>\n",
              "      <td>public</td>\n",
              "      <td>second_b</td>\n",
              "      <td>praktikum_student</td>\n",
              "      <td>None</td>\n",
              "      <td>False</td>\n",
              "      <td>False</td>\n",
              "      <td>False</td>\n",
              "      <td>False</td>\n",
              "    </tr>\n",
              "    <tr>\n",
              "      <th>6</th>\n",
              "      <td>public</td>\n",
              "      <td>publishers</td>\n",
              "      <td>praktikum_admin</td>\n",
              "      <td>None</td>\n",
              "      <td>True</td>\n",
              "      <td>False</td>\n",
              "      <td>True</td>\n",
              "      <td>False</td>\n",
              "    </tr>\n",
              "    <tr>\n",
              "      <th>7</th>\n",
              "      <td>public</td>\n",
              "      <td>author</td>\n",
              "      <td>praktikum_student</td>\n",
              "      <td>None</td>\n",
              "      <td>True</td>\n",
              "      <td>False</td>\n",
              "      <td>False</td>\n",
              "      <td>False</td>\n",
              "    </tr>\n",
              "    <tr>\n",
              "      <th>8</th>\n",
              "      <td>public</td>\n",
              "      <td>reviews</td>\n",
              "      <td>praktikum_admin</td>\n",
              "      <td>None</td>\n",
              "      <td>True</td>\n",
              "      <td>False</td>\n",
              "      <td>True</td>\n",
              "      <td>False</td>\n",
              "    </tr>\n",
              "    <tr>\n",
              "      <th>9</th>\n",
              "      <td>public</td>\n",
              "      <td>ratings</td>\n",
              "      <td>praktikum_admin</td>\n",
              "      <td>None</td>\n",
              "      <td>True</td>\n",
              "      <td>False</td>\n",
              "      <td>True</td>\n",
              "      <td>False</td>\n",
              "    </tr>\n",
              "    <tr>\n",
              "      <th>10</th>\n",
              "      <td>public</td>\n",
              "      <td>books</td>\n",
              "      <td>praktikum_admin</td>\n",
              "      <td>None</td>\n",
              "      <td>True</td>\n",
              "      <td>False</td>\n",
              "      <td>True</td>\n",
              "      <td>False</td>\n",
              "    </tr>\n",
              "  </tbody>\n",
              "</table>\n",
              "</div>"
            ],
            "text/plain": [
              "   schemaname           tablename         tableowner tablespace  hasindexes  \\\n",
              "0      public              orders    praktikum_admin       None        True   \n",
              "1      public              visits    praktikum_admin       None        True   \n",
              "2      public  advertisment_costs    praktikum_admin       None        True   \n",
              "3      public             authors    praktikum_admin       None        True   \n",
              "4      public              second  praktikum_student       None       False   \n",
              "5      public            second_b  praktikum_student       None       False   \n",
              "6      public          publishers    praktikum_admin       None        True   \n",
              "7      public              author  praktikum_student       None        True   \n",
              "8      public             reviews    praktikum_admin       None        True   \n",
              "9      public             ratings    praktikum_admin       None        True   \n",
              "10     public               books    praktikum_admin       None        True   \n",
              "\n",
              "    hasrules  hastriggers  rowsecurity  \n",
              "0      False        False        False  \n",
              "1      False        False        False  \n",
              "2      False        False        False  \n",
              "3      False         True        False  \n",
              "4      False        False        False  \n",
              "5      False        False        False  \n",
              "6      False         True        False  \n",
              "7      False        False        False  \n",
              "8      False         True        False  \n",
              "9      False         True        False  \n",
              "10     False         True        False  "
            ]
          },
          "metadata": {},
          "output_type": "display_data"
        },
        {
          "data": {
            "text/html": [
              "<div>\n",
              "<style scoped>\n",
              "    .dataframe tbody tr th:only-of-type {\n",
              "        vertical-align: middle;\n",
              "    }\n",
              "\n",
              "    .dataframe tbody tr th {\n",
              "        vertical-align: top;\n",
              "    }\n",
              "\n",
              "    .dataframe thead th {\n",
              "        text-align: right;\n",
              "    }\n",
              "</style>\n",
              "<table border=\"1\" class=\"dataframe\">\n",
              "  <thead>\n",
              "    <tr style=\"text-align: right;\">\n",
              "      <th></th>\n",
              "      <th>table_name</th>\n",
              "      <th>column_name</th>\n",
              "      <th>data_type</th>\n",
              "      <th>is_nullable</th>\n",
              "    </tr>\n",
              "  </thead>\n",
              "  <tbody>\n",
              "    <tr>\n",
              "      <th>0</th>\n",
              "      <td>authors</td>\n",
              "      <td>author_id</td>\n",
              "      <td>integer</td>\n",
              "      <td>NO</td>\n",
              "    </tr>\n",
              "    <tr>\n",
              "      <th>1</th>\n",
              "      <td>authors</td>\n",
              "      <td>author</td>\n",
              "      <td>text</td>\n",
              "      <td>YES</td>\n",
              "    </tr>\n",
              "    <tr>\n",
              "      <th>2</th>\n",
              "      <td>publishers</td>\n",
              "      <td>publisher_id</td>\n",
              "      <td>integer</td>\n",
              "      <td>NO</td>\n",
              "    </tr>\n",
              "    <tr>\n",
              "      <th>3</th>\n",
              "      <td>publishers</td>\n",
              "      <td>publisher</td>\n",
              "      <td>text</td>\n",
              "      <td>YES</td>\n",
              "    </tr>\n",
              "    <tr>\n",
              "      <th>4</th>\n",
              "      <td>reviews</td>\n",
              "      <td>review_id</td>\n",
              "      <td>integer</td>\n",
              "      <td>NO</td>\n",
              "    </tr>\n",
              "    <tr>\n",
              "      <th>5</th>\n",
              "      <td>reviews</td>\n",
              "      <td>book_id</td>\n",
              "      <td>integer</td>\n",
              "      <td>YES</td>\n",
              "    </tr>\n",
              "    <tr>\n",
              "      <th>6</th>\n",
              "      <td>reviews</td>\n",
              "      <td>username</td>\n",
              "      <td>text</td>\n",
              "      <td>YES</td>\n",
              "    </tr>\n",
              "    <tr>\n",
              "      <th>7</th>\n",
              "      <td>reviews</td>\n",
              "      <td>text</td>\n",
              "      <td>text</td>\n",
              "      <td>YES</td>\n",
              "    </tr>\n",
              "    <tr>\n",
              "      <th>8</th>\n",
              "      <td>ratings</td>\n",
              "      <td>rating_id</td>\n",
              "      <td>integer</td>\n",
              "      <td>NO</td>\n",
              "    </tr>\n",
              "    <tr>\n",
              "      <th>9</th>\n",
              "      <td>ratings</td>\n",
              "      <td>book_id</td>\n",
              "      <td>integer</td>\n",
              "      <td>YES</td>\n",
              "    </tr>\n",
              "    <tr>\n",
              "      <th>10</th>\n",
              "      <td>ratings</td>\n",
              "      <td>username</td>\n",
              "      <td>text</td>\n",
              "      <td>YES</td>\n",
              "    </tr>\n",
              "    <tr>\n",
              "      <th>11</th>\n",
              "      <td>ratings</td>\n",
              "      <td>rating</td>\n",
              "      <td>integer</td>\n",
              "      <td>YES</td>\n",
              "    </tr>\n",
              "    <tr>\n",
              "      <th>12</th>\n",
              "      <td>books</td>\n",
              "      <td>book_id</td>\n",
              "      <td>integer</td>\n",
              "      <td>NO</td>\n",
              "    </tr>\n",
              "    <tr>\n",
              "      <th>13</th>\n",
              "      <td>books</td>\n",
              "      <td>author_id</td>\n",
              "      <td>integer</td>\n",
              "      <td>YES</td>\n",
              "    </tr>\n",
              "    <tr>\n",
              "      <th>14</th>\n",
              "      <td>books</td>\n",
              "      <td>title</td>\n",
              "      <td>text</td>\n",
              "      <td>YES</td>\n",
              "    </tr>\n",
              "    <tr>\n",
              "      <th>15</th>\n",
              "      <td>books</td>\n",
              "      <td>num_pages</td>\n",
              "      <td>integer</td>\n",
              "      <td>YES</td>\n",
              "    </tr>\n",
              "    <tr>\n",
              "      <th>16</th>\n",
              "      <td>books</td>\n",
              "      <td>publication_date</td>\n",
              "      <td>date</td>\n",
              "      <td>YES</td>\n",
              "    </tr>\n",
              "    <tr>\n",
              "      <th>17</th>\n",
              "      <td>books</td>\n",
              "      <td>publisher_id</td>\n",
              "      <td>integer</td>\n",
              "      <td>YES</td>\n",
              "    </tr>\n",
              "  </tbody>\n",
              "</table>\n",
              "</div>"
            ],
            "text/plain": [
              "    table_name       column_name data_type is_nullable\n",
              "0      authors         author_id   integer          NO\n",
              "1      authors            author      text         YES\n",
              "2   publishers      publisher_id   integer          NO\n",
              "3   publishers         publisher      text         YES\n",
              "4      reviews         review_id   integer          NO\n",
              "5      reviews           book_id   integer         YES\n",
              "6      reviews          username      text         YES\n",
              "7      reviews              text      text         YES\n",
              "8      ratings         rating_id   integer          NO\n",
              "9      ratings           book_id   integer         YES\n",
              "10     ratings          username      text         YES\n",
              "11     ratings            rating   integer         YES\n",
              "12       books           book_id   integer          NO\n",
              "13       books         author_id   integer         YES\n",
              "14       books             title      text         YES\n",
              "15       books         num_pages   integer         YES\n",
              "16       books  publication_date      date         YES\n",
              "17       books      publisher_id   integer         YES"
            ]
          },
          "metadata": {},
          "output_type": "display_data"
        }
      ],
      "source": [
        "# КОД РЕВЬЮЕРА\n",
        "# какие ещё таблицы доступны в базе\n",
        "display(pd.io.sql.read_sql('''\n",
        "\n",
        "SELECT *\n",
        "FROM pg_catalog.pg_tables\n",
        "WHERE schemaname != 'pg_catalog' AND\n",
        "      schemaname != 'information_schema';\n",
        "\n",
        "''', con = engine))\n",
        "\n",
        "\n",
        "# смотрим на типы столбцов в интересующих таблицах\n",
        "display(pd.io.sql.read_sql('''\n",
        "SELECT\n",
        "    table_name,\n",
        "    column_name,\n",
        "    data_type,\n",
        "    is_nullable\n",
        "FROM INFORMATION_SCHEMA.COLUMNS\n",
        "WHERE table_name IN ('books', 'authors', 'publishers', 'ratings', 'reviews');\n",
        "''', con = engine))"
      ]
    },
    {
      "cell_type": "markdown",
      "metadata": {
        "id": "6Kzng9fChevY"
      },
      "source": [
        "<div class=\"alert alert-info\"> <b>Комментарии студента:</b><br>\n",
        "    Опять спасибо! Каждый твой совет делает жизнь аналитика понятнее)\n",
        "</div>"
      ]
    },
    {
      "cell_type": "markdown",
      "metadata": {
        "id": "WCBHCNtGhevY"
      },
      "source": [
        "### Посчитаем, сколько книг вышло после 1 января 2000 года:"
      ]
    },
    {
      "cell_type": "code",
      "execution_count": null,
      "metadata": {
        "id": "Dt1vHyXOhevZ"
      },
      "outputs": [],
      "source": [
        "# Сделаем одним SQL-запрос для решения задания, выведем результат запроса в тетрадке:"
      ]
    },
    {
      "cell_type": "code",
      "execution_count": null,
      "metadata": {
        "id": "og3lfEYQhevZ",
        "outputId": "02bb573f-b6ed-42b8-e8cd-233ea4a16d88"
      },
      "outputs": [
        {
          "data": {
            "text/html": [
              "<div>\n",
              "<style scoped>\n",
              "    .dataframe tbody tr th:only-of-type {\n",
              "        vertical-align: middle;\n",
              "    }\n",
              "\n",
              "    .dataframe tbody tr th {\n",
              "        vertical-align: top;\n",
              "    }\n",
              "\n",
              "    .dataframe thead th {\n",
              "        text-align: right;\n",
              "    }\n",
              "</style>\n",
              "<table border=\"1\" class=\"dataframe\">\n",
              "  <thead>\n",
              "    <tr style=\"text-align: right;\">\n",
              "      <th></th>\n",
              "      <th>count</th>\n",
              "    </tr>\n",
              "  </thead>\n",
              "  <tbody>\n",
              "    <tr>\n",
              "      <th>0</th>\n",
              "      <td>819</td>\n",
              "    </tr>\n",
              "  </tbody>\n",
              "</table>\n",
              "</div>"
            ],
            "text/plain": [
              "   count\n",
              "0    819"
            ]
          },
          "metadata": {},
          "output_type": "display_data"
        }
      ],
      "source": [
        "display(pd.io.sql.read_sql('''\n",
        "SELECT COUNT(*)\n",
        "FROM books\n",
        "WHERE publication_date > '2000-01-01'\n",
        "''', con = engine))"
      ]
    },
    {
      "cell_type": "code",
      "execution_count": null,
      "metadata": {
        "id": "BBpm2kaoheva",
        "outputId": "c69ac44b-9751-4044-9952-b7d61d3a5291"
      },
      "outputs": [
        {
          "data": {
            "text/html": [
              "<div>\n",
              "<style scoped>\n",
              "    .dataframe tbody tr th:only-of-type {\n",
              "        vertical-align: middle;\n",
              "    }\n",
              "\n",
              "    .dataframe tbody tr th {\n",
              "        vertical-align: top;\n",
              "    }\n",
              "\n",
              "    .dataframe thead th {\n",
              "        text-align: right;\n",
              "    }\n",
              "</style>\n",
              "<table border=\"1\" class=\"dataframe\">\n",
              "  <thead>\n",
              "    <tr style=\"text-align: right;\">\n",
              "      <th></th>\n",
              "      <th>count</th>\n",
              "    </tr>\n",
              "  </thead>\n",
              "  <tbody>\n",
              "    <tr>\n",
              "      <th>0</th>\n",
              "      <td>821</td>\n",
              "    </tr>\n",
              "  </tbody>\n",
              "</table>\n",
              "</div>"
            ],
            "text/plain": [
              "   count\n",
              "0    821"
            ]
          },
          "metadata": {},
          "output_type": "display_data"
        }
      ],
      "source": [
        "display(pd.io.sql.read_sql('''\n",
        "SELECT COUNT(*)\n",
        "FROM books\n",
        "WHERE publication_date >= '2000-01-01'\n",
        "''', con = engine))"
      ]
    },
    {
      "cell_type": "markdown",
      "metadata": {
        "id": "c8Nn-MW9heva"
      },
      "source": [
        "#### Опишем выводы:\n",
        "С начала 2000 года вышло 821 книга из присутствующих БД\n",
        "После 01 января 2000 года вышло 819 книг из присутствующих БД"
      ]
    },
    {
      "cell_type": "markdown",
      "metadata": {
        "id": "h5MS72AWhevb"
      },
      "source": [
        "<div class=\"alert alert-success\"><b>Комментарий ревьюера</b>&nbsp;<br>\n",
        "✔️ Тут всё верно. Сработал бы и запрос с таким условием:\n",
        "\n",
        "    publication_date >= '2000-01-01'\n",
        "\n",
        "Если следовать вопросу буквально, то корректно делать строгое сравнение, не включая книги, опубликованные 1 января 2000 года, но по опыту обычно нужны данные с самого начала года. В подобных ситуациях стоит уточнять что именно нужно или сделать оба варианта, если это невозможно.\n",
        "    \n",
        "💡 Желательно сопровождать запрос комментариями (их можно начинать с <tt>--</tt>) о том, что в нём происходит, это хорошая привычка, она очень облегчает чтение запросов, особенно длинных.\n",
        "</div>"
      ]
    },
    {
      "cell_type": "markdown",
      "metadata": {
        "id": "IEO921Tghevb"
      },
      "source": [
        "<div class=\"alert alert-info\"> <b>Комментарии студента:</b><br>\n",
        "    Сделал оба варианта.\n",
        "</div>"
      ]
    },
    {
      "cell_type": "markdown",
      "metadata": {
        "id": "JWrsMqM7hevb"
      },
      "source": [
        "### Для каждой книги посчитайте количество обзоров и среднюю оценку:"
      ]
    },
    {
      "cell_type": "code",
      "execution_count": null,
      "metadata": {
        "id": "Odf6q9Yshevc"
      },
      "outputs": [],
      "source": [
        "# Тут у тимлида надо спросить: \"Какие характеристики книг выводить и сколько книг?\"\n",
        "# Сделаем одним SQL-запрос для решения задания, выведем результат запроса в тетрадке:"
      ]
    },
    {
      "cell_type": "code",
      "execution_count": null,
      "metadata": {
        "id": "_aE4Ip1zhevc",
        "outputId": "e2be7881-5b8e-4b9a-df06-b08a7c71c50c"
      },
      "outputs": [
        {
          "data": {
            "text/html": [
              "<div>\n",
              "<style scoped>\n",
              "    .dataframe tbody tr th:only-of-type {\n",
              "        vertical-align: middle;\n",
              "    }\n",
              "\n",
              "    .dataframe tbody tr th {\n",
              "        vertical-align: top;\n",
              "    }\n",
              "\n",
              "    .dataframe thead th {\n",
              "        text-align: right;\n",
              "    }\n",
              "</style>\n",
              "<table border=\"1\" class=\"dataframe\">\n",
              "  <thead>\n",
              "    <tr style=\"text-align: right;\">\n",
              "      <th></th>\n",
              "      <th>book_id</th>\n",
              "      <th>author_id</th>\n",
              "      <th>title</th>\n",
              "      <th>num_pages</th>\n",
              "      <th>publication_date</th>\n",
              "      <th>publisher_id</th>\n",
              "      <th>count_text</th>\n",
              "      <th>avg_rating</th>\n",
              "    </tr>\n",
              "  </thead>\n",
              "  <tbody>\n",
              "    <tr>\n",
              "      <th>0</th>\n",
              "      <td>17</td>\n",
              "      <td>94</td>\n",
              "      <td>A Dirty Job (Grim Reaper  #1)</td>\n",
              "      <td>387</td>\n",
              "      <td>2006-03-21</td>\n",
              "      <td>331</td>\n",
              "      <td>4.0</td>\n",
              "      <td>5.00</td>\n",
              "    </tr>\n",
              "    <tr>\n",
              "      <th>1</th>\n",
              "      <td>610</td>\n",
              "      <td>250</td>\n",
              "      <td>Tai-Pan (Asian Saga  #2)</td>\n",
              "      <td>734</td>\n",
              "      <td>2009-09-01</td>\n",
              "      <td>80</td>\n",
              "      <td>2.0</td>\n",
              "      <td>5.00</td>\n",
              "    </tr>\n",
              "    <tr>\n",
              "      <th>2</th>\n",
              "      <td>553</td>\n",
              "      <td>257</td>\n",
              "      <td>School's Out—Forever (Maximum Ride  #2)</td>\n",
              "      <td>409</td>\n",
              "      <td>2006-05-23</td>\n",
              "      <td>176</td>\n",
              "      <td>3.0</td>\n",
              "      <td>5.00</td>\n",
              "    </tr>\n",
              "    <tr>\n",
              "      <th>3</th>\n",
              "      <td>513</td>\n",
              "      <td>178</td>\n",
              "      <td>Piercing the Darkness (Darkness  #2)</td>\n",
              "      <td>448</td>\n",
              "      <td>2003-06-26</td>\n",
              "      <td>67</td>\n",
              "      <td>2.0</td>\n",
              "      <td>5.00</td>\n",
              "    </tr>\n",
              "    <tr>\n",
              "      <th>4</th>\n",
              "      <td>902</td>\n",
              "      <td>558</td>\n",
              "      <td>The War of Art: Break Through the Blocks &amp; Win...</td>\n",
              "      <td>168</td>\n",
              "      <td>2003-04-01</td>\n",
              "      <td>326</td>\n",
              "      <td>2.0</td>\n",
              "      <td>5.00</td>\n",
              "    </tr>\n",
              "    <tr>\n",
              "      <th>...</th>\n",
              "      <td>...</td>\n",
              "      <td>...</td>\n",
              "      <td>...</td>\n",
              "      <td>...</td>\n",
              "      <td>...</td>\n",
              "      <td>...</td>\n",
              "      <td>...</td>\n",
              "      <td>...</td>\n",
              "    </tr>\n",
              "    <tr>\n",
              "      <th>995</th>\n",
              "      <td>915</td>\n",
              "      <td>580</td>\n",
              "      <td>The World Is Flat: A Brief History of the Twen...</td>\n",
              "      <td>616</td>\n",
              "      <td>2006-04-18</td>\n",
              "      <td>106</td>\n",
              "      <td>3.0</td>\n",
              "      <td>2.25</td>\n",
              "    </tr>\n",
              "    <tr>\n",
              "      <th>996</th>\n",
              "      <td>316</td>\n",
              "      <td>321</td>\n",
              "      <td>His Excellency: George Washington</td>\n",
              "      <td>320</td>\n",
              "      <td>2005-11-08</td>\n",
              "      <td>309</td>\n",
              "      <td>2.0</td>\n",
              "      <td>2.00</td>\n",
              "    </tr>\n",
              "    <tr>\n",
              "      <th>997</th>\n",
              "      <td>371</td>\n",
              "      <td>625</td>\n",
              "      <td>Junky</td>\n",
              "      <td>208</td>\n",
              "      <td>2003-04-01</td>\n",
              "      <td>210</td>\n",
              "      <td>2.0</td>\n",
              "      <td>2.00</td>\n",
              "    </tr>\n",
              "    <tr>\n",
              "      <th>998</th>\n",
              "      <td>202</td>\n",
              "      <td>91</td>\n",
              "      <td>Drowning Ruth</td>\n",
              "      <td>368</td>\n",
              "      <td>2001-07-31</td>\n",
              "      <td>33</td>\n",
              "      <td>3.0</td>\n",
              "      <td>2.00</td>\n",
              "    </tr>\n",
              "    <tr>\n",
              "      <th>999</th>\n",
              "      <td>303</td>\n",
              "      <td>291</td>\n",
              "      <td>Harvesting the Heart</td>\n",
              "      <td>453</td>\n",
              "      <td>1995-04-01</td>\n",
              "      <td>212</td>\n",
              "      <td>2.0</td>\n",
              "      <td>1.50</td>\n",
              "    </tr>\n",
              "  </tbody>\n",
              "</table>\n",
              "<p>1000 rows × 8 columns</p>\n",
              "</div>"
            ],
            "text/plain": [
              "     book_id  author_id                                              title  \\\n",
              "0         17         94                      A Dirty Job (Grim Reaper  #1)   \n",
              "1        610        250                           Tai-Pan (Asian Saga  #2)   \n",
              "2        553        257            School's Out—Forever (Maximum Ride  #2)   \n",
              "3        513        178               Piercing the Darkness (Darkness  #2)   \n",
              "4        902        558  The War of Art: Break Through the Blocks & Win...   \n",
              "..       ...        ...                                                ...   \n",
              "995      915        580  The World Is Flat: A Brief History of the Twen...   \n",
              "996      316        321                  His Excellency: George Washington   \n",
              "997      371        625                                              Junky   \n",
              "998      202         91                                      Drowning Ruth   \n",
              "999      303        291                               Harvesting the Heart   \n",
              "\n",
              "     num_pages publication_date  publisher_id  count_text  avg_rating  \n",
              "0          387       2006-03-21           331         4.0        5.00  \n",
              "1          734       2009-09-01            80         2.0        5.00  \n",
              "2          409       2006-05-23           176         3.0        5.00  \n",
              "3          448       2003-06-26            67         2.0        5.00  \n",
              "4          168       2003-04-01           326         2.0        5.00  \n",
              "..         ...              ...           ...         ...         ...  \n",
              "995        616       2006-04-18           106         3.0        2.25  \n",
              "996        320       2005-11-08           309         2.0        2.00  \n",
              "997        208       2003-04-01           210         2.0        2.00  \n",
              "998        368       2001-07-31            33         3.0        2.00  \n",
              "999        453       1995-04-01           212         2.0        1.50  \n",
              "\n",
              "[1000 rows x 8 columns]"
            ]
          },
          "metadata": {},
          "output_type": "display_data"
        }
      ],
      "source": [
        "display(pd.io.sql.read_sql('''\n",
        "WITH\n",
        "\n",
        "-- посчитаем количество обзоров для каждой книги\n",
        "count_texts AS (SELECT book_id, COUNT(text) AS count_text\n",
        "                FROM reviews\n",
        "                GROUP BY book_id\n",
        "                ),\n",
        "\n",
        "-- посчитаем среднюю оценку для каждой книги\n",
        "avg_ratings AS (SELECT book_id, ROUND(AVG(rating), 2) AS avg_rating\n",
        "                FROM ratings\n",
        "                GROUP BY book_id\n",
        "                )\n",
        "\n",
        "SELECT b.book_id, author_id, title, num_pages, publication_date, publisher_id, count_text, avg_rating\n",
        "FROM books AS b\n",
        "LEFT OUTER JOIN count_texts AS ct ON ct.book_id = b.book_id\n",
        "LEFT OUTER JOIN avg_ratings AS ar ON ar.book_id = b.book_id\n",
        "ORDER BY avg_rating DESC -- отсортируем по средней оценке\n",
        "\n",
        "''', con = engine))"
      ]
    },
    {
      "cell_type": "markdown",
      "metadata": {
        "id": "GMdpqvrQhevd"
      },
      "source": [
        "#### Опишем выводы:\n",
        "Вывели каждой книги количество обзоров и среднюю оценку, упорядочив по средней оценке"
      ]
    },
    {
      "cell_type": "markdown",
      "metadata": {
        "id": "L74UCwAzheve"
      },
      "source": [
        "<div class=\"alert alert-warning\"><b>Комментарий ревьюера</b>&nbsp;🔧<br>\n",
        "Ты обратил внимание на количество выведенных записей и на общее количество книг. Выведено меньше книг, чем есть в базе, а нам нужно вывести все книги. Внимательнее посмотри на то, как ты объединяешь таблицы.\n",
        "</div><div class=\"alert alert-warning\">💡 Лучше сортировать подобные таблицы по каким-то показателям.</div>"
      ]
    },
    {
      "cell_type": "markdown",
      "metadata": {
        "id": "aNCWX3nQheve"
      },
      "source": [
        "<div class=\"alert alert-info\"> <b>Комментарии студента:</b><br>\n",
        "    Изменил объединение, спасибо.\n",
        "</div>"
      ]
    },
    {
      "cell_type": "markdown",
      "metadata": {
        "id": "cBv8i3Z_hevf"
      },
      "source": [
        "<div class=\"alert alert-success\"><b>Комментарий ревьюера 2&nbsp;<big>👍</big></b></div>"
      ]
    },
    {
      "cell_type": "markdown",
      "metadata": {
        "id": "aHBVBg_xhevg"
      },
      "source": [
        "### Определите издательство, которое выпустило наибольшее число книг толще 50 страниц — так вы исключите из анализа брошюры:"
      ]
    },
    {
      "cell_type": "code",
      "execution_count": null,
      "metadata": {
        "id": "3Sb12VW_hevg"
      },
      "outputs": [],
      "source": [
        "# Сделаем однин SQL-запрос для решения задания, выведем результат запроса в тетрадке:"
      ]
    },
    {
      "cell_type": "code",
      "execution_count": null,
      "metadata": {
        "id": "C3iZWceghevg",
        "outputId": "66a7f63e-c8d5-48c2-980d-6e94a1f89c6d"
      },
      "outputs": [
        {
          "data": {
            "text/html": [
              "<div>\n",
              "<style scoped>\n",
              "    .dataframe tbody tr th:only-of-type {\n",
              "        vertical-align: middle;\n",
              "    }\n",
              "\n",
              "    .dataframe tbody tr th {\n",
              "        vertical-align: top;\n",
              "    }\n",
              "\n",
              "    .dataframe thead th {\n",
              "        text-align: right;\n",
              "    }\n",
              "</style>\n",
              "<table border=\"1\" class=\"dataframe\">\n",
              "  <thead>\n",
              "    <tr style=\"text-align: right;\">\n",
              "      <th></th>\n",
              "      <th>publisher</th>\n",
              "      <th>count_books</th>\n",
              "    </tr>\n",
              "  </thead>\n",
              "  <tbody>\n",
              "    <tr>\n",
              "      <th>0</th>\n",
              "      <td>Penguin Books</td>\n",
              "      <td>42</td>\n",
              "    </tr>\n",
              "  </tbody>\n",
              "</table>\n",
              "</div>"
            ],
            "text/plain": [
              "       publisher  count_books\n",
              "0  Penguin Books           42"
            ]
          },
          "metadata": {},
          "output_type": "display_data"
        }
      ],
      "source": [
        "display(pd.io.sql.read_sql('''\n",
        "SELECT p.publisher, COUNT (book_id) AS count_books\n",
        "FROM books AS b\n",
        "LEFT OUTER JOIN publishers AS p ON b.publisher_id = p.publisher_id\n",
        "WHERE num_pages > 50 -- книги в которых больше 50 страниц\n",
        "GROUP BY p.publisher -- сгруппируем по издателю\n",
        "ORDER BY count_books DESC -- упорядочим по убыванию по кол-ву книг\n",
        "LIMIT 1 -- возьмем издателя у которого больше всего выпущено книг\n",
        "''', con = engine))"
      ]
    },
    {
      "cell_type": "markdown",
      "metadata": {
        "id": "24jsfaAmhevh"
      },
      "source": [
        "#### Опишем выводы:\n",
        "Наибольшее число книг толще 50 страниц выпустило издательство Penguin Books, кол-во выпущенных этим издательством книг попадающих под заданный критерий составляет 42."
      ]
    },
    {
      "cell_type": "markdown",
      "metadata": {
        "id": "aBJMBa2ehevh"
      },
      "source": [
        "<div class=\"alert alert-success\"><b>Комментарий ревьюера</b>&nbsp;👍<br>\n",
        "Совершенно верно, это правильное издательство и оно одно, как нас просили.\n",
        "</div>"
      ]
    },
    {
      "cell_type": "markdown",
      "metadata": {
        "id": "Nlu1razohevi"
      },
      "source": [
        "### Определите автора с самой высокой средней оценкой книг — учитывайте только книги с 50 и более оценками:"
      ]
    },
    {
      "cell_type": "code",
      "execution_count": null,
      "metadata": {
        "id": "9KPMr7Ojhevi"
      },
      "outputs": [],
      "source": [
        "# Сделаем однин SQL-запрос для решения задания, выведем результат запроса в тетрадке:"
      ]
    },
    {
      "cell_type": "code",
      "execution_count": null,
      "metadata": {
        "id": "4fQY3fAehevi",
        "outputId": "ff71dfbe-73b8-46fc-d2c3-958128a1392d"
      },
      "outputs": [
        {
          "data": {
            "text/html": [
              "<div>\n",
              "<style scoped>\n",
              "    .dataframe tbody tr th:only-of-type {\n",
              "        vertical-align: middle;\n",
              "    }\n",
              "\n",
              "    .dataframe tbody tr th {\n",
              "        vertical-align: top;\n",
              "    }\n",
              "\n",
              "    .dataframe thead th {\n",
              "        text-align: right;\n",
              "    }\n",
              "</style>\n",
              "<table border=\"1\" class=\"dataframe\">\n",
              "  <thead>\n",
              "    <tr style=\"text-align: right;\">\n",
              "      <th></th>\n",
              "      <th>author</th>\n",
              "      <th>avg_avg_rating</th>\n",
              "    </tr>\n",
              "  </thead>\n",
              "  <tbody>\n",
              "    <tr>\n",
              "      <th>0</th>\n",
              "      <td>J.K. Rowling/Mary GrandPré</td>\n",
              "      <td>4.28</td>\n",
              "    </tr>\n",
              "  </tbody>\n",
              "</table>\n",
              "</div>"
            ],
            "text/plain": [
              "                       author  avg_avg_rating\n",
              "0  J.K. Rowling/Mary GrandPré            4.28"
            ]
          },
          "metadata": {},
          "output_type": "display_data"
        }
      ],
      "source": [
        "display(pd.io.sql.read_sql('''\n",
        "WITH\n",
        "\n",
        "-- отобрали книги у которых 50 и более оценок и посчитали среднюю оценку таких книг\n",
        "avg_ratings AS (SELECT MIN(b.author_id) AS author_id,  AVG(rating) AS avg_rating\n",
        "                FROM ratings AS r\n",
        "                LEFT OUTER JOIN books AS b ON r.book_id = b.book_id\n",
        "                GROUP BY b.book_id\n",
        "                HAVING COUNT(rating_id) >= 50 -- взяли книги у которых более 50 оценок\n",
        "                )\n",
        "\n",
        "SELECT author, ROUND(AVG(avg_rating),2) AS avg_avg_rating\n",
        "FROM avg_ratings AS ar\n",
        "LEFT OUTER JOIN authors AS a ON a.author_id = ar.author_id  -- ко всем author_id определенным во врем.таблице добавим имя автора\n",
        "GROUP BY a.author_id  -- сгруппируем по автору\n",
        "ORDER BY avg_avg_rating DESC --упорядочим по среднему средней оценки по убыванию\n",
        "LIMIT 1 -- возьмем автора с наивысшей оценкой\n",
        "\n",
        "\n",
        "''', con = engine))"
      ]
    },
    {
      "cell_type": "markdown",
      "metadata": {
        "id": "s4chJUBuhevj"
      },
      "source": [
        "<div class=\"alert alert-danger\"><b>Комментарий ревьюера</b>&nbsp;🔧<br>\n",
        "Не выведен сам рейтинг и нету группировки по авторам - по сути выведен автор самой рейтинговой книги из тех, что с 50 страницами и более</div>"
      ]
    },
    {
      "cell_type": "markdown",
      "metadata": {
        "id": "rCxjdCwPhevj"
      },
      "source": [
        "<div class=\"alert alert-info\"> <b>Комментарии студента:</b><br>\n",
        "    Исправил, не так прочитал и понял задание. Спасибо.\n",
        "</div>"
      ]
    },
    {
      "cell_type": "markdown",
      "metadata": {
        "id": "-IOXASxThevk"
      },
      "source": [
        "<div class=\"alert alert-success\"><b>Комментарий ревьюера 2&nbsp;<big>👍</big></b></div>"
      ]
    },
    {
      "cell_type": "markdown",
      "metadata": {
        "id": "ze070hy8hevk"
      },
      "source": [
        "#### Опишем выводы:\n",
        "Автор с самой высокой средней оценкой книг (учитывая только книги с 50 и более оценками) - J.K. Rowling/Mary GrandPré, среднее средних оценок его книг (с 50 и более оценками) - 4.28."
      ]
    },
    {
      "cell_type": "markdown",
      "metadata": {
        "id": "Uv-JNJvGhevk"
      },
      "source": [
        "### Посчитайте среднее количество обзоров от пользователей, которые поставили больше 50 оценок."
      ]
    },
    {
      "cell_type": "code",
      "execution_count": null,
      "metadata": {
        "id": "Wcq2e_ZShevk"
      },
      "outputs": [],
      "source": [
        "# Сделаем однин SQL-запрос для решения задания, выведем результат запроса в тетрадке:"
      ]
    },
    {
      "cell_type": "code",
      "execution_count": null,
      "metadata": {
        "id": "4t176XL2hevl",
        "outputId": "76500514-f67b-49a6-f03b-f8ff9b08f91a"
      },
      "outputs": [
        {
          "data": {
            "text/html": [
              "<div>\n",
              "<style scoped>\n",
              "    .dataframe tbody tr th:only-of-type {\n",
              "        vertical-align: middle;\n",
              "    }\n",
              "\n",
              "    .dataframe tbody tr th {\n",
              "        vertical-align: top;\n",
              "    }\n",
              "\n",
              "    .dataframe thead th {\n",
              "        text-align: right;\n",
              "    }\n",
              "</style>\n",
              "<table border=\"1\" class=\"dataframe\">\n",
              "  <thead>\n",
              "    <tr style=\"text-align: right;\">\n",
              "      <th></th>\n",
              "      <th>round</th>\n",
              "    </tr>\n",
              "  </thead>\n",
              "  <tbody>\n",
              "    <tr>\n",
              "      <th>0</th>\n",
              "      <td>24.33</td>\n",
              "    </tr>\n",
              "  </tbody>\n",
              "</table>\n",
              "</div>"
            ],
            "text/plain": [
              "   round\n",
              "0  24.33"
            ]
          },
          "metadata": {},
          "output_type": "display_data"
        }
      ],
      "source": [
        "display(pd.io.sql.read_sql('''\n",
        "SELECT ROUND(AVG(count_text), 2)\n",
        "FROM (SELECT COUNT(text) AS count_text\n",
        "      FROM reviews\n",
        "      WHERE username IN (SELECT username\n",
        "                         FROM ratings\n",
        "                         GROUP BY username\n",
        "                         HAVING COUNT(rating) > 50\n",
        "                        )\n",
        "      GROUP BY username\n",
        "     ) AS count_texts\n",
        "''', con = engine))"
      ]
    },
    {
      "cell_type": "markdown",
      "metadata": {
        "id": "Aoln60WEhevl"
      },
      "source": [
        "#### Опишем выводы:\n",
        "Среднее количество обзоров от пользователей, которые поставили больше 50 оценок - 24,33"
      ]
    },
    {
      "cell_type": "markdown",
      "metadata": {
        "id": "mQer4-JGhevl"
      },
      "source": [
        "<div class=\"alert alert-success\"><b>Комментарий ревьюера</b>&nbsp;✔️<br>\n",
        "И это... правильный ответ!\n",
        "</div>\n",
        "\n",
        "<div class=\"alert alert-warning\"><b>Комментарий ревьюера</b>&nbsp;💡<br>\n",
        "Сам себя не похвалишь, не подчеркнёшь важность и сложность своей работы — никто этого делать за тебя не будет. Выводы — как раз такое место, где можно напомнить тому, кто будет смотреть отчёт, что тут не тяп-ляп и в продакшн, а была проведена серьёзная работа, глубокий анализ, <s>зарплату аналитику хорошо бы поднять</s>, кратко напомнить о том, что было достигнуто, читатель может быть к концу уже об этом забыл.\n",
        "</div>\n"
      ]
    },
    {
      "cell_type": "markdown",
      "metadata": {
        "id": "IA2h4iozhevm"
      },
      "source": [
        "### Выводы:"
      ]
    },
    {
      "cell_type": "markdown",
      "metadata": {
        "id": "n6rMMxmUhevm"
      },
      "source": [
        "В ходе выполнения проекта мы познакомились с данными: посмотрели содержимое таблиц и заодно проверили соединение с сервером.\n",
        "\n",
        "Анализируя содержимое предоставленной БД получили следующую информацию:\n",
        "- С начала 2000 года вышло 821 книга из присутствующих БД, после 01 января 2000 года вышло 819 книг из присутствующих БД;\n",
        "- Вывели каждой книги количество обзоров и среднюю оценку, упорядочив по средней оценке;\n",
        "- Наибольшее число книг толще 50 страниц выпустило издательство Penguin Books, кол-во выпущенных этим издательством книг попадающих под заданный критерий составляет 42;\n",
        "- Автор с самой высокой средней оценкой книг (учитывая только книги с 50 и более оценками) - J.K. Rowling/Mary GrandPré, среднее средних оценок его книг (с 50 и более оценками) - 4.28;\n",
        "- Среднее количество обзоров от пользователей, которые поставили больше 50 оценок - 24.33."
      ]
    },
    {
      "cell_type": "markdown",
      "metadata": {
        "id": "z_DlOM9Mhevn"
      },
      "source": [
        "![Апплодисменты](https://i.gifer.com/DhG5.gif \"Хлоп-хлоп!\")\n",
        "\n",
        "<div class=\"alert alert-success\"><b>Комментарий ревьюера 2</b>&nbsp;👍<br>\n",
        "🎉 Поздравляю с успешным завершением последнего проекта финального спринта! 🎂\n",
        "</div>"
      ]
    }
  ],
  "metadata": {
    "ExecuteTimeLog": [
      {
        "duration": 9,
        "start_time": "2023-04-13T17:18:57.364Z"
      },
      {
        "duration": 27,
        "start_time": "2023-04-13T17:18:57.378Z"
      },
      {
        "duration": 7,
        "start_time": "2023-04-13T17:18:57.408Z"
      },
      {
        "duration": 10,
        "start_time": "2023-04-13T17:18:57.417Z"
      },
      {
        "duration": 57,
        "start_time": "2023-04-13T17:18:57.429Z"
      },
      {
        "duration": 680,
        "start_time": "2023-04-13T17:28:09.077Z"
      },
      {
        "duration": 17118,
        "start_time": "2023-04-13T17:28:11.694Z"
      },
      {
        "duration": 425,
        "start_time": "2023-04-13T17:28:41.170Z"
      },
      {
        "duration": 282,
        "start_time": "2023-04-13T17:29:24.125Z"
      },
      {
        "duration": 29,
        "start_time": "2023-04-13T17:29:37.326Z"
      },
      {
        "duration": 115,
        "start_time": "2023-04-13T17:29:47.716Z"
      },
      {
        "duration": 3,
        "start_time": "2023-04-13T17:29:59.012Z"
      },
      {
        "duration": 3,
        "start_time": "2023-04-13T17:30:53.732Z"
      },
      {
        "duration": 32,
        "start_time": "2023-04-13T17:30:55.078Z"
      },
      {
        "duration": 263,
        "start_time": "2023-04-13T17:30:55.282Z"
      },
      {
        "duration": 4,
        "start_time": "2023-04-13T17:31:08.754Z"
      },
      {
        "duration": 38,
        "start_time": "2023-04-13T17:31:09.070Z"
      },
      {
        "duration": 361,
        "start_time": "2023-04-13T17:31:09.236Z"
      },
      {
        "duration": 3,
        "start_time": "2023-04-13T17:31:22.699Z"
      },
      {
        "duration": 34,
        "start_time": "2023-04-13T17:31:23.123Z"
      },
      {
        "duration": 288,
        "start_time": "2023-04-13T17:31:23.411Z"
      },
      {
        "duration": 57,
        "start_time": "2023-04-13T17:31:32.211Z"
      },
      {
        "duration": 8,
        "start_time": "2023-04-13T17:31:59.472Z"
      },
      {
        "duration": 44,
        "start_time": "2023-04-13T17:32:00.168Z"
      },
      {
        "duration": 105,
        "start_time": "2023-04-13T17:32:00.387Z"
      },
      {
        "duration": 3,
        "start_time": "2023-04-13T17:34:13.218Z"
      },
      {
        "duration": 38,
        "start_time": "2023-04-13T17:34:13.571Z"
      },
      {
        "duration": 3,
        "start_time": "2023-04-13T17:34:56.882Z"
      },
      {
        "duration": 39,
        "start_time": "2023-04-13T17:34:57.067Z"
      },
      {
        "duration": 95,
        "start_time": "2023-04-13T17:34:57.618Z"
      },
      {
        "duration": 4,
        "start_time": "2023-04-13T17:40:32.907Z"
      },
      {
        "duration": 39,
        "start_time": "2023-04-13T17:40:33.092Z"
      },
      {
        "duration": 96,
        "start_time": "2023-04-13T17:40:33.292Z"
      },
      {
        "duration": 3,
        "start_time": "2023-04-13T17:40:40.508Z"
      },
      {
        "duration": 40,
        "start_time": "2023-04-13T17:40:40.675Z"
      },
      {
        "duration": 114,
        "start_time": "2023-04-13T17:40:40.828Z"
      },
      {
        "duration": 3,
        "start_time": "2023-04-13T17:40:45.797Z"
      },
      {
        "duration": 42,
        "start_time": "2023-04-13T17:40:45.985Z"
      },
      {
        "duration": 107,
        "start_time": "2023-04-13T17:40:46.508Z"
      },
      {
        "duration": 38,
        "start_time": "2023-04-13T17:44:11.766Z"
      },
      {
        "duration": 4,
        "start_time": "2023-04-13T17:47:00.919Z"
      },
      {
        "duration": 39,
        "start_time": "2023-04-13T17:47:02.372Z"
      },
      {
        "duration": 93,
        "start_time": "2023-04-13T17:47:02.526Z"
      },
      {
        "duration": 4,
        "start_time": "2023-04-13T17:47:06.264Z"
      },
      {
        "duration": 54,
        "start_time": "2023-04-13T17:47:06.826Z"
      },
      {
        "duration": 112,
        "start_time": "2023-04-13T17:47:07.030Z"
      },
      {
        "duration": 4,
        "start_time": "2023-04-13T17:48:10.089Z"
      },
      {
        "duration": 280,
        "start_time": "2023-04-13T17:48:12.260Z"
      },
      {
        "duration": 0,
        "start_time": "2023-04-13T17:48:12.545Z"
      },
      {
        "duration": 4,
        "start_time": "2023-04-13T17:48:18.484Z"
      },
      {
        "duration": 60,
        "start_time": "2023-04-13T17:48:21.124Z"
      },
      {
        "duration": 99,
        "start_time": "2023-04-13T17:48:22.212Z"
      },
      {
        "duration": 3,
        "start_time": "2023-04-13T17:48:32.333Z"
      },
      {
        "duration": 38,
        "start_time": "2023-04-13T17:48:34.381Z"
      },
      {
        "duration": 101,
        "start_time": "2023-04-13T17:48:34.533Z"
      },
      {
        "duration": 3,
        "start_time": "2023-04-13T17:48:48.772Z"
      },
      {
        "duration": 39,
        "start_time": "2023-04-13T17:48:48.967Z"
      },
      {
        "duration": 100,
        "start_time": "2023-04-13T17:48:50.334Z"
      },
      {
        "duration": 2,
        "start_time": "2023-04-13T17:49:32.396Z"
      },
      {
        "duration": 39,
        "start_time": "2023-04-13T17:49:32.575Z"
      },
      {
        "duration": 84,
        "start_time": "2023-04-13T17:49:33.171Z"
      },
      {
        "duration": 3,
        "start_time": "2023-04-13T17:49:44.732Z"
      },
      {
        "duration": 43,
        "start_time": "2023-04-13T17:49:44.903Z"
      },
      {
        "duration": 94,
        "start_time": "2023-04-13T17:49:45.171Z"
      },
      {
        "duration": 8,
        "start_time": "2023-04-13T17:51:13.671Z"
      },
      {
        "duration": 264,
        "start_time": "2023-04-13T17:51:14.124Z"
      },
      {
        "duration": 303,
        "start_time": "2023-04-13T17:51:14.434Z"
      },
      {
        "duration": 4,
        "start_time": "2023-04-13T17:51:48.968Z"
      },
      {
        "duration": 175,
        "start_time": "2023-04-13T17:51:49.264Z"
      },
      {
        "duration": 3,
        "start_time": "2023-04-13T17:52:07.464Z"
      },
      {
        "duration": 386,
        "start_time": "2023-04-13T17:52:07.803Z"
      },
      {
        "duration": 4,
        "start_time": "2023-04-13T17:53:40.537Z"
      },
      {
        "duration": 58,
        "start_time": "2023-04-13T17:53:40.706Z"
      },
      {
        "duration": 102,
        "start_time": "2023-04-13T17:53:41.968Z"
      },
      {
        "duration": 39,
        "start_time": "2023-04-13T17:55:58.896Z"
      },
      {
        "duration": 3,
        "start_time": "2023-04-13T17:57:03.999Z"
      },
      {
        "duration": 38,
        "start_time": "2023-04-13T17:57:04.173Z"
      },
      {
        "duration": 101,
        "start_time": "2023-04-13T17:57:04.709Z"
      },
      {
        "duration": 3,
        "start_time": "2023-04-13T17:57:35.109Z"
      },
      {
        "duration": 48,
        "start_time": "2023-04-13T17:57:35.317Z"
      },
      {
        "duration": 94,
        "start_time": "2023-04-13T17:57:35.601Z"
      },
      {
        "duration": 3,
        "start_time": "2023-04-13T17:59:30.117Z"
      },
      {
        "duration": 38,
        "start_time": "2023-04-13T17:59:30.284Z"
      },
      {
        "duration": 93,
        "start_time": "2023-04-13T17:59:30.471Z"
      },
      {
        "duration": 3,
        "start_time": "2023-04-13T18:00:26.284Z"
      },
      {
        "duration": 220,
        "start_time": "2023-04-13T18:00:26.464Z"
      },
      {
        "duration": 0,
        "start_time": "2023-04-13T18:00:26.687Z"
      },
      {
        "duration": 3,
        "start_time": "2023-04-13T18:00:35.307Z"
      },
      {
        "duration": 38,
        "start_time": "2023-04-13T18:00:35.474Z"
      },
      {
        "duration": 88,
        "start_time": "2023-04-13T18:00:36.036Z"
      },
      {
        "duration": 4,
        "start_time": "2023-04-13T18:01:13.098Z"
      },
      {
        "duration": 45,
        "start_time": "2023-04-13T18:01:13.276Z"
      },
      {
        "duration": 105,
        "start_time": "2023-04-13T18:01:13.411Z"
      },
      {
        "duration": 3,
        "start_time": "2023-04-13T18:02:51.025Z"
      },
      {
        "duration": 244,
        "start_time": "2023-04-13T18:02:51.520Z"
      },
      {
        "duration": 0,
        "start_time": "2023-04-13T18:02:51.773Z"
      },
      {
        "duration": 3,
        "start_time": "2023-04-13T18:03:05.137Z"
      },
      {
        "duration": 43,
        "start_time": "2023-04-13T18:03:05.810Z"
      },
      {
        "duration": 114,
        "start_time": "2023-04-13T18:03:06.678Z"
      },
      {
        "duration": 3,
        "start_time": "2023-04-13T18:03:48.597Z"
      },
      {
        "duration": 204,
        "start_time": "2023-04-13T18:03:48.898Z"
      },
      {
        "duration": 3,
        "start_time": "2023-04-13T18:03:56.000Z"
      },
      {
        "duration": 349,
        "start_time": "2023-04-13T18:03:56.470Z"
      },
      {
        "duration": 101,
        "start_time": "2023-04-13T18:03:57.320Z"
      },
      {
        "duration": 10,
        "start_time": "2023-04-13T18:05:52.368Z"
      },
      {
        "duration": 46,
        "start_time": "2023-04-13T18:05:52.511Z"
      },
      {
        "duration": 111,
        "start_time": "2023-04-13T18:05:52.675Z"
      },
      {
        "duration": 3,
        "start_time": "2023-04-13T18:09:24.877Z"
      },
      {
        "duration": 246,
        "start_time": "2023-04-13T18:09:25.266Z"
      },
      {
        "duration": 5,
        "start_time": "2023-04-13T18:09:32.476Z"
      },
      {
        "duration": 162,
        "start_time": "2023-04-13T18:09:32.799Z"
      },
      {
        "duration": 3,
        "start_time": "2023-04-13T18:10:14.760Z"
      },
      {
        "duration": 51,
        "start_time": "2023-04-13T18:10:14.908Z"
      },
      {
        "duration": 87,
        "start_time": "2023-04-13T18:10:17.750Z"
      },
      {
        "duration": 3,
        "start_time": "2023-04-13T18:12:38.914Z"
      },
      {
        "duration": 48,
        "start_time": "2023-04-13T18:12:39.810Z"
      },
      {
        "duration": 89,
        "start_time": "2023-04-13T18:12:40.514Z"
      },
      {
        "duration": 3,
        "start_time": "2023-04-13T18:16:19.934Z"
      },
      {
        "duration": 51,
        "start_time": "2023-04-13T18:16:20.351Z"
      },
      {
        "duration": 107,
        "start_time": "2023-04-13T18:16:21.535Z"
      },
      {
        "duration": 4,
        "start_time": "2023-04-13T18:19:59.580Z"
      },
      {
        "duration": 191,
        "start_time": "2023-04-13T18:19:59.940Z"
      },
      {
        "duration": 6,
        "start_time": "2023-04-13T18:20:57.352Z"
      },
      {
        "duration": 245,
        "start_time": "2023-04-13T18:20:57.516Z"
      },
      {
        "duration": 4,
        "start_time": "2023-04-13T18:21:55.900Z"
      },
      {
        "duration": 327,
        "start_time": "2023-04-13T18:21:56.262Z"
      },
      {
        "duration": 5,
        "start_time": "2023-04-13T18:22:33.682Z"
      },
      {
        "duration": 42,
        "start_time": "2023-04-13T18:22:33.858Z"
      },
      {
        "duration": 93,
        "start_time": "2023-04-13T18:22:34.883Z"
      },
      {
        "duration": 3,
        "start_time": "2023-04-13T18:23:50.282Z"
      },
      {
        "duration": 39,
        "start_time": "2023-04-13T18:23:50.599Z"
      },
      {
        "duration": 97,
        "start_time": "2023-04-13T18:23:50.810Z"
      },
      {
        "duration": 4,
        "start_time": "2023-04-13T18:24:54.559Z"
      },
      {
        "duration": 3,
        "start_time": "2023-04-13T18:28:43.982Z"
      },
      {
        "duration": 48,
        "start_time": "2023-04-13T18:28:47.805Z"
      },
      {
        "duration": 86,
        "start_time": "2023-04-13T18:28:47.934Z"
      },
      {
        "duration": 3,
        "start_time": "2023-04-13T18:29:22.566Z"
      },
      {
        "duration": 3,
        "start_time": "2023-04-13T18:29:22.764Z"
      },
      {
        "duration": 3,
        "start_time": "2023-04-13T18:29:25.499Z"
      },
      {
        "duration": 39,
        "start_time": "2023-04-13T18:29:28.099Z"
      },
      {
        "duration": 99,
        "start_time": "2023-04-13T18:29:28.230Z"
      },
      {
        "duration": 4,
        "start_time": "2023-04-13T18:29:42.413Z"
      },
      {
        "duration": 44,
        "start_time": "2023-04-13T18:29:43.862Z"
      },
      {
        "duration": 87,
        "start_time": "2023-04-13T18:29:44.066Z"
      },
      {
        "duration": 3,
        "start_time": "2023-04-13T18:36:27.313Z"
      },
      {
        "duration": 4,
        "start_time": "2023-04-13T18:36:27.680Z"
      },
      {
        "duration": 98,
        "start_time": "2023-04-13T18:36:34.800Z"
      },
      {
        "duration": 164,
        "start_time": "2023-04-13T18:36:35.798Z"
      },
      {
        "duration": 4,
        "start_time": "2023-04-13T18:38:17.093Z"
      },
      {
        "duration": 49,
        "start_time": "2023-04-13T18:38:17.407Z"
      },
      {
        "duration": 111,
        "start_time": "2023-04-13T18:38:17.598Z"
      },
      {
        "duration": 4,
        "start_time": "2023-04-13T18:38:41.375Z"
      },
      {
        "duration": 130,
        "start_time": "2023-04-13T18:38:42.371Z"
      },
      {
        "duration": 182,
        "start_time": "2023-04-13T18:38:42.535Z"
      },
      {
        "duration": 4,
        "start_time": "2023-04-13T18:38:48.998Z"
      },
      {
        "duration": 41,
        "start_time": "2023-04-13T18:38:49.161Z"
      },
      {
        "duration": 95,
        "start_time": "2023-04-13T18:38:51.398Z"
      },
      {
        "duration": 4,
        "start_time": "2023-04-13T18:39:36.829Z"
      },
      {
        "duration": 65,
        "start_time": "2023-04-13T18:39:37.373Z"
      },
      {
        "duration": 140,
        "start_time": "2023-04-13T18:39:37.917Z"
      },
      {
        "duration": 4,
        "start_time": "2023-04-13T18:44:00.972Z"
      },
      {
        "duration": 148,
        "start_time": "2023-04-13T18:44:01.352Z"
      },
      {
        "duration": 189,
        "start_time": "2023-04-13T18:44:01.685Z"
      },
      {
        "duration": 3,
        "start_time": "2023-04-13T18:44:07.875Z"
      },
      {
        "duration": 42,
        "start_time": "2023-04-13T18:44:08.011Z"
      },
      {
        "duration": 90,
        "start_time": "2023-04-13T18:44:09.075Z"
      },
      {
        "duration": 51,
        "start_time": "2023-04-14T15:39:56.269Z"
      },
      {
        "duration": 2,
        "start_time": "2023-04-14T15:39:59.198Z"
      },
      {
        "duration": 524,
        "start_time": "2023-04-14T15:39:59.219Z"
      },
      {
        "duration": 24367,
        "start_time": "2023-04-14T15:39:59.745Z"
      },
      {
        "duration": 3,
        "start_time": "2023-04-14T15:40:24.113Z"
      },
      {
        "duration": 34,
        "start_time": "2023-04-14T15:40:24.117Z"
      },
      {
        "duration": 20,
        "start_time": "2023-04-14T15:40:24.153Z"
      },
      {
        "duration": 2,
        "start_time": "2023-04-14T15:40:24.175Z"
      },
      {
        "duration": 6,
        "start_time": "2023-04-14T15:40:24.179Z"
      },
      {
        "duration": 12,
        "start_time": "2023-04-14T15:40:24.186Z"
      },
      {
        "duration": 2,
        "start_time": "2023-04-14T15:40:24.200Z"
      },
      {
        "duration": 5,
        "start_time": "2023-04-14T15:40:24.204Z"
      },
      {
        "duration": 15,
        "start_time": "2023-04-14T15:40:24.210Z"
      },
      {
        "duration": 2,
        "start_time": "2023-04-14T15:40:24.227Z"
      },
      {
        "duration": 7,
        "start_time": "2023-04-14T15:40:24.231Z"
      },
      {
        "duration": 9,
        "start_time": "2023-04-14T15:40:24.241Z"
      },
      {
        "duration": 3,
        "start_time": "2023-04-14T15:40:24.251Z"
      },
      {
        "duration": 7,
        "start_time": "2023-04-14T15:40:24.255Z"
      },
      {
        "duration": 10,
        "start_time": "2023-04-14T15:40:24.264Z"
      },
      {
        "duration": 2,
        "start_time": "2023-04-14T15:40:24.276Z"
      },
      {
        "duration": 11,
        "start_time": "2023-04-14T15:40:24.279Z"
      },
      {
        "duration": 29,
        "start_time": "2023-04-14T15:40:24.291Z"
      },
      {
        "duration": 2,
        "start_time": "2023-04-14T15:40:24.322Z"
      },
      {
        "duration": 8,
        "start_time": "2023-04-14T15:40:24.325Z"
      },
      {
        "duration": 11,
        "start_time": "2023-04-14T15:40:24.335Z"
      },
      {
        "duration": 37,
        "start_time": "2023-04-14T15:40:24.348Z"
      },
      {
        "duration": 2,
        "start_time": "2023-04-14T15:40:24.386Z"
      },
      {
        "duration": 6,
        "start_time": "2023-04-14T15:40:24.390Z"
      },
      {
        "duration": 12,
        "start_time": "2023-04-14T15:40:24.397Z"
      },
      {
        "duration": 14,
        "start_time": "2023-04-14T15:40:24.411Z"
      },
      {
        "duration": 2,
        "start_time": "2023-04-14T15:40:24.426Z"
      },
      {
        "duration": 6,
        "start_time": "2023-04-14T15:40:24.430Z"
      },
      {
        "duration": 12,
        "start_time": "2023-04-14T15:40:24.438Z"
      },
      {
        "duration": 34,
        "start_time": "2023-04-14T15:40:24.452Z"
      },
      {
        "duration": 20,
        "start_time": "2023-04-14T15:41:13.172Z"
      },
      {
        "duration": 2,
        "start_time": "2023-04-14T17:22:39.467Z"
      },
      {
        "duration": 2,
        "start_time": "2023-04-14T17:45:19.901Z"
      },
      {
        "duration": 5,
        "start_time": "2023-04-14T17:45:27.890Z"
      },
      {
        "duration": 592,
        "start_time": "2023-04-14T17:45:27.898Z"
      },
      {
        "duration": 8348,
        "start_time": "2023-04-14T17:45:28.492Z"
      },
      {
        "duration": 3,
        "start_time": "2023-04-14T17:45:36.842Z"
      },
      {
        "duration": 230,
        "start_time": "2023-04-14T17:45:36.848Z"
      },
      {
        "duration": 109,
        "start_time": "2023-04-14T17:45:37.080Z"
      },
      {
        "duration": 3,
        "start_time": "2023-04-14T17:45:37.191Z"
      },
      {
        "duration": 80,
        "start_time": "2023-04-14T17:45:37.196Z"
      },
      {
        "duration": 154,
        "start_time": "2023-04-14T17:45:37.278Z"
      },
      {
        "duration": 3,
        "start_time": "2023-04-14T17:45:37.435Z"
      },
      {
        "duration": 56,
        "start_time": "2023-04-14T17:45:37.441Z"
      },
      {
        "duration": 78,
        "start_time": "2023-04-14T17:45:37.500Z"
      },
      {
        "duration": 3,
        "start_time": "2023-04-14T17:45:37.580Z"
      },
      {
        "duration": 44,
        "start_time": "2023-04-14T17:45:37.587Z"
      },
      {
        "duration": 79,
        "start_time": "2023-04-14T17:45:37.633Z"
      },
      {
        "duration": 3,
        "start_time": "2023-04-14T17:45:37.714Z"
      },
      {
        "duration": 55,
        "start_time": "2023-04-14T17:45:37.719Z"
      },
      {
        "duration": 82,
        "start_time": "2023-04-14T17:45:37.777Z"
      },
      {
        "duration": 2,
        "start_time": "2023-04-14T17:45:37.861Z"
      },
      {
        "duration": 54,
        "start_time": "2023-04-14T17:45:37.865Z"
      },
      {
        "duration": 78,
        "start_time": "2023-04-14T17:45:37.921Z"
      },
      {
        "duration": 4,
        "start_time": "2023-04-14T17:45:38.000Z"
      },
      {
        "duration": 54,
        "start_time": "2023-04-14T17:45:38.005Z"
      },
      {
        "duration": 79,
        "start_time": "2023-04-14T17:45:38.061Z"
      },
      {
        "duration": 169,
        "start_time": "2023-04-14T17:45:38.143Z"
      },
      {
        "duration": 3,
        "start_time": "2023-04-14T17:45:38.314Z"
      },
      {
        "duration": 68,
        "start_time": "2023-04-14T17:45:38.318Z"
      },
      {
        "duration": 47,
        "start_time": "2023-04-14T17:45:38.388Z"
      },
      {
        "duration": 80,
        "start_time": "2023-04-14T17:45:38.437Z"
      },
      {
        "duration": 4,
        "start_time": "2023-04-14T17:45:38.519Z"
      },
      {
        "duration": 21,
        "start_time": "2023-04-14T17:45:38.525Z"
      },
      {
        "duration": 85,
        "start_time": "2023-04-14T17:45:38.548Z"
      },
      {
        "duration": 95,
        "start_time": "2023-04-14T17:45:38.635Z"
      },
      {
        "duration": 3,
        "start_time": "2023-04-14T17:45:38.732Z"
      },
      {
        "duration": 28,
        "start_time": "2023-04-14T17:45:38.736Z"
      },
      {
        "duration": 46,
        "start_time": "2023-04-14T17:45:38.766Z"
      },
      {
        "duration": 77,
        "start_time": "2023-04-14T17:45:38.814Z"
      },
      {
        "duration": 3,
        "start_time": "2023-04-14T17:45:38.893Z"
      },
      {
        "duration": 8,
        "start_time": "2023-04-14T17:45:38.898Z"
      },
      {
        "duration": 46,
        "start_time": "2023-04-14T17:45:38.908Z"
      },
      {
        "duration": 79,
        "start_time": "2023-04-14T17:45:38.958Z"
      },
      {
        "duration": 2,
        "start_time": "2023-04-14T17:45:39.039Z"
      },
      {
        "duration": 50,
        "start_time": "2023-04-14T17:45:39.043Z"
      },
      {
        "duration": 61,
        "start_time": "2023-04-14T17:45:39.095Z"
      },
      {
        "duration": 82,
        "start_time": "2023-04-14T17:45:39.158Z"
      },
      {
        "duration": 77,
        "start_time": "2023-04-14T17:50:26.032Z"
      },
      {
        "duration": 76,
        "start_time": "2023-04-14T17:50:27.719Z"
      },
      {
        "duration": 4,
        "start_time": "2023-04-14T17:58:30.873Z"
      },
      {
        "duration": 228,
        "start_time": "2023-04-14T17:58:31.489Z"
      },
      {
        "duration": 3,
        "start_time": "2023-04-14T17:58:58.536Z"
      },
      {
        "duration": 128,
        "start_time": "2023-04-14T17:58:58.929Z"
      },
      {
        "duration": 3,
        "start_time": "2023-04-14T17:59:13.841Z"
      },
      {
        "duration": 64,
        "start_time": "2023-04-14T17:59:14.064Z"
      },
      {
        "duration": 140,
        "start_time": "2023-04-14T17:59:16.529Z"
      },
      {
        "duration": 3,
        "start_time": "2023-04-14T18:00:05.312Z"
      },
      {
        "duration": 64,
        "start_time": "2023-04-14T18:00:05.584Z"
      },
      {
        "duration": 116,
        "start_time": "2023-04-14T18:00:05.952Z"
      },
      {
        "duration": 3,
        "start_time": "2023-04-14T18:00:31.312Z"
      },
      {
        "duration": 64,
        "start_time": "2023-04-14T18:00:31.463Z"
      },
      {
        "duration": 100,
        "start_time": "2023-04-14T18:00:31.631Z"
      },
      {
        "duration": 3,
        "start_time": "2023-04-14T18:00:39.167Z"
      },
      {
        "duration": 64,
        "start_time": "2023-04-14T18:00:40.263Z"
      },
      {
        "duration": 97,
        "start_time": "2023-04-14T18:00:40.440Z"
      },
      {
        "duration": 4,
        "start_time": "2023-04-14T18:02:29.359Z"
      },
      {
        "duration": 65,
        "start_time": "2023-04-14T18:02:29.574Z"
      },
      {
        "duration": 121,
        "start_time": "2023-04-14T18:02:30.126Z"
      },
      {
        "duration": 119,
        "start_time": "2023-04-14T18:08:53.193Z"
      },
      {
        "duration": 77,
        "start_time": "2023-04-14T18:10:00.154Z"
      },
      {
        "duration": 82,
        "start_time": "2023-04-14T18:10:55.080Z"
      },
      {
        "duration": 79,
        "start_time": "2023-04-14T18:11:24.694Z"
      },
      {
        "duration": 168,
        "start_time": "2023-04-14T18:20:35.887Z"
      },
      {
        "duration": 183,
        "start_time": "2023-04-14T18:21:01.015Z"
      },
      {
        "duration": 82,
        "start_time": "2023-04-14T18:21:08.135Z"
      },
      {
        "duration": 81,
        "start_time": "2023-04-14T18:21:15.558Z"
      },
      {
        "duration": 157,
        "start_time": "2023-04-14T18:21:49.414Z"
      },
      {
        "duration": 175,
        "start_time": "2023-04-14T18:22:18.557Z"
      },
      {
        "duration": 89,
        "start_time": "2023-04-14T18:22:23.573Z"
      },
      {
        "duration": 84,
        "start_time": "2023-04-14T18:23:06.845Z"
      },
      {
        "duration": 1146,
        "start_time": "2023-04-14T18:35:14.132Z"
      },
      {
        "duration": 200,
        "start_time": "2023-04-14T18:35:39.747Z"
      },
      {
        "duration": 81,
        "start_time": "2023-04-14T18:35:58.900Z"
      },
      {
        "duration": 183,
        "start_time": "2023-04-14T18:42:32.875Z"
      },
      {
        "duration": 168,
        "start_time": "2023-04-14T18:42:40.326Z"
      },
      {
        "duration": 82,
        "start_time": "2023-04-14T18:42:58.772Z"
      },
      {
        "duration": 4,
        "start_time": "2023-04-14T18:45:53.102Z"
      },
      {
        "duration": 617,
        "start_time": "2023-04-14T18:45:53.108Z"
      },
      {
        "duration": 8624,
        "start_time": "2023-04-14T18:45:53.728Z"
      },
      {
        "duration": 3,
        "start_time": "2023-04-14T18:46:02.355Z"
      },
      {
        "duration": 293,
        "start_time": "2023-04-14T18:46:02.360Z"
      },
      {
        "duration": 90,
        "start_time": "2023-04-14T18:46:02.656Z"
      },
      {
        "duration": 3,
        "start_time": "2023-04-14T18:46:02.747Z"
      },
      {
        "duration": 66,
        "start_time": "2023-04-14T18:46:02.752Z"
      },
      {
        "duration": 82,
        "start_time": "2023-04-14T18:46:02.820Z"
      },
      {
        "duration": 2,
        "start_time": "2023-04-14T18:46:02.905Z"
      },
      {
        "duration": 58,
        "start_time": "2023-04-14T18:46:02.909Z"
      },
      {
        "duration": 93,
        "start_time": "2023-04-14T18:46:02.969Z"
      },
      {
        "duration": 3,
        "start_time": "2023-04-14T18:46:03.064Z"
      },
      {
        "duration": 55,
        "start_time": "2023-04-14T18:46:03.069Z"
      },
      {
        "duration": 79,
        "start_time": "2023-04-14T18:46:03.127Z"
      },
      {
        "duration": 3,
        "start_time": "2023-04-14T18:46:03.209Z"
      },
      {
        "duration": 51,
        "start_time": "2023-04-14T18:46:03.215Z"
      },
      {
        "duration": 79,
        "start_time": "2023-04-14T18:46:03.268Z"
      },
      {
        "duration": 3,
        "start_time": "2023-04-14T18:46:03.348Z"
      },
      {
        "duration": 49,
        "start_time": "2023-04-14T18:46:03.352Z"
      },
      {
        "duration": 77,
        "start_time": "2023-04-14T18:46:03.403Z"
      },
      {
        "duration": 3,
        "start_time": "2023-04-14T18:46:03.482Z"
      },
      {
        "duration": 77,
        "start_time": "2023-04-14T18:46:03.487Z"
      },
      {
        "duration": 79,
        "start_time": "2023-04-14T18:46:03.566Z"
      },
      {
        "duration": 171,
        "start_time": "2023-04-14T18:46:03.647Z"
      },
      {
        "duration": 4,
        "start_time": "2023-04-14T18:46:03.820Z"
      },
      {
        "duration": 89,
        "start_time": "2023-04-14T18:46:03.825Z"
      },
      {
        "duration": 78,
        "start_time": "2023-04-14T18:46:03.918Z"
      },
      {
        "duration": 2,
        "start_time": "2023-04-14T18:46:03.998Z"
      },
      {
        "duration": 136,
        "start_time": "2023-04-14T18:46:04.002Z"
      },
      {
        "duration": 3,
        "start_time": "2023-04-14T18:46:04.139Z"
      },
      {
        "duration": 263,
        "start_time": "2023-04-14T18:46:04.144Z"
      },
      {
        "duration": 0,
        "start_time": "2023-04-14T18:46:04.409Z"
      },
      {
        "duration": 0,
        "start_time": "2023-04-14T18:46:04.410Z"
      },
      {
        "duration": 0,
        "start_time": "2023-04-14T18:46:04.411Z"
      },
      {
        "duration": 0,
        "start_time": "2023-04-14T18:46:04.413Z"
      },
      {
        "duration": 79,
        "start_time": "2023-04-14T18:46:18.378Z"
      },
      {
        "duration": 4,
        "start_time": "2023-04-14T18:46:24.074Z"
      },
      {
        "duration": 589,
        "start_time": "2023-04-14T18:46:24.080Z"
      },
      {
        "duration": 8443,
        "start_time": "2023-04-14T18:46:24.671Z"
      },
      {
        "duration": 3,
        "start_time": "2023-04-14T18:46:33.116Z"
      },
      {
        "duration": 233,
        "start_time": "2023-04-14T18:46:33.121Z"
      },
      {
        "duration": 90,
        "start_time": "2023-04-14T18:46:33.357Z"
      },
      {
        "duration": 3,
        "start_time": "2023-04-14T18:46:33.449Z"
      },
      {
        "duration": 53,
        "start_time": "2023-04-14T18:46:33.453Z"
      },
      {
        "duration": 81,
        "start_time": "2023-04-14T18:46:33.508Z"
      },
      {
        "duration": 3,
        "start_time": "2023-04-14T18:46:33.591Z"
      },
      {
        "duration": 45,
        "start_time": "2023-04-14T18:46:33.596Z"
      },
      {
        "duration": 78,
        "start_time": "2023-04-14T18:46:33.643Z"
      },
      {
        "duration": 3,
        "start_time": "2023-04-14T18:46:33.723Z"
      },
      {
        "duration": 54,
        "start_time": "2023-04-14T18:46:33.727Z"
      },
      {
        "duration": 79,
        "start_time": "2023-04-14T18:46:33.783Z"
      },
      {
        "duration": 3,
        "start_time": "2023-04-14T18:46:33.864Z"
      },
      {
        "duration": 43,
        "start_time": "2023-04-14T18:46:33.868Z"
      },
      {
        "duration": 79,
        "start_time": "2023-04-14T18:46:33.913Z"
      },
      {
        "duration": 3,
        "start_time": "2023-04-14T18:46:33.994Z"
      },
      {
        "duration": 42,
        "start_time": "2023-04-14T18:46:33.999Z"
      },
      {
        "duration": 81,
        "start_time": "2023-04-14T18:46:34.043Z"
      },
      {
        "duration": 4,
        "start_time": "2023-04-14T18:46:34.125Z"
      },
      {
        "duration": 55,
        "start_time": "2023-04-14T18:46:34.131Z"
      },
      {
        "duration": 80,
        "start_time": "2023-04-14T18:46:34.188Z"
      },
      {
        "duration": 165,
        "start_time": "2023-04-14T18:46:34.270Z"
      },
      {
        "duration": 3,
        "start_time": "2023-04-14T18:46:34.437Z"
      },
      {
        "duration": 88,
        "start_time": "2023-04-14T18:46:34.442Z"
      },
      {
        "duration": 78,
        "start_time": "2023-04-14T18:46:34.534Z"
      },
      {
        "duration": 3,
        "start_time": "2023-04-14T18:46:34.614Z"
      },
      {
        "duration": 142,
        "start_time": "2023-04-14T18:46:34.618Z"
      },
      {
        "duration": 2,
        "start_time": "2023-04-14T18:46:34.762Z"
      },
      {
        "duration": 87,
        "start_time": "2023-04-14T18:46:34.766Z"
      },
      {
        "duration": 3,
        "start_time": "2023-04-14T18:46:34.855Z"
      },
      {
        "duration": 135,
        "start_time": "2023-04-14T18:46:34.859Z"
      },
      {
        "duration": 3,
        "start_time": "2023-04-14T18:46:34.995Z"
      },
      {
        "duration": 89,
        "start_time": "2023-04-14T18:46:34.999Z"
      },
      {
        "duration": 4,
        "start_time": "2023-04-15T08:17:30.733Z"
      },
      {
        "duration": 720,
        "start_time": "2023-04-15T08:17:30.740Z"
      },
      {
        "duration": 13964,
        "start_time": "2023-04-15T08:17:31.463Z"
      },
      {
        "duration": 3,
        "start_time": "2023-04-15T08:17:45.428Z"
      },
      {
        "duration": 269,
        "start_time": "2023-04-15T08:17:45.434Z"
      },
      {
        "duration": 93,
        "start_time": "2023-04-15T08:17:45.705Z"
      },
      {
        "duration": 3,
        "start_time": "2023-04-15T08:17:45.801Z"
      },
      {
        "duration": 61,
        "start_time": "2023-04-15T08:17:45.806Z"
      },
      {
        "duration": 85,
        "start_time": "2023-04-15T08:17:45.868Z"
      },
      {
        "duration": 6,
        "start_time": "2023-04-15T08:17:45.955Z"
      },
      {
        "duration": 53,
        "start_time": "2023-04-15T08:17:45.966Z"
      },
      {
        "duration": 85,
        "start_time": "2023-04-15T08:17:46.021Z"
      },
      {
        "duration": 3,
        "start_time": "2023-04-15T08:17:46.109Z"
      },
      {
        "duration": 89,
        "start_time": "2023-04-15T08:17:46.114Z"
      },
      {
        "duration": 91,
        "start_time": "2023-04-15T08:17:46.205Z"
      },
      {
        "duration": 4,
        "start_time": "2023-04-15T08:17:46.299Z"
      },
      {
        "duration": 74,
        "start_time": "2023-04-15T08:17:46.304Z"
      },
      {
        "duration": 82,
        "start_time": "2023-04-15T08:17:46.380Z"
      },
      {
        "duration": 3,
        "start_time": "2023-04-15T08:17:46.465Z"
      },
      {
        "duration": 48,
        "start_time": "2023-04-15T08:17:46.470Z"
      },
      {
        "duration": 88,
        "start_time": "2023-04-15T08:17:46.520Z"
      },
      {
        "duration": 4,
        "start_time": "2023-04-15T08:17:46.610Z"
      },
      {
        "duration": 54,
        "start_time": "2023-04-15T08:17:46.617Z"
      },
      {
        "duration": 90,
        "start_time": "2023-04-15T08:17:46.673Z"
      },
      {
        "duration": 175,
        "start_time": "2023-04-15T08:17:46.765Z"
      },
      {
        "duration": 3,
        "start_time": "2023-04-15T08:17:46.942Z"
      },
      {
        "duration": 106,
        "start_time": "2023-04-15T08:17:46.947Z"
      },
      {
        "duration": 80,
        "start_time": "2023-04-15T08:17:47.055Z"
      },
      {
        "duration": 12,
        "start_time": "2023-04-15T08:17:47.139Z"
      },
      {
        "duration": 142,
        "start_time": "2023-04-15T08:17:47.155Z"
      },
      {
        "duration": 2,
        "start_time": "2023-04-15T08:17:47.299Z"
      },
      {
        "duration": 105,
        "start_time": "2023-04-15T08:17:47.303Z"
      },
      {
        "duration": 2,
        "start_time": "2023-04-15T08:17:47.410Z"
      },
      {
        "duration": 124,
        "start_time": "2023-04-15T08:17:47.414Z"
      },
      {
        "duration": 89,
        "start_time": "2023-04-15T08:17:47.541Z"
      }
    ],
    "kernelspec": {
      "display_name": "Python 3 (ipykernel)",
      "language": "python",
      "name": "python3"
    },
    "language_info": {
      "codemirror_mode": {
        "name": "ipython",
        "version": 3
      },
      "file_extension": ".py",
      "mimetype": "text/x-python",
      "name": "python",
      "nbconvert_exporter": "python",
      "pygments_lexer": "ipython3",
      "version": "3.9.5"
    },
    "toc": {
      "base_numbering": 1,
      "nav_menu": {},
      "number_sections": true,
      "sideBar": true,
      "skip_h1_title": true,
      "title_cell": "Table of Contents",
      "title_sidebar": "Contents",
      "toc_cell": false,
      "toc_position": {},
      "toc_section_display": true,
      "toc_window_display": true
    },
    "colab": {
      "provenance": []
    }
  },
  "nbformat": 4,
  "nbformat_minor": 0
}